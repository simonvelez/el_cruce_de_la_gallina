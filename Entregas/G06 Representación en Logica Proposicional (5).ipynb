{
  "metadata": {
    "language_info": {
      "codemirror_mode": {
        "name": "python",
        "version": 3
      },
      "file_extension": ".py",
      "mimetype": "text/x-python",
      "name": "python",
      "nbconvert_exporter": "python",
      "pygments_lexer": "ipython3",
      "version": "3.8"
    },
    "kernelspec": {
      "name": "python",
      "display_name": "Python (Pyodide)",
      "language": "python"
    }
  },
  "nbformat_minor": 4,
  "nbformat": 4,
  "cells": [
    {
      "cell_type": "code",
      "source": "from itertools import product\nimport numpy as np\n\nclass Formula :\n\n    def __init__(self) :\n        pass\n\n    def __str__(self) :\n        if type(self) == Letra:\n            return self.letra\n        elif type(self) == Negacion:\n            return '-' + str(self.subf)\n        elif type(self) == Binario:\n            return \"(\" + str(self.left) + self.conectivo + str(self.right) + \")\"\n\n    def letras(self):\n        if type(self) == Letra:\n            return set(self.letra)\n        elif type(self) == Negacion:\n            return self.subf.letras()\n        elif type(self) == Binario:\n            return self.left.letras().union(self.right.letras())\n\n    def subforms(self):\n        if type(self) == Letra:\n            return [str(self)]\n        elif type(self) == Negacion:\n            return list(set([str(self)] + self.subf.subforms()))\n        elif type(self) == Binario:\n            return list(set([str(self)] + self.left.subforms() + self.right.subforms()))\n\n    def valor(self, I) :\n        if type(self) == Letra:\n            return I[self.letra]\n        elif type(self) == Negacion:\n            return not self.subf.valor(I)\n        elif type(self) == Binario:\n            if self.conectivo == 'Y':\n                return self.left.valor(I) and self.right.valor(I)\n            if self.conectivo == 'O':\n                return self.left.valor(I) or self.right.valor(I)\n            if self.conectivo == '>':\n                return not self.left.valor(I) or self.right.valor(I)\n            if self.conectivo == '=':\n                return (self.left.valor(I) and self.right.valor(I)) or (not self.left.valor(I) and not self.right.valor(I))\n\nclass Letra(Formula) :\n    def __init__ (self, letra:str) :\n        self.letra = letra\n\nclass Negacion(Formula) :\n    def __init__(self, subf:Formula) :\n        self.subf = subf\n\nclass Binario(Formula) :\n    def __init__(self, conectivo:str, left:Formula, right:Formula) :\n        assert(conectivo in ['Y','O','>','='])\n        self.conectivo = conectivo\n        self.left = left\n        self.right = right\n\ndef inorder_to_tree(cadena:str):\n    conectivos = ['Y', 'O', '>', '=']\n    if len(cadena) == 1:\n        return Letra(cadena)\n    elif cadena[0] == '-':\n        return Negacion(inorder_to_tree(cadena[1:]))\n    elif cadena[0] == \"(\":\n        counter = 0 #Contador de parentesis\n        for i in range(1, len(cadena)):\n            if cadena[i] == \"(\":\n                counter += 1\n            elif cadena[i] == \")\":\n                counter -=1\n            elif cadena[i] in conectivos and counter == 0:\n                return Binario(cadena[i], inorder_to_tree(cadena[1:i]),inorder_to_tree(cadena[i + 1:-1]))\n    else:\n        raise Exception('¡Cadena inválida!')\n\nclass Descriptor :\n\n    '''\n    Codifica un descriptor de N argumentos mediante un solo caracter\n    Input:  args_lista, lista con el total de opciones para cada\n                     argumento del descriptor\n            chrInit, entero que determina el comienzo de la codificación chr()\n    Output: str de longitud 1\n    '''\n\n    def __init__ (self,args_lista,chrInit=256) :\n        self.args_lista = args_lista\n        assert(len(args_lista) > 0), \"Debe haber por lo menos un argumento\"\n        self.chrInit = chrInit\n        self.rango = [chrInit, chrInit + np.prod(self.args_lista)]\n\n    def check_lista_valores(self,lista_valores) :\n        for i, v in enumerate(lista_valores) :\n            assert(v >= 0), \"Valores deben ser no negativos\"\n            assert(v < self.args_lista[i]), f\"Valor debe ser menor o igual a {self.args_lista[i]}\"\n\n    def codifica(self,lista_valores) :\n        self.check_lista_valores(lista_valores)\n        cod = lista_valores[0]\n        n_columnas = 1\n        for i in range(0, len(lista_valores) - 1) :\n            n_columnas = n_columnas * self.args_lista[i]\n            cod = n_columnas * lista_valores[i+1] + cod\n        return cod\n    \n    def escribir(self, c):\n        # Implementa la lógica para convertir c en una cadena y devuélvela\n        pass\n\n    def decodifica(self,n) :\n        decods = []\n        if len(self.args_lista) > 1:\n            for i in range(0, len(self.args_lista) - 1) :\n                n_columnas = np.prod(self.args_lista[:-(i+1)])\n                decods.insert(0, int(n / n_columnas))\n                n = n % n_columnas\n        decods.insert(0, n % self.args_lista[0])\n        return decods\n\n    def P(self,lista_valores) :\n        codigo = self.codifica(lista_valores)\n        return chr(self.chrInit+codigo)\n\n    def inv(self,codigo) :\n        n = ord(codigo)-self.chrInit\n        return self.decodifica(n)\n\ndef visualizar_formula(A,D):\n    '''\n    Visualiza una fórmula A (como string en notación inorder) usando el descriptor D\n    '''\n    vis = []\n    for c in A:\n        if c == '-':\n            vis.append(' no ')\n        elif c in ['(', ')']:\n            vis.append(c)\n        elif c in ['>', 'Y', 'O']:\n            vis.append(' ' + c + ' ')\n        elif c == '=':\n            vis.append(' sii ')\n        else:\n            try:\n                vis.append(D.escribir(c))\n            except:\n                raise(\"¡Caracter inválido!\")\n    return ''.join(vis)",
      "metadata": {
        "trusted": true
      },
      "execution_count": 10,
      "outputs": []
    },
    {
      "cell_type": "code",
      "source": "Nx = 1\nNy = 2\nObjetos = [\"Gallina\",\"Zorro\",\"Maiz\"]\nobjeto_a_numero = {objeto: indice for indice, objeto in enumerate(Objetos)}\nNn = len(Objetos)\nX = list(range(Nx))\nY = list(range(Ny))\nOenP = Descriptor([Nx, Ny, Nn]) ",
      "metadata": {
        "trusted": true
      },
      "execution_count": 11,
      "outputs": []
    },
    {
      "cell_type": "code",
      "source": "Nx = 1\nSentido = [\"A a B\",\"B a A\"]\nsentido_a_numero = {sent: indice for indice, sent in enumerate(Sentido)}\nObjetos = [\"Gallina\",\"Zorro\",\"Maiz\"]\nobjeto_a_numero = {objeto: indice for indice, objeto in enumerate(Objetos)}\nNn = len(Objetos)\nNy = len(Sentido)\nX = list(range(Nx))\nY = list(range(Ny))\nOenS = Descriptor([Nx, Ny, Nn]) ",
      "metadata": {
        "trusted": true
      },
      "execution_count": 12,
      "outputs": []
    },
    {
      "cell_type": "code",
      "source": "print(\"Cantidad de átomos OenS:\", OenS.rango[1] - OenS.rango[0])\nprint(\"Caracteres correspondientes a los átomos OenS:\\n\")\nfor n in range(Nn):\n    for y in range(Ny):\n        for x in range(Nx):\n            atomo = OenS.P([x,y,n])\n            print(f\"El Hombre lleva de {Sentido[y]} a ({Objetos[n]}) y es el átomo {atomo}\")\n    print(\"\")",
      "metadata": {
        "trusted": true
      },
      "execution_count": 13,
      "outputs": [
        {
          "name": "stdout",
          "text": "Cantidad de átomos OenS: 6\nCaracteres correspondientes a los átomos OenS:\n\nEl Hombre lleva de A a B a (Gallina) y es el átomo Ā\nEl Hombre lleva de B a A a (Gallina) y es el átomo ā\n\nEl Hombre lleva de A a B a (Zorro) y es el átomo Ă\nEl Hombre lleva de B a A a (Zorro) y es el átomo ă\n\nEl Hombre lleva de A a B a (Maiz) y es el átomo Ą\nEl Hombre lleva de B a A a (Maiz) y es el átomo ą\n\n",
          "output_type": "stream"
        }
      ]
    },
    {
      "cell_type": "code",
      "source": "print(\"Cantidad de átomos OenP:\", OenP.rango[1] - OenP.rango[0])\nprint(\"Caracteres correspondientes a los átomos OenP:\\n\")\nfor n in range(Nn):\n    for x in range(Nx):\n        for y in range(Ny):\n            atomo = OenP.P([x,y,n])\n            print(f\"El Hombre {Objetos[n]} está en la casilla ({X[x]},{Y[y]}) y es el átomo {atomo}\")\n    print(\"\")",
      "metadata": {
        "trusted": true
      },
      "execution_count": 14,
      "outputs": [
        {
          "name": "stdout",
          "text": "Cantidad de átomos OenP: 6\nCaracteres correspondientes a los átomos OenP:\n\nEl Hombre Gallina está en la casilla (0,0) y es el átomo Ā\nEl Hombre Gallina está en la casilla (0,1) y es el átomo ā\n\nEl Hombre Zorro está en la casilla (0,0) y es el átomo Ă\nEl Hombre Zorro está en la casilla (0,1) y es el átomo ă\n\nEl Hombre Maiz está en la casilla (0,0) y es el átomo Ą\nEl Hombre Maiz está en la casilla (0,1) y es el átomo ą\n\n",
          "output_type": "stream"
        }
      ]
    },
    {
      "cell_type": "code",
      "source": "def escribir(self, literal):\n    if '-' in literal:\n        atomo = literal[1:]\n        neg = ' no'\n    else:\n        atomo = literal\n        neg = ''\n    x, y, n  = self.inv(atomo)\n    return f\" {Objetos[n]}{neg} está en la casilla ({X[x]},{Y[y]})\"\n    \nfrom types import MethodType\n\nOenP.escribir = MethodType(escribir, OenP)\n\n\n\natomo = OenP.P([0,1,0])\nprint(f\"El caracter que codifica es {atomo}\")\nprint(\"\\nSu decodificación es:\")\nOenP.escribir(atomo)\n\n",
      "metadata": {
        "trusted": true
      },
      "execution_count": 15,
      "outputs": [
        {
          "name": "stdout",
          "text": "El caracter que codifica es ā\n\nSu decodificación es:\n",
          "output_type": "stream"
        },
        {
          "execution_count": 15,
          "output_type": "execute_result",
          "data": {
            "text/plain": "' Gallina está en la casilla (0,1)'"
          },
          "metadata": {}
        }
      ]
    },
    {
      "cell_type": "code",
      "source": "for f in Objetos:\n    for y in Y:\n        for x in X:\n\n            casilla = (x,y)\n            otras_casillas = [(i,j) for i in X for j in Y if (i,j) != (x,y)]\n            n = objeto_a_numero[f]\n            formula1 = ''\n            inicial = True\n            for casilla in otras_casillas:\n                u = casilla[0]\n                v = casilla[1]\n                if inicial:\n                    formula1 = OenP.P([u,v,n])\n                    inicial = False\n                else:\n                    formula1 = \"(\" + formula1 + \"O\" + OenP.P([u,v,n]) + \")\"\n\n            formula1 = \"(\" + OenP.P([x,y,n]) + \">-\" + formula1 + \")\"\n            print(visualizar_formula(formula1, OenP))\n            print(\" \")",
      "metadata": {
        "trusted": true
      },
      "execution_count": 16,
      "outputs": [
        {
          "name": "stdout",
          "text": "( Gallina está en la casilla (0,0) >  no  Gallina está en la casilla (0,1))\n \n( Gallina está en la casilla (0,1) >  no  Gallina está en la casilla (0,0))\n \n( Zorro está en la casilla (0,0) >  no  Zorro está en la casilla (0,1))\n \n( Zorro está en la casilla (0,1) >  no  Zorro está en la casilla (0,0))\n \n( Maiz está en la casilla (0,0) >  no  Maiz está en la casilla (0,1))\n \n( Maiz está en la casilla (0,1) >  no  Maiz está en la casilla (0,0))\n \n",
          "output_type": "stream"
        }
      ]
    },
    {
      "cell_type": "code",
      "source": "for f in Objetos:\n    for y in Y:\n        for x in X:\n            casilla = (x, y)\n            otras_casillas = [(i, j) for i in X for j in Y if (i, j) != (x,y)]\n            n = objeto_a_numero[f]\n            formula1 = ''\n            inicial = True\n            for casilla in otras_casillas:\n                u = casilla[0]\n                v = casilla[1]\n                if inicial:\n                    formula1 = OenS.P([u, v, n])\n                    inicial = False\n                else:\n                    formula1 = \"(\" + formula1 + \"O\" + OenS.P([u, v, n]) + \")\"\n\n            formula1 = \"(\" + OenS.P([x, y, n]) + \">-\" + formula1 + \")\"\n            print(visualizar_formula(formula1, OenS))\n            print(\" \")",
      "metadata": {
        "trusted": true
      },
      "execution_count": 22,
      "outputs": [
        {
          "ename": "<class 'TypeError'>",
          "evalue": "sequence item 1: expected str instance, NoneType found",
          "traceback": [
            "\u001b[0;31m---------------------------------------------------------------------------\u001b[0m",
            "\u001b[0;31mTypeError\u001b[0m                                 Traceback (most recent call last)",
            "Cell \u001b[0;32mIn[22], line 19\u001b[0m\n\u001b[1;32m     16\u001b[0m         formula1 \u001b[38;5;241m=\u001b[39m \u001b[38;5;124m\"\u001b[39m\u001b[38;5;124m(\u001b[39m\u001b[38;5;124m\"\u001b[39m \u001b[38;5;241m+\u001b[39m formula1 \u001b[38;5;241m+\u001b[39m \u001b[38;5;124m\"\u001b[39m\u001b[38;5;124mO\u001b[39m\u001b[38;5;124m\"\u001b[39m \u001b[38;5;241m+\u001b[39m OenS\u001b[38;5;241m.\u001b[39mP([u, v, n]) \u001b[38;5;241m+\u001b[39m \u001b[38;5;124m\"\u001b[39m\u001b[38;5;124m)\u001b[39m\u001b[38;5;124m\"\u001b[39m\n\u001b[1;32m     18\u001b[0m formula1 \u001b[38;5;241m=\u001b[39m \u001b[38;5;124m\"\u001b[39m\u001b[38;5;124m(\u001b[39m\u001b[38;5;124m\"\u001b[39m \u001b[38;5;241m+\u001b[39m OenS\u001b[38;5;241m.\u001b[39mP([x, y, n]) \u001b[38;5;241m+\u001b[39m \u001b[38;5;124m\"\u001b[39m\u001b[38;5;124m>-\u001b[39m\u001b[38;5;124m\"\u001b[39m \u001b[38;5;241m+\u001b[39m formula1 \u001b[38;5;241m+\u001b[39m \u001b[38;5;124m\"\u001b[39m\u001b[38;5;124m)\u001b[39m\u001b[38;5;124m\"\u001b[39m\n\u001b[0;32m---> 19\u001b[0m \u001b[38;5;28mprint\u001b[39m(\u001b[43mvisualizar_formula\u001b[49m\u001b[43m(\u001b[49m\u001b[43mformula1\u001b[49m\u001b[43m,\u001b[49m\u001b[43m \u001b[49m\u001b[43mOenS\u001b[49m\u001b[43m)\u001b[49m)\n\u001b[1;32m     20\u001b[0m \u001b[38;5;28mprint\u001b[39m(\u001b[38;5;124m\"\u001b[39m\u001b[38;5;124m \u001b[39m\u001b[38;5;124m\"\u001b[39m)\n",
            "Cell \u001b[0;32mIn[10], line 152\u001b[0m, in \u001b[0;36mvisualizar_formula\u001b[0;34m(A, D)\u001b[0m\n\u001b[1;32m    150\u001b[0m         \u001b[38;5;28;01mexcept\u001b[39;00m:\n\u001b[1;32m    151\u001b[0m             \u001b[38;5;28;01mraise\u001b[39;00m(\u001b[38;5;124m\"\u001b[39m\u001b[38;5;124m¡Caracter inválido!\u001b[39m\u001b[38;5;124m\"\u001b[39m)\n\u001b[0;32m--> 152\u001b[0m \u001b[38;5;28;01mreturn\u001b[39;00m \u001b[38;5;124m'\u001b[39m\u001b[38;5;124m'\u001b[39m\u001b[38;5;241m.\u001b[39mjoin(vis)\n",
            "\u001b[0;31mTypeError\u001b[0m: sequence item 1: expected str instance, NoneType found"
          ],
          "output_type": "error"
        }
      ]
    },
    {
      "cell_type": "code",
      "source": "# Regla 4: La gallina y el maíz no puede quedar solos. \n\nfor y in Y:\n    for x in X:\n        for n in [i for i in range(3) if i != 1]: #loop de 0 a 2 excluyendo al 1\n            formula1 = ''\n            inicial = True\n            if inicial:\n                formula1 = OenP.P([x, y, n])\n                inicial = False\n            else:\n                formula1 = \"(\" + formula1 + \"O\" + OenP.P([x, y, n]) + \")\"\n            if n == 0:\n                formula1 = \"(\" + OenP.P([x,y,2]) + \">-\" + formula1 + \")\"\n                print(visualizar_formula(formula1, OenP))\n                print(\" \")\n            elif n == 2:\n                formula1 = \"(\" + OenP.P([x,y,0]) + \">-\" + formula1 + \")\"\n                print(visualizar_formula(formula1, OenP))\n                print(\" \")",
      "metadata": {
        "trusted": true
      },
      "execution_count": 24,
      "outputs": [
        {
          "name": "stdout",
          "text": "( Maiz está en la casilla (0,0) >  no  Gallina está en la casilla (0,0))\n \n( Gallina está en la casilla (0,0) >  no  Maiz está en la casilla (0,0))\n \n( Maiz está en la casilla (0,1) >  no  Gallina está en la casilla (0,1))\n \n( Gallina está en la casilla (0,1) >  no  Maiz está en la casilla (0,1))\n \n",
          "output_type": "stream"
        }
      ]
    },
    {
      "cell_type": "code",
      "source": "# Regla 5: La gallina y el zorro no puede quedar solos. \n\nfor y in Y:\n    for x in X:\n        for n in range(2):\n            formula1 = ''\n            inicial = True\n            if inicial:\n                formula1 = OenP.P([x, y, n])\n                inicial = False\n            else:\n                formula1 = \"(\" + formula1 + \"O\" + OenP.P([x, y, n]) + \")\"\n            if n == 0:\n                formula1 = \"(\" + OenP.P([x,y,1]) + \">-\" + formula1 + \")\"\n                print(visualizar_formula(formula1, OenP))\n                print(\" \")\n            elif n == 1:\n                formula1 = \"(\" + OenP.P([x,y,0]) + \">-\" + formula1 + \")\"\n                print(visualizar_formula(formula1, OenP))\n                print(\" \")",
      "metadata": {
        "trusted": true
      },
      "execution_count": 25,
      "outputs": [
        {
          "name": "stdout",
          "text": "( Zorro está en la casilla (0,0) >  no  Gallina está en la casilla (0,0))\n \n( Gallina está en la casilla (0,0) >  no  Zorro está en la casilla (0,0))\n \n( Zorro está en la casilla (0,1) >  no  Gallina está en la casilla (0,1))\n \n( Gallina está en la casilla (0,1) >  no  Zorro está en la casilla (0,1))\n \n",
          "output_type": "stream"
        }
      ]
    },
    {
      "cell_type": "code",
      "source": "",
      "metadata": {},
      "execution_count": null,
      "outputs": []
    },
    {
      "cell_type": "code",
      "source": "",
      "metadata": {},
      "execution_count": null,
      "outputs": []
    }
  ]
}