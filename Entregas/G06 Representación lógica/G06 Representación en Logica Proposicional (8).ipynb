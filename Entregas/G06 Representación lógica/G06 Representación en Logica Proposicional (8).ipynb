{
  "metadata": {
    "language_info": {
      "codemirror_mode": {
        "name": "python",
        "version": 3
      },
      "file_extension": ".py",
      "mimetype": "text/x-python",
      "name": "python",
      "nbconvert_exporter": "python",
      "pygments_lexer": "ipython3",
      "version": "3.8"
    },
    "kernelspec": {
      "name": "python",
      "display_name": "Python (Pyodide)",
      "language": "python"
    }
  },
  "nbformat_minor": 4,
  "nbformat": 4,
  "cells": [
    {
      "cell_type": "markdown",
      "source": "Presentación del notebook del proyecto de Logica para Ciencias de la Computación grupo 6 ",
      "metadata": {}
    },
    {
      "cell_type": "markdown",
      "source": "Anexamos la carpeta logica.py para su implementación en este notebook",
      "metadata": {}
    },
    {
      "cell_type": "code",
      "source": "from itertools import product\nimport numpy as np\n\nclass Formula :\n\n    def __init__(self) :\n        pass\n\n    def __str__(self) :\n        if type(self) == Letra:\n            return self.letra\n        elif type(self) == Negacion:\n            return '-' + str(self.subf)\n        elif type(self) == Binario:\n            return \"(\" + str(self.left) + self.conectivo + str(self.right) + \")\"\n\n    def letras(self):\n        if type(self) == Letra:\n            return set(self.letra)\n        elif type(self) == Negacion:\n            return self.subf.letras()\n        elif type(self) == Binario:\n            return self.left.letras().union(self.right.letras())\n\n    def subforms(self):\n        if type(self) == Letra:\n            return [str(self)]\n        elif type(self) == Negacion:\n            return list(set([str(self)] + self.subf.subforms()))\n        elif type(self) == Binario:\n            return list(set([str(self)] + self.left.subforms() + self.right.subforms()))\n\n    def valor(self, I) :\n        if type(self) == Letra:\n            return I[self.letra]\n        elif type(self) == Negacion:\n            return not self.subf.valor(I)\n        elif type(self) == Binario:\n            if self.conectivo == 'Y':\n                return self.left.valor(I) and self.right.valor(I)\n            if self.conectivo == 'O':\n                return self.left.valor(I) or self.right.valor(I)\n            if self.conectivo == '>':\n                return not self.left.valor(I) or self.right.valor(I)\n            if self.conectivo == '=':\n                return (self.left.valor(I) and self.right.valor(I)) or (not self.left.valor(I) and not self.right.valor(I))\n\nclass Letra(Formula) :\n    def __init__ (self, letra:str) :\n        self.letra = letra\n\nclass Negacion(Formula) :\n    def __init__(self, subf:Formula) :\n        self.subf = subf\n\nclass Binario(Formula) :\n    def __init__(self, conectivo:str, left:Formula, right:Formula) :\n        assert(conectivo in ['Y','O','>','='])\n        self.conectivo = conectivo\n        self.left = left\n        self.right = right\n\ndef inorder_to_tree(cadena:str):\n    conectivos = ['Y', 'O', '>', '=']\n    if len(cadena) == 1:\n        return Letra(cadena)\n    elif cadena[0] == '-':\n        return Negacion(inorder_to_tree(cadena[1:]))\n    elif cadena[0] == \"(\":\n        counter = 0 #Contador de parentesis\n        for i in range(1, len(cadena)):\n            if cadena[i] == \"(\":\n                counter += 1\n            elif cadena[i] == \")\":\n                counter -=1\n            elif cadena[i] in conectivos and counter == 0:\n                return Binario(cadena[i], inorder_to_tree(cadena[1:i]),inorder_to_tree(cadena[i + 1:-1]))\n    else:\n        raise Exception('¡Cadena inválida!')\n\nclass Descriptor :\n\n    '''\n    Codifica un descriptor de N argumentos mediante un solo caracter\n    Input:  args_lista, lista con el total de opciones para cada\n                     argumento del descriptor\n            chrInit, entero que determina el comienzo de la codificación chr()\n    Output: str de longitud 1\n    '''\n\n    def __init__ (self,args_lista,chrInit=256) :\n        self.args_lista = args_lista\n        assert(len(args_lista) > 0), \"Debe haber por lo menos un argumento\"\n        self.chrInit = chrInit\n        self.rango = [chrInit, chrInit + np.prod(self.args_lista)]\n    def check_lista_valores(self, lista_valores):\n        for i, v in enumerate(lista_valores):\n            assert isinstance(v, int), \"Los valores deben ser enteros\"\n            assert v >= 0, \"Los valores deben ser no negativos\"\n            assert v < self.args_lista[i], f\"El valor debe ser menor o igual a {self.args_lista[i]}\"\n    \n    def codifica(self,lista_valores) :\n        self.check_lista_valores(lista_valores)\n        cod = lista_valores[0]\n        n_columnas = 1\n        for i in range(0, len(lista_valores) - 1) :\n            n_columnas = n_columnas * self.args_lista[i]\n            cod = n_columnas * lista_valores[i+1] + cod\n        return cod\n    \n    def escribir(self, c):\n        # Implementa la lógica para convertir c en una cadena y devuélvela\n        pass\n\n    def decodifica(self,n) :\n        decods = []\n        if len(self.args_lista) > 1:\n            for i in range(0, len(self.args_lista) - 1) :\n                n_columnas = np.prod(self.args_lista[:-(i+1)])\n                decods.insert(0, int(n / n_columnas))\n                n = n % n_columnas\n        decods.insert(0, n % self.args_lista[0])\n        return decods\n\n    def P(self,lista_valores) :\n        codigo = self.codifica(lista_valores)\n        return chr(self.chrInit+codigo)\n\n    def inv(self,codigo) :\n        n = ord(codigo)-self.chrInit\n        return self.decodifica(n)\n\ndef visualizar_formula(A,D):\n    '''\n    Visualiza una fórmula A (como string en notación inorder) usando el descriptor D\n    '''\n    vis = []\n    for c in A:\n        if c == '-':\n            vis.append(' no ')\n        elif c in ['(', ')']:\n            vis.append(c)\n        elif c in ['>', 'Y', 'O']:\n            vis.append(' ' + c + ' ')\n        elif c == '=':\n            vis.append(' sii ')\n        else:\n            try:\n                vis.append(D.escribir(c))\n            except:\n                raise(\"¡Caracter inválido!\")\n    return ''.join(vis)",
      "metadata": {
        "trusted": true
      },
      "execution_count": 1,
      "outputs": []
    },
    {
      "cell_type": "markdown",
      "source": "Ahora creamos un un descriptor el cual tendra a los atomos Objeto en Posición (De ahi el nombre la variable OenP)",
      "metadata": {}
    },
    {
      "cell_type": "code",
      "source": "Nx = 3\nTurnos =[0,1,2,3,4,5,6,7,8,9]\nObjetos = {0: \"Gallina\", 1: \"Zorro\", 2: \"Maiz\"}\nobjeto_a_numero = {objeto: indice for indice, objeto in enumerate(Objetos)}\nNn = len(Objetos)\nNt = len(Turnos)\nX = list(range(Nx))\nT = list(range(Nt))\nOenP = Descriptor([Nx, Nn, Nt]) ",
      "metadata": {
        "trusted": true
      },
      "execution_count": 16,
      "outputs": []
    },
    {
      "cell_type": "markdown",
      "source": "Ahora vamos a visualizar la cantidad de atomos de dicho descriptor",
      "metadata": {}
    },
    {
      "cell_type": "code",
      "source": "print(\"Cantidad de átomos OenP:\", OenP.rango[1] - OenP.rango[0])\nprint(\"Caracteres correspondientes a los átomos OenP:\\n\")\nfor n in range(Nn):\n    for x in range(Nx):\n        for t in range(Nt):\n            atomo = OenP.P([x,n,t])\n            print(f\" {Objetos[n]} está en la casilla ({X[x]}) en el Tiempo({T[t]}) y es el átomo {atomo}\")\n    print(\"\")",
      "metadata": {
        "trusted": true
      },
      "execution_count": 17,
      "outputs": [
        {
          "name": "stdout",
          "text": "Cantidad de átomos OenP: 90\nCaracteres correspondientes a los átomos OenP:\n\n Gallina está en la casilla (0) en el Tiempo(0) y es el átomo Ā\n Gallina está en la casilla (0) en el Tiempo(1) y es el átomo ĉ\n Gallina está en la casilla (0) en el Tiempo(2) y es el átomo Ē\n Gallina está en la casilla (0) en el Tiempo(3) y es el átomo ě\n Gallina está en la casilla (0) en el Tiempo(4) y es el átomo Ĥ\n Gallina está en la casilla (0) en el Tiempo(5) y es el átomo ĭ\n Gallina está en la casilla (0) en el Tiempo(6) y es el átomo Ķ\n Gallina está en la casilla (0) en el Tiempo(7) y es el átomo Ŀ\n Gallina está en la casilla (0) en el Tiempo(8) y es el átomo ň\n Gallina está en la casilla (0) en el Tiempo(9) y es el átomo ő\n Gallina está en la casilla (1) en el Tiempo(0) y es el átomo ā\n Gallina está en la casilla (1) en el Tiempo(1) y es el átomo Ċ\n Gallina está en la casilla (1) en el Tiempo(2) y es el átomo ē\n Gallina está en la casilla (1) en el Tiempo(3) y es el átomo Ĝ\n Gallina está en la casilla (1) en el Tiempo(4) y es el átomo ĥ\n Gallina está en la casilla (1) en el Tiempo(5) y es el átomo Į\n Gallina está en la casilla (1) en el Tiempo(6) y es el átomo ķ\n Gallina está en la casilla (1) en el Tiempo(7) y es el átomo ŀ\n Gallina está en la casilla (1) en el Tiempo(8) y es el átomo ŉ\n Gallina está en la casilla (1) en el Tiempo(9) y es el átomo Œ\n Gallina está en la casilla (2) en el Tiempo(0) y es el átomo Ă\n Gallina está en la casilla (2) en el Tiempo(1) y es el átomo ċ\n Gallina está en la casilla (2) en el Tiempo(2) y es el átomo Ĕ\n Gallina está en la casilla (2) en el Tiempo(3) y es el átomo ĝ\n Gallina está en la casilla (2) en el Tiempo(4) y es el átomo Ħ\n Gallina está en la casilla (2) en el Tiempo(5) y es el átomo į\n Gallina está en la casilla (2) en el Tiempo(6) y es el átomo ĸ\n Gallina está en la casilla (2) en el Tiempo(7) y es el átomo Ł\n Gallina está en la casilla (2) en el Tiempo(8) y es el átomo Ŋ\n Gallina está en la casilla (2) en el Tiempo(9) y es el átomo œ\n\n Zorro está en la casilla (0) en el Tiempo(0) y es el átomo ă\n Zorro está en la casilla (0) en el Tiempo(1) y es el átomo Č\n Zorro está en la casilla (0) en el Tiempo(2) y es el átomo ĕ\n Zorro está en la casilla (0) en el Tiempo(3) y es el átomo Ğ\n Zorro está en la casilla (0) en el Tiempo(4) y es el átomo ħ\n Zorro está en la casilla (0) en el Tiempo(5) y es el átomo İ\n Zorro está en la casilla (0) en el Tiempo(6) y es el átomo Ĺ\n Zorro está en la casilla (0) en el Tiempo(7) y es el átomo ł\n Zorro está en la casilla (0) en el Tiempo(8) y es el átomo ŋ\n Zorro está en la casilla (0) en el Tiempo(9) y es el átomo Ŕ\n Zorro está en la casilla (1) en el Tiempo(0) y es el átomo Ą\n Zorro está en la casilla (1) en el Tiempo(1) y es el átomo č\n Zorro está en la casilla (1) en el Tiempo(2) y es el átomo Ė\n Zorro está en la casilla (1) en el Tiempo(3) y es el átomo ğ\n Zorro está en la casilla (1) en el Tiempo(4) y es el átomo Ĩ\n Zorro está en la casilla (1) en el Tiempo(5) y es el átomo ı\n Zorro está en la casilla (1) en el Tiempo(6) y es el átomo ĺ\n Zorro está en la casilla (1) en el Tiempo(7) y es el átomo Ń\n Zorro está en la casilla (1) en el Tiempo(8) y es el átomo Ō\n Zorro está en la casilla (1) en el Tiempo(9) y es el átomo ŕ\n Zorro está en la casilla (2) en el Tiempo(0) y es el átomo ą\n Zorro está en la casilla (2) en el Tiempo(1) y es el átomo Ď\n Zorro está en la casilla (2) en el Tiempo(2) y es el átomo ė\n Zorro está en la casilla (2) en el Tiempo(3) y es el átomo Ġ\n Zorro está en la casilla (2) en el Tiempo(4) y es el átomo ĩ\n Zorro está en la casilla (2) en el Tiempo(5) y es el átomo Ĳ\n Zorro está en la casilla (2) en el Tiempo(6) y es el átomo Ļ\n Zorro está en la casilla (2) en el Tiempo(7) y es el átomo ń\n Zorro está en la casilla (2) en el Tiempo(8) y es el átomo ō\n Zorro está en la casilla (2) en el Tiempo(9) y es el átomo Ŗ\n\n Maiz está en la casilla (0) en el Tiempo(0) y es el átomo Ć\n Maiz está en la casilla (0) en el Tiempo(1) y es el átomo ď\n Maiz está en la casilla (0) en el Tiempo(2) y es el átomo Ę\n Maiz está en la casilla (0) en el Tiempo(3) y es el átomo ġ\n Maiz está en la casilla (0) en el Tiempo(4) y es el átomo Ī\n Maiz está en la casilla (0) en el Tiempo(5) y es el átomo ĳ\n Maiz está en la casilla (0) en el Tiempo(6) y es el átomo ļ\n Maiz está en la casilla (0) en el Tiempo(7) y es el átomo Ņ\n Maiz está en la casilla (0) en el Tiempo(8) y es el átomo Ŏ\n Maiz está en la casilla (0) en el Tiempo(9) y es el átomo ŗ\n Maiz está en la casilla (1) en el Tiempo(0) y es el átomo ć\n Maiz está en la casilla (1) en el Tiempo(1) y es el átomo Đ\n Maiz está en la casilla (1) en el Tiempo(2) y es el átomo ę\n Maiz está en la casilla (1) en el Tiempo(3) y es el átomo Ģ\n Maiz está en la casilla (1) en el Tiempo(4) y es el átomo ī\n Maiz está en la casilla (1) en el Tiempo(5) y es el átomo Ĵ\n Maiz está en la casilla (1) en el Tiempo(6) y es el átomo Ľ\n Maiz está en la casilla (1) en el Tiempo(7) y es el átomo ņ\n Maiz está en la casilla (1) en el Tiempo(8) y es el átomo ŏ\n Maiz está en la casilla (1) en el Tiempo(9) y es el átomo Ř\n Maiz está en la casilla (2) en el Tiempo(0) y es el átomo Ĉ\n Maiz está en la casilla (2) en el Tiempo(1) y es el átomo đ\n Maiz está en la casilla (2) en el Tiempo(2) y es el átomo Ě\n Maiz está en la casilla (2) en el Tiempo(3) y es el átomo ģ\n Maiz está en la casilla (2) en el Tiempo(4) y es el átomo Ĭ\n Maiz está en la casilla (2) en el Tiempo(5) y es el átomo ĵ\n Maiz está en la casilla (2) en el Tiempo(6) y es el átomo ľ\n Maiz está en la casilla (2) en el Tiempo(7) y es el átomo Ň\n Maiz está en la casilla (2) en el Tiempo(8) y es el átomo Ő\n Maiz está en la casilla (2) en el Tiempo(9) y es el átomo ř\n\n",
          "output_type": "stream"
        }
      ]
    },
    {
      "cell_type": "markdown",
      "source": "Ahora vamos a visualizar la cantidad de atomos de dicho descriptor",
      "metadata": {}
    },
    {
      "cell_type": "code",
      "source": "def escribir(self, literal):\n    if '-' in literal:\n        atomo = literal[1:]\n        neg = ' no'\n    else:\n        atomo = literal\n        neg = ''\n    x, n, t  = self.inv(atomo)\n    return f\" {Objetos[n]}{neg} está en la casilla ({X[x]}) en el tiempo {T[t]}\"\n    \nfrom types import MethodType\n\nOenP.escribir = MethodType(escribir, OenP)\n\n\n\natomo = OenP.P([2,2,8])\nprint(f\"El caracter que codifica es {atomo}\")\nprint(\"\\nSu decodificación es:\")\nOenP.escribir(atomo)\n\n",
      "metadata": {
        "trusted": true
      },
      "execution_count": 19,
      "outputs": [
        {
          "name": "stdout",
          "text": "El caracter que codifica es Ő\n\nSu decodificación es:\n",
          "output_type": "stream"
        },
        {
          "execution_count": 19,
          "output_type": "execute_result",
          "data": {
            "text/plain": "' Maiz está en la casilla (2) en el tiempo 8'"
          },
          "metadata": {}
        }
      ]
    },
    {
      "cell_type": "markdown",
      "source": "Ahora vamos a implementar nuestro sistema de reglas en python usando la logica proposicional ",
      "metadata": {}
    },
    {
      "cell_type": "code",
      "source": "# Regla 1;     El zorro y la gallina no pueden quedarse solos (estar en la misma casilla en un turno T sin el maíz).  \n\nfor objeto in Objetos:\n    for tiempo in T:\n        for casilla in X:\n            otras_casillas = [otra_casilla for otra_casilla in X if otra_casilla != casilla]\n            formula_regla = ''\n            inicial = True\n            for otra_casilla in otras_casillas:\n                if inicial:\n                    formula_regla = OenP.P([otra_casilla, objeto_a_numero[objeto], tiempo])\n                    inicial = False\n                else:\n                    formula_regla = \"(\" + formula_regla + \"O\" + OenP.P([otra_casilla, objeto_a_numero[objeto], tiempo]) + \")\"\n            \n            formula_regla = \"(\" + OenP.P([casilla, objeto_a_numero[objeto], tiempo]) + \">-\" + formula_regla + \")\"\n            print(visualizar_formula(formula_regla, OenP))\n            print(\" \")",
      "metadata": {},
      "execution_count": null,
      "outputs": []
    },
    {
      "cell_type": "code",
      "source": "# Regla 2;     La gallina no puede quedar a solas con el maíz (estar en la misma casilla en un turno T sin el zorro). \n\nfor objeto in Objetos:\n    for tiempo in T:\n        for casilla in X:\n            otras_casillas = [otra_casilla for otra_casilla in X if otra_casilla != casilla]\n            formula_regla = ''\n            inicial = True\n            for otra_casilla in otras_casillas:\n                if inicial:\n                    formula_regla = OenP.P([otra_casilla, objeto_a_numero[objeto], tiempo])\n                    inicial = False\n                else:\n                    formula_regla = \"(\" + formula_regla + \"O\" + OenP.P([otra_casilla, objeto_a_numero[objeto], tiempo]) + \")\"\n            \n            formula_regla = \"(\" + OenP.P([casilla, objeto_a_numero[objeto], tiempo]) + \">-\" + formula_regla + \")\"\n            print(visualizar_formula(formula_regla, OenP))\n            print(\" \")",
      "metadata": {},
      "execution_count": null,
      "outputs": []
    },
    {
      "cell_type": "code",
      "source": "# Regla 3; Cada O solo puede estar en un lugar a la vez. \n\nfor objeto in Objetos:\n    for tiempo in T:\n        for casilla in X:\n            otras_casillas = [otra_casilla for otra_casilla in X if otra_casilla != casilla]\n            formula_regla = ''\n            inicial = True\n            for otra_casilla in otras_casillas:\n                if inicial:\n                    formula_regla = OenP.P([otra_casilla, objeto_a_numero[objeto], tiempo])\n                    inicial = False\n                else:\n                    formula_regla = \"(\" + formula_regla + \"O\" + OenP.P([otra_casilla, objeto_a_numero[objeto], tiempo]) + \")\"\n            \n            formula_regla = \"(\" + OenP.P([casilla, objeto_a_numero[objeto], tiempo]) + \">-\" + formula_regla + \")\"\n            print(visualizar_formula(formula_regla, OenP))\n            print(\" \")",
      "metadata": {
        "trusted": true
      },
      "execution_count": 25,
      "outputs": [
        {
          "name": "stdout",
          "text": "( Gallina está en la casilla (0) en el tiempo 0 >  no ( Gallina está en la casilla (1) en el tiempo 0 O  Gallina está en la casilla (2) en el tiempo 0))\n \n( Gallina está en la casilla (1) en el tiempo 0 >  no ( Gallina está en la casilla (0) en el tiempo 0 O  Gallina está en la casilla (2) en el tiempo 0))\n \n( Gallina está en la casilla (2) en el tiempo 0 >  no ( Gallina está en la casilla (0) en el tiempo 0 O  Gallina está en la casilla (1) en el tiempo 0))\n \n( Gallina está en la casilla (0) en el tiempo 1 >  no ( Gallina está en la casilla (1) en el tiempo 1 O  Gallina está en la casilla (2) en el tiempo 1))\n \n( Gallina está en la casilla (1) en el tiempo 1 >  no ( Gallina está en la casilla (0) en el tiempo 1 O  Gallina está en la casilla (2) en el tiempo 1))\n \n( Gallina está en la casilla (2) en el tiempo 1 >  no ( Gallina está en la casilla (0) en el tiempo 1 O  Gallina está en la casilla (1) en el tiempo 1))\n \n( Gallina está en la casilla (0) en el tiempo 2 >  no ( Gallina está en la casilla (1) en el tiempo 2 O  Gallina está en la casilla (2) en el tiempo 2))\n \n( Gallina está en la casilla (1) en el tiempo 2 >  no ( Gallina está en la casilla (0) en el tiempo 2 O  Gallina está en la casilla (2) en el tiempo 2))\n \n( Gallina está en la casilla (2) en el tiempo 2 >  no ( Gallina está en la casilla (0) en el tiempo 2 O  Gallina está en la casilla (1) en el tiempo 2))\n \n( Gallina está en la casilla (0) en el tiempo 3 >  no ( Gallina está en la casilla (1) en el tiempo 3 O  Gallina está en la casilla (2) en el tiempo 3))\n \n( Gallina está en la casilla (1) en el tiempo 3 >  no ( Gallina está en la casilla (0) en el tiempo 3 O  Gallina está en la casilla (2) en el tiempo 3))\n \n( Gallina está en la casilla (2) en el tiempo 3 >  no ( Gallina está en la casilla (0) en el tiempo 3 O  Gallina está en la casilla (1) en el tiempo 3))\n \n( Gallina está en la casilla (0) en el tiempo 4 >  no ( Gallina está en la casilla (1) en el tiempo 4 O  Gallina está en la casilla (2) en el tiempo 4))\n \n( Gallina está en la casilla (1) en el tiempo 4 >  no ( Gallina está en la casilla (0) en el tiempo 4 O  Gallina está en la casilla (2) en el tiempo 4))\n \n( Gallina está en la casilla (2) en el tiempo 4 >  no ( Gallina está en la casilla (0) en el tiempo 4 O  Gallina está en la casilla (1) en el tiempo 4))\n \n( Gallina está en la casilla (0) en el tiempo 5 >  no ( Gallina está en la casilla (1) en el tiempo 5 O  Gallina está en la casilla (2) en el tiempo 5))\n \n( Gallina está en la casilla (1) en el tiempo 5 >  no ( Gallina está en la casilla (0) en el tiempo 5 O  Gallina está en la casilla (2) en el tiempo 5))\n \n( Gallina está en la casilla (2) en el tiempo 5 >  no ( Gallina está en la casilla (0) en el tiempo 5 O  Gallina está en la casilla (1) en el tiempo 5))\n \n( Gallina está en la casilla (0) en el tiempo 6 >  no ( Gallina está en la casilla (1) en el tiempo 6 O  Gallina está en la casilla (2) en el tiempo 6))\n \n( Gallina está en la casilla (1) en el tiempo 6 >  no ( Gallina está en la casilla (0) en el tiempo 6 O  Gallina está en la casilla (2) en el tiempo 6))\n \n( Gallina está en la casilla (2) en el tiempo 6 >  no ( Gallina está en la casilla (0) en el tiempo 6 O  Gallina está en la casilla (1) en el tiempo 6))\n \n( Gallina está en la casilla (0) en el tiempo 7 >  no ( Gallina está en la casilla (1) en el tiempo 7 O  Gallina está en la casilla (2) en el tiempo 7))\n \n( Gallina está en la casilla (1) en el tiempo 7 >  no ( Gallina está en la casilla (0) en el tiempo 7 O  Gallina está en la casilla (2) en el tiempo 7))\n \n( Gallina está en la casilla (2) en el tiempo 7 >  no ( Gallina está en la casilla (0) en el tiempo 7 O  Gallina está en la casilla (1) en el tiempo 7))\n \n( Gallina está en la casilla (0) en el tiempo 8 >  no ( Gallina está en la casilla (1) en el tiempo 8 O  Gallina está en la casilla (2) en el tiempo 8))\n \n( Gallina está en la casilla (1) en el tiempo 8 >  no ( Gallina está en la casilla (0) en el tiempo 8 O  Gallina está en la casilla (2) en el tiempo 8))\n \n( Gallina está en la casilla (2) en el tiempo 8 >  no ( Gallina está en la casilla (0) en el tiempo 8 O  Gallina está en la casilla (1) en el tiempo 8))\n \n( Gallina está en la casilla (0) en el tiempo 9 >  no ( Gallina está en la casilla (1) en el tiempo 9 O  Gallina está en la casilla (2) en el tiempo 9))\n \n( Gallina está en la casilla (1) en el tiempo 9 >  no ( Gallina está en la casilla (0) en el tiempo 9 O  Gallina está en la casilla (2) en el tiempo 9))\n \n( Gallina está en la casilla (2) en el tiempo 9 >  no ( Gallina está en la casilla (0) en el tiempo 9 O  Gallina está en la casilla (1) en el tiempo 9))\n \n( Zorro está en la casilla (0) en el tiempo 0 >  no ( Zorro está en la casilla (1) en el tiempo 0 O  Zorro está en la casilla (2) en el tiempo 0))\n \n( Zorro está en la casilla (1) en el tiempo 0 >  no ( Zorro está en la casilla (0) en el tiempo 0 O  Zorro está en la casilla (2) en el tiempo 0))\n \n( Zorro está en la casilla (2) en el tiempo 0 >  no ( Zorro está en la casilla (0) en el tiempo 0 O  Zorro está en la casilla (1) en el tiempo 0))\n \n( Zorro está en la casilla (0) en el tiempo 1 >  no ( Zorro está en la casilla (1) en el tiempo 1 O  Zorro está en la casilla (2) en el tiempo 1))\n \n( Zorro está en la casilla (1) en el tiempo 1 >  no ( Zorro está en la casilla (0) en el tiempo 1 O  Zorro está en la casilla (2) en el tiempo 1))\n \n( Zorro está en la casilla (2) en el tiempo 1 >  no ( Zorro está en la casilla (0) en el tiempo 1 O  Zorro está en la casilla (1) en el tiempo 1))\n \n( Zorro está en la casilla (0) en el tiempo 2 >  no ( Zorro está en la casilla (1) en el tiempo 2 O  Zorro está en la casilla (2) en el tiempo 2))\n \n( Zorro está en la casilla (1) en el tiempo 2 >  no ( Zorro está en la casilla (0) en el tiempo 2 O  Zorro está en la casilla (2) en el tiempo 2))\n \n( Zorro está en la casilla (2) en el tiempo 2 >  no ( Zorro está en la casilla (0) en el tiempo 2 O  Zorro está en la casilla (1) en el tiempo 2))\n \n( Zorro está en la casilla (0) en el tiempo 3 >  no ( Zorro está en la casilla (1) en el tiempo 3 O  Zorro está en la casilla (2) en el tiempo 3))\n \n( Zorro está en la casilla (1) en el tiempo 3 >  no ( Zorro está en la casilla (0) en el tiempo 3 O  Zorro está en la casilla (2) en el tiempo 3))\n \n( Zorro está en la casilla (2) en el tiempo 3 >  no ( Zorro está en la casilla (0) en el tiempo 3 O  Zorro está en la casilla (1) en el tiempo 3))\n \n( Zorro está en la casilla (0) en el tiempo 4 >  no ( Zorro está en la casilla (1) en el tiempo 4 O  Zorro está en la casilla (2) en el tiempo 4))\n \n( Zorro está en la casilla (1) en el tiempo 4 >  no ( Zorro está en la casilla (0) en el tiempo 4 O  Zorro está en la casilla (2) en el tiempo 4))\n \n( Zorro está en la casilla (2) en el tiempo 4 >  no ( Zorro está en la casilla (0) en el tiempo 4 O  Zorro está en la casilla (1) en el tiempo 4))\n \n( Zorro está en la casilla (0) en el tiempo 5 >  no ( Zorro está en la casilla (1) en el tiempo 5 O  Zorro está en la casilla (2) en el tiempo 5))\n \n( Zorro está en la casilla (1) en el tiempo 5 >  no ( Zorro está en la casilla (0) en el tiempo 5 O  Zorro está en la casilla (2) en el tiempo 5))\n \n( Zorro está en la casilla (2) en el tiempo 5 >  no ( Zorro está en la casilla (0) en el tiempo 5 O  Zorro está en la casilla (1) en el tiempo 5))\n \n( Zorro está en la casilla (0) en el tiempo 6 >  no ( Zorro está en la casilla (1) en el tiempo 6 O  Zorro está en la casilla (2) en el tiempo 6))\n \n( Zorro está en la casilla (1) en el tiempo 6 >  no ( Zorro está en la casilla (0) en el tiempo 6 O  Zorro está en la casilla (2) en el tiempo 6))\n \n( Zorro está en la casilla (2) en el tiempo 6 >  no ( Zorro está en la casilla (0) en el tiempo 6 O  Zorro está en la casilla (1) en el tiempo 6))\n \n( Zorro está en la casilla (0) en el tiempo 7 >  no ( Zorro está en la casilla (1) en el tiempo 7 O  Zorro está en la casilla (2) en el tiempo 7))\n \n( Zorro está en la casilla (1) en el tiempo 7 >  no ( Zorro está en la casilla (0) en el tiempo 7 O  Zorro está en la casilla (2) en el tiempo 7))\n \n( Zorro está en la casilla (2) en el tiempo 7 >  no ( Zorro está en la casilla (0) en el tiempo 7 O  Zorro está en la casilla (1) en el tiempo 7))\n \n( Zorro está en la casilla (0) en el tiempo 8 >  no ( Zorro está en la casilla (1) en el tiempo 8 O  Zorro está en la casilla (2) en el tiempo 8))\n \n( Zorro está en la casilla (1) en el tiempo 8 >  no ( Zorro está en la casilla (0) en el tiempo 8 O  Zorro está en la casilla (2) en el tiempo 8))\n \n( Zorro está en la casilla (2) en el tiempo 8 >  no ( Zorro está en la casilla (0) en el tiempo 8 O  Zorro está en la casilla (1) en el tiempo 8))\n \n( Zorro está en la casilla (0) en el tiempo 9 >  no ( Zorro está en la casilla (1) en el tiempo 9 O  Zorro está en la casilla (2) en el tiempo 9))\n \n( Zorro está en la casilla (1) en el tiempo 9 >  no ( Zorro está en la casilla (0) en el tiempo 9 O  Zorro está en la casilla (2) en el tiempo 9))\n \n( Zorro está en la casilla (2) en el tiempo 9 >  no ( Zorro está en la casilla (0) en el tiempo 9 O  Zorro está en la casilla (1) en el tiempo 9))\n \n( Maiz está en la casilla (0) en el tiempo 0 >  no ( Maiz está en la casilla (1) en el tiempo 0 O  Maiz está en la casilla (2) en el tiempo 0))\n \n( Maiz está en la casilla (1) en el tiempo 0 >  no ( Maiz está en la casilla (0) en el tiempo 0 O  Maiz está en la casilla (2) en el tiempo 0))\n \n( Maiz está en la casilla (2) en el tiempo 0 >  no ( Maiz está en la casilla (0) en el tiempo 0 O  Maiz está en la casilla (1) en el tiempo 0))\n \n( Maiz está en la casilla (0) en el tiempo 1 >  no ( Maiz está en la casilla (1) en el tiempo 1 O  Maiz está en la casilla (2) en el tiempo 1))\n \n( Maiz está en la casilla (1) en el tiempo 1 >  no ( Maiz está en la casilla (0) en el tiempo 1 O  Maiz está en la casilla (2) en el tiempo 1))\n \n( Maiz está en la casilla (2) en el tiempo 1 >  no ( Maiz está en la casilla (0) en el tiempo 1 O  Maiz está en la casilla (1) en el tiempo 1))\n \n( Maiz está en la casilla (0) en el tiempo 2 >  no ( Maiz está en la casilla (1) en el tiempo 2 O  Maiz está en la casilla (2) en el tiempo 2))\n \n( Maiz está en la casilla (1) en el tiempo 2 >  no ( Maiz está en la casilla (0) en el tiempo 2 O  Maiz está en la casilla (2) en el tiempo 2))\n \n( Maiz está en la casilla (2) en el tiempo 2 >  no ( Maiz está en la casilla (0) en el tiempo 2 O  Maiz está en la casilla (1) en el tiempo 2))\n \n( Maiz está en la casilla (0) en el tiempo 3 >  no ( Maiz está en la casilla (1) en el tiempo 3 O  Maiz está en la casilla (2) en el tiempo 3))\n \n( Maiz está en la casilla (1) en el tiempo 3 >  no ( Maiz está en la casilla (0) en el tiempo 3 O  Maiz está en la casilla (2) en el tiempo 3))\n \n( Maiz está en la casilla (2) en el tiempo 3 >  no ( Maiz está en la casilla (0) en el tiempo 3 O  Maiz está en la casilla (1) en el tiempo 3))\n \n( Maiz está en la casilla (0) en el tiempo 4 >  no ( Maiz está en la casilla (1) en el tiempo 4 O  Maiz está en la casilla (2) en el tiempo 4))\n \n( Maiz está en la casilla (1) en el tiempo 4 >  no ( Maiz está en la casilla (0) en el tiempo 4 O  Maiz está en la casilla (2) en el tiempo 4))\n \n( Maiz está en la casilla (2) en el tiempo 4 >  no ( Maiz está en la casilla (0) en el tiempo 4 O  Maiz está en la casilla (1) en el tiempo 4))\n \n( Maiz está en la casilla (0) en el tiempo 5 >  no ( Maiz está en la casilla (1) en el tiempo 5 O  Maiz está en la casilla (2) en el tiempo 5))\n \n( Maiz está en la casilla (1) en el tiempo 5 >  no ( Maiz está en la casilla (0) en el tiempo 5 O  Maiz está en la casilla (2) en el tiempo 5))\n \n( Maiz está en la casilla (2) en el tiempo 5 >  no ( Maiz está en la casilla (0) en el tiempo 5 O  Maiz está en la casilla (1) en el tiempo 5))\n \n( Maiz está en la casilla (0) en el tiempo 6 >  no ( Maiz está en la casilla (1) en el tiempo 6 O  Maiz está en la casilla (2) en el tiempo 6))\n \n( Maiz está en la casilla (1) en el tiempo 6 >  no ( Maiz está en la casilla (0) en el tiempo 6 O  Maiz está en la casilla (2) en el tiempo 6))\n \n( Maiz está en la casilla (2) en el tiempo 6 >  no ( Maiz está en la casilla (0) en el tiempo 6 O  Maiz está en la casilla (1) en el tiempo 6))\n \n( Maiz está en la casilla (0) en el tiempo 7 >  no ( Maiz está en la casilla (1) en el tiempo 7 O  Maiz está en la casilla (2) en el tiempo 7))\n \n( Maiz está en la casilla (1) en el tiempo 7 >  no ( Maiz está en la casilla (0) en el tiempo 7 O  Maiz está en la casilla (2) en el tiempo 7))\n \n( Maiz está en la casilla (2) en el tiempo 7 >  no ( Maiz está en la casilla (0) en el tiempo 7 O  Maiz está en la casilla (1) en el tiempo 7))\n \n( Maiz está en la casilla (0) en el tiempo 8 >  no ( Maiz está en la casilla (1) en el tiempo 8 O  Maiz está en la casilla (2) en el tiempo 8))\n \n( Maiz está en la casilla (1) en el tiempo 8 >  no ( Maiz está en la casilla (0) en el tiempo 8 O  Maiz está en la casilla (2) en el tiempo 8))\n \n( Maiz está en la casilla (2) en el tiempo 8 >  no ( Maiz está en la casilla (0) en el tiempo 8 O  Maiz está en la casilla (1) en el tiempo 8))\n \n( Maiz está en la casilla (0) en el tiempo 9 >  no ( Maiz está en la casilla (1) en el tiempo 9 O  Maiz está en la casilla (2) en el tiempo 9))\n \n( Maiz está en la casilla (1) en el tiempo 9 >  no ( Maiz está en la casilla (0) en el tiempo 9 O  Maiz está en la casilla (2) en el tiempo 9))\n \n( Maiz está en la casilla (2) en el tiempo 9 >  no ( Maiz está en la casilla (0) en el tiempo 9 O  Maiz está en la casilla (1) en el tiempo 9))\n \n",
          "output_type": "stream"
        }
      ]
    },
    {
      "cell_type": "code",
      "source": "# Regla 4: En cada T, debe haber un cambio de posición para algún O.\n\n# Regla adicional: Los tres objetos no pueden estar en el mismo lugar en dos tiempos consecutivos.\n# Restricción adicional: Al menos un objeto debe cambiar de posición en cada turno.\nformula_restriccion_cambio_posicion = \"\"\nfor tiempo in T:\n    combinaciones_cambio_posicion = []\n    for objeto in Objetos:\n        for casilla in X:\n            combinaciones_cambio_posicion.append(OenP.P([casilla, objeto_a_numero[objeto], tiempo]))\n    formula_restriccion_cambio_posicion += \"O\" + \"\".join(combinaciones_cambio_posicion) + \" \"\nprint(\"Restricción adicional: Al menos un objeto debe cambiar de posición en cada turno.\")\nprint(formula_restriccion_cambio_posicion)\n\nprint(visualizar_formula(formula_restriccion_cambio_posicion, OenP))\n",
      "metadata": {
        "trusted": true
      },
      "execution_count": 30,
      "outputs": [
        {
          "name": "stdout",
          "text": "Restricción adicional: Al menos un objeto debe cambiar de posición en cada turno.\nOĀāĂăĄąĆćĈ OĉĊċČčĎďĐđ OĒēĔĕĖėĘęĚ OěĜĝĞğĠġĢģ OĤĥĦħĨĩĪīĬ OĭĮįİıĲĳĴĵ OĶķĸĹĺĻļĽľ OĿŀŁłŃńŅņŇ OňŉŊŋŌōŎŏŐ OőŒœŔŕŖŗŘř \n",
          "output_type": "stream"
        },
        {
          "ename": "<class 'TypeError'>",
          "evalue": "exceptions must derive from BaseException",
          "traceback": [
            "\u001b[0;31m---------------------------------------------------------------------------\u001b[0m",
            "\u001b[0;31mIndexError\u001b[0m                                Traceback (most recent call last)",
            "Cell \u001b[0;32mIn[1], line 149\u001b[0m, in \u001b[0;36mvisualizar_formula\u001b[0;34m(A, D)\u001b[0m\n\u001b[1;32m    148\u001b[0m \u001b[38;5;28;01mtry\u001b[39;00m:\n\u001b[0;32m--> 149\u001b[0m     vis\u001b[38;5;241m.\u001b[39mappend(\u001b[43mD\u001b[49m\u001b[38;5;241;43m.\u001b[39;49m\u001b[43mescribir\u001b[49m\u001b[43m(\u001b[49m\u001b[43mc\u001b[49m\u001b[43m)\u001b[49m)\n\u001b[1;32m    150\u001b[0m \u001b[38;5;28;01mexcept\u001b[39;00m:\n",
            "Cell \u001b[0;32mIn[19], line 9\u001b[0m, in \u001b[0;36mescribir\u001b[0;34m(self, literal)\u001b[0m\n\u001b[1;32m      8\u001b[0m x, n, t  \u001b[38;5;241m=\u001b[39m \u001b[38;5;28mself\u001b[39m\u001b[38;5;241m.\u001b[39minv(atomo)\n\u001b[0;32m----> 9\u001b[0m \u001b[38;5;28;01mreturn\u001b[39;00m \u001b[38;5;124mf\u001b[39m\u001b[38;5;124m\"\u001b[39m\u001b[38;5;124m \u001b[39m\u001b[38;5;132;01m{\u001b[39;00mObjetos[n]\u001b[38;5;132;01m}\u001b[39;00m\u001b[38;5;132;01m{\u001b[39;00mneg\u001b[38;5;132;01m}\u001b[39;00m\u001b[38;5;124m está en la casilla (\u001b[39m\u001b[38;5;132;01m{\u001b[39;00mX[x]\u001b[38;5;132;01m}\u001b[39;00m\u001b[38;5;124m) en el tiempo \u001b[39m\u001b[38;5;132;01m{\u001b[39;00m\u001b[43mT\u001b[49m\u001b[43m[\u001b[49m\u001b[43mt\u001b[49m\u001b[43m]\u001b[49m\u001b[38;5;132;01m}\u001b[39;00m\u001b[38;5;124m\"\u001b[39m\n",
            "\u001b[0;31mIndexError\u001b[0m: list index out of range",
            "\nDuring handling of the above exception, another exception occurred:\n",
            "\u001b[0;31mTypeError\u001b[0m                                 Traceback (most recent call last)",
            "Cell \u001b[0;32mIn[30], line 15\u001b[0m\n\u001b[1;32m     12\u001b[0m \u001b[38;5;28mprint\u001b[39m(\u001b[38;5;124m\"\u001b[39m\u001b[38;5;124mRestricción adicional: Al menos un objeto debe cambiar de posición en cada turno.\u001b[39m\u001b[38;5;124m\"\u001b[39m)\n\u001b[1;32m     13\u001b[0m \u001b[38;5;28mprint\u001b[39m(formula_restriccion_cambio_posicion)\n\u001b[0;32m---> 15\u001b[0m \u001b[38;5;28mprint\u001b[39m(\u001b[43mvisualizar_formula\u001b[49m\u001b[43m(\u001b[49m\u001b[43mformula_restriccion_cambio_posicion\u001b[49m\u001b[43m,\u001b[49m\u001b[43m \u001b[49m\u001b[43mOenP\u001b[49m\u001b[43m)\u001b[49m)\n",
            "Cell \u001b[0;32mIn[1], line 151\u001b[0m, in \u001b[0;36mvisualizar_formula\u001b[0;34m(A, D)\u001b[0m\n\u001b[1;32m    149\u001b[0m             vis\u001b[38;5;241m.\u001b[39mappend(D\u001b[38;5;241m.\u001b[39mescribir(c))\n\u001b[1;32m    150\u001b[0m         \u001b[38;5;28;01mexcept\u001b[39;00m:\n\u001b[0;32m--> 151\u001b[0m             \u001b[38;5;28;01mraise\u001b[39;00m(\u001b[38;5;124m\"\u001b[39m\u001b[38;5;124m¡Caracter inválido!\u001b[39m\u001b[38;5;124m\"\u001b[39m)\n\u001b[1;32m    152\u001b[0m \u001b[38;5;28;01mreturn\u001b[39;00m \u001b[38;5;124m'\u001b[39m\u001b[38;5;124m'\u001b[39m\u001b[38;5;241m.\u001b[39mjoin(vis)\n",
            "\u001b[0;31mTypeError\u001b[0m: exceptions must derive from BaseException"
          ],
          "output_type": "error"
        }
      ]
    },
    {
      "cell_type": "code",
      "source": "# Regla 5:    Solo puede haber un O en R en un turno T. \n\nfor t in T:\n    for x in X:\n        for n in range(2):\n            formula1 = ''\n            inicial = True\n            if inicial:\n                formula1 = OenP.P([x, t, n])\n                inicial = False\n            else:\n                formula1 = \"(\" + formula1 + \"O\" + OenP.P([x, t, n]) + \")\"\n            if n == 0:\n                formula1 = \"(\" + OenP.P([x,t,1]) + \">-\" + formula1 + \")\"\n                print(visualizar_formula(formula1, OenP))\n                print(\" \")\n            elif n == 1:\n                formula1 = \"(\" + OenP.P([x,t,0]) + \">-\" + formula1 + \")\"\n                print(visualizar_formula(formula1, OenP))\n                print(\" \")",
      "metadata": {
        "trusted": true
      },
      "execution_count": 20,
      "outputs": [
        {
          "name": "stdout",
          "text": "( Gallina está en la casilla (0) en el tiempo 1 >  no  Gallina está en la casilla (0) en el tiempo 0)\n \n( Gallina está en la casilla (0) en el tiempo 0 >  no  Gallina está en la casilla (0) en el tiempo 1)\n \n( Zorro está en la casilla (0) en el tiempo 1 >  no  Zorro está en la casilla (0) en el tiempo 0)\n \n( Zorro está en la casilla (0) en el tiempo 0 >  no  Zorro está en la casilla (0) en el tiempo 1)\n \n( Maiz está en la casilla (0) en el tiempo 1 >  no  Maiz está en la casilla (0) en el tiempo 0)\n \n( Maiz está en la casilla (0) en el tiempo 0 >  no  Maiz está en la casilla (0) en el tiempo 1)\n \n",
          "output_type": "stream"
        },
        {
          "ename": "<class 'AssertionError'>",
          "evalue": "El valor debe ser menor o igual a 3",
          "traceback": [
            "\u001b[0;31m---------------------------------------------------------------------------\u001b[0m",
            "\u001b[0;31mAssertionError\u001b[0m                            Traceback (most recent call last)",
            "Cell \u001b[0;32mIn[20], line 9\u001b[0m\n\u001b[1;32m      7\u001b[0m inicial \u001b[38;5;241m=\u001b[39m \u001b[38;5;28;01mTrue\u001b[39;00m\n\u001b[1;32m      8\u001b[0m \u001b[38;5;28;01mif\u001b[39;00m inicial:\n\u001b[0;32m----> 9\u001b[0m     formula1 \u001b[38;5;241m=\u001b[39m \u001b[43mOenP\u001b[49m\u001b[38;5;241;43m.\u001b[39;49m\u001b[43mP\u001b[49m\u001b[43m(\u001b[49m\u001b[43m[\u001b[49m\u001b[43mx\u001b[49m\u001b[43m,\u001b[49m\u001b[43m \u001b[49m\u001b[43mt\u001b[49m\u001b[43m,\u001b[49m\u001b[43m \u001b[49m\u001b[43mn\u001b[49m\u001b[43m]\u001b[49m\u001b[43m)\u001b[49m\n\u001b[1;32m     10\u001b[0m     inicial \u001b[38;5;241m=\u001b[39m \u001b[38;5;28;01mFalse\u001b[39;00m\n\u001b[1;32m     11\u001b[0m \u001b[38;5;28;01melse\u001b[39;00m:\n",
            "Cell \u001b[0;32mIn[2], line 126\u001b[0m, in \u001b[0;36mDescriptor.P\u001b[0;34m(self, lista_valores)\u001b[0m\n\u001b[1;32m    125\u001b[0m \u001b[38;5;28;01mdef\u001b[39;00m \u001b[38;5;21mP\u001b[39m(\u001b[38;5;28mself\u001b[39m,lista_valores) :\n\u001b[0;32m--> 126\u001b[0m     codigo \u001b[38;5;241m=\u001b[39m \u001b[38;5;28;43mself\u001b[39;49m\u001b[38;5;241;43m.\u001b[39;49m\u001b[43mcodifica\u001b[49m\u001b[43m(\u001b[49m\u001b[43mlista_valores\u001b[49m\u001b[43m)\u001b[49m\n\u001b[1;32m    127\u001b[0m     \u001b[38;5;28;01mreturn\u001b[39;00m \u001b[38;5;28mchr\u001b[39m(\u001b[38;5;28mself\u001b[39m\u001b[38;5;241m.\u001b[39mchrInit\u001b[38;5;241m+\u001b[39mcodigo)\n",
            "Cell \u001b[0;32mIn[2], line 103\u001b[0m, in \u001b[0;36mDescriptor.codifica\u001b[0;34m(self, lista_valores)\u001b[0m\n\u001b[1;32m    102\u001b[0m \u001b[38;5;28;01mdef\u001b[39;00m \u001b[38;5;21mcodifica\u001b[39m(\u001b[38;5;28mself\u001b[39m,lista_valores) :\n\u001b[0;32m--> 103\u001b[0m     \u001b[38;5;28;43mself\u001b[39;49m\u001b[38;5;241;43m.\u001b[39;49m\u001b[43mcheck_lista_valores\u001b[49m\u001b[43m(\u001b[49m\u001b[43mlista_valores\u001b[49m\u001b[43m)\u001b[49m\n\u001b[1;32m    104\u001b[0m     cod \u001b[38;5;241m=\u001b[39m lista_valores[\u001b[38;5;241m0\u001b[39m]\n\u001b[1;32m    105\u001b[0m     n_columnas \u001b[38;5;241m=\u001b[39m \u001b[38;5;241m1\u001b[39m\n",
            "Cell \u001b[0;32mIn[2], line 100\u001b[0m, in \u001b[0;36mDescriptor.check_lista_valores\u001b[0;34m(self, lista_valores)\u001b[0m\n\u001b[1;32m     98\u001b[0m \u001b[38;5;28;01massert\u001b[39;00m \u001b[38;5;28misinstance\u001b[39m(v, \u001b[38;5;28mint\u001b[39m), \u001b[38;5;124m\"\u001b[39m\u001b[38;5;124mLos valores deben ser enteros\u001b[39m\u001b[38;5;124m\"\u001b[39m\n\u001b[1;32m     99\u001b[0m \u001b[38;5;28;01massert\u001b[39;00m v \u001b[38;5;241m>\u001b[39m\u001b[38;5;241m=\u001b[39m \u001b[38;5;241m0\u001b[39m, \u001b[38;5;124m\"\u001b[39m\u001b[38;5;124mLos valores deben ser no negativos\u001b[39m\u001b[38;5;124m\"\u001b[39m\n\u001b[0;32m--> 100\u001b[0m \u001b[38;5;28;01massert\u001b[39;00m v \u001b[38;5;241m<\u001b[39m \u001b[38;5;28mself\u001b[39m\u001b[38;5;241m.\u001b[39margs_lista[i], \u001b[38;5;124mf\u001b[39m\u001b[38;5;124m\"\u001b[39m\u001b[38;5;124mEl valor debe ser menor o igual a \u001b[39m\u001b[38;5;132;01m{\u001b[39;00m\u001b[38;5;28mself\u001b[39m\u001b[38;5;241m.\u001b[39margs_lista[i]\u001b[38;5;132;01m}\u001b[39;00m\u001b[38;5;124m\"\u001b[39m\n",
            "\u001b[0;31mAssertionError\u001b[0m: El valor debe ser menor o igual a 3"
          ],
          "output_type": "error"
        }
      ]
    },
    {
      "cell_type": "code",
      "source": "# Regla 6:       Ningún O puede estar más de un turno en R. ",
      "metadata": {},
      "execution_count": null,
      "outputs": []
    },
    {
      "cell_type": "code",
      "source": "# Regla 7:          Todo objeto que cambia de orilla debe pasar por el río. ",
      "metadata": {},
      "execution_count": null,
      "outputs": []
    },
    {
      "cell_type": "code",
      "source": "# Regla 9:           T no puede superar a 9. ",
      "metadata": {},
      "execution_count": null,
      "outputs": []
    },
    {
      "cell_type": "code",
      "source": "numeros = {0: \"Gallina\", 1: \"Zorro\", 2: \"Maiz\"}\nY = range(3)  # Número de filas\nX = range(1)  # Número de columnas\n\nclass OenCasilla:\n    def __init__(self, Nx, Ny, Nf):\n        self.Nx = Nx\n        self.Ny = Ny\n        self.Nf = Nf\n    \n    def P(self, lista_valores):\n        assert len(lista_valores) == 3, \"La lista de valores debe contener exactamente tres elementos\"\n        x, y, f = lista_valores\n        assert 0 <= x < self.Nx, \"Valor de x fuera de rango\"\n        assert 0 <= y < self.Ny, \"Valor de y fuera de rango\"\n        assert 0 <= f < self.Nf, \"Valor de f fuera de rango\"\n        return f\"{numeros[f]} está en la casilla ({x}, {y})\"\n\nOenCasilla = OenCasilla(len(X), len(Y), len(numeros))\n\nfor f in numeros:\n    for y in Y:\n        for x in X:\n            casilla = (x, y)\n            otras_casillas = [(i, j) for i in X for j in Y if (i, j) != casilla]\n            n = numeros[f]\n            formula1 = ''\n            inicial = True\n            for casilla in otras_casillas:\n                u, v = casilla\n                if inicial:\n                    formula1 = OenCasilla.P([u, v, f])\n                    inicial = False\n                else:\n                    formula1 = \"(\" + formula1 + \"O\" + OenCasilla.P([u, v, f]) + \")\"\n            \n            formula1 = \"(\" + OenCasilla.P([x, y, f]) + \"> -\" + formula1 + \")\"\n            print(formula1)\n            print(\" \")",
      "metadata": {
        "trusted": true
      },
      "execution_count": 21,
      "outputs": [
        {
          "name": "stdout",
          "text": "(Gallina está en la casilla (0, 0)> -(Gallina está en la casilla (0, 1)OGallina está en la casilla (0, 2)))\n \n(Gallina está en la casilla (0, 1)> -(Gallina está en la casilla (0, 0)OGallina está en la casilla (0, 2)))\n \n(Gallina está en la casilla (0, 2)> -(Gallina está en la casilla (0, 0)OGallina está en la casilla (0, 1)))\n \n(Zorro está en la casilla (0, 0)> -(Zorro está en la casilla (0, 1)OZorro está en la casilla (0, 2)))\n \n(Zorro está en la casilla (0, 1)> -(Zorro está en la casilla (0, 0)OZorro está en la casilla (0, 2)))\n \n(Zorro está en la casilla (0, 2)> -(Zorro está en la casilla (0, 0)OZorro está en la casilla (0, 1)))\n \n(Maiz está en la casilla (0, 0)> -(Maiz está en la casilla (0, 1)OMaiz está en la casilla (0, 2)))\n \n(Maiz está en la casilla (0, 1)> -(Maiz está en la casilla (0, 0)OMaiz está en la casilla (0, 2)))\n \n(Maiz está en la casilla (0, 2)> -(Maiz está en la casilla (0, 0)OMaiz está en la casilla (0, 1)))\n \n",
          "output_type": "stream"
        }
      ]
    },
    {
      "cell_type": "code",
      "source": "",
      "metadata": {},
      "execution_count": null,
      "outputs": []
    },
    {
      "cell_type": "markdown",
      "source": "",
      "metadata": {}
    },
    {
      "cell_type": "code",
      "source": "",
      "metadata": {},
      "execution_count": null,
      "outputs": []
    },
    {
      "cell_type": "code",
      "source": "",
      "metadata": {},
      "execution_count": null,
      "outputs": []
    },
    {
      "cell_type": "code",
      "source": "",
      "metadata": {},
      "execution_count": null,
      "outputs": []
    },
    {
      "cell_type": "code",
      "source": "",
      "metadata": {},
      "execution_count": null,
      "outputs": []
    },
    {
      "cell_type": "code",
      "source": "",
      "metadata": {},
      "execution_count": null,
      "outputs": []
    }
  ]
}