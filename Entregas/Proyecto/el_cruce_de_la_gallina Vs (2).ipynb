{
  "metadata": {
    "kernelspec": {
      "name": "python",
      "display_name": "Python (Pyodide)",
      "language": "python"
    },
    "language_info": {
      "codemirror_mode": {
        "name": "python",
        "version": 3
      },
      "file_extension": ".py",
      "mimetype": "text/x-python",
      "name": "python",
      "nbconvert_exporter": "python",
      "pygments_lexer": "ipython3",
      "version": "3.8"
    }
  },
  "nbformat_minor": 4,
  "nbformat": 4,
  "cells": [
    {
      "cell_type": "markdown",
      "source": "<table>\n    <tr>\n        <td><img src=\"./img/Macc.png\" width=\"auto\"/></td>\n        <td>\n            <table><tr>\n            <h1 style=\"color:blue;text-align:center\">Lógica para Ciencias de la Computación</h1></td>\n            </tr></table>   \n        <td>&nbsp;</td>\n        <td>\n            <table><tr>\n            <tp><p style=\"font-size:200%;text-align:center\">El Cruce de la gallina</p></tp>\n            <tp><p style=\"font-size:150%;text-align:center\">Grupo 06</p></tp>\n            <tp><p style=\"font-size:100%;text-align:center\">Juliana Contreras, Santiago Jorigua, Simón Vélez</p></tp>\n            <tp><p style=\"font-size:100%;text-align:center\">Universidad del Rosario</p></tp>\n            <tp><p style=\"font-size:100%;text-align:center\">2023</p></tp>\n            </tr></table>\n        </td>\n    </tr>\n</table>\n\n---",
      "metadata": {}
    },
    {
      "cell_type": "code",
      "source": "import matplotlib.pyplot as plt\nimport numpy as np\nimport matplotlib.patches as patches\nfrom matplotlib.offsetbox import OffsetImage, AnnotationBbox\nfrom itertools import combinations, product\nfrom types import MethodType\nfrom Logica import *",
      "metadata": {
        "trusted": true
      },
      "execution_count": 5,
      "outputs": []
    },
    {
      "cell_type": "code",
      "source": "from Problemas import Cruce\nfrom Logica import *",
      "metadata": {
        "trusted": true
      },
      "execution_count": 6,
      "outputs": []
    },
    {
      "cell_type": "code",
      "source": "c = Cruce()",
      "metadata": {
        "trusted": true
      },
      "execution_count": 7,
      "outputs": []
    },
    {
      "cell_type": "code",
      "source": "c.reglas",
      "metadata": {
        "trusted": true
      },
      "execution_count": 8,
      "outputs": [
        {
          "execution_count": 8,
          "output_type": "execute_result",
          "data": {
            "text/plain": "['((Ā)Y(ā)Y(Ă))',\n ['(Ă>-Ġ)',\n  '(Ġ>-Ă)',\n  '(ą>-ģ)',\n  '(ģ>-ą)',\n  '(Ĉ>-Ħ)',\n  '(Ħ>-Ĉ)',\n  '(ċ>-ĩ)',\n  '(ĩ>-ċ)',\n  '(Ď>-Ĭ)',\n  '(Ĭ>-Ď)',\n  '(đ>-į)',\n  '(į>-đ)',\n  '(Ĕ>-Ĳ)',\n  '(Ĳ>-Ĕ)',\n  '(ė>-ĵ)',\n  '(ĵ>-ė)',\n  '(Ě>-ĸ)',\n  '(ĸ>-Ě)',\n  '(ĝ>-Ļ)',\n  '(Ļ>-ĝ)'],\n ['(Ă>-ľ)',\n  '(ľ>-Ă)',\n  '(ą>-Ł)',\n  '(Ł>-ą)',\n  '(Ĉ>-ń)',\n  '(ń>-Ĉ)',\n  '(ċ>-Ň)',\n  '(Ň>-ċ)',\n  '(Ď>-Ŋ)',\n  '(Ŋ>-Ď)',\n  '(đ>-ō)',\n  '(ō>-đ)',\n  '(Ĕ>-Ő)',\n  '(Ő>-Ĕ)',\n  '(ė>-œ)',\n  '(œ>-ė)',\n  '(Ě>-Ŗ)',\n  '(Ŗ>-Ě)',\n  '(ĝ>-ř)',\n  '(ř>-ĝ)'],\n ['(Ă>-(āOĂ))',\n  '(Ă>-(ĀOĂ))',\n  '(ā>-(ĀOā))',\n  '(ą>-(ĄOą))',\n  '(ą>-(ăOą))',\n  '(Ą>-(ăOĄ))',\n  '(Ĉ>-(ćOĈ))',\n  '(Ĉ>-(ĆOĈ))',\n  '(ć>-(ĆOć))',\n  '(ċ>-(ĊOċ))',\n  '(ċ>-(ĉOċ))',\n  '(Ċ>-(ĉOĊ))',\n  '(Ď>-(čOĎ))',\n  '(Ď>-(ČOĎ))',\n  '(č>-(ČOč))',\n  '(đ>-(ĐOđ))',\n  '(đ>-(ďOđ))',\n  '(Đ>-(ďOĐ))',\n  '(Ĕ>-(ēOĔ))',\n  '(Ĕ>-(ĒOĔ))',\n  '(ē>-(ĒOē))',\n  '(ė>-(ĖOė))',\n  '(ė>-(ĕOė))',\n  '(Ė>-(ĕOĖ))',\n  '(Ě>-(ęOĚ))',\n  '(Ě>-(ĘOĚ))',\n  '(ę>-(ĘOę))',\n  '(ĝ>-(ĜOĝ))',\n  '(ĝ>-(ěOĝ))',\n  '(Ĝ>-(ěOĜ))',\n  '(Ġ>-(ğOĠ))',\n  '(Ġ>-(ĞOĠ))',\n  '(ğ>-(ĞOğ))',\n  '(ģ>-(ĢOģ))',\n  '(ģ>-(ġOģ))',\n  '(Ģ>-(ġOĢ))',\n  '(Ħ>-(ĥOĦ))',\n  '(Ħ>-(ĤOĦ))',\n  '(ĥ>-(ĤOĥ))',\n  '(ĩ>-(ĨOĩ))',\n  '(ĩ>-(ħOĩ))',\n  '(Ĩ>-(ħOĨ))',\n  '(Ĭ>-(īOĬ))',\n  '(Ĭ>-(ĪOĬ))',\n  '(ī>-(ĪOī))',\n  '(į>-(ĮOį))',\n  '(į>-(ĭOį))',\n  '(Į>-(ĭOĮ))',\n  '(Ĳ>-(ıOĲ))',\n  '(Ĳ>-(İOĲ))',\n  '(ı>-(İOı))',\n  '(ĵ>-(ĴOĵ))',\n  '(ĵ>-(ĳOĵ))',\n  '(Ĵ>-(ĳOĴ))',\n  '(ĸ>-(ķOĸ))',\n  '(ĸ>-(ĶOĸ))',\n  '(ķ>-(ĶOķ))',\n  '(Ļ>-(ĺOĻ))',\n  '(Ļ>-(ĹOĻ))',\n  '(ĺ>-(ĹOĺ))',\n  '(ľ>-(ĽOľ))',\n  '(ľ>-(ļOľ))',\n  '(Ľ>-(ļOĽ))',\n  '(Ł>-(ŀOŁ))',\n  '(Ł>-(ĿOŁ))',\n  '(ŀ>-(ĿOŀ))',\n  '(ń>-(ŃOń))',\n  '(ń>-(łOń))',\n  '(Ń>-(łOŃ))',\n  '(Ň>-(ņOŇ))',\n  '(Ň>-(ŅOŇ))',\n  '(ņ>-(ŅOņ))',\n  '(Ŋ>-(ŉOŊ))',\n  '(Ŋ>-(ňOŊ))',\n  '(ŉ>-(ňOŉ))',\n  '(ō>-(ŌOō))',\n  '(ō>-(ŋOō))',\n  '(Ō>-(ŋOŌ))',\n  '(Ő>-(ŏOŐ))',\n  '(Ő>-(ŎOŐ))',\n  '(ŏ>-(ŎOŏ))',\n  '(œ>-(ŒOœ))',\n  '(œ>-(őOœ))',\n  '(Œ>-(őOŒ))',\n  '(Ŗ>-(ŕOŖ))',\n  '(Ŗ>-(ŔOŖ))',\n  '(ŕ>-(ŔOŕ))',\n  '(ř>-(ŘOř))',\n  '(ř>-(ŗOř))',\n  '(Ř>-(ŗOŘ))'],\n ['((((((((ĀOĀ)>ą)Oā)Oā)>ą)OĂ)OĂ)>Ą)',\n  '((((((((ĞOĞ)>ģ)Oğ)Oğ)>ģ)OĠ)OĠ)>Ģ)',\n  '((((((((ļOļ)>Ł)OĽ)OĽ)>Ł)Oľ)Oľ)>ŀ)',\n  '((((((((ăOă)>Ĉ)OĄ)OĄ)>Ĉ)Oą)Oą)>ć)',\n  '((((((((ġOġ)>Ħ)OĢ)OĢ)>Ħ)Oģ)Oģ)>ĥ)',\n  '((((((((ĿOĿ)>ń)Oŀ)Oŀ)>ń)OŁ)OŁ)>Ń)',\n  '((((((((ĆOĆ)>ċ)Oć)Oć)>ċ)OĈ)OĈ)>Ċ)',\n  '((((((((ĤOĤ)>ĩ)Oĥ)Oĥ)>ĩ)OĦ)OĦ)>Ĩ)',\n  '((((((((łOł)>Ň)OŃ)OŃ)>Ň)Oń)Oń)>ņ)',\n  '((((((((ĉOĉ)>Ď)OĊ)OĊ)>Ď)Oċ)Oċ)>č)',\n  '((((((((ħOħ)>Ĭ)OĨ)OĨ)>Ĭ)Oĩ)Oĩ)>ī)',\n  '((((((((ŅOŅ)>Ŋ)Oņ)Oņ)>Ŋ)OŇ)OŇ)>ŉ)',\n  '((((((((ČOČ)>đ)Oč)Oč)>đ)OĎ)OĎ)>Đ)',\n  '((((((((ĪOĪ)>į)Oī)Oī)>į)OĬ)OĬ)>Į)',\n  '((((((((ňOň)>ō)Oŉ)Oŉ)>ō)OŊ)OŊ)>Ō)',\n  '((((((((ďOď)>Ĕ)OĐ)OĐ)>Ĕ)Ođ)Ođ)>ē)',\n  '((((((((ĭOĭ)>Ĳ)OĮ)OĮ)>Ĳ)Oį)Oį)>ı)',\n  '((((((((ŋOŋ)>Ő)OŌ)OŌ)>Ő)Oō)Oō)>ŏ)',\n  '((((((((ĒOĒ)>ė)Oē)Oē)>ė)OĔ)OĔ)>Ė)',\n  '((((((((İOİ)>ĵ)Oı)Oı)>ĵ)OĲ)OĲ)>Ĵ)',\n  '((((((((ŎOŎ)>œ)Oŏ)Oŏ)>œ)OŐ)OŐ)>Œ)',\n  '((((((((ĕOĕ)>Ě)OĖ)OĖ)>Ě)Oė)Oė)>ę)',\n  '((((((((ĳOĳ)>ĸ)OĴ)OĴ)>ĸ)Oĵ)Oĵ)>ķ)',\n  '((((((((őOő)>Ŗ)OŒ)OŒ)>Ŗ)Oœ)Oœ)>ŕ)',\n  '((((((((ĘOĘ)>ĝ)Oę)Oę)>ĝ)OĚ)OĚ)>Ĝ)',\n  '((((((((ĶOĶ)>Ļ)Oķ)Oķ)>Ļ)Oĸ)Oĸ)>ĺ)',\n  '((((((((ŔOŔ)>ř)Oŕ)Oŕ)>ř)OŖ)OŖ)>Ř)'],\n ['(ā>-(ğYĽ))',\n  '(ğ>-(āYĽ))',\n  '(Ľ>-(āYğ))',\n  '(Ą>-(ĢYŀ))',\n  '(Ģ>-(ĄYŀ))',\n  '(ŀ>-(ĄYĢ))',\n  '(ć>-(ĥYŃ))',\n  '(ĥ>-(ćYŃ))',\n  '(Ń>-(ćYĥ))',\n  '(Ċ>-(ĨYņ))',\n  '(Ĩ>-(ĊYņ))',\n  '(ņ>-(ĊYĨ))',\n  '(č>-(īYŉ))',\n  '(ī>-(čYŉ))',\n  '(ŉ>-(čYī))',\n  '(Đ>-(ĮYŌ))',\n  '(Į>-(ĐYŌ))',\n  '(Ō>-(ĐYĮ))',\n  '(ē>-(ıYŏ))',\n  '(ı>-(ēYŏ))',\n  '(ŏ>-(ēYı))',\n  '(Ė>-(ĴYŒ))',\n  '(Ĵ>-(ĖYŒ))',\n  '(Œ>-(ĖYĴ))',\n  '(ę>-(ķYŕ))',\n  '(ķ>-(ęYŕ))',\n  '(ŕ>-(ęYķ))',\n  '(Ĝ>-(ĺYŘ))',\n  '(ĺ>-(ĜYŘ))',\n  '(Ř>-(ĜYĺ))'],\n ['(ā>-Ą)',\n  '(Ą>-ć)',\n  '(ć>-Ċ)',\n  '(Ċ>-č)',\n  '(č>-Đ)',\n  '(Đ>-ē)',\n  '(ē>-Ė)',\n  '(Ė>-ę)',\n  '(ę>-Ĝ)',\n  '(ğ>-Ģ)',\n  '(Ģ>-ĥ)',\n  '(ĥ>-Ĩ)',\n  '(Ĩ>-ī)',\n  '(ī>-Į)',\n  '(Į>-ı)',\n  '(ı>-Ĵ)',\n  '(Ĵ>-ķ)',\n  '(ķ>-ĺ)',\n  '(Ľ>-ŀ)',\n  '(ŀ>-Ń)',\n  '(Ń>-ņ)',\n  '(ņ>-ŉ)',\n  '(ŉ>-Ō)',\n  '(Ō>-ŏ)',\n  '(ŏ>-Œ)',\n  '(Œ>-ŕ)',\n  '(ŕ>-Ř)']]"
          },
          "metadata": {}
        }
      ]
    },
    {
      "cell_type": "code",
      "source": "c.OenP.escribir('Ř')",
      "metadata": {
        "trusted": true
      },
      "execution_count": 9,
      "outputs": [
        {
          "execution_count": 9,
          "output_type": "execute_result",
          "data": {
            "text/plain": "' Maiz está en la casilla (1) en el tiempo 9'"
          },
          "metadata": {}
        }
      ]
    },
    {
      "cell_type": "code",
      "source": "print(c.reglas[6])",
      "metadata": {
        "trusted": true
      },
      "execution_count": 10,
      "outputs": [
        {
          "name": "stdout",
          "text": "['(ā>-Ą)', '(Ą>-ć)', '(ć>-Ċ)', '(Ċ>-č)', '(č>-Đ)', '(Đ>-ē)', '(ē>-Ė)', '(Ė>-ę)', '(ę>-Ĝ)', '(ğ>-Ģ)', '(Ģ>-ĥ)', '(ĥ>-Ĩ)', '(Ĩ>-ī)', '(ī>-Į)', '(Į>-ı)', '(ı>-Ĵ)', '(Ĵ>-ķ)', '(ķ>-ĺ)', '(Ľ>-ŀ)', '(ŀ>-Ń)', '(Ń>-ņ)', '(ņ>-ŉ)', '(ŉ>-Ō)', '(Ō>-ŏ)', '(ŏ>-Œ)', '(Œ>-ŕ)', '(ŕ>-Ř)']\n",
          "output_type": "stream"
        }
      ]
    },
    {
      "cell_type": "code",
      "source": "A = inorder_to_tree(c.reglas[1])\nprint(A.visualizar_formulas(c.OenP))",
      "metadata": {
        "trusted": true
      },
      "execution_count": 11,
      "outputs": [
        {
          "ename": "<class 'Exception'>",
          "evalue": "¡Cadena inválida!",
          "traceback": [
            "\u001b[0;31m---------------------------------------------------------------------------\u001b[0m",
            "\u001b[0;31mException\u001b[0m                                 Traceback (most recent call last)",
            "Cell \u001b[0;32mIn[11], line 1\u001b[0m\n\u001b[0;32m----> 1\u001b[0m A \u001b[38;5;241m=\u001b[39m \u001b[43minorder_to_tree\u001b[49m\u001b[43m(\u001b[49m\u001b[43mc\u001b[49m\u001b[38;5;241;43m.\u001b[39;49m\u001b[43mreglas\u001b[49m\u001b[43m[\u001b[49m\u001b[38;5;241;43m1\u001b[39;49m\u001b[43m]\u001b[49m\u001b[43m)\u001b[49m\n\u001b[1;32m      2\u001b[0m \u001b[38;5;28mprint\u001b[39m(A\u001b[38;5;241m.\u001b[39mvisualizar_formulas(c\u001b[38;5;241m.\u001b[39mOenP))\n",
            "File \u001b[0;32m/drive/notebooks/prueba/Logica.py:159\u001b[0m, in \u001b[0;36minorder_to_tree\u001b[0;34m(cadena)\u001b[0m\n\u001b[1;32m    157\u001b[0m             \u001b[38;5;28;01mreturn\u001b[39;00m Binario(cadena[i], inorder_to_tree(cadena[\u001b[38;5;241m1\u001b[39m:i]),inorder_to_tree(cadena[i \u001b[38;5;241m+\u001b[39m \u001b[38;5;241m1\u001b[39m:\u001b[38;5;241m-\u001b[39m\u001b[38;5;241m1\u001b[39m]))\n\u001b[1;32m    158\u001b[0m \u001b[38;5;28;01melse\u001b[39;00m:\n\u001b[0;32m--> 159\u001b[0m     \u001b[38;5;28;01mraise\u001b[39;00m \u001b[38;5;167;01mException\u001b[39;00m(\u001b[38;5;124m'\u001b[39m\u001b[38;5;124m¡Cadena inválida!\u001b[39m\u001b[38;5;124m'\u001b[39m)\n",
            "\u001b[0;31mException\u001b[0m: ¡Cadena inválida!"
          ],
          "output_type": "error"
        }
      ]
    },
    {
      "cell_type": "code",
      "source": "",
      "metadata": {},
      "execution_count": null,
      "outputs": []
    },
    {
      "cell_type": "code",
      "source": "# Clase principal del proyecto, con todas sus reglas\nfrom Logica import *\nclass Cruce: \n    def __init__(self):\n        self.Descri = Descriptor([Nx, Nt, Nn])\n        self.Descri.escribir = MethodType(escribir, Descri)\n        r0 = self.r0()\n        r1 = self.r1()\n        r2 = self.r2()\n        r3 = self.r3()\n        r4 = self.r4()\n        r5 = self.r5()\n        r6 = self.r6()\n        self.reglas = [r0,r1, r2, r3, r4, r5, r6]\n        \n\n        \n    def escribir(self, literal):\n        if '-' in literal:\n            atomo = literal[1:]\n            neg = ' no'\n        else:\n            atomo = literal\n            neg = ''\n        x, n, t  = self.inv(atomo)\n        return f\" {Objetos[n]}{neg} está en la casilla ({X[x]}) en el tiempo {T[t]}\"\n\n        from types import MethodType\n\n        OenP.escribir = MethodType(escribir, OenP)\n        \n    def inv(self,codigo) :\n        n = ord(codigo)-self.chrInit\n        return self.decodifica(n)\n        \n        \n    def visualizar(self, I):\n        fig, axes = plt.subplots(figsize=(48,24))\n        axes.get_xaxis().set_visible(False)\n        axes.get_yaxis().set_visible(False)\n\n        step = 1. / 10\n        tangulos = []\n        direcciones = {}\n\n        for i in range(3):\n            for j in range(10):\n                color = 'lightgreen' if i == 0 or i == 2 else 'lightskyblue'\n                tangulos.append(patches.Rectangle(*[(i * step, j * step), step, step], facecolor=color))\n                direcciones[(i, j)] = [i * step + step / 2, 1 - j * step - step / 2]\n\n        for i in range(10):\n            locacion = i * step\n            tangulos.append(patches.Rectangle(*[(0, locacion), 3 * step, 0.005], facecolor='black'))\n            tangulos.append(patches.Rectangle(*[(i * step, 0), 0.005, 1], facecolor='black'))\n\n        for t in tangulos:\n            axes.add_patch(t)\n\n        arr_gallina = plt.imread(\"./img/gallina.png\", format='png')\n        arr_fox = plt.imread(\"./img/zorro.png\", format='png')\n        arr_corn = plt.imread(\"./img/maiz.png\", format='png')\n\n        imagebox_gallina = OffsetImage(arr_gallina, zoom=0.3)\n        imagebox_fox = OffsetImage(arr_fox, zoom=0.3)\n        imagebox_corn = OffsetImage(arr_corn, zoom=0.3)\n\n        imagebox_gallina.image.axes = axes\n        imagebox_fox.image.axes = axes\n        imagebox_corn.image.axes = axes\n\n        for l in I:\n            if I[l]:\n                x, objeto, tiempo = self.OenP.inv(l)\n                if tiempo == 0:\n                    ab_gallina = AnnotationBbox(imagebox_gallina, direcciones[(x, objeto)], frameon=False)\n                    axes.add_artist(ab_gallina)\n                elif tiempo == 1:\n                    ab_fox = AnnotationBbox(imagebox_fox, [direcciones[(x, objeto)][0] - step / 4, direcciones[(x, objeto)][1]], frameon=False)\n                    axes.add_artist(ab_fox)\n                elif tiempo == 2:\n                    ab_corn = AnnotationBbox(imagebox_corn, [direcciones[(x, objeto)][0] + step / 4, direcciones[(x, objeto)][1]], frameon=False)\n                    axes.add_artist(ab_corn)\n\n        axes.set_xlim(-step / 2, 3 * step + step / 2)\n        axes.set_ylim(-step / 2, 1 + step / 2)\n        axes.set_aspect('equal', 'box') \n        plt.show()\n    \n    def visualizar_formula(A,D):\n        '''\n        Visualiza una fórmula A (como string en notación inorder) usando el descriptor D\n        '''\n        vis = []\n        for c in A:\n            if c == '-':\n                vis.append(' no ')\n            elif c in ['(', ')']:\n                vis.append(c)\n            elif c in ['>', 'Y', 'O']:\n                vis.append(' ' + c + ' ')\n            elif c == '=':\n                vis.append(' sii ')\n            else:\n                try:\n                    vis.append(D.escribir(c))\n                except:\n                    raise(\"¡Caracter inválido!\")\n        return ''.join(vis)\n\n    def visualizar_regla(self, regla_result):\n        for formula in regla_result.formulas:\n            print(self.visualizar_formula(formula,OenP))\n            print(\" \")\n            \n    def r0(self):\n        formula1 = '(' +'('+ OenP.P([0, 0, 0]) + ')'+'Y' '('+ OenP.P([1, 0, 0]) + ')' + 'Y' + '(' + OenP.P([2, 0, 0]) + ')' + ')' \n        return formula1\n    \n    def r1(self):\n    # Regla 1; La gallina no puede quedar a solas con el maíz (estar en la misma casilla en un turno T sin el zorro).\n        formulas = []\n        for t in T:\n            for objeto in Objetos:\n                formula1 = ''  # Mueve la inicialización fuera del bucle X\n                inicial = True\n                for x in X:\n                    if inicial:\n                        formula1 = OenP.P([x, t, objeto_a_numero[objeto]])\n                        inicial = False\n                    else:\n                        formula1 = \"(\" + formula1 + \"O\" + OenP.P([x, t, objeto_a_numero[objeto]]) + \")\"\n\n                if objeto == 'Zorro':\n                    formula1 = \"(\" + OenP.P([x, t, objeto_a_numero[objeto]]) + \">-\" + OenP.P([x, t, objeto_a_numero['Gallina']]) + \")\"\n                    formulas.append(formula1)\n                elif objeto == 'Gallina':\n                    formula1 = \"(\" + OenP.P([x, t, objeto_a_numero[objeto]]) + \">-\" + OenP.P([x, t, objeto_a_numero['Zorro']]) + \")\"\n                    formulas.append(formula1)\n\n        return formulas\n\n\n\n\n    def r2(self):\n        # Regla 2; La gallina no puede quedar a solas con el maíz (estar en la misma casilla en un turno T sin el zorro).\n        formulas = []\n        for t in T:\n            for objeto in Objetos:\n                formula1 = ''  # Mueve la inicialización fuera del bucle X\n                inicial = True\n                for x in X:\n                    if inicial:\n                        formula1 = OenP.P([x, t, objeto_a_numero[objeto]])\n                        inicial = False\n                    else:\n                        formula1 = \"(\" + formula1 + \"O\" + OenP.P([x, t, objeto_a_numero[objeto]]) + \")\"\n\n                if objeto == 'Gallina':\n                    formula1 = \"(\" + OenP.P([x, t, objeto_a_numero[objeto]]) + \">-\" + OenP.P([x, t, objeto_a_numero['Maiz']]) + \")\"\n                    formulas.append(formula1)\n                elif objeto == 'Maiz':\n                    formula1 = \"(\" + OenP.P([x, t, objeto_a_numero[objeto]]) + \">-\" + OenP.P([x, t, objeto_a_numero['Gallina']]) + \")\"\n                    formulas.append(formula1)\n\n        return formulas\n\n    def r3(self):\n        # Regla 3; Cada O solo puede estar en un lugar a la vez. \n        formulas = []\n        for objeto in Objetos:\n            for tiempo in T:\n                for casilla in X:\n                    otras_casillas = [otra_casilla for otra_casilla in X if otra_casilla != casilla]\n                    formula_regla = ''\n                    inicial = True\n                    for otra_casilla in otras_casillas:\n                        if inicial:\n                            formula_regla = OenP.P([otra_casilla,tiempo, objeto_a_numero[objeto]])\n                            inicial = False\n                        else:\n                            formula_regla = \"(\" + formula_regla + \"O\" + OenP.P([otra_casilla,tiempo, objeto_a_numero[objeto]]) + \")\"\n\n                    formula_regla = \"(\" + OenP.P([otra_casilla,tiempo, objeto_a_numero[objeto]]) + \">-\" + formula_regla + \")\"\n                    formulas.append(formula_regla)\n\n        return formulas\n\n\n    def r4(self):\n        # Regla 4: En cada T, debe haber un cambio de posición para algún O.\n        formulas = []\n        for t in range(len(T) - 1):\n            for objeto in Objetos:\n                formula4 = ''  # Inicialización dentro del bucle X\n                inicial = True\n                for x in X:\n                    otras_casillas = [otra_casilla for otra_casilla in X if otra_casilla != x]\n                    for otra_casilla in otras_casillas:\n                        if inicial:\n                            formula4 = OenP.P([x, t, objeto_a_numero[objeto]])\n                            inicial = False\n                        else:\n                            formula4 = \"(\" + formula4 + \"O\" + OenP.P([x, t, objeto_a_numero[objeto]]) + \")\"\n\n                    formula4 = \"(\" + formula4 + \">\" + OenP.P([otra_casilla, max(0, t + 1),objeto_a_numero[objeto]]) + \")\"\n\n                formulas.append(formula4)\n\n        return formulas\n\n    def r5(self):\n    # Regla 5: Para cada T, el objeto en la casilla 1 debe tener al menos otro objeto en otra casilla.\n        formulas = []\n        for t in T:\n            for objeto in Objetos:\n                formula_objeto_en_2 = OenP.P([1, t, objeto_a_numero[objeto]])\n                otras_objetos_no_en_2 = [f\"{OenP.P([1, t, objeto_a_numero[otro_objeto]])}\" for otro_objeto in Objetos if otro_objeto != objeto]\n\n                formula_completa = f\"({formula_objeto_en_2}>-({'Y'.join(otras_objetos_no_en_2)}))\"\n                formulas.append(formula_completa)\n\n        return formulas\n\n\n    def r6(self):\n            # Regla 6: Ningún O puede estar más de un turno en R.\n        formulas = []\n        for objeto in Objetos:\n            for t in range(len(T) - 1):\n                formula_regla = ''\n                inicial = True\n                if inicial:\n                    formula_regla = OenP.P([1, t + 1, objeto_a_numero[objeto]])\n                    inicial = False\n                else:\n                    formula_regla = \"(\" + formula_regla + \"O\" + OenP.P([1, t, objeto_a_numero[objeto]]) + \")\"\n\n                formula_regla = \"(\" + OenP.P([1, t, objeto_a_numero[objeto]]) + \">-\" + formula_regla + \")\"\n                formulas.append(formula_regla)\n\n        return formulas\n\n            ",
      "metadata": {
        "trusted": true
      },
      "execution_count": 164,
      "outputs": []
    },
    {
      "cell_type": "code",
      "source": "c = Cruce()\n\nI = {\n    c.OenP.P([0, 0, 1]): True,  # casilla - tiempo - objeto \n    c.OenP.P([0, 0, 2]): True, \n    c.OenP.P([0, 0, 0]): True,  \n    c.OenP.P([0, 1, 2]): True, \n    c.OenP.P([0, 1, 1]): True,\n    c.OenP.P([1, 1, 0]): True,  \n    c.OenP.P([2, 2, 0]): True,  \n    c.OenP.P([0, 2, 2]): True, \n    c.OenP.P([0, 2, 1]): True,  \n    c.OenP.P([2, 3, 0]): True,  \n    c.OenP.P([1, 3, 2]): True, \n    c.OenP.P([0, 3, 1]): True,\n    c.OenP.P([2, 4, 2]): True, \n    c.OenP.P([1, 4, 0]): True, \n    c.OenP.P([0, 4, 1]): True,  \n    c.OenP.P([2, 5, 2]): True, \n    c.OenP.P([0, 5, 0]): True,  \n    c.OenP.P([1, 5, 1]): True, \n    c.OenP.P([2, 6, 2]): True, \n    c.OenP.P([0, 6, 0]): True, \n    c.OenP.P([2, 6, 1]): True,  \n    c.OenP.P([2, 7, 2]): True, \n    c.OenP.P([1, 7, 0]): True,  \n    c.OenP.P([2, 7, 1]): True,   \n    c.OenP.P([2, 8, 2]): True,  \n    c.OenP.P([2, 8, 0]): True,  \n    c.OenP.P([2, 8, 1]): True,   \n}\n\n# Visualizar el modelo\nc.visualizar(I)\n",
      "metadata": {
        "trusted": true
      },
      "execution_count": 165,
      "outputs": [
        {
          "ename": "<class 'NameError'>",
          "evalue": "name 'escribir' is not defined",
          "traceback": [
            "\u001b[0;31m---------------------------------------------------------------------------\u001b[0m",
            "\u001b[0;31mNameError\u001b[0m                                 Traceback (most recent call last)",
            "Cell \u001b[0;32mIn[165], line 1\u001b[0m\n\u001b[0;32m----> 1\u001b[0m c \u001b[38;5;241m=\u001b[39m \u001b[43mCruce\u001b[49m\u001b[43m(\u001b[49m\u001b[43m)\u001b[49m\n\u001b[1;32m      3\u001b[0m I \u001b[38;5;241m=\u001b[39m {\n\u001b[1;32m      4\u001b[0m     c\u001b[38;5;241m.\u001b[39mOenP\u001b[38;5;241m.\u001b[39mP([\u001b[38;5;241m0\u001b[39m, \u001b[38;5;241m0\u001b[39m, \u001b[38;5;241m1\u001b[39m]): \u001b[38;5;28;01mTrue\u001b[39;00m,  \u001b[38;5;66;03m# casilla - tiempo - objeto \u001b[39;00m\n\u001b[1;32m      5\u001b[0m     c\u001b[38;5;241m.\u001b[39mOenP\u001b[38;5;241m.\u001b[39mP([\u001b[38;5;241m0\u001b[39m, \u001b[38;5;241m0\u001b[39m, \u001b[38;5;241m2\u001b[39m]): \u001b[38;5;28;01mTrue\u001b[39;00m, \n\u001b[0;32m   (...)\u001b[0m\n\u001b[1;32m     30\u001b[0m     c\u001b[38;5;241m.\u001b[39mOenP\u001b[38;5;241m.\u001b[39mP([\u001b[38;5;241m2\u001b[39m, \u001b[38;5;241m8\u001b[39m, \u001b[38;5;241m1\u001b[39m]): \u001b[38;5;28;01mTrue\u001b[39;00m,   \n\u001b[1;32m     31\u001b[0m }\n\u001b[1;32m     33\u001b[0m \u001b[38;5;66;03m# Visualizar el modelo\u001b[39;00m\n",
            "Cell \u001b[0;32mIn[164], line 6\u001b[0m, in \u001b[0;36mCruce.__init__\u001b[0;34m(self)\u001b[0m\n\u001b[1;32m      4\u001b[0m \u001b[38;5;28;01mdef\u001b[39;00m \u001b[38;5;21m__init__\u001b[39m(\u001b[38;5;28mself\u001b[39m):\n\u001b[1;32m      5\u001b[0m     \u001b[38;5;28mself\u001b[39m\u001b[38;5;241m.\u001b[39mOenP \u001b[38;5;241m=\u001b[39m Descriptor([Nx, Nt, Nn])\n\u001b[0;32m----> 6\u001b[0m     \u001b[38;5;28mself\u001b[39m\u001b[38;5;241m.\u001b[39mOenP\u001b[38;5;241m.\u001b[39mescribir \u001b[38;5;241m=\u001b[39m MethodType(\u001b[43mescribir\u001b[49m, OenP)\n\u001b[1;32m      7\u001b[0m     r0 \u001b[38;5;241m=\u001b[39m \u001b[38;5;28mself\u001b[39m\u001b[38;5;241m.\u001b[39mr0()\n\u001b[1;32m      8\u001b[0m     r1 \u001b[38;5;241m=\u001b[39m \u001b[38;5;28mself\u001b[39m\u001b[38;5;241m.\u001b[39mr1()\n",
            "\u001b[0;31mNameError\u001b[0m: name 'escribir' is not defined"
          ],
          "output_type": "error"
        }
      ]
    },
    {
      "cell_type": "code",
      "source": "# Crear una instancia de Cruce\nc = Cruce()\n\n# Obtener el resultado de la regla 1\nc.r0()\nc.r1()\nc.r2()\nc.r3()\nc.r4()\nc.r5()\nc.r6()\n\n\n\n\n\n\n\n",
      "metadata": {
        "trusted": true
      },
      "execution_count": 145,
      "outputs": [
        {
          "execution_count": 145,
          "output_type": "execute_result",
          "data": {
            "text/plain": "['(ā>-Ą)',\n '(Ą>-ć)',\n '(ć>-Ċ)',\n '(Ċ>-č)',\n '(č>-Đ)',\n '(Đ>-ē)',\n '(ē>-Ė)',\n '(Ė>-ę)',\n '(ę>-Ĝ)',\n '(ğ>-Ģ)',\n '(Ģ>-ĥ)',\n '(ĥ>-Ĩ)',\n '(Ĩ>-ī)',\n '(ī>-Į)',\n '(Į>-ı)',\n '(ı>-Ĵ)',\n '(Ĵ>-ķ)',\n '(ķ>-ĺ)',\n '(Ľ>-ŀ)',\n '(ŀ>-Ń)',\n '(Ń>-ņ)',\n '(ņ>-ŉ)',\n '(ŉ>-Ō)',\n '(Ō>-ŏ)',\n '(ŏ>-Œ)',\n '(Œ>-ŕ)',\n '(ŕ>-Ř)']"
          },
          "metadata": {}
        }
      ]
    },
    {
      "cell_type": "code",
      "source": "c.reglas",
      "metadata": {
        "trusted": true
      },
      "execution_count": 141,
      "outputs": [
        {
          "execution_count": 141,
          "output_type": "execute_result",
          "data": {
            "text/plain": "['((Ā)Y(ā)Y(Ă))',\n ['(Ă>-Ġ)',\n  '(Ġ>-Ă)',\n  '(ą>-ģ)',\n  '(ģ>-ą)',\n  '(Ĉ>-Ħ)',\n  '(Ħ>-Ĉ)',\n  '(ċ>-ĩ)',\n  '(ĩ>-ċ)',\n  '(Ď>-Ĭ)',\n  '(Ĭ>-Ď)',\n  '(đ>-į)',\n  '(į>-đ)',\n  '(Ĕ>-Ĳ)',\n  '(Ĳ>-Ĕ)',\n  '(ė>-ĵ)',\n  '(ĵ>-ė)',\n  '(Ě>-ĸ)',\n  '(ĸ>-Ě)',\n  '(ĝ>-Ļ)',\n  '(Ļ>-ĝ)'],\n ['(Ă>-ľ)',\n  '(ľ>-Ă)',\n  '(ą>-Ł)',\n  '(Ł>-ą)',\n  '(Ĉ>-ń)',\n  '(ń>-Ĉ)',\n  '(ċ>-Ň)',\n  '(Ň>-ċ)',\n  '(Ď>-Ŋ)',\n  '(Ŋ>-Ď)',\n  '(đ>-ō)',\n  '(ō>-đ)',\n  '(Ĕ>-Ő)',\n  '(Ő>-Ĕ)',\n  '(ė>-œ)',\n  '(œ>-ė)',\n  '(Ě>-Ŗ)',\n  '(Ŗ>-Ě)',\n  '(ĝ>-ř)',\n  '(ř>-ĝ)'],\n ['(Ă>-(āOĂ))',\n  '(Ă>-(ĀOĂ))',\n  '(ā>-(ĀOā))',\n  '(ą>-(ĄOą))',\n  '(ą>-(ăOą))',\n  '(Ą>-(ăOĄ))',\n  '(Ĉ>-(ćOĈ))',\n  '(Ĉ>-(ĆOĈ))',\n  '(ć>-(ĆOć))',\n  '(ċ>-(ĊOċ))',\n  '(ċ>-(ĉOċ))',\n  '(Ċ>-(ĉOĊ))',\n  '(Ď>-(čOĎ))',\n  '(Ď>-(ČOĎ))',\n  '(č>-(ČOč))',\n  '(đ>-(ĐOđ))',\n  '(đ>-(ďOđ))',\n  '(Đ>-(ďOĐ))',\n  '(Ĕ>-(ēOĔ))',\n  '(Ĕ>-(ĒOĔ))',\n  '(ē>-(ĒOē))',\n  '(ė>-(ĖOė))',\n  '(ė>-(ĕOė))',\n  '(Ė>-(ĕOĖ))',\n  '(Ě>-(ęOĚ))',\n  '(Ě>-(ĘOĚ))',\n  '(ę>-(ĘOę))',\n  '(ĝ>-(ĜOĝ))',\n  '(ĝ>-(ěOĝ))',\n  '(Ĝ>-(ěOĜ))',\n  '(Ġ>-(ğOĠ))',\n  '(Ġ>-(ĞOĠ))',\n  '(ğ>-(ĞOğ))',\n  '(ģ>-(ĢOģ))',\n  '(ģ>-(ġOģ))',\n  '(Ģ>-(ġOĢ))',\n  '(Ħ>-(ĥOĦ))',\n  '(Ħ>-(ĤOĦ))',\n  '(ĥ>-(ĤOĥ))',\n  '(ĩ>-(ĨOĩ))',\n  '(ĩ>-(ħOĩ))',\n  '(Ĩ>-(ħOĨ))',\n  '(Ĭ>-(īOĬ))',\n  '(Ĭ>-(ĪOĬ))',\n  '(ī>-(ĪOī))',\n  '(į>-(ĮOį))',\n  '(į>-(ĭOį))',\n  '(Į>-(ĭOĮ))',\n  '(Ĳ>-(ıOĲ))',\n  '(Ĳ>-(İOĲ))',\n  '(ı>-(İOı))',\n  '(ĵ>-(ĴOĵ))',\n  '(ĵ>-(ĳOĵ))',\n  '(Ĵ>-(ĳOĴ))',\n  '(ĸ>-(ķOĸ))',\n  '(ĸ>-(ĶOĸ))',\n  '(ķ>-(ĶOķ))',\n  '(Ļ>-(ĺOĻ))',\n  '(Ļ>-(ĹOĻ))',\n  '(ĺ>-(ĹOĺ))',\n  '(ľ>-(ĽOľ))',\n  '(ľ>-(ļOľ))',\n  '(Ľ>-(ļOĽ))',\n  '(Ł>-(ŀOŁ))',\n  '(Ł>-(ĿOŁ))',\n  '(ŀ>-(ĿOŀ))',\n  '(ń>-(ŃOń))',\n  '(ń>-(łOń))',\n  '(Ń>-(łOŃ))',\n  '(Ň>-(ņOŇ))',\n  '(Ň>-(ŅOŇ))',\n  '(ņ>-(ŅOņ))',\n  '(Ŋ>-(ŉOŊ))',\n  '(Ŋ>-(ňOŊ))',\n  '(ŉ>-(ňOŉ))',\n  '(ō>-(ŌOō))',\n  '(ō>-(ŋOō))',\n  '(Ō>-(ŋOŌ))',\n  '(Ő>-(ŏOŐ))',\n  '(Ő>-(ŎOŐ))',\n  '(ŏ>-(ŎOŏ))',\n  '(œ>-(ŒOœ))',\n  '(œ>-(őOœ))',\n  '(Œ>-(őOŒ))',\n  '(Ŗ>-(ŕOŖ))',\n  '(Ŗ>-(ŔOŖ))',\n  '(ŕ>-(ŔOŕ))',\n  '(ř>-(ŘOř))',\n  '(ř>-(ŗOř))',\n  '(Ř>-(ŗOŘ))'],\n ['((((((((ĀOĀ)>ą)Oā)Oā)>ą)OĂ)OĂ)>Ą)',\n  '((((((((ĞOĞ)>ģ)Oğ)Oğ)>ģ)OĠ)OĠ)>Ģ)',\n  '((((((((ļOļ)>Ł)OĽ)OĽ)>Ł)Oľ)Oľ)>ŀ)',\n  '((((((((ăOă)>Ĉ)OĄ)OĄ)>Ĉ)Oą)Oą)>ć)',\n  '((((((((ġOġ)>Ħ)OĢ)OĢ)>Ħ)Oģ)Oģ)>ĥ)',\n  '((((((((ĿOĿ)>ń)Oŀ)Oŀ)>ń)OŁ)OŁ)>Ń)',\n  '((((((((ĆOĆ)>ċ)Oć)Oć)>ċ)OĈ)OĈ)>Ċ)',\n  '((((((((ĤOĤ)>ĩ)Oĥ)Oĥ)>ĩ)OĦ)OĦ)>Ĩ)',\n  '((((((((łOł)>Ň)OŃ)OŃ)>Ň)Oń)Oń)>ņ)',\n  '((((((((ĉOĉ)>Ď)OĊ)OĊ)>Ď)Oċ)Oċ)>č)',\n  '((((((((ħOħ)>Ĭ)OĨ)OĨ)>Ĭ)Oĩ)Oĩ)>ī)',\n  '((((((((ŅOŅ)>Ŋ)Oņ)Oņ)>Ŋ)OŇ)OŇ)>ŉ)',\n  '((((((((ČOČ)>đ)Oč)Oč)>đ)OĎ)OĎ)>Đ)',\n  '((((((((ĪOĪ)>į)Oī)Oī)>į)OĬ)OĬ)>Į)',\n  '((((((((ňOň)>ō)Oŉ)Oŉ)>ō)OŊ)OŊ)>Ō)',\n  '((((((((ďOď)>Ĕ)OĐ)OĐ)>Ĕ)Ođ)Ođ)>ē)',\n  '((((((((ĭOĭ)>Ĳ)OĮ)OĮ)>Ĳ)Oį)Oį)>ı)',\n  '((((((((ŋOŋ)>Ő)OŌ)OŌ)>Ő)Oō)Oō)>ŏ)',\n  '((((((((ĒOĒ)>ė)Oē)Oē)>ė)OĔ)OĔ)>Ė)',\n  '((((((((İOİ)>ĵ)Oı)Oı)>ĵ)OĲ)OĲ)>Ĵ)',\n  '((((((((ŎOŎ)>œ)Oŏ)Oŏ)>œ)OŐ)OŐ)>Œ)',\n  '((((((((ĕOĕ)>Ě)OĖ)OĖ)>Ě)Oė)Oė)>ę)',\n  '((((((((ĳOĳ)>ĸ)OĴ)OĴ)>ĸ)Oĵ)Oĵ)>ķ)',\n  '((((((((őOő)>Ŗ)OŒ)OŒ)>Ŗ)Oœ)Oœ)>ŕ)',\n  '((((((((ĘOĘ)>ĝ)Oę)Oę)>ĝ)OĚ)OĚ)>Ĝ)',\n  '((((((((ĶOĶ)>Ļ)Oķ)Oķ)>Ļ)Oĸ)Oĸ)>ĺ)',\n  '((((((((ŔOŔ)>ř)Oŕ)Oŕ)>ř)OŖ)OŖ)>Ř)'],\n ['(ā>-(ğYĽ))',\n  '(ğ>-(āYĽ))',\n  '(Ľ>-(āYğ))',\n  '(Ą>-(ĢYŀ))',\n  '(Ģ>-(ĄYŀ))',\n  '(ŀ>-(ĄYĢ))',\n  '(ć>-(ĥYŃ))',\n  '(ĥ>-(ćYŃ))',\n  '(Ń>-(ćYĥ))',\n  '(Ċ>-(ĨYņ))',\n  '(Ĩ>-(ĊYņ))',\n  '(ņ>-(ĊYĨ))',\n  '(č>-(īYŉ))',\n  '(ī>-(čYŉ))',\n  '(ŉ>-(čYī))',\n  '(Đ>-(ĮYŌ))',\n  '(Į>-(ĐYŌ))',\n  '(Ō>-(ĐYĮ))',\n  '(ē>-(ıYŏ))',\n  '(ı>-(ēYŏ))',\n  '(ŏ>-(ēYı))',\n  '(Ė>-(ĴYŒ))',\n  '(Ĵ>-(ĖYŒ))',\n  '(Œ>-(ĖYĴ))',\n  '(ę>-(ķYŕ))',\n  '(ķ>-(ęYŕ))',\n  '(ŕ>-(ęYķ))',\n  '(Ĝ>-(ĺYŘ))',\n  '(ĺ>-(ĜYŘ))',\n  '(Ř>-(ĜYĺ))'],\n ['(ā>-Ą)',\n  '(Ą>-ć)',\n  '(ć>-Ċ)',\n  '(Ċ>-č)',\n  '(č>-Đ)',\n  '(Đ>-ē)',\n  '(ē>-Ė)',\n  '(Ė>-ę)',\n  '(ę>-Ĝ)',\n  '(ğ>-Ģ)',\n  '(Ģ>-ĥ)',\n  '(ĥ>-Ĩ)',\n  '(Ĩ>-ī)',\n  '(ī>-Į)',\n  '(Į>-ı)',\n  '(ı>-Ĵ)',\n  '(Ĵ>-ķ)',\n  '(ķ>-ĺ)',\n  '(Ľ>-ŀ)',\n  '(ŀ>-Ń)',\n  '(Ń>-ņ)',\n  '(ņ>-ŉ)',\n  '(ŉ>-Ō)',\n  '(Ō>-ŏ)',\n  '(ŏ>-Œ)',\n  '(Œ>-ŕ)',\n  '(ŕ>-Ř)']]"
          },
          "metadata": {}
        }
      ]
    },
    {
      "cell_type": "code",
      "source": "",
      "metadata": {
        "trusted": true
      },
      "execution_count": 161,
      "outputs": [
        {
          "ename": "<class 'TypeError'>",
          "evalue": "Descriptor.escribir() takes 2 positional arguments but 4 were given",
          "traceback": [
            "\u001b[0;31m---------------------------------------------------------------------------\u001b[0m",
            "\u001b[0;31mTypeError\u001b[0m                                 Traceback (most recent call last)",
            "Cell \u001b[0;32mIn[161], line 8\u001b[0m\n\u001b[1;32m      5\u001b[0m x, n, t \u001b[38;5;241m=\u001b[39m OenP\u001b[38;5;241m.\u001b[39minv(literal)\n\u001b[1;32m      7\u001b[0m \u001b[38;5;66;03m# Llama al método escribir con los valores decodificados\u001b[39;00m\n\u001b[0;32m----> 8\u001b[0m resultado \u001b[38;5;241m=\u001b[39m \u001b[43mOenP\u001b[49m\u001b[38;5;241;43m.\u001b[39;49m\u001b[43mescribir\u001b[49m\u001b[43m(\u001b[49m\u001b[43mx\u001b[49m\u001b[43m,\u001b[49m\u001b[43m \u001b[49m\u001b[43mn\u001b[49m\u001b[43m,\u001b[49m\u001b[43m \u001b[49m\u001b[43mt\u001b[49m\u001b[43m)\u001b[49m\n\u001b[1;32m     10\u001b[0m \u001b[38;5;66;03m# Imprime el resultado\u001b[39;00m\n\u001b[1;32m     11\u001b[0m \u001b[38;5;28mprint\u001b[39m(resultado)\n",
            "\u001b[0;31mTypeError\u001b[0m: Descriptor.escribir() takes 2 positional arguments but 4 were given"
          ],
          "output_type": "error"
        }
      ]
    },
    {
      "cell_type": "code",
      "source": "Probar DPLL",
      "metadata": {},
      "execution_count": null,
      "outputs": []
    },
    {
      "cell_type": "code",
      "source": "Probar Minisat",
      "metadata": {},
      "execution_count": null,
      "outputs": []
    }
  ]
}