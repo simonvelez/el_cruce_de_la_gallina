{
  "metadata": {
    "language_info": {
      "codemirror_mode": {
        "name": "python",
        "version": 3
      },
      "file_extension": ".py",
      "mimetype": "text/x-python",
      "name": "python",
      "nbconvert_exporter": "python",
      "pygments_lexer": "ipython3",
      "version": "3.8"
    },
    "kernelspec": {
      "name": "python",
      "display_name": "Python (Pyodide)",
      "language": "python"
    }
  },
  "nbformat_minor": 4,
  "nbformat": 4,
  "cells": [
    {
      "cell_type": "code",
      "source": "from itertools import product\nimport numpy as np\n\nclass Formula :\n\n    def __init__(self) :\n        pass\n\n    def __str__(self) :\n        if type(self) == Letra:\n            return self.letra\n        elif type(self) == Negacion:\n            return '-' + str(self.subf)\n        elif type(self) == Binario:\n            return \"(\" + str(self.left) + self.conectivo + str(self.right) + \")\"\n\n    def letras(self):\n        if type(self) == Letra:\n            return set(self.letra)\n        elif type(self) == Negacion:\n            return self.subf.letras()\n        elif type(self) == Binario:\n            return self.left.letras().union(self.right.letras())\n\n    def subforms(self):\n        if type(self) == Letra:\n            return [str(self)]\n        elif type(self) == Negacion:\n            return list(set([str(self)] + self.subf.subforms()))\n        elif type(self) == Binario:\n            return list(set([str(self)] + self.left.subforms() + self.right.subforms()))\n\n    def valor(self, I) :\n        if type(self) == Letra:\n            return I[self.letra]\n        elif type(self) == Negacion:\n            return not self.subf.valor(I)\n        elif type(self) == Binario:\n            if self.conectivo == 'Y':\n                return self.left.valor(I) and self.right.valor(I)\n            if self.conectivo == 'O':\n                return self.left.valor(I) or self.right.valor(I)\n            if self.conectivo == '>':\n                return not self.left.valor(I) or self.right.valor(I)\n            if self.conectivo == '=':\n                return (self.left.valor(I) and self.right.valor(I)) or (not self.left.valor(I) and not self.right.valor(I))\n\nclass Letra(Formula) :\n    def __init__ (self, letra:str) :\n        self.letra = letra\n\nclass Negacion(Formula) :\n    def __init__(self, subf:Formula) :\n        self.subf = subf\n\nclass Binario(Formula) :\n    def __init__(self, conectivo:str, left:Formula, right:Formula) :\n        assert(conectivo in ['Y','O','>','='])\n        self.conectivo = conectivo\n        self.left = left\n        self.right = right\n\ndef inorder_to_tree(cadena:str):\n    conectivos = ['Y', 'O', '>', '=']\n    if len(cadena) == 1:\n        return Letra(cadena)\n    elif cadena[0] == '-':\n        return Negacion(inorder_to_tree(cadena[1:]))\n    elif cadena[0] == \"(\":\n        counter = 0 #Contador de parentesis\n        for i in range(1, len(cadena)):\n            if cadena[i] == \"(\":\n                counter += 1\n            elif cadena[i] == \")\":\n                counter -=1\n            elif cadena[i] in conectivos and counter == 0:\n                return Binario(cadena[i], inorder_to_tree(cadena[1:i]),inorder_to_tree(cadena[i + 1:-1]))\n    else:\n        raise Exception('¡Cadena inválida!')\n\nclass Descriptor :\n\n    '''\n    Codifica un descriptor de N argumentos mediante un solo caracter\n    Input:  args_lista, lista con el total de opciones para cada\n                     argumento del descriptor\n            chrInit, entero que determina el comienzo de la codificación chr()\n    Output: str de longitud 1\n    '''\n\n    def __init__ (self,args_lista,chrInit=256) :\n        self.args_lista = args_lista\n        assert(len(args_lista) > 0), \"Debe haber por lo menos un argumento\"\n        self.chrInit = chrInit\n        self.rango = [chrInit, chrInit + np.prod(self.args_lista)]\n\n    def check_lista_valores(self,lista_valores) :\n        for i, v in enumerate(lista_valores) :\n            assert(v >= 0), \"Valores deben ser no negativos\"\n            assert(v < self.args_lista[i]), f\"Valor debe ser menor o igual a {self.args_lista[i]}\"\n\n    def codifica(self,lista_valores) :\n        self.check_lista_valores(lista_valores)\n        cod = lista_valores[0]\n        n_columnas = 1\n        for i in range(0, len(lista_valores) - 1) :\n            n_columnas = n_columnas * self.args_lista[i]\n            cod = n_columnas * lista_valores[i+1] + cod\n        return cod\n\n    def decodifica(self,n) :\n        decods = []\n        if len(self.args_lista) > 1:\n            for i in range(0, len(self.args_lista) - 1) :\n                n_columnas = np.prod(self.args_lista[:-(i+1)])\n                decods.insert(0, int(n / n_columnas))\n                n = n % n_columnas\n        decods.insert(0, n % self.args_lista[0])\n        return decods\n\n    def P(self,lista_valores) :\n        codigo = self.codifica(lista_valores)\n        return chr(self.chrInit+codigo)\n\n    def inv(self,codigo) :\n        n = ord(codigo)-self.chrInit\n        return self.decodifica(n)\n\ndef visualizar_formula(A,D):\n    '''\n    Visualiza una fórmula A (como string en notación inorder) usando el descriptor D\n    '''\n    vis = []\n    for c in A:\n        if c == '-':\n            vis.append(' no ')\n        elif c in ['(', ')']:\n            vis.append(c)\n        elif c in ['>', 'Y', 'O']:\n            vis.append(' ' + c + ' ')\n        elif c == '=':\n            vis.append(' sii ')\n        else:\n            try:\n                vis.append(D.escribir(c))\n            except:\n                raise(\"¡Caracter inválido!\")\n    return ''.join(vis)",
      "metadata": {
        "trusted": true
      },
      "execution_count": 2,
      "outputs": []
    },
    {
      "cell_type": "code",
      "source": "Nx = 3 \nNy = 3\nObjetos = [\"Gallina\",\"Zorro\",\"Maiz\"]\nobjeto_a_numero = {objeto: indice for indice, objeto in enumerate(Objetos)}\nNn = len(Objetos)\nX = list(range(Nx))\nY = list(range(Ny))\nOenP = Descriptor([Nx, Ny, Nn]) ",
      "metadata": {
        "trusted": true
      },
      "execution_count": 14,
      "outputs": []
    },
    {
      "cell_type": "code",
      "source": "print(\"Cantidad de átomos OenP:\", OenP.rango[1] - OenP.rango[0])\nprint(\"Caracteres correspondientes a los átomos OenP:\\n\")\nfor n in range(Nn):\n    for x in range(Nx):\n        for y in range(Ny):\n            atomo = OenP.P([x,y,n])\n            print(f\"{Objetos[n]} está en la casilla ({X[x]},{Y[y]}) y es el átomo {atomo}\")\n    print(\"\")",
      "metadata": {
        "trusted": true
      },
      "execution_count": 42,
      "outputs": [
        {
          "name": "stdout",
          "text": "Cantidad de átomos OenP: 27\nCaracteres correspondientes a los átomos OenP:\n\nGallina está en la casilla (0,0) y es el átomo Ā\nGallina está en la casilla (0,1) y es el átomo ă\nGallina está en la casilla (0,2) y es el átomo Ć\nGallina está en la casilla (1,0) y es el átomo ā\nGallina está en la casilla (1,1) y es el átomo Ą\nGallina está en la casilla (1,2) y es el átomo ć\nGallina está en la casilla (2,0) y es el átomo Ă\nGallina está en la casilla (2,1) y es el átomo ą\nGallina está en la casilla (2,2) y es el átomo Ĉ\n\nZorro está en la casilla (0,0) y es el átomo ĉ\nZorro está en la casilla (0,1) y es el átomo Č\nZorro está en la casilla (0,2) y es el átomo ď\nZorro está en la casilla (1,0) y es el átomo Ċ\nZorro está en la casilla (1,1) y es el átomo č\nZorro está en la casilla (1,2) y es el átomo Đ\nZorro está en la casilla (2,0) y es el átomo ċ\nZorro está en la casilla (2,1) y es el átomo Ď\nZorro está en la casilla (2,2) y es el átomo đ\n\nMaiz está en la casilla (0,0) y es el átomo Ē\nMaiz está en la casilla (0,1) y es el átomo ĕ\nMaiz está en la casilla (0,2) y es el átomo Ę\nMaiz está en la casilla (1,0) y es el átomo ē\nMaiz está en la casilla (1,1) y es el átomo Ė\nMaiz está en la casilla (1,2) y es el átomo ę\nMaiz está en la casilla (2,0) y es el átomo Ĕ\nMaiz está en la casilla (2,1) y es el átomo ė\nMaiz está en la casilla (2,2) y es el átomo Ě\n\n",
          "output_type": "stream"
        }
      ]
    },
    {
      "cell_type": "code",
      "source": "def escribir(self, literal):\n    if '-' in literal:\n        atomo = literal[1:]\n        neg = ' no'\n    else:\n        atomo = literal\n        neg = ''\n    x, y, n  = self.inv(atomo)\n    return f\" {Objetos[n]}{neg} está en la casilla ({X[x]},{Y[y]})\"\n    \nfrom types import MethodType\n\nOenP.escribir = MethodType(escribir, OenP)\n\n\n\natomo = OenP.P([0,1,0])\nprint(f\"El caracter que codifica es {atomo}\")\nprint(\"\\nSu decodificación es:\")\nOenP.escribir(atomo)\n\n",
      "metadata": {
        "trusted": true
      },
      "execution_count": 41,
      "outputs": [
        {
          "name": "stdout",
          "text": "El caracter que codifica es ă\n\nSu decodificación es:\n",
          "output_type": "stream"
        },
        {
          "execution_count": 41,
          "output_type": "execute_result",
          "data": {
            "text/plain": "' Gallina está en la casilla (0,1)'"
          },
          "metadata": {}
        }
      ]
    },
    {
      "cell_type": "code",
      "source": "for f in Objetos:\n    for y in Y:\n        for x in X:\n\n            casilla = (x,y)\n            otras_casillas = [(i,j) for i in X for j in Y if (i,j) != (x,y)]\n            n = objeto_a_numero[f]\n            formula1 = ''\n            inicial = True\n            for casilla in otras_casillas:\n                u = casilla[0]\n                v = casilla[1]\n                if inicial:\n                    formula1 = OenP.P([u,v,n])\n                    inicial = False\n                else:\n                    formula1 = \"(\" + formula1 + \"O\" + OenP.P([u,v,n]) + \")\"\n\n            formula1 = \"(\" + OenP.P([x,y,n]) + \">-\" + formula1 + \")\"\n            print(visualizar_formula(formula1, OenP))\n            print(\" \")",
      "metadata": {
        "trusted": true
      },
      "execution_count": 47,
      "outputs": [
        {
          "name": "stdout",
          "text": "( Gallina está en la casilla (0,0) >  no ((((((( Gallina está en la casilla (0,1) O  Gallina está en la casilla (0,2)) O  Gallina está en la casilla (1,0)) O  Gallina está en la casilla (1,1)) O  Gallina está en la casilla (1,2)) O  Gallina está en la casilla (2,0)) O  Gallina está en la casilla (2,1)) O  Gallina está en la casilla (2,2)))\n \n( Gallina está en la casilla (1,0) >  no ((((((( Gallina está en la casilla (0,0) O  Gallina está en la casilla (0,1)) O  Gallina está en la casilla (0,2)) O  Gallina está en la casilla (1,1)) O  Gallina está en la casilla (1,2)) O  Gallina está en la casilla (2,0)) O  Gallina está en la casilla (2,1)) O  Gallina está en la casilla (2,2)))\n \n( Gallina está en la casilla (2,0) >  no ((((((( Gallina está en la casilla (0,0) O  Gallina está en la casilla (0,1)) O  Gallina está en la casilla (0,2)) O  Gallina está en la casilla (1,0)) O  Gallina está en la casilla (1,1)) O  Gallina está en la casilla (1,2)) O  Gallina está en la casilla (2,1)) O  Gallina está en la casilla (2,2)))\n \n( Gallina está en la casilla (0,1) >  no ((((((( Gallina está en la casilla (0,0) O  Gallina está en la casilla (0,2)) O  Gallina está en la casilla (1,0)) O  Gallina está en la casilla (1,1)) O  Gallina está en la casilla (1,2)) O  Gallina está en la casilla (2,0)) O  Gallina está en la casilla (2,1)) O  Gallina está en la casilla (2,2)))\n \n( Gallina está en la casilla (1,1) >  no ((((((( Gallina está en la casilla (0,0) O  Gallina está en la casilla (0,1)) O  Gallina está en la casilla (0,2)) O  Gallina está en la casilla (1,0)) O  Gallina está en la casilla (1,2)) O  Gallina está en la casilla (2,0)) O  Gallina está en la casilla (2,1)) O  Gallina está en la casilla (2,2)))\n \n( Gallina está en la casilla (2,1) >  no ((((((( Gallina está en la casilla (0,0) O  Gallina está en la casilla (0,1)) O  Gallina está en la casilla (0,2)) O  Gallina está en la casilla (1,0)) O  Gallina está en la casilla (1,1)) O  Gallina está en la casilla (1,2)) O  Gallina está en la casilla (2,0)) O  Gallina está en la casilla (2,2)))\n \n( Gallina está en la casilla (0,2) >  no ((((((( Gallina está en la casilla (0,0) O  Gallina está en la casilla (0,1)) O  Gallina está en la casilla (1,0)) O  Gallina está en la casilla (1,1)) O  Gallina está en la casilla (1,2)) O  Gallina está en la casilla (2,0)) O  Gallina está en la casilla (2,1)) O  Gallina está en la casilla (2,2)))\n \n( Gallina está en la casilla (1,2) >  no ((((((( Gallina está en la casilla (0,0) O  Gallina está en la casilla (0,1)) O  Gallina está en la casilla (0,2)) O  Gallina está en la casilla (1,0)) O  Gallina está en la casilla (1,1)) O  Gallina está en la casilla (2,0)) O  Gallina está en la casilla (2,1)) O  Gallina está en la casilla (2,2)))\n \n( Gallina está en la casilla (2,2) >  no ((((((( Gallina está en la casilla (0,0) O  Gallina está en la casilla (0,1)) O  Gallina está en la casilla (0,2)) O  Gallina está en la casilla (1,0)) O  Gallina está en la casilla (1,1)) O  Gallina está en la casilla (1,2)) O  Gallina está en la casilla (2,0)) O  Gallina está en la casilla (2,1)))\n \n( Zorro está en la casilla (0,0) >  no ((((((( Zorro está en la casilla (0,1) O  Zorro está en la casilla (0,2)) O  Zorro está en la casilla (1,0)) O  Zorro está en la casilla (1,1)) O  Zorro está en la casilla (1,2)) O  Zorro está en la casilla (2,0)) O  Zorro está en la casilla (2,1)) O  Zorro está en la casilla (2,2)))\n \n( Zorro está en la casilla (1,0) >  no ((((((( Zorro está en la casilla (0,0) O  Zorro está en la casilla (0,1)) O  Zorro está en la casilla (0,2)) O  Zorro está en la casilla (1,1)) O  Zorro está en la casilla (1,2)) O  Zorro está en la casilla (2,0)) O  Zorro está en la casilla (2,1)) O  Zorro está en la casilla (2,2)))\n \n( Zorro está en la casilla (2,0) >  no ((((((( Zorro está en la casilla (0,0) O  Zorro está en la casilla (0,1)) O  Zorro está en la casilla (0,2)) O  Zorro está en la casilla (1,0)) O  Zorro está en la casilla (1,1)) O  Zorro está en la casilla (1,2)) O  Zorro está en la casilla (2,1)) O  Zorro está en la casilla (2,2)))\n \n( Zorro está en la casilla (0,1) >  no ((((((( Zorro está en la casilla (0,0) O  Zorro está en la casilla (0,2)) O  Zorro está en la casilla (1,0)) O  Zorro está en la casilla (1,1)) O  Zorro está en la casilla (1,2)) O  Zorro está en la casilla (2,0)) O  Zorro está en la casilla (2,1)) O  Zorro está en la casilla (2,2)))\n \n( Zorro está en la casilla (1,1) >  no ((((((( Zorro está en la casilla (0,0) O  Zorro está en la casilla (0,1)) O  Zorro está en la casilla (0,2)) O  Zorro está en la casilla (1,0)) O  Zorro está en la casilla (1,2)) O  Zorro está en la casilla (2,0)) O  Zorro está en la casilla (2,1)) O  Zorro está en la casilla (2,2)))\n \n( Zorro está en la casilla (2,1) >  no ((((((( Zorro está en la casilla (0,0) O  Zorro está en la casilla (0,1)) O  Zorro está en la casilla (0,2)) O  Zorro está en la casilla (1,0)) O  Zorro está en la casilla (1,1)) O  Zorro está en la casilla (1,2)) O  Zorro está en la casilla (2,0)) O  Zorro está en la casilla (2,2)))\n \n( Zorro está en la casilla (0,2) >  no ((((((( Zorro está en la casilla (0,0) O  Zorro está en la casilla (0,1)) O  Zorro está en la casilla (1,0)) O  Zorro está en la casilla (1,1)) O  Zorro está en la casilla (1,2)) O  Zorro está en la casilla (2,0)) O  Zorro está en la casilla (2,1)) O  Zorro está en la casilla (2,2)))\n \n( Zorro está en la casilla (1,2) >  no ((((((( Zorro está en la casilla (0,0) O  Zorro está en la casilla (0,1)) O  Zorro está en la casilla (0,2)) O  Zorro está en la casilla (1,0)) O  Zorro está en la casilla (1,1)) O  Zorro está en la casilla (2,0)) O  Zorro está en la casilla (2,1)) O  Zorro está en la casilla (2,2)))\n \n( Zorro está en la casilla (2,2) >  no ((((((( Zorro está en la casilla (0,0) O  Zorro está en la casilla (0,1)) O  Zorro está en la casilla (0,2)) O  Zorro está en la casilla (1,0)) O  Zorro está en la casilla (1,1)) O  Zorro está en la casilla (1,2)) O  Zorro está en la casilla (2,0)) O  Zorro está en la casilla (2,1)))\n \n( Maiz está en la casilla (0,0) >  no ((((((( Maiz está en la casilla (0,1) O  Maiz está en la casilla (0,2)) O  Maiz está en la casilla (1,0)) O  Maiz está en la casilla (1,1)) O  Maiz está en la casilla (1,2)) O  Maiz está en la casilla (2,0)) O  Maiz está en la casilla (2,1)) O  Maiz está en la casilla (2,2)))\n \n( Maiz está en la casilla (1,0) >  no ((((((( Maiz está en la casilla (0,0) O  Maiz está en la casilla (0,1)) O  Maiz está en la casilla (0,2)) O  Maiz está en la casilla (1,1)) O  Maiz está en la casilla (1,2)) O  Maiz está en la casilla (2,0)) O  Maiz está en la casilla (2,1)) O  Maiz está en la casilla (2,2)))\n \n( Maiz está en la casilla (2,0) >  no ((((((( Maiz está en la casilla (0,0) O  Maiz está en la casilla (0,1)) O  Maiz está en la casilla (0,2)) O  Maiz está en la casilla (1,0)) O  Maiz está en la casilla (1,1)) O  Maiz está en la casilla (1,2)) O  Maiz está en la casilla (2,1)) O  Maiz está en la casilla (2,2)))\n \n( Maiz está en la casilla (0,1) >  no ((((((( Maiz está en la casilla (0,0) O  Maiz está en la casilla (0,2)) O  Maiz está en la casilla (1,0)) O  Maiz está en la casilla (1,1)) O  Maiz está en la casilla (1,2)) O  Maiz está en la casilla (2,0)) O  Maiz está en la casilla (2,1)) O  Maiz está en la casilla (2,2)))\n \n( Maiz está en la casilla (1,1) >  no ((((((( Maiz está en la casilla (0,0) O  Maiz está en la casilla (0,1)) O  Maiz está en la casilla (0,2)) O  Maiz está en la casilla (1,0)) O  Maiz está en la casilla (1,2)) O  Maiz está en la casilla (2,0)) O  Maiz está en la casilla (2,1)) O  Maiz está en la casilla (2,2)))\n \n( Maiz está en la casilla (2,1) >  no ((((((( Maiz está en la casilla (0,0) O  Maiz está en la casilla (0,1)) O  Maiz está en la casilla (0,2)) O  Maiz está en la casilla (1,0)) O  Maiz está en la casilla (1,1)) O  Maiz está en la casilla (1,2)) O  Maiz está en la casilla (2,0)) O  Maiz está en la casilla (2,2)))\n \n( Maiz está en la casilla (0,2) >  no ((((((( Maiz está en la casilla (0,0) O  Maiz está en la casilla (0,1)) O  Maiz está en la casilla (1,0)) O  Maiz está en la casilla (1,1)) O  Maiz está en la casilla (1,2)) O  Maiz está en la casilla (2,0)) O  Maiz está en la casilla (2,1)) O  Maiz está en la casilla (2,2)))\n \n( Maiz está en la casilla (1,2) >  no ((((((( Maiz está en la casilla (0,0) O  Maiz está en la casilla (0,1)) O  Maiz está en la casilla (0,2)) O  Maiz está en la casilla (1,0)) O  Maiz está en la casilla (1,1)) O  Maiz está en la casilla (2,0)) O  Maiz está en la casilla (2,1)) O  Maiz está en la casilla (2,2)))\n \n( Maiz está en la casilla (2,2) >  no ((((((( Maiz está en la casilla (0,0) O  Maiz está en la casilla (0,1)) O  Maiz está en la casilla (0,2)) O  Maiz está en la casilla (1,0)) O  Maiz está en la casilla (1,1)) O  Maiz está en la casilla (1,2)) O  Maiz está en la casilla (2,0)) O  Maiz está en la casilla (2,1)))\n \n",
          "output_type": "stream"
        }
      ]
    },
    {
      "cell_type": "code",
      "source": "",
      "metadata": {},
      "execution_count": null,
      "outputs": []
    },
    {
      "cell_type": "code",
      "source": "",
      "metadata": {},
      "execution_count": null,
      "outputs": []
    }
  ]
}