{
  "metadata": {
    "kernelspec": {
      "name": "python",
      "display_name": "Python (Pyodide)",
      "language": "python"
    },
    "language_info": {
      "codemirror_mode": {
        "name": "python",
        "version": 3
      },
      "file_extension": ".py",
      "mimetype": "text/x-python",
      "name": "python",
      "nbconvert_exporter": "python",
      "pygments_lexer": "ipython3",
      "version": "3.8"
    }
  },
  "nbformat_minor": 4,
  "nbformat": 4,
  "cells": [
    {
      "cell_type": "markdown",
      "source": "<table>\n    <tr>\n        <td><img src=\"./img/Macc.png\" width=\"auto\"/></td>\n        <td>\n            <table><tr>\n            <h1 style=\"color:blue;text-align:center\">Lógica para Ciencias de la Computación</h1></td>\n            </tr></table>   \n        <td>&nbsp;</td>\n        <td>\n            <table><tr>\n            <tp><p style=\"font-size:150%;text-align:center\">Taller</p></tp>\n            <tp><p style=\"font-size:150%;text-align:center\">Solución de problemas</p></tp>\n            </tr></table>\n        </td>\n    </tr>\n</table>\n\n---",
      "metadata": {}
    },
    {
      "cell_type": "markdown",
      "source": "# Objetivo <a class=\"anchor\" id=\"inicio\"></a>\n\nEn clase hemos visto el siguiente esquema del procedimiento para solucionar problemas:\n\n<img src=\"./img/mapa.png\" width=\"400px\"/>\n\nImplementaremos este esquema en Python usando las herramientas desarrolladas hasta este momento.",
      "metadata": {}
    },
    {
      "cell_type": "markdown",
      "source": "# Secciones\n\n1. [Problema ilustrativo.](#prob)\n2. [Implementación de las restricciones.](#forms)\n3. [Visualización.](#vis)\n4. [Solución mediante SATtabla.](#sat)\n5. [Un problema más difícil.](#prob2)\n6. [Situaciones más complejas y comparación de tiempos.](#comp)",
      "metadata": {}
    },
    {
      "cell_type": "markdown",
      "source": "# Problema de ejemplo <a class=\"anchor\" id=\"prob\"></a>\n\n([Volver al inicio](#inicio))\n\nComenzaremos con el problema presentado en las diapositivas de clase, que repetimos aquí por conveniencia:\n\n<img src=\"./img/problema.png\" width=\"400px\"/>\n\nLas restricciones y su representación usando lógica proposicional son las siguientes:\n\n1. Debe haber exactamente tres caballos en el tablero:\n\n$$\\bigvee_{(x_1,y_1)\\in\\texttt{Casillas}}\\bigvee_{(x_2,y_2)\\neq(x_1,y_1)}\\bigvee_{{(x_3,y_3)\\neq(x_1,y_1)\\\\(x_3,y_3)\\neq(x_2,y_2)}}\\left(CenC_{(x_1,y_1)}\\wedge CenC_{(x_2,y_2)}\\wedge CenC_{(x_3,y_3)}\\right)\\wedge\\bigwedge_{(u,v)\\neq(x_1,y_1)\\\\(u,v)\\neq(x_2,y_2)\\\\(u,v)\\neq(x_3,y_3)}\\neg CenC_{(u,v)}\\Bigr)$$\n\n2. Ningún caballo debe poder atacar a otro.\n\n\\begin{align*}\n&CenC_{(0,0)}\\to \\neg(CenC_{(1,2)} \\vee CenC_{(2,1)})\\\\\n&CenC_{(1,0)}\\to \\neg(CenC_{(0,2)} \\vee CenC_{(2,2)})\\\\\n&CenC_{(2,0)}\\to \\neg(CenC_{(1,2)} \\vee CenC_{(0,1)})\\\\\n&CenC_{(0,1)}\\to \\neg(CenC_{(2,2)} \\vee CenC_{(2,0)})\\\\\n&CenC_{(2,1)}\\to \\neg(CenC_{(0,2)} \\vee CenC_{(0,0)})\\\\\n&CenC_{(0,2)}\\to \\neg(CenC_{(1,0)} \\vee CenC_{(2,1)})\\\\\n&CenC_{(1,2)}\\to \\neg(CenC_{(0,0)} \\vee CenC_{(2,0)})\\\\\n&CenC_{(2,2)}\\to \\neg(CenC_{(0,1)} \\vee CenC_{(1,0)})\\\\\n\\end{align*}\n\n\n3. Debe haber un caballo en la casilla $(1,2)$.\n\n$$CenC_{(1,2)}$$",
      "metadata": {}
    },
    {
      "cell_type": "markdown",
      "source": "## Implementación de las restricciones <a class=\"anchor\" id=\"forms\"></a>\n\n([Volver al inicio](#inicio))\n\nEn la librería `Problemas` hemos implementado las tres reglas. Puede correr el siguiente código para visualizar el resultado, y puede entrar a la librería para explorar la implementación:",
      "metadata": {}
    },
    {
      "cell_type": "code",
      "source": "from itertools import product\nimport numpy as np\nfrom copy import deepcopy\n\nclass Formula :\n\n    def __init__(self) :\n        pass\n\n    def __str__(self) :\n        if type(self) == Letra:\n            return self.letra\n        elif type(self) == Negacion:\n            return '-' + str(self.subf)\n        elif type(self) == Binario:\n            return \"(\" + str(self.left) + self.conectivo + str(self.right) + \")\"\n\n    def letras(self):\n        if type(self) == Letra:\n            return set(self.letra)\n        elif type(self) == Negacion:\n            return self.subf.letras()\n        elif type(self) == Binario:\n            return self.left.letras().union(self.right.letras())\n\n    def subforms(self):\n        if type(self) == Letra:\n            return [str(self)]\n        elif type(self) == Negacion:\n            return list(set([str(self)] + self.subf.subforms()))\n        elif type(self) == Binario:\n            return list(set([str(self)] + self.left.subforms() + self.right.subforms()))\n\n    def valor(self, I) :\n        if type(self) == Letra:\n            return I[self.letra]\n        elif type(self) == Negacion:\n            return not self.subf.valor(I)\n        elif type(self) == Binario:\n            if self.conectivo == 'Y':\n                return self.left.valor(I) and self.right.valor(I)\n            if self.conectivo == 'O':\n                return self.left.valor(I) or self.right.valor(I)\n            if self.conectivo == '>':\n                return not self.left.valor(I) or self.right.valor(I)\n            if self.conectivo == '=':\n                return (self.left.valor(I) and self.right.valor(I)) or (not self.left.valor(I) and not self.right.valor(I))\n\n    def SATtabla(self):\n        letras = list(self.letras())\n        n = len(letras)\n        valores = list(product([True, False], repeat=n))\n        for v in valores:\n            I = {letras[x]: v[x] for x in range(n)}\n            if self.valor(I):\n                return I\n        return None\n\n    def clasifica_para_tableaux(self):\n        if type(self) == Letra:\n            return None, 'literal'\n        elif type(self) == Negacion:\n            if type(self.subf) == Letra:\n                return None, 'literal'\n            elif type(self.subf) == Negacion:\n                return 1, 'alfa'\n            elif type(self.subf) == Binario:\n                if self.subf.conectivo == 'O':\n                    return 3, 'alfa'\n                elif self.subf.conectivo == '>':\n                    return 4, 'alfa'\n                elif self.subf.conectivo == 'Y':\n                    return 1, 'beta'\n        elif type(self) == Binario:\n            if self.conectivo == 'Y':\n                return 2, 'alfa'\n            elif self.conectivo == 'O':\n                return 2, 'beta'\n            elif self.conectivo == '>':\n                return 3, 'beta'\n\n    def SATtableaux(self):\n        estado = nodos_tableaux([self])\n        res = estado.es_hoja()\n        if res == 'cerrada':\n            return None\n        elif res == 'abierta':\n            return estado.interp()\n        frontera = [estado]\n        while len(frontera) > 0:\n            estado = frontera.pop(0)\n            hijos = estado.expandir()\n            for a in hijos:\n                if a != None:\n                    res = a.es_hoja()\n                    if res == 'abierta':\n                        return a.interp()\n                    elif res == None:\n                        frontera.append(a)\n        return None\n\n    def ver(self, D):\n        '''\n        Visualiza una fórmula A (como string en notación inorder) usando el descriptor D\n        '''\n        vis = []\n        A = str(self)\n        for c in A:\n            if c == '-':\n                vis.append(' no ')\n            elif c in ['(', ')']:\n                vis.append(c)\n            elif c in ['>', 'Y', 'O']:\n                vis.append(' ' + c + ' ')\n            elif c == '=':\n                vis.append(' sii ')\n            else:\n                try:\n                    vis.append(D.escribir(c))\n                except:\n                    raise(\"¡Caracter inválido!\")\n        return ''.join(vis)\n\nclass Letra(Formula) :\n    def __init__ (self, letra:str) :\n        self.letra = letra\n\nclass Negacion(Formula) :\n    def __init__(self, subf:Formula) :\n        self.subf = subf\n\nclass Binario(Formula) :\n    def __init__(self, conectivo:str, left:Formula, right:Formula) :\n        assert(conectivo in ['Y','O','>','='])\n        self.conectivo = conectivo\n        self.left = left\n        self.right = right\n\ndef inorder_to_tree(cadena:str):\n    conectivos = ['Y', 'O', '>', '=']\n    if len(cadena) == 1:\n        return Letra(cadena)\n    elif cadena[0] == '-':\n        return Negacion(inorder_to_tree(cadena[1:]))\n    elif cadena[0] == \"(\":\n        counter = 0 #Contador de parentesis\n        for i in range(1, len(cadena)):\n            if cadena[i] == \"(\":\n                counter += 1\n            elif cadena[i] == \")\":\n                counter -=1\n            elif cadena[i] in conectivos and counter == 0:\n                return Binario(cadena[i], inorder_to_tree(cadena[1:i]),inorder_to_tree(cadena[i + 1:-1]))\n    else:\n        raise Exception('¡Cadena inválida!')\n\nclass Descriptor :\n\n    '''\n    Codifica un descriptor de N argumentos mediante un solo caracter\n    Input:  args_lista, lista con el total de opciones para cada\n                     argumento del descriptor\n            chrInit, entero que determina el comienzo de la codificación chr()\n    Output: str de longitud 1\n    '''\n\n    def __init__ (self,args_lista,chrInit=256) :\n        self.args_lista = args_lista\n        assert(len(args_lista) > 0), \"Debe haber por lo menos un argumento\"\n        self.chrInit = chrInit\n        self.rango = [chrInit, chrInit + np.prod(self.args_lista)]\n\n    def check_lista_valores(self,lista_valores) :\n        for i, v in enumerate(lista_valores) :\n            assert(v >= 0), \"Valores deben ser no negativos\"\n            assert(v < self.args_lista[i]), f\"Valor debe ser menor o igual a {self.args_lista[i]}\"\n\n    def codifica(self,lista_valores) :\n        self.check_lista_valores(lista_valores)\n        cod = lista_valores[0]\n        n_columnas = 1\n        for i in range(0, len(lista_valores) - 1) :\n            n_columnas = n_columnas * self.args_lista[i]\n            cod = n_columnas * lista_valores[i+1] + cod\n        return cod\n\n    def decodifica(self,n) :\n        decods = []\n        if len(self.args_lista) > 1:\n            for i in range(0, len(self.args_lista) - 1) :\n                n_columnas = np.prod(self.args_lista[:-(i+1)])\n                decods.insert(0, int(n / n_columnas))\n                n = n % n_columnas\n        decods.insert(0, n % self.args_lista[0])\n        return decods\n\n    def P(self,lista_valores) :\n        codigo = self.codifica(lista_valores)\n        return chr(self.chrInit+codigo)\n\n    def inv(self,codigo) :\n        n = ord(codigo)-self.chrInit\n        return self.decodifica(n)\n\ndef Ytoria(lista_forms):\n    form = ''\n    inicial = True\n    for f in lista_forms:\n        if inicial:\n            form = f\n            inicial = False\n        else:\n            form = '(' + form + 'Y' + f + ')'\n    return form\n\ndef Otoria(lista_forms):\n    form = ''\n    inicial = True\n    for f in lista_forms:\n        if inicial:\n            form = f\n            inicial = False\n        else:\n            form = '(' + form + 'O' + f + ')'\n    return form\n\nclass nodos_tableaux:\n\n    def __init__(self, fs):\n        clasfs = [(A, str(A), *A.clasifica_para_tableaux()) for A in fs]\n        self.alfas = [c for c in clasfs if c[3] == 'alfa']\n        self.betas = [c for c in clasfs if c[3] == 'beta']\n        self.literales = [c for c in clasfs if c[3] == 'literal']\n\n    def __str__(self):\n        cadena = f'Alfas:{[str(c[1]) for c in self.alfas]}\\n'\n        cadena += f'Betas:{[str(c[1]) for c in self.betas]}\\n'\n        cadena += f'Literales:{[str(c[1]) for c in self.literales]}'\n        return cadena\n\n    def tiene_lit_comp(self):\n        lits = [c[1] for c in self.literales]\n        l_pos = [l for l in lits if '-' not in l]\n        l_negs = [l[1:] for l in lits if '-' in l]\n        return len(set(l_pos).intersection(set(l_negs))) > 0\n\n    def es_hoja(self):\n        if self.tiene_lit_comp():\n            return 'cerrada'\n        elif ((len(self.alfas) == 0) and (len(self.betas) == 0)):\n            return 'abierta'\n        else:\n            return None\n\n    def interp(self):\n        I = {}\n        for lit in self.literales:\n            l = lit[1]\n            if '-' not in l:\n                I[l] = True\n            else:\n                I[l[1:]] = False\n        return I\n\n    def expandir(self):\n        '''Escoge última alfa, si no última beta, si no None'''\n        f_alfas = deepcopy(self.alfas)\n        f_betas = deepcopy(self.betas)\n        f_literales = deepcopy(self.literales)\n        if len(self.alfas) > 0:\n            f, s, num_regla, cl = f_alfas.pop(0)\n            if num_regla == 1:\n                formulas = [f.subf.subf]\n            elif num_regla == 2:\n                formulas = [f.left, f.right]\n            elif num_regla == 3:\n                formulas = [Negacion(f.subf.left), Negacion(f.subf.right)]\n            elif num_regla == 4:\n                formulas = [f.subf.left, Negacion(f.subf.right)]\n            for nueva_f in formulas:\n                clasf = nueva_f.clasifica_para_tableaux()\n                if clasf[1]== 'alfa':\n                    lista = f_alfas\n                elif clasf[1]== 'beta':\n                    lista = f_betas\n                elif clasf[1]== 'literal':\n                    lista = f_literales\n                strs = [c[1] for c in lista]\n                if str(nueva_f) not in strs:\n                    lista.append((nueva_f, str(nueva_f), *clasf))\n            nuevo_nodo = nodos_tableaux([])\n            nuevo_nodo.alfas = f_alfas\n            nuevo_nodo.betas = f_betas\n            nuevo_nodo.literales = f_literales\n            return [nuevo_nodo, None]\n        elif len(self.betas) > 0:\n            f, s, num_regla, cl = f_betas.pop(0)\n            if num_regla == 1:\n                B1 = Negacion(f.subf.left)\n                B2 = Negacion(f.subf.right)\n            elif num_regla == 2:\n                B1 = f.left\n                B2 = f.right\n            elif num_regla == 3:\n                B1 = Negacion(f.left)\n                B2 = f.right\n            f_alfas2 = deepcopy(f_alfas)\n            f_betas2 = deepcopy(f_betas)\n            f_literales2 = deepcopy(f_literales)\n            clasf = B1.clasifica_para_tableaux()\n            if clasf[1]== 'alfa':\n                lista = f_alfas\n            elif clasf[1]== 'beta':\n                lista = f_betas\n            elif clasf[1]== 'literal':\n                lista = f_literales\n            strs = [c[1] for c in lista]\n            if str(B1) not in strs:\n                lista.append((B1, str(B1), *clasf))\n            clasf = B2.clasifica_para_tableaux()\n            if clasf[1]== 'alfa':\n                lista = f_alfas2\n            elif clasf[1]== 'beta':\n                lista = f_betas2\n            elif clasf[1]== 'literal':\n                lista = f_literales2\n            strs = [c[1] for c in lista]\n            if str(B2) not in strs:\n                lista.append((B2, str(B2), *clasf))\n            n1 = nodos_tableaux([])\n            n1.alfas = f_alfas\n            n1.betas = f_betas\n            n1.literales = f_literales\n            n2 = nodos_tableaux([])\n            n2.alfas = f_alfas2\n            n2.betas = f_betas2\n            n2.literales = f_literales2\n            return [n1, n2]\n        else:\n            return [None, None]\n",
      "metadata": {
        "trusted": true
      },
      "execution_count": 1,
      "outputs": []
    },
    {
      "cell_type": "code",
      "source": "from itertools import combinations\nfrom Logica import *\nimport matplotlib.pyplot as plt\nimport matplotlib.patches as patches\nfrom matplotlib.offsetbox import AnnotationBbox, OffsetImage\nfrom types import MethodType\n\ndef escribir_caballos(self, literal):\n    if '-' in literal:\n        atomo = literal[1:]\n        neg = ' no'\n    else:\n        atomo = literal\n        neg = ''\n    x, y  = self.inv(atomo)\n    return f\"El caballo{neg} está en la casilla ({x},{y})\"\n\ndef escribir_rejilla(self, literal):\n    if '-' in literal:\n        atomo = literal[1:]\n        neg = ' no'\n    else:\n        atomo = literal\n        neg = ''\n    n, x, y  = self.inv(atomo)\n    return f\"El número {n}{neg} está en la casilla ({x},{y})\"\n\nclass Caballos:\n\n    '''\n    Clase para representar el problema de poner\n    tres caballos en un tablero de ajedrez sin que se\n    puedan atacar el uno al otro.\n    '''\n\n    def __init__(self):\n        self.CenC = Descriptor([3,3])\n        self.CenC.escribir = MethodType(escribir_caballos, self.CenC)\n        r1 = self.regla1()\n        r2 = self.regla2()\n        r3 = self.regla3()\n        self.reglas = [r1, r2, r3]\n\n\n    def regla1(self):\n        casillas = [(x,y) for x in range(3) for y in range(3)]\n        tripletas = list(combinations(casillas, 3))\n        lista = []\n        for t in tripletas:\n            c1, c2, c3 = t\n            f = '((' + self.CenC.P([*c1]) + 'Y' + self.CenC.P([*c2]) + ')Y' + self.CenC.P([*c3]) + ')'\n            otras_casillas = [c for c in casillas if c not in t]\n            lista_negs = ['-' + self.CenC.P([*c]) for c in otras_casillas]\n            f = '(' + f + 'Y' + Ytoria(lista_negs) + ')'\n            lista.append(f)\n        return Otoria(lista)\n\n    def regla2(self):\n        tripletas = [((0,0), (1,2), (2,1)),\n                     ((1,0), (0,2), (2,2)),\n                     ((2,0), (1,2), (0,1)),\n                     ((0,1), (2,2), (2,0)),\n                     ((2,1), (0,2), (0,0)),\n                     ((0,2), (1,0), (2,1)),\n                     ((1,2), (0,0), (2,0)),\n                     ((2,2), (0,1), (1,0)),\n                    ]\n        lista = []\n        for t in tripletas:\n            c1, c2, c3 = t\n            f = '(' + self.CenC.P([*c1]) + '>-(' + self.CenC.P([*c2]) + 'O' + self.CenC.P([*c3]) + '))'\n            lista.append(f)\n        return Ytoria(lista)\n\n    def regla3(self):\n        return self.CenC.P([1,2])\n\n    def visualizar(self, I):\n        # Inicializo el plano que contiene la figura\n        fig, axes = plt.subplots()\n        axes.get_xaxis().set_visible(False)\n        axes.get_yaxis().set_visible(False)\n        # Dibujo el tablero\n        step = 1./3\n        tangulos = []\n        # Creo los cuadrados claros en el tablero\n        tangulos.append(patches.Rectangle(\\\n                                        (0, step), \\\n                                        step, \\\n                                        step,\\\n                                        facecolor='cornsilk')\\\n                                        )\n        tangulos.append(patches.Rectangle(*[(step, 0), step, step],\\\n                facecolor='cornsilk'))\n        tangulos.append(patches.Rectangle(*[(2 * step, step), step, step],\\\n                facecolor='cornsilk'))\n        tangulos.append(patches.Rectangle(*[(step, 2 * step), step, step],\\\n                facecolor='cornsilk'))\n        # Creo los cuadrados oscuros en el tablero\n        tangulos.append(patches.Rectangle(*[(2 * step, 2 * step), step, step],\\\n                facecolor='lightslategrey'))\n        tangulos.append(patches.Rectangle(*[(0, 2 * step), step, step],\\\n                facecolor='lightslategrey'))\n        tangulos.append(patches.Rectangle(*[(2 * step, 0), step, step],\\\n                facecolor='lightslategrey'))\n        tangulos.append(patches.Rectangle(*[(step, step), step, step],\\\n                facecolor='lightslategrey'))\n        tangulos.append(patches.Rectangle(*[(0, 0), step, step],\\\n                facecolor='lightslategrey'))\n        # Creo las líneas del tablero\n        for j in range(3):\n            locacion = j * step\n            # Crea linea horizontal en el rectangulo\n            tangulos.append(patches.Rectangle(*[(0, step + locacion), 1, 0.005],\\\n                    facecolor='black'))\n            # Crea linea vertical en el rectangulo\n            tangulos.append(patches.Rectangle(*[(step + locacion, 0), 0.005, 1],\\\n                    facecolor='black'))\n        for t in tangulos:\n            axes.add_patch(t)\n        # Cargando imagen de caballo\n        arr_img = plt.imread(\"./img/caballo.png\", format='png')\n        imagebox = OffsetImage(arr_img, zoom=0.1)\n        imagebox.image.axes = axes\n        # Creando las direcciones en la imagen de acuerdo a literal\n        direcciones = {}\n        direcciones[(0,2)] = [0.165, 0.835]\n        direcciones[(1,2)] = [0.5, 0.835]\n        direcciones[(2,2)] = [0.835, 0.835]\n        direcciones[(0,1)] = [0.165, 0.5]\n        direcciones[(1,1)] = [0.5, 0.5]\n        direcciones[(2,1)] = [0.835, 0.5]\n        direcciones[(0,0)] = [0.165, 0.165]\n        direcciones[(1,0)] = [0.5, 0.165]\n        direcciones[(2,0)] = [0.835, 0.165]\n        for l in I:\n            if I[l]:\n                x, y = self.CenC.inv(l)\n                ab = AnnotationBbox(imagebox, direcciones[(x,y)], frameon=False)\n                axes.add_artist(ab)\n        plt.show()\n\nclass Rejilla:\n\n    '''\n    Clase para representar el problema de poner\n    un número distinto en cada una de las casillas\n    de una rejilla nxn\n    '''\n\n    def __init__(self, N=2, M=2):\n        self.N = N\n        self.M = M\n        self.NenC = Descriptor([N*M, N, M])\n        self.NenC.escribir = MethodType(escribir_rejilla, self.NenC)\n        r1 = self.regla1()\n        r2 = self.regla2()\n        r3 = self.regla3()\n        self.reglas = [r1, r2, r3]\n\n    def regla1(self):\n        casillas_num = [(n,x,y) for n in range(self.N*self.M) for x in range(self.N) for y in range(self.M)]\n        lista = []\n        for c in casillas_num:\n            n,x,y = c\n            otras_casillas = [(x1,y1) for x1 in range(self.N) for y1 in range(self.M) if (x1,y1) != (x,y)]\n            lista_o = []\n            for k in otras_casillas:\n                lista_o.append(self.NenC.P([n,*k]))\n            form = '(' + self.NenC.P([*c]) + '>-' + Otoria(lista_o)\n            lista.append(form)\n        return Ytoria(lista)\n\n    def regla2(self):\n        casillas_num = [(n,x,y) for n in range(self.N*self.M) for x in range(self.N) for y in range(self.M)]\n        lista = []\n        for c in casillas_num:\n            n,x,y = c\n            otros_numeros = [k for k in range(self.N*self.M) if k != n]\n            lista_o = []\n            for k in otros_numeros:\n                lista_o.append(self.NenC.P([k,x,y]))\n            form = '(' + self.NenC.P([*c]) + '>-' + Otoria(lista_o) + ')'\n            lista.append(form)\n        return Ytoria(lista)\n\n    def regla3(self):\n        casillas = [(x,y) for x in range(self.N) for y in range(self.M)]\n        lista = []\n        for c in casillas:\n            lista_o = []\n            for n in range(self.N*self.M):\n                lista_o.append(self.NenC.P([n,*c]))\n            lista.append(Ytoria(lista_o))\n        return Ytoria(lista)\n\n    def visualizar(self, I):\n        fig, axes = plt.subplots()\n        fig.set_size_inches(self.N, self.M)\n        step_x = 1. / self.N\n        step_y = 1. / self.M\n        offset = 0.001\n        tangulos = []\n        tangulos.append(patches.Rectangle((0, 0), 1, 1, \\\n        facecolor = 'cornsilk', edgecolor = 'black', linewidth = 2))\n        u = self.N // 2 if self.N % 2 == 0 else self.N // 2 + 1 # Filas par o impar\n        v = self.M // 2 if self.M % 2 == 0 else self.M // 2 + 1 # Columnas par o impar\n        for i in range(u + 1):\n            for j in range(v):\n                tangulos.append(patches.Rectangle((2 * i * step_x, 2 * j * step_y), \\\n                                                  step_x - offset, step_y, \\\n                                                  facecolor = 'lightslategrey', \\\n                                                  ec = 'k', lw = 3))\n                tangulos.append(patches.Rectangle((step_x + 2 * i * step_x, (2 * j + 1) * step_y), \\\n                                                  step_x - offset, step_y, \\\n                                                  facecolor = 'lightslategrey', \\\n                                                  ec = 'k', lw = 3))\n        for t in tangulos:\n            axes.add_patch(t)\n        offsetX = 0.065\n        offsetY = 0.065\n        for k in I:\n            n, X, Y = self.NenC.inv(k)\n            if I[k]:\n                axes.text(X * step_x + step_x / 2, Y * step_y + step_y / 2, n, \\\n                          ha = \"center\", va = \"center\", size = 30, c = 'k')\n        axes.axis('off')\n        plt.show\n        \n",
      "metadata": {
        "trusted": true
      },
      "execution_count": 29,
      "outputs": []
    },
    {
      "cell_type": "code",
      "source": "from Problemas import Caballos\nfrom Logica import *",
      "metadata": {
        "scrolled": true,
        "trusted": true
      },
      "execution_count": 30,
      "outputs": [
        {
          "ename": "<class 'ModuleNotFoundError'>",
          "evalue": "No module named 'Problemas'",
          "traceback": [
            "\u001b[0;31m---------------------------------------------------------------------------\u001b[0m",
            "\u001b[0;31mModuleNotFoundError\u001b[0m                       Traceback (most recent call last)",
            "Cell \u001b[0;32mIn[30], line 1\u001b[0m\n\u001b[0;32m----> 1\u001b[0m \u001b[38;5;28;01mfrom\u001b[39;00m \u001b[38;5;21;01mProblemas\u001b[39;00m \u001b[38;5;28;01mimport\u001b[39;00m Caballos\n\u001b[1;32m      2\u001b[0m \u001b[38;5;28;01mfrom\u001b[39;00m \u001b[38;5;21;01mLogica\u001b[39;00m \u001b[38;5;28;01mimport\u001b[39;00m \u001b[38;5;241m*\u001b[39m\n",
            "\u001b[0;31mModuleNotFoundError\u001b[0m: No module named 'Problemas'"
          ],
          "output_type": "error"
        }
      ]
    },
    {
      "cell_type": "code",
      "source": "c = Caballos()",
      "metadata": {
        "trusted": true
      },
      "execution_count": 31,
      "outputs": []
    },
    {
      "cell_type": "markdown",
      "source": "Observe que el objeto tiene un atributo `reglas`, en el cual está una lista con las tres reglas implementadas en Python:",
      "metadata": {}
    },
    {
      "cell_type": "code",
      "source": "c.reglas",
      "metadata": {
        "trusted": true
      },
      "execution_count": 32,
      "outputs": [
        {
          "execution_count": 32,
          "output_type": "execute_result",
          "data": {
            "text/plain": "['((((((((((((((((((((((((((((((((((((((((((((((((((((((((((((((((((((((((((((((((((((((ĀYă)YĆ)Y(((((-āY-Ą)Y-ć)Y-Ă)Y-ą)Y-Ĉ))O(((ĀYă)Yā)Y(((((-ĆY-Ą)Y-ć)Y-Ă)Y-ą)Y-Ĉ)))O(((ĀYă)YĄ)Y(((((-ĆY-ā)Y-ć)Y-Ă)Y-ą)Y-Ĉ)))O(((ĀYă)Yć)Y(((((-ĆY-ā)Y-Ą)Y-Ă)Y-ą)Y-Ĉ)))O(((ĀYă)YĂ)Y(((((-ĆY-ā)Y-Ą)Y-ć)Y-ą)Y-Ĉ)))O(((ĀYă)Yą)Y(((((-ĆY-ā)Y-Ą)Y-ć)Y-Ă)Y-Ĉ)))O(((ĀYă)YĈ)Y(((((-ĆY-ā)Y-Ą)Y-ć)Y-Ă)Y-ą)))O(((ĀYĆ)Yā)Y(((((-ăY-Ą)Y-ć)Y-Ă)Y-ą)Y-Ĉ)))O(((ĀYĆ)YĄ)Y(((((-ăY-ā)Y-ć)Y-Ă)Y-ą)Y-Ĉ)))O(((ĀYĆ)Yć)Y(((((-ăY-ā)Y-Ą)Y-Ă)Y-ą)Y-Ĉ)))O(((ĀYĆ)YĂ)Y(((((-ăY-ā)Y-Ą)Y-ć)Y-ą)Y-Ĉ)))O(((ĀYĆ)Yą)Y(((((-ăY-ā)Y-Ą)Y-ć)Y-Ă)Y-Ĉ)))O(((ĀYĆ)YĈ)Y(((((-ăY-ā)Y-Ą)Y-ć)Y-Ă)Y-ą)))O(((ĀYā)YĄ)Y(((((-ăY-Ć)Y-ć)Y-Ă)Y-ą)Y-Ĉ)))O(((ĀYā)Yć)Y(((((-ăY-Ć)Y-Ą)Y-Ă)Y-ą)Y-Ĉ)))O(((ĀYā)YĂ)Y(((((-ăY-Ć)Y-Ą)Y-ć)Y-ą)Y-Ĉ)))O(((ĀYā)Yą)Y(((((-ăY-Ć)Y-Ą)Y-ć)Y-Ă)Y-Ĉ)))O(((ĀYā)YĈ)Y(((((-ăY-Ć)Y-Ą)Y-ć)Y-Ă)Y-ą)))O(((ĀYĄ)Yć)Y(((((-ăY-Ć)Y-ā)Y-Ă)Y-ą)Y-Ĉ)))O(((ĀYĄ)YĂ)Y(((((-ăY-Ć)Y-ā)Y-ć)Y-ą)Y-Ĉ)))O(((ĀYĄ)Yą)Y(((((-ăY-Ć)Y-ā)Y-ć)Y-Ă)Y-Ĉ)))O(((ĀYĄ)YĈ)Y(((((-ăY-Ć)Y-ā)Y-ć)Y-Ă)Y-ą)))O(((ĀYć)YĂ)Y(((((-ăY-Ć)Y-ā)Y-Ą)Y-ą)Y-Ĉ)))O(((ĀYć)Yą)Y(((((-ăY-Ć)Y-ā)Y-Ą)Y-Ă)Y-Ĉ)))O(((ĀYć)YĈ)Y(((((-ăY-Ć)Y-ā)Y-Ą)Y-Ă)Y-ą)))O(((ĀYĂ)Yą)Y(((((-ăY-Ć)Y-ā)Y-Ą)Y-ć)Y-Ĉ)))O(((ĀYĂ)YĈ)Y(((((-ăY-Ć)Y-ā)Y-Ą)Y-ć)Y-ą)))O(((ĀYą)YĈ)Y(((((-ăY-Ć)Y-ā)Y-Ą)Y-ć)Y-Ă)))O(((ăYĆ)Yā)Y(((((-ĀY-Ą)Y-ć)Y-Ă)Y-ą)Y-Ĉ)))O(((ăYĆ)YĄ)Y(((((-ĀY-ā)Y-ć)Y-Ă)Y-ą)Y-Ĉ)))O(((ăYĆ)Yć)Y(((((-ĀY-ā)Y-Ą)Y-Ă)Y-ą)Y-Ĉ)))O(((ăYĆ)YĂ)Y(((((-ĀY-ā)Y-Ą)Y-ć)Y-ą)Y-Ĉ)))O(((ăYĆ)Yą)Y(((((-ĀY-ā)Y-Ą)Y-ć)Y-Ă)Y-Ĉ)))O(((ăYĆ)YĈ)Y(((((-ĀY-ā)Y-Ą)Y-ć)Y-Ă)Y-ą)))O(((ăYā)YĄ)Y(((((-ĀY-Ć)Y-ć)Y-Ă)Y-ą)Y-Ĉ)))O(((ăYā)Yć)Y(((((-ĀY-Ć)Y-Ą)Y-Ă)Y-ą)Y-Ĉ)))O(((ăYā)YĂ)Y(((((-ĀY-Ć)Y-Ą)Y-ć)Y-ą)Y-Ĉ)))O(((ăYā)Yą)Y(((((-ĀY-Ć)Y-Ą)Y-ć)Y-Ă)Y-Ĉ)))O(((ăYā)YĈ)Y(((((-ĀY-Ć)Y-Ą)Y-ć)Y-Ă)Y-ą)))O(((ăYĄ)Yć)Y(((((-ĀY-Ć)Y-ā)Y-Ă)Y-ą)Y-Ĉ)))O(((ăYĄ)YĂ)Y(((((-ĀY-Ć)Y-ā)Y-ć)Y-ą)Y-Ĉ)))O(((ăYĄ)Yą)Y(((((-ĀY-Ć)Y-ā)Y-ć)Y-Ă)Y-Ĉ)))O(((ăYĄ)YĈ)Y(((((-ĀY-Ć)Y-ā)Y-ć)Y-Ă)Y-ą)))O(((ăYć)YĂ)Y(((((-ĀY-Ć)Y-ā)Y-Ą)Y-ą)Y-Ĉ)))O(((ăYć)Yą)Y(((((-ĀY-Ć)Y-ā)Y-Ą)Y-Ă)Y-Ĉ)))O(((ăYć)YĈ)Y(((((-ĀY-Ć)Y-ā)Y-Ą)Y-Ă)Y-ą)))O(((ăYĂ)Yą)Y(((((-ĀY-Ć)Y-ā)Y-Ą)Y-ć)Y-Ĉ)))O(((ăYĂ)YĈ)Y(((((-ĀY-Ć)Y-ā)Y-Ą)Y-ć)Y-ą)))O(((ăYą)YĈ)Y(((((-ĀY-Ć)Y-ā)Y-Ą)Y-ć)Y-Ă)))O(((ĆYā)YĄ)Y(((((-ĀY-ă)Y-ć)Y-Ă)Y-ą)Y-Ĉ)))O(((ĆYā)Yć)Y(((((-ĀY-ă)Y-Ą)Y-Ă)Y-ą)Y-Ĉ)))O(((ĆYā)YĂ)Y(((((-ĀY-ă)Y-Ą)Y-ć)Y-ą)Y-Ĉ)))O(((ĆYā)Yą)Y(((((-ĀY-ă)Y-Ą)Y-ć)Y-Ă)Y-Ĉ)))O(((ĆYā)YĈ)Y(((((-ĀY-ă)Y-Ą)Y-ć)Y-Ă)Y-ą)))O(((ĆYĄ)Yć)Y(((((-ĀY-ă)Y-ā)Y-Ă)Y-ą)Y-Ĉ)))O(((ĆYĄ)YĂ)Y(((((-ĀY-ă)Y-ā)Y-ć)Y-ą)Y-Ĉ)))O(((ĆYĄ)Yą)Y(((((-ĀY-ă)Y-ā)Y-ć)Y-Ă)Y-Ĉ)))O(((ĆYĄ)YĈ)Y(((((-ĀY-ă)Y-ā)Y-ć)Y-Ă)Y-ą)))O(((ĆYć)YĂ)Y(((((-ĀY-ă)Y-ā)Y-Ą)Y-ą)Y-Ĉ)))O(((ĆYć)Yą)Y(((((-ĀY-ă)Y-ā)Y-Ą)Y-Ă)Y-Ĉ)))O(((ĆYć)YĈ)Y(((((-ĀY-ă)Y-ā)Y-Ą)Y-Ă)Y-ą)))O(((ĆYĂ)Yą)Y(((((-ĀY-ă)Y-ā)Y-Ą)Y-ć)Y-Ĉ)))O(((ĆYĂ)YĈ)Y(((((-ĀY-ă)Y-ā)Y-Ą)Y-ć)Y-ą)))O(((ĆYą)YĈ)Y(((((-ĀY-ă)Y-ā)Y-Ą)Y-ć)Y-Ă)))O(((āYĄ)Yć)Y(((((-ĀY-ă)Y-Ć)Y-Ă)Y-ą)Y-Ĉ)))O(((āYĄ)YĂ)Y(((((-ĀY-ă)Y-Ć)Y-ć)Y-ą)Y-Ĉ)))O(((āYĄ)Yą)Y(((((-ĀY-ă)Y-Ć)Y-ć)Y-Ă)Y-Ĉ)))O(((āYĄ)YĈ)Y(((((-ĀY-ă)Y-Ć)Y-ć)Y-Ă)Y-ą)))O(((āYć)YĂ)Y(((((-ĀY-ă)Y-Ć)Y-Ą)Y-ą)Y-Ĉ)))O(((āYć)Yą)Y(((((-ĀY-ă)Y-Ć)Y-Ą)Y-Ă)Y-Ĉ)))O(((āYć)YĈ)Y(((((-ĀY-ă)Y-Ć)Y-Ą)Y-Ă)Y-ą)))O(((āYĂ)Yą)Y(((((-ĀY-ă)Y-Ć)Y-Ą)Y-ć)Y-Ĉ)))O(((āYĂ)YĈ)Y(((((-ĀY-ă)Y-Ć)Y-Ą)Y-ć)Y-ą)))O(((āYą)YĈ)Y(((((-ĀY-ă)Y-Ć)Y-Ą)Y-ć)Y-Ă)))O(((ĄYć)YĂ)Y(((((-ĀY-ă)Y-Ć)Y-ā)Y-ą)Y-Ĉ)))O(((ĄYć)Yą)Y(((((-ĀY-ă)Y-Ć)Y-ā)Y-Ă)Y-Ĉ)))O(((ĄYć)YĈ)Y(((((-ĀY-ă)Y-Ć)Y-ā)Y-Ă)Y-ą)))O(((ĄYĂ)Yą)Y(((((-ĀY-ă)Y-Ć)Y-ā)Y-ć)Y-Ĉ)))O(((ĄYĂ)YĈ)Y(((((-ĀY-ă)Y-Ć)Y-ā)Y-ć)Y-ą)))O(((ĄYą)YĈ)Y(((((-ĀY-ă)Y-Ć)Y-ā)Y-ć)Y-Ă)))O(((ćYĂ)Yą)Y(((((-ĀY-ă)Y-Ć)Y-ā)Y-Ą)Y-Ĉ)))O(((ćYĂ)YĈ)Y(((((-ĀY-ă)Y-Ć)Y-ā)Y-Ą)Y-ą)))O(((ćYą)YĈ)Y(((((-ĀY-ă)Y-Ć)Y-ā)Y-Ą)Y-Ă)))O(((ĂYą)YĈ)Y(((((-ĀY-ă)Y-Ć)Y-ā)Y-Ą)Y-ć)))',\n '((((((((Ā>-(ćOą))Y(ā>-(ĆOĈ)))Y(Ă>-(ćOă)))Y(ă>-(ĈOĂ)))Y(ą>-(ĆOĀ)))Y(Ć>-(āOą)))Y(ć>-(ĀOĂ)))Y(Ĉ>-(ăOā)))',\n 'ć']"
          },
          "metadata": {}
        }
      ]
    },
    {
      "cell_type": "markdown",
      "source": "La clase `Caballos` crea de una vez el descriptor, mediante el cual podemos decodificar las letras:",
      "metadata": {}
    },
    {
      "cell_type": "code",
      "source": "c.CenC.escribir('ć')",
      "metadata": {
        "trusted": true
      },
      "execution_count": 33,
      "outputs": [
        {
          "execution_count": 33,
          "output_type": "execute_result",
          "data": {
            "text/plain": "'El caballo está en la casilla (1,2)'"
          },
          "metadata": {}
        }
      ]
    },
    {
      "cell_type": "markdown",
      "source": "También podemos revisar regla por regla. Observe que las fórmulas incluyen un método `ver` para visualizar más fácilmente las reglas:",
      "metadata": {}
    },
    {
      "cell_type": "code",
      "source": "A = inorder_to_tree(c.reglas[1])\nprint(A.ver(c.CenC))",
      "metadata": {
        "trusted": true
      },
      "execution_count": 34,
      "outputs": [
        {
          "name": "stdout",
          "text": "((((((((El caballo está en la casilla (0,0) >  no (El caballo está en la casilla (1,2) O El caballo está en la casilla (2,1))) Y (El caballo está en la casilla (1,0) >  no (El caballo está en la casilla (0,2) O El caballo está en la casilla (2,2)))) Y (El caballo está en la casilla (2,0) >  no (El caballo está en la casilla (1,2) O El caballo está en la casilla (0,1)))) Y (El caballo está en la casilla (0,1) >  no (El caballo está en la casilla (2,2) O El caballo está en la casilla (2,0)))) Y (El caballo está en la casilla (2,1) >  no (El caballo está en la casilla (0,2) O El caballo está en la casilla (0,0)))) Y (El caballo está en la casilla (0,2) >  no (El caballo está en la casilla (1,0) O El caballo está en la casilla (2,1)))) Y (El caballo está en la casilla (1,2) >  no (El caballo está en la casilla (0,0) O El caballo está en la casilla (2,0)))) Y (El caballo está en la casilla (2,2) >  no (El caballo está en la casilla (0,1) O El caballo está en la casilla (1,0))))\n",
          "output_type": "stream"
        }
      ]
    },
    {
      "cell_type": "code",
      "source": "A = inorder_to_tree(c.reglas[0])\nprint(A.ver(c.CenC))",
      "metadata": {
        "trusted": true
      },
      "execution_count": 35,
      "outputs": [
        {
          "name": "stdout",
          "text": "((((((((((((((((((((((((((((((((((((((((((((((((((((((((((((((((((((((((((((((((((((((El caballo está en la casilla (0,0) Y El caballo está en la casilla (0,1)) Y El caballo está en la casilla (0,2)) Y ((((( no El caballo está en la casilla (1,0) Y  no El caballo está en la casilla (1,1)) Y  no El caballo está en la casilla (1,2)) Y  no El caballo está en la casilla (2,0)) Y  no El caballo está en la casilla (2,1)) Y  no El caballo está en la casilla (2,2))) O (((El caballo está en la casilla (0,0) Y El caballo está en la casilla (0,1)) Y El caballo está en la casilla (1,0)) Y ((((( no El caballo está en la casilla (0,2) Y  no El caballo está en la casilla (1,1)) Y  no El caballo está en la casilla (1,2)) Y  no El caballo está en la casilla (2,0)) Y  no El caballo está en la casilla (2,1)) Y  no El caballo está en la casilla (2,2)))) O (((El caballo está en la casilla (0,0) Y El caballo está en la casilla (0,1)) Y El caballo está en la casilla (1,1)) Y ((((( no El caballo está en la casilla (0,2) Y  no El caballo está en la casilla (1,0)) Y  no El caballo está en la casilla (1,2)) Y  no El caballo está en la casilla (2,0)) Y  no El caballo está en la casilla (2,1)) Y  no El caballo está en la casilla (2,2)))) O (((El caballo está en la casilla (0,0) Y El caballo está en la casilla (0,1)) Y El caballo está en la casilla (1,2)) Y ((((( no El caballo está en la casilla (0,2) Y  no El caballo está en la casilla (1,0)) Y  no El caballo está en la casilla (1,1)) Y  no El caballo está en la casilla (2,0)) Y  no El caballo está en la casilla (2,1)) Y  no El caballo está en la casilla (2,2)))) O (((El caballo está en la casilla (0,0) Y El caballo está en la casilla (0,1)) Y El caballo está en la casilla (2,0)) Y ((((( no El caballo está en la casilla (0,2) Y  no El caballo está en la casilla (1,0)) Y  no El caballo está en la casilla (1,1)) Y  no El caballo está en la casilla (1,2)) Y  no El caballo está en la casilla (2,1)) Y  no El caballo está en la casilla (2,2)))) O (((El caballo está en la casilla (0,0) Y El caballo está en la casilla (0,1)) Y El caballo está en la casilla (2,1)) Y ((((( no El caballo está en la casilla (0,2) Y  no El caballo está en la casilla (1,0)) Y  no El caballo está en la casilla (1,1)) Y  no El caballo está en la casilla (1,2)) Y  no El caballo está en la casilla (2,0)) Y  no El caballo está en la casilla (2,2)))) O (((El caballo está en la casilla (0,0) Y El caballo está en la casilla (0,1)) Y El caballo está en la casilla (2,2)) Y ((((( no El caballo está en la casilla (0,2) Y  no El caballo está en la casilla (1,0)) Y  no El caballo está en la casilla (1,1)) Y  no El caballo está en la casilla (1,2)) Y  no El caballo está en la casilla (2,0)) Y  no El caballo está en la casilla (2,1)))) O (((El caballo está en la casilla (0,0) Y El caballo está en la casilla (0,2)) Y El caballo está en la casilla (1,0)) Y ((((( no El caballo está en la casilla (0,1) Y  no El caballo está en la casilla (1,1)) Y  no El caballo está en la casilla (1,2)) Y  no El caballo está en la casilla (2,0)) Y  no El caballo está en la casilla (2,1)) Y  no El caballo está en la casilla (2,2)))) O (((El caballo está en la casilla (0,0) Y El caballo está en la casilla (0,2)) Y El caballo está en la casilla (1,1)) Y ((((( no El caballo está en la casilla (0,1) Y  no El caballo está en la casilla (1,0)) Y  no El caballo está en la casilla (1,2)) Y  no El caballo está en la casilla (2,0)) Y  no El caballo está en la casilla (2,1)) Y  no El caballo está en la casilla (2,2)))) O (((El caballo está en la casilla (0,0) Y El caballo está en la casilla (0,2)) Y El caballo está en la casilla (1,2)) Y ((((( no El caballo está en la casilla (0,1) Y  no El caballo está en la casilla (1,0)) Y  no El caballo está en la casilla (1,1)) Y  no El caballo está en la casilla (2,0)) Y  no El caballo está en la casilla (2,1)) Y  no El caballo está en la casilla (2,2)))) O (((El caballo está en la casilla (0,0) Y El caballo está en la casilla (0,2)) Y El caballo está en la casilla (2,0)) Y ((((( no El caballo está en la casilla (0,1) Y  no El caballo está en la casilla (1,0)) Y  no El caballo está en la casilla (1,1)) Y  no El caballo está en la casilla (1,2)) Y  no El caballo está en la casilla (2,1)) Y  no El caballo está en la casilla (2,2)))) O (((El caballo está en la casilla (0,0) Y El caballo está en la casilla (0,2)) Y El caballo está en la casilla (2,1)) Y ((((( no El caballo está en la casilla (0,1) Y  no El caballo está en la casilla (1,0)) Y  no El caballo está en la casilla (1,1)) Y  no El caballo está en la casilla (1,2)) Y  no El caballo está en la casilla (2,0)) Y  no El caballo está en la casilla (2,2)))) O (((El caballo está en la casilla (0,0) Y El caballo está en la casilla (0,2)) Y El caballo está en la casilla (2,2)) Y ((((( no El caballo está en la casilla (0,1) Y  no El caballo está en la casilla (1,0)) Y  no El caballo está en la casilla (1,1)) Y  no El caballo está en la casilla (1,2)) Y  no El caballo está en la casilla (2,0)) Y  no El caballo está en la casilla (2,1)))) O (((El caballo está en la casilla (0,0) Y El caballo está en la casilla (1,0)) Y El caballo está en la casilla (1,1)) Y ((((( no El caballo está en la casilla (0,1) Y  no El caballo está en la casilla (0,2)) Y  no El caballo está en la casilla (1,2)) Y  no El caballo está en la casilla (2,0)) Y  no El caballo está en la casilla (2,1)) Y  no El caballo está en la casilla (2,2)))) O (((El caballo está en la casilla (0,0) Y El caballo está en la casilla (1,0)) Y El caballo está en la casilla (1,2)) Y ((((( no El caballo está en la casilla (0,1) Y  no El caballo está en la casilla (0,2)) Y  no El caballo está en la casilla (1,1)) Y  no El caballo está en la casilla (2,0)) Y  no El caballo está en la casilla (2,1)) Y  no El caballo está en la casilla (2,2)))) O (((El caballo está en la casilla (0,0) Y El caballo está en la casilla (1,0)) Y El caballo está en la casilla (2,0)) Y ((((( no El caballo está en la casilla (0,1) Y  no El caballo está en la casilla (0,2)) Y  no El caballo está en la casilla (1,1)) Y  no El caballo está en la casilla (1,2)) Y  no El caballo está en la casilla (2,1)) Y  no El caballo está en la casilla (2,2)))) O (((El caballo está en la casilla (0,0) Y El caballo está en la casilla (1,0)) Y El caballo está en la casilla (2,1)) Y ((((( no El caballo está en la casilla (0,1) Y  no El caballo está en la casilla (0,2)) Y  no El caballo está en la casilla (1,1)) Y  no El caballo está en la casilla (1,2)) Y  no El caballo está en la casilla (2,0)) Y  no El caballo está en la casilla (2,2)))) O (((El caballo está en la casilla (0,0) Y El caballo está en la casilla (1,0)) Y El caballo está en la casilla (2,2)) Y ((((( no El caballo está en la casilla (0,1) Y  no El caballo está en la casilla (0,2)) Y  no El caballo está en la casilla (1,1)) Y  no El caballo está en la casilla (1,2)) Y  no El caballo está en la casilla (2,0)) Y  no El caballo está en la casilla (2,1)))) O (((El caballo está en la casilla (0,0) Y El caballo está en la casilla (1,1)) Y El caballo está en la casilla (1,2)) Y ((((( no El caballo está en la casilla (0,1) Y  no El caballo está en la casilla (0,2)) Y  no El caballo está en la casilla (1,0)) Y  no El caballo está en la casilla (2,0)) Y  no El caballo está en la casilla (2,1)) Y  no El caballo está en la casilla (2,2)))) O (((El caballo está en la casilla (0,0) Y El caballo está en la casilla (1,1)) Y El caballo está en la casilla (2,0)) Y ((((( no El caballo está en la casilla (0,1) Y  no El caballo está en la casilla (0,2)) Y  no El caballo está en la casilla (1,0)) Y  no El caballo está en la casilla (1,2)) Y  no El caballo está en la casilla (2,1)) Y  no El caballo está en la casilla (2,2)))) O (((El caballo está en la casilla (0,0) Y El caballo está en la casilla (1,1)) Y El caballo está en la casilla (2,1)) Y ((((( no El caballo está en la casilla (0,1) Y  no El caballo está en la casilla (0,2)) Y  no El caballo está en la casilla (1,0)) Y  no El caballo está en la casilla (1,2)) Y  no El caballo está en la casilla (2,0)) Y  no El caballo está en la casilla (2,2)))) O (((El caballo está en la casilla (0,0) Y El caballo está en la casilla (1,1)) Y El caballo está en la casilla (2,2)) Y ((((( no El caballo está en la casilla (0,1) Y  no El caballo está en la casilla (0,2)) Y  no El caballo está en la casilla (1,0)) Y  no El caballo está en la casilla (1,2)) Y  no El caballo está en la casilla (2,0)) Y  no El caballo está en la casilla (2,1)))) O (((El caballo está en la casilla (0,0) Y El caballo está en la casilla (1,2)) Y El caballo está en la casilla (2,0)) Y ((((( no El caballo está en la casilla (0,1) Y  no El caballo está en la casilla (0,2)) Y  no El caballo está en la casilla (1,0)) Y  no El caballo está en la casilla (1,1)) Y  no El caballo está en la casilla (2,1)) Y  no El caballo está en la casilla (2,2)))) O (((El caballo está en la casilla (0,0) Y El caballo está en la casilla (1,2)) Y El caballo está en la casilla (2,1)) Y ((((( no El caballo está en la casilla (0,1) Y  no El caballo está en la casilla (0,2)) Y  no El caballo está en la casilla (1,0)) Y  no El caballo está en la casilla (1,1)) Y  no El caballo está en la casilla (2,0)) Y  no El caballo está en la casilla (2,2)))) O (((El caballo está en la casilla (0,0) Y El caballo está en la casilla (1,2)) Y El caballo está en la casilla (2,2)) Y ((((( no El caballo está en la casilla (0,1) Y  no El caballo está en la casilla (0,2)) Y  no El caballo está en la casilla (1,0)) Y  no El caballo está en la casilla (1,1)) Y  no El caballo está en la casilla (2,0)) Y  no El caballo está en la casilla (2,1)))) O (((El caballo está en la casilla (0,0) Y El caballo está en la casilla (2,0)) Y El caballo está en la casilla (2,1)) Y ((((( no El caballo está en la casilla (0,1) Y  no El caballo está en la casilla (0,2)) Y  no El caballo está en la casilla (1,0)) Y  no El caballo está en la casilla (1,1)) Y  no El caballo está en la casilla (1,2)) Y  no El caballo está en la casilla (2,2)))) O (((El caballo está en la casilla (0,0) Y El caballo está en la casilla (2,0)) Y El caballo está en la casilla (2,2)) Y ((((( no El caballo está en la casilla (0,1) Y  no El caballo está en la casilla (0,2)) Y  no El caballo está en la casilla (1,0)) Y  no El caballo está en la casilla (1,1)) Y  no El caballo está en la casilla (1,2)) Y  no El caballo está en la casilla (2,1)))) O (((El caballo está en la casilla (0,0) Y El caballo está en la casilla (2,1)) Y El caballo está en la casilla (2,2)) Y ((((( no El caballo está en la casilla (0,1) Y  no El caballo está en la casilla (0,2)) Y  no El caballo está en la casilla (1,0)) Y  no El caballo está en la casilla (1,1)) Y  no El caballo está en la casilla (1,2)) Y  no El caballo está en la casilla (2,0)))) O (((El caballo está en la casilla (0,1) Y El caballo está en la casilla (0,2)) Y El caballo está en la casilla (1,0)) Y ((((( no El caballo está en la casilla (0,0) Y  no El caballo está en la casilla (1,1)) Y  no El caballo está en la casilla (1,2)) Y  no El caballo está en la casilla (2,0)) Y  no El caballo está en la casilla (2,1)) Y  no El caballo está en la casilla (2,2)))) O (((El caballo está en la casilla (0,1) Y El caballo está en la casilla (0,2)) Y El caballo está en la casilla (1,1)) Y ((((( no El caballo está en la casilla (0,0) Y  no El caballo está en la casilla (1,0)) Y  no El caballo está en la casilla (1,2)) Y  no El caballo está en la casilla (2,0)) Y  no El caballo está en la casilla (2,1)) Y  no El caballo está en la casilla (2,2)))) O (((El caballo está en la casilla (0,1) Y El caballo está en la casilla (0,2)) Y El caballo está en la casilla (1,2)) Y ((((( no El caballo está en la casilla (0,0) Y  no El caballo está en la casilla (1,0)) Y  no El caballo está en la casilla (1,1)) Y  no El caballo está en la casilla (2,0)) Y  no El caballo está en la casilla (2,1)) Y  no El caballo está en la casilla (2,2)))) O (((El caballo está en la casilla (0,1) Y El caballo está en la casilla (0,2)) Y El caballo está en la casilla (2,0)) Y ((((( no El caballo está en la casilla (0,0) Y  no El caballo está en la casilla (1,0)) Y  no El caballo está en la casilla (1,1)) Y  no El caballo está en la casilla (1,2)) Y  no El caballo está en la casilla (2,1)) Y  no El caballo está en la casilla (2,2)))) O (((El caballo está en la casilla (0,1) Y El caballo está en la casilla (0,2)) Y El caballo está en la casilla (2,1)) Y ((((( no El caballo está en la casilla (0,0) Y  no El caballo está en la casilla (1,0)) Y  no El caballo está en la casilla (1,1)) Y  no El caballo está en la casilla (1,2)) Y  no El caballo está en la casilla (2,0)) Y  no El caballo está en la casilla (2,2)))) O (((El caballo está en la casilla (0,1) Y El caballo está en la casilla (0,2)) Y El caballo está en la casilla (2,2)) Y ((((( no El caballo está en la casilla (0,0) Y  no El caballo está en la casilla (1,0)) Y  no El caballo está en la casilla (1,1)) Y  no El caballo está en la casilla (1,2)) Y  no El caballo está en la casilla (2,0)) Y  no El caballo está en la casilla (2,1)))) O (((El caballo está en la casilla (0,1) Y El caballo está en la casilla (1,0)) Y El caballo está en la casilla (1,1)) Y ((((( no El caballo está en la casilla (0,0) Y  no El caballo está en la casilla (0,2)) Y  no El caballo está en la casilla (1,2)) Y  no El caballo está en la casilla (2,0)) Y  no El caballo está en la casilla (2,1)) Y  no El caballo está en la casilla (2,2)))) O (((El caballo está en la casilla (0,1) Y El caballo está en la casilla (1,0)) Y El caballo está en la casilla (1,2)) Y ((((( no El caballo está en la casilla (0,0) Y  no El caballo está en la casilla (0,2)) Y  no El caballo está en la casilla (1,1)) Y  no El caballo está en la casilla (2,0)) Y  no El caballo está en la casilla (2,1)) Y  no El caballo está en la casilla (2,2)))) O (((El caballo está en la casilla (0,1) Y El caballo está en la casilla (1,0)) Y El caballo está en la casilla (2,0)) Y ((((( no El caballo está en la casilla (0,0) Y  no El caballo está en la casilla (0,2)) Y  no El caballo está en la casilla (1,1)) Y  no El caballo está en la casilla (1,2)) Y  no El caballo está en la casilla (2,1)) Y  no El caballo está en la casilla (2,2)))) O (((El caballo está en la casilla (0,1) Y El caballo está en la casilla (1,0)) Y El caballo está en la casilla (2,1)) Y ((((( no El caballo está en la casilla (0,0) Y  no El caballo está en la casilla (0,2)) Y  no El caballo está en la casilla (1,1)) Y  no El caballo está en la casilla (1,2)) Y  no El caballo está en la casilla (2,0)) Y  no El caballo está en la casilla (2,2)))) O (((El caballo está en la casilla (0,1) Y El caballo está en la casilla (1,0)) Y El caballo está en la casilla (2,2)) Y ((((( no El caballo está en la casilla (0,0) Y  no El caballo está en la casilla (0,2)) Y  no El caballo está en la casilla (1,1)) Y  no El caballo está en la casilla (1,2)) Y  no El caballo está en la casilla (2,0)) Y  no El caballo está en la casilla (2,1)))) O (((El caballo está en la casilla (0,1) Y El caballo está en la casilla (1,1)) Y El caballo está en la casilla (1,2)) Y ((((( no El caballo está en la casilla (0,0) Y  no El caballo está en la casilla (0,2)) Y  no El caballo está en la casilla (1,0)) Y  no El caballo está en la casilla (2,0)) Y  no El caballo está en la casilla (2,1)) Y  no El caballo está en la casilla (2,2)))) O (((El caballo está en la casilla (0,1) Y El caballo está en la casilla (1,1)) Y El caballo está en la casilla (2,0)) Y ((((( no El caballo está en la casilla (0,0) Y  no El caballo está en la casilla (0,2)) Y  no El caballo está en la casilla (1,0)) Y  no El caballo está en la casilla (1,2)) Y  no El caballo está en la casilla (2,1)) Y  no El caballo está en la casilla (2,2)))) O (((El caballo está en la casilla (0,1) Y El caballo está en la casilla (1,1)) Y El caballo está en la casilla (2,1)) Y ((((( no El caballo está en la casilla (0,0) Y  no El caballo está en la casilla (0,2)) Y  no El caballo está en la casilla (1,0)) Y  no El caballo está en la casilla (1,2)) Y  no El caballo está en la casilla (2,0)) Y  no El caballo está en la casilla (2,2)))) O (((El caballo está en la casilla (0,1) Y El caballo está en la casilla (1,1)) Y El caballo está en la casilla (2,2)) Y ((((( no El caballo está en la casilla (0,0) Y  no El caballo está en la casilla (0,2)) Y  no El caballo está en la casilla (1,0)) Y  no El caballo está en la casilla (1,2)) Y  no El caballo está en la casilla (2,0)) Y  no El caballo está en la casilla (2,1)))) O (((El caballo está en la casilla (0,1) Y El caballo está en la casilla (1,2)) Y El caballo está en la casilla (2,0)) Y ((((( no El caballo está en la casilla (0,0) Y  no El caballo está en la casilla (0,2)) Y  no El caballo está en la casilla (1,0)) Y  no El caballo está en la casilla (1,1)) Y  no El caballo está en la casilla (2,1)) Y  no El caballo está en la casilla (2,2)))) O (((El caballo está en la casilla (0,1) Y El caballo está en la casilla (1,2)) Y El caballo está en la casilla (2,1)) Y ((((( no El caballo está en la casilla (0,0) Y  no El caballo está en la casilla (0,2)) Y  no El caballo está en la casilla (1,0)) Y  no El caballo está en la casilla (1,1)) Y  no El caballo está en la casilla (2,0)) Y  no El caballo está en la casilla (2,2)))) O (((El caballo está en la casilla (0,1) Y El caballo está en la casilla (1,2)) Y El caballo está en la casilla (2,2)) Y ((((( no El caballo está en la casilla (0,0) Y  no El caballo está en la casilla (0,2)) Y  no El caballo está en la casilla (1,0)) Y  no El caballo está en la casilla (1,1)) Y  no El caballo está en la casilla (2,0)) Y  no El caballo está en la casilla (2,1)))) O (((El caballo está en la casilla (0,1) Y El caballo está en la casilla (2,0)) Y El caballo está en la casilla (2,1)) Y ((((( no El caballo está en la casilla (0,0) Y  no El caballo está en la casilla (0,2)) Y  no El caballo está en la casilla (1,0)) Y  no El caballo está en la casilla (1,1)) Y  no El caballo está en la casilla (1,2)) Y  no El caballo está en la casilla (2,2)))) O (((El caballo está en la casilla (0,1) Y El caballo está en la casilla (2,0)) Y El caballo está en la casilla (2,2)) Y ((((( no El caballo está en la casilla (0,0) Y  no El caballo está en la casilla (0,2)) Y  no El caballo está en la casilla (1,0)) Y  no El caballo está en la casilla (1,1)) Y  no El caballo está en la casilla (1,2)) Y  no El caballo está en la casilla (2,1)))) O (((El caballo está en la casilla (0,1) Y El caballo está en la casilla (2,1)) Y El caballo está en la casilla (2,2)) Y ((((( no El caballo está en la casilla (0,0) Y  no El caballo está en la casilla (0,2)) Y  no El caballo está en la casilla (1,0)) Y  no El caballo está en la casilla (1,1)) Y  no El caballo está en la casilla (1,2)) Y  no El caballo está en la casilla (2,0)))) O (((El caballo está en la casilla (0,2) Y El caballo está en la casilla (1,0)) Y El caballo está en la casilla (1,1)) Y ((((( no El caballo está en la casilla (0,0) Y  no El caballo está en la casilla (0,1)) Y  no El caballo está en la casilla (1,2)) Y  no El caballo está en la casilla (2,0)) Y  no El caballo está en la casilla (2,1)) Y  no El caballo está en la casilla (2,2)))) O (((El caballo está en la casilla (0,2) Y El caballo está en la casilla (1,0)) Y El caballo está en la casilla (1,2)) Y ((((( no El caballo está en la casilla (0,0) Y  no El caballo está en la casilla (0,1)) Y  no El caballo está en la casilla (1,1)) Y  no El caballo está en la casilla (2,0)) Y  no El caballo está en la casilla (2,1)) Y  no El caballo está en la casilla (2,2)))) O (((El caballo está en la casilla (0,2) Y El caballo está en la casilla (1,0)) Y El caballo está en la casilla (2,0)) Y ((((( no El caballo está en la casilla (0,0) Y  no El caballo está en la casilla (0,1)) Y  no El caballo está en la casilla (1,1)) Y  no El caballo está en la casilla (1,2)) Y  no El caballo está en la casilla (2,1)) Y  no El caballo está en la casilla (2,2)))) O (((El caballo está en la casilla (0,2) Y El caballo está en la casilla (1,0)) Y El caballo está en la casilla (2,1)) Y ((((( no El caballo está en la casilla (0,0) Y  no El caballo está en la casilla (0,1)) Y  no El caballo está en la casilla (1,1)) Y  no El caballo está en la casilla (1,2)) Y  no El caballo está en la casilla (2,0)) Y  no El caballo está en la casilla (2,2)))) O (((El caballo está en la casilla (0,2) Y El caballo está en la casilla (1,0)) Y El caballo está en la casilla (2,2)) Y ((((( no El caballo está en la casilla (0,0) Y  no El caballo está en la casilla (0,1)) Y  no El caballo está en la casilla (1,1)) Y  no El caballo está en la casilla (1,2)) Y  no El caballo está en la casilla (2,0)) Y  no El caballo está en la casilla (2,1)))) O (((El caballo está en la casilla (0,2) Y El caballo está en la casilla (1,1)) Y El caballo está en la casilla (1,2)) Y ((((( no El caballo está en la casilla (0,0) Y  no El caballo está en la casilla (0,1)) Y  no El caballo está en la casilla (1,0)) Y  no El caballo está en la casilla (2,0)) Y  no El caballo está en la casilla (2,1)) Y  no El caballo está en la casilla (2,2)))) O (((El caballo está en la casilla (0,2) Y El caballo está en la casilla (1,1)) Y El caballo está en la casilla (2,0)) Y ((((( no El caballo está en la casilla (0,0) Y  no El caballo está en la casilla (0,1)) Y  no El caballo está en la casilla (1,0)) Y  no El caballo está en la casilla (1,2)) Y  no El caballo está en la casilla (2,1)) Y  no El caballo está en la casilla (2,2)))) O (((El caballo está en la casilla (0,2) Y El caballo está en la casilla (1,1)) Y El caballo está en la casilla (2,1)) Y ((((( no El caballo está en la casilla (0,0) Y  no El caballo está en la casilla (0,1)) Y  no El caballo está en la casilla (1,0)) Y  no El caballo está en la casilla (1,2)) Y  no El caballo está en la casilla (2,0)) Y  no El caballo está en la casilla (2,2)))) O (((El caballo está en la casilla (0,2) Y El caballo está en la casilla (1,1)) Y El caballo está en la casilla (2,2)) Y ((((( no El caballo está en la casilla (0,0) Y  no El caballo está en la casilla (0,1)) Y  no El caballo está en la casilla (1,0)) Y  no El caballo está en la casilla (1,2)) Y  no El caballo está en la casilla (2,0)) Y  no El caballo está en la casilla (2,1)))) O (((El caballo está en la casilla (0,2) Y El caballo está en la casilla (1,2)) Y El caballo está en la casilla (2,0)) Y ((((( no El caballo está en la casilla (0,0) Y  no El caballo está en la casilla (0,1)) Y  no El caballo está en la casilla (1,0)) Y  no El caballo está en la casilla (1,1)) Y  no El caballo está en la casilla (2,1)) Y  no El caballo está en la casilla (2,2)))) O (((El caballo está en la casilla (0,2) Y El caballo está en la casilla (1,2)) Y El caballo está en la casilla (2,1)) Y ((((( no El caballo está en la casilla (0,0) Y  no El caballo está en la casilla (0,1)) Y  no El caballo está en la casilla (1,0)) Y  no El caballo está en la casilla (1,1)) Y  no El caballo está en la casilla (2,0)) Y  no El caballo está en la casilla (2,2)))) O (((El caballo está en la casilla (0,2) Y El caballo está en la casilla (1,2)) Y El caballo está en la casilla (2,2)) Y ((((( no El caballo está en la casilla (0,0) Y  no El caballo está en la casilla (0,1)) Y  no El caballo está en la casilla (1,0)) Y  no El caballo está en la casilla (1,1)) Y  no El caballo está en la casilla (2,0)) Y  no El caballo está en la casilla (2,1)))) O (((El caballo está en la casilla (0,2) Y El caballo está en la casilla (2,0)) Y El caballo está en la casilla (2,1)) Y ((((( no El caballo está en la casilla (0,0) Y  no El caballo está en la casilla (0,1)) Y  no El caballo está en la casilla (1,0)) Y  no El caballo está en la casilla (1,1)) Y  no El caballo está en la casilla (1,2)) Y  no El caballo está en la casilla (2,2)))) O (((El caballo está en la casilla (0,2) Y El caballo está en la casilla (2,0)) Y El caballo está en la casilla (2,2)) Y ((((( no El caballo está en la casilla (0,0) Y  no El caballo está en la casilla (0,1)) Y  no El caballo está en la casilla (1,0)) Y  no El caballo está en la casilla (1,1)) Y  no El caballo está en la casilla (1,2)) Y  no El caballo está en la casilla (2,1)))) O (((El caballo está en la casilla (0,2) Y El caballo está en la casilla (2,1)) Y El caballo está en la casilla (2,2)) Y ((((( no El caballo está en la casilla (0,0) Y  no El caballo está en la casilla (0,1)) Y  no El caballo está en la casilla (1,0)) Y  no El caballo está en la casilla (1,1)) Y  no El caballo está en la casilla (1,2)) Y  no El caballo está en la casilla (2,0)))) O (((El caballo está en la casilla (1,0) Y El caballo está en la casilla (1,1)) Y El caballo está en la casilla (1,2)) Y ((((( no El caballo está en la casilla (0,0) Y  no El caballo está en la casilla (0,1)) Y  no El caballo está en la casilla (0,2)) Y  no El caballo está en la casilla (2,0)) Y  no El caballo está en la casilla (2,1)) Y  no El caballo está en la casilla (2,2)))) O (((El caballo está en la casilla (1,0) Y El caballo está en la casilla (1,1)) Y El caballo está en la casilla (2,0)) Y ((((( no El caballo está en la casilla (0,0) Y  no El caballo está en la casilla (0,1)) Y  no El caballo está en la casilla (0,2)) Y  no El caballo está en la casilla (1,2)) Y  no El caballo está en la casilla (2,1)) Y  no El caballo está en la casilla (2,2)))) O (((El caballo está en la casilla (1,0) Y El caballo está en la casilla (1,1)) Y El caballo está en la casilla (2,1)) Y ((((( no El caballo está en la casilla (0,0) Y  no El caballo está en la casilla (0,1)) Y  no El caballo está en la casilla (0,2)) Y  no El caballo está en la casilla (1,2)) Y  no El caballo está en la casilla (2,0)) Y  no El caballo está en la casilla (2,2)))) O (((El caballo está en la casilla (1,0) Y El caballo está en la casilla (1,1)) Y El caballo está en la casilla (2,2)) Y ((((( no El caballo está en la casilla (0,0) Y  no El caballo está en la casilla (0,1)) Y  no El caballo está en la casilla (0,2)) Y  no El caballo está en la casilla (1,2)) Y  no El caballo está en la casilla (2,0)) Y  no El caballo está en la casilla (2,1)))) O (((El caballo está en la casilla (1,0) Y El caballo está en la casilla (1,2)) Y El caballo está en la casilla (2,0)) Y ((((( no El caballo está en la casilla (0,0) Y  no El caballo está en la casilla (0,1)) Y  no El caballo está en la casilla (0,2)) Y  no El caballo está en la casilla (1,1)) Y  no El caballo está en la casilla (2,1)) Y  no El caballo está en la casilla (2,2)))) O (((El caballo está en la casilla (1,0) Y El caballo está en la casilla (1,2)) Y El caballo está en la casilla (2,1)) Y ((((( no El caballo está en la casilla (0,0) Y  no El caballo está en la casilla (0,1)) Y  no El caballo está en la casilla (0,2)) Y  no El caballo está en la casilla (1,1)) Y  no El caballo está en la casilla (2,0)) Y  no El caballo está en la casilla (2,2)))) O (((El caballo está en la casilla (1,0) Y El caballo está en la casilla (1,2)) Y El caballo está en la casilla (2,2)) Y ((((( no El caballo está en la casilla (0,0) Y  no El caballo está en la casilla (0,1)) Y  no El caballo está en la casilla (0,2)) Y  no El caballo está en la casilla (1,1)) Y  no El caballo está en la casilla (2,0)) Y  no El caballo está en la casilla (2,1)))) O (((El caballo está en la casilla (1,0) Y El caballo está en la casilla (2,0)) Y El caballo está en la casilla (2,1)) Y ((((( no El caballo está en la casilla (0,0) Y  no El caballo está en la casilla (0,1)) Y  no El caballo está en la casilla (0,2)) Y  no El caballo está en la casilla (1,1)) Y  no El caballo está en la casilla (1,2)) Y  no El caballo está en la casilla (2,2)))) O (((El caballo está en la casilla (1,0) Y El caballo está en la casilla (2,0)) Y El caballo está en la casilla (2,2)) Y ((((( no El caballo está en la casilla (0,0) Y  no El caballo está en la casilla (0,1)) Y  no El caballo está en la casilla (0,2)) Y  no El caballo está en la casilla (1,1)) Y  no El caballo está en la casilla (1,2)) Y  no El caballo está en la casilla (2,1)))) O (((El caballo está en la casilla (1,0) Y El caballo está en la casilla (2,1)) Y El caballo está en la casilla (2,2)) Y ((((( no El caballo está en la casilla (0,0) Y  no El caballo está en la casilla (0,1)) Y  no El caballo está en la casilla (0,2)) Y  no El caballo está en la casilla (1,1)) Y  no El caballo está en la casilla (1,2)) Y  no El caballo está en la casilla (2,0)))) O (((El caballo está en la casilla (1,1) Y El caballo está en la casilla (1,2)) Y El caballo está en la casilla (2,0)) Y ((((( no El caballo está en la casilla (0,0) Y  no El caballo está en la casilla (0,1)) Y  no El caballo está en la casilla (0,2)) Y  no El caballo está en la casilla (1,0)) Y  no El caballo está en la casilla (2,1)) Y  no El caballo está en la casilla (2,2)))) O (((El caballo está en la casilla (1,1) Y El caballo está en la casilla (1,2)) Y El caballo está en la casilla (2,1)) Y ((((( no El caballo está en la casilla (0,0) Y  no El caballo está en la casilla (0,1)) Y  no El caballo está en la casilla (0,2)) Y  no El caballo está en la casilla (1,0)) Y  no El caballo está en la casilla (2,0)) Y  no El caballo está en la casilla (2,2)))) O (((El caballo está en la casilla (1,1) Y El caballo está en la casilla (1,2)) Y El caballo está en la casilla (2,2)) Y ((((( no El caballo está en la casilla (0,0) Y  no El caballo está en la casilla (0,1)) Y  no El caballo está en la casilla (0,2)) Y  no El caballo está en la casilla (1,0)) Y  no El caballo está en la casilla (2,0)) Y  no El caballo está en la casilla (2,1)))) O (((El caballo está en la casilla (1,1) Y El caballo está en la casilla (2,0)) Y El caballo está en la casilla (2,1)) Y ((((( no El caballo está en la casilla (0,0) Y  no El caballo está en la casilla (0,1)) Y  no El caballo está en la casilla (0,2)) Y  no El caballo está en la casilla (1,0)) Y  no El caballo está en la casilla (1,2)) Y  no El caballo está en la casilla (2,2)))) O (((El caballo está en la casilla (1,1) Y El caballo está en la casilla (2,0)) Y El caballo está en la casilla (2,2)) Y ((((( no El caballo está en la casilla (0,0) Y  no El caballo está en la casilla (0,1)) Y  no El caballo está en la casilla (0,2)) Y  no El caballo está en la casilla (1,0)) Y  no El caballo está en la casilla (1,2)) Y  no El caballo está en la casilla (2,1)))) O (((El caballo está en la casilla (1,1) Y El caballo está en la casilla (2,1)) Y El caballo está en la casilla (2,2)) Y ((((( no El caballo está en la casilla (0,0) Y  no El caballo está en la casilla (0,1)) Y  no El caballo está en la casilla (0,2)) Y  no El caballo está en la casilla (1,0)) Y  no El caballo está en la casilla (1,2)) Y  no El caballo está en la casilla (2,0)))) O (((El caballo está en la casilla (1,2) Y El caballo está en la casilla (2,0)) Y El caballo está en la casilla (2,1)) Y ((((( no El caballo está en la casilla (0,0) Y  no El caballo está en la casilla (0,1)) Y  no El caballo está en la casilla (0,2)) Y  no El caballo está en la casilla (1,0)) Y  no El caballo está en la casilla (1,1)) Y  no El caballo está en la casilla (2,2)))) O (((El caballo está en la casilla (1,2) Y El caballo está en la casilla (2,0)) Y El caballo está en la casilla (2,2)) Y ((((( no El caballo está en la casilla (0,0) Y  no El caballo está en la casilla (0,1)) Y  no El caballo está en la casilla (0,2)) Y  no El caballo está en la casilla (1,0)) Y  no El caballo está en la casilla (1,1)) Y  no El caballo está en la casilla (2,1)))) O (((El caballo está en la casilla (1,2) Y El caballo está en la casilla (2,1)) Y El caballo está en la casilla (2,2)) Y ((((( no El caballo está en la casilla (0,0) Y  no El caballo está en la casilla (0,1)) Y  no El caballo está en la casilla (0,2)) Y  no El caballo está en la casilla (1,0)) Y  no El caballo está en la casilla (1,1)) Y  no El caballo está en la casilla (2,0)))) O (((El caballo está en la casilla (2,0) Y El caballo está en la casilla (2,1)) Y El caballo está en la casilla (2,2)) Y ((((( no El caballo está en la casilla (0,0) Y  no El caballo está en la casilla (0,1)) Y  no El caballo está en la casilla (0,2)) Y  no El caballo está en la casilla (1,0)) Y  no El caballo está en la casilla (1,1)) Y  no El caballo está en la casilla (1,2))))\n",
          "output_type": "stream"
        }
      ]
    },
    {
      "cell_type": "markdown",
      "source": "## Visualización <a class=\"anchor\" id=\"vis\"></a>\n\n([Volver al inicio](#inicio))\n\nUna parte muy importante de la clase `Caballos` es el método que permite visualizar el tablero, dada una interpretación de las reglas proposicionales. Esto es lo que nos permite entender la solución del problema.",
      "metadata": {}
    },
    {
      "cell_type": "code",
      "source": "I = {c.CenC.P([0,2]):True, c.CenC.P([1,2]):True, c.CenC.P([2,2]):True}\nc.visualizar(I)",
      "metadata": {
        "trusted": true
      },
      "execution_count": 36,
      "outputs": [
        {
          "output_type": "display_data",
          "data": {
            "text/plain": "<Figure size 640x480 with 1 Axes>",
            "image/png": "[encoded data removed]"
          },
          "metadata": {}
        },
        {
          "ename": "<class 'FileNotFoundError'>",
          "evalue": "[Errno 44] No such file or directory: './img/caballo.png'",
          "traceback": [
            "\u001b[0;31m---------------------------------------------------------------------------\u001b[0m",
            "\u001b[0;31mFileNotFoundError\u001b[0m                         Traceback (most recent call last)",
            "Cell \u001b[0;32mIn[36], line 2\u001b[0m\n\u001b[1;32m      1\u001b[0m I \u001b[38;5;241m=\u001b[39m {c\u001b[38;5;241m.\u001b[39mCenC\u001b[38;5;241m.\u001b[39mP([\u001b[38;5;241m0\u001b[39m,\u001b[38;5;241m2\u001b[39m]):\u001b[38;5;28;01mTrue\u001b[39;00m, c\u001b[38;5;241m.\u001b[39mCenC\u001b[38;5;241m.\u001b[39mP([\u001b[38;5;241m1\u001b[39m,\u001b[38;5;241m2\u001b[39m]):\u001b[38;5;28;01mTrue\u001b[39;00m, c\u001b[38;5;241m.\u001b[39mCenC\u001b[38;5;241m.\u001b[39mP([\u001b[38;5;241m2\u001b[39m,\u001b[38;5;241m2\u001b[39m]):\u001b[38;5;28;01mTrue\u001b[39;00m}\n\u001b[0;32m----> 2\u001b[0m \u001b[43mc\u001b[49m\u001b[38;5;241;43m.\u001b[39;49m\u001b[43mvisualizar\u001b[49m\u001b[43m(\u001b[49m\u001b[43mI\u001b[49m\u001b[43m)\u001b[49m\n",
            "Cell \u001b[0;32mIn[29], line 122\u001b[0m, in \u001b[0;36mCaballos.visualizar\u001b[0;34m(self, I)\u001b[0m\n\u001b[1;32m    120\u001b[0m     axes\u001b[38;5;241m.\u001b[39madd_patch(t)\n\u001b[1;32m    121\u001b[0m \u001b[38;5;66;03m# Cargando imagen de caballo\u001b[39;00m\n\u001b[0;32m--> 122\u001b[0m arr_img \u001b[38;5;241m=\u001b[39m \u001b[43mplt\u001b[49m\u001b[38;5;241;43m.\u001b[39;49m\u001b[43mimread\u001b[49m\u001b[43m(\u001b[49m\u001b[38;5;124;43m\"\u001b[39;49m\u001b[38;5;124;43m./img/caballo.png\u001b[39;49m\u001b[38;5;124;43m\"\u001b[39;49m\u001b[43m,\u001b[49m\u001b[43m \u001b[49m\u001b[38;5;28;43mformat\u001b[39;49m\u001b[38;5;241;43m=\u001b[39;49m\u001b[38;5;124;43m'\u001b[39;49m\u001b[38;5;124;43mpng\u001b[39;49m\u001b[38;5;124;43m'\u001b[39;49m\u001b[43m)\u001b[49m\n\u001b[1;32m    123\u001b[0m imagebox \u001b[38;5;241m=\u001b[39m OffsetImage(arr_img, zoom\u001b[38;5;241m=\u001b[39m\u001b[38;5;241m0.1\u001b[39m)\n\u001b[1;32m    124\u001b[0m imagebox\u001b[38;5;241m.\u001b[39mimage\u001b[38;5;241m.\u001b[39maxes \u001b[38;5;241m=\u001b[39m axes\n",
            "File \u001b[0;32m/lib/python3.11/site-packages/matplotlib/pyplot.py:2160\u001b[0m, in \u001b[0;36mimread\u001b[0;34m(fname, format)\u001b[0m\n\u001b[1;32m   2158\u001b[0m \u001b[38;5;129m@_copy_docstring_and_deprecators\u001b[39m(matplotlib\u001b[38;5;241m.\u001b[39mimage\u001b[38;5;241m.\u001b[39mimread)\n\u001b[1;32m   2159\u001b[0m \u001b[38;5;28;01mdef\u001b[39;00m \u001b[38;5;21mimread\u001b[39m(fname, \u001b[38;5;28mformat\u001b[39m\u001b[38;5;241m=\u001b[39m\u001b[38;5;28;01mNone\u001b[39;00m):\n\u001b[0;32m-> 2160\u001b[0m     \u001b[38;5;28;01mreturn\u001b[39;00m \u001b[43mmatplotlib\u001b[49m\u001b[38;5;241;43m.\u001b[39;49m\u001b[43mimage\u001b[49m\u001b[38;5;241;43m.\u001b[39;49m\u001b[43mimread\u001b[49m\u001b[43m(\u001b[49m\u001b[43mfname\u001b[49m\u001b[43m,\u001b[49m\u001b[43m \u001b[49m\u001b[38;5;28;43mformat\u001b[39;49m\u001b[43m)\u001b[49m\n",
            "File \u001b[0;32m/lib/python3.11/site-packages/matplotlib/image.py:1560\u001b[0m, in \u001b[0;36mimread\u001b[0;34m(fname, format)\u001b[0m\n\u001b[1;32m   1558\u001b[0m                 response \u001b[38;5;241m=\u001b[39m io\u001b[38;5;241m.\u001b[39mBytesIO(response\u001b[38;5;241m.\u001b[39mread())\n\u001b[1;32m   1559\u001b[0m             \u001b[38;5;28;01mreturn\u001b[39;00m imread(response, \u001b[38;5;28mformat\u001b[39m\u001b[38;5;241m=\u001b[39mext)\n\u001b[0;32m-> 1560\u001b[0m \u001b[38;5;28;01mwith\u001b[39;00m \u001b[43mimg_open\u001b[49m\u001b[43m(\u001b[49m\u001b[43mfname\u001b[49m\u001b[43m)\u001b[49m \u001b[38;5;28;01mas\u001b[39;00m image:\n\u001b[1;32m   1561\u001b[0m     \u001b[38;5;28;01mreturn\u001b[39;00m (_pil_png_to_float_array(image)\n\u001b[1;32m   1562\u001b[0m             \u001b[38;5;28;01mif\u001b[39;00m \u001b[38;5;28misinstance\u001b[39m(image, PIL\u001b[38;5;241m.\u001b[39mPngImagePlugin\u001b[38;5;241m.\u001b[39mPngImageFile) \u001b[38;5;28;01melse\u001b[39;00m\n\u001b[1;32m   1563\u001b[0m             pil_to_array(image))\n",
            "File \u001b[0;32m/lib/python3.11/site-packages/PIL/ImageFile.py:105\u001b[0m, in \u001b[0;36mImageFile.__init__\u001b[0;34m(self, fp, filename)\u001b[0m\n\u001b[1;32m    101\u001b[0m \u001b[38;5;28mself\u001b[39m\u001b[38;5;241m.\u001b[39mdecodermaxblock \u001b[38;5;241m=\u001b[39m MAXBLOCK\n\u001b[1;32m    103\u001b[0m \u001b[38;5;28;01mif\u001b[39;00m is_path(fp):\n\u001b[1;32m    104\u001b[0m     \u001b[38;5;66;03m# filename\u001b[39;00m\n\u001b[0;32m--> 105\u001b[0m     \u001b[38;5;28mself\u001b[39m\u001b[38;5;241m.\u001b[39mfp \u001b[38;5;241m=\u001b[39m \u001b[38;5;28;43mopen\u001b[39;49m\u001b[43m(\u001b[49m\u001b[43mfp\u001b[49m\u001b[43m,\u001b[49m\u001b[43m \u001b[49m\u001b[38;5;124;43m\"\u001b[39;49m\u001b[38;5;124;43mrb\u001b[39;49m\u001b[38;5;124;43m\"\u001b[39;49m\u001b[43m)\u001b[49m\n\u001b[1;32m    106\u001b[0m     \u001b[38;5;28mself\u001b[39m\u001b[38;5;241m.\u001b[39mfilename \u001b[38;5;241m=\u001b[39m fp\n\u001b[1;32m    107\u001b[0m     \u001b[38;5;28mself\u001b[39m\u001b[38;5;241m.\u001b[39m_exclusive_fp \u001b[38;5;241m=\u001b[39m \u001b[38;5;28;01mTrue\u001b[39;00m\n",
            "\u001b[0;31mFileNotFoundError\u001b[0m: [Errno 44] No such file or directory: './img/caballo.png'"
          ],
          "output_type": "error"
        }
      ]
    },
    {
      "cell_type": "markdown",
      "source": "## Solución mediante SATtabla <a class=\"anchor\" id=\"sat\"></a>\n\n([Volver al inicio](#inicio))\n\nAhora podemos ver el corazón de la solución a este y todos los demas problemas que desarrollemos: un SATsolver. Usaremos el SATtabla que implementamos anteriormente.",
      "metadata": {}
    },
    {
      "cell_type": "code",
      "source": "%%time\nA = inorder_to_tree(Ytoria(c.reglas))\nI = A.SATtabla()",
      "metadata": {
        "trusted": true
      },
      "execution_count": 37,
      "outputs": [
        {
          "name": "stdout",
          "text": "CPU times: user 0 ns, sys: 0 ns, total: 0 ns\nWall time: 100 ms\n",
          "output_type": "stream"
        }
      ]
    },
    {
      "cell_type": "markdown",
      "source": "Podemos decodificar el diccionario `I` obtenido para ver la solución:",
      "metadata": {}
    },
    {
      "cell_type": "code",
      "source": "if I != None:\n    for k in I:\n        print(c.CenC.escribir(k), I[k])\nelse:\n    print('¡No hay solución!')",
      "metadata": {
        "trusted": true
      },
      "execution_count": 38,
      "outputs": [
        {
          "name": "stdout",
          "text": "El caballo está en la casilla (0,0) False\nEl caballo está en la casilla (0,2) True\nEl caballo está en la casilla (1,2) True\nEl caballo está en la casilla (2,1) False\nEl caballo está en la casilla (2,2) True\nEl caballo está en la casilla (1,1) False\nEl caballo está en la casilla (2,0) False\nEl caballo está en la casilla (0,1) False\nEl caballo está en la casilla (1,0) False\n",
          "output_type": "stream"
        }
      ]
    },
    {
      "cell_type": "markdown",
      "source": "O, mejor aún, podemos visualizar la solución:",
      "metadata": {}
    },
    {
      "cell_type": "code",
      "source": "if I != None:\n    c.visualizar(I)\nelse:\n    print('¡No hay solución!')",
      "metadata": {
        "trusted": true
      },
      "execution_count": 39,
      "outputs": [
        {
          "output_type": "display_data",
          "data": {
            "text/plain": "<Figure size 640x480 with 1 Axes>",
            "image/png": "[encoded data removed]"
          },
          "metadata": {}
        },
        {
          "ename": "<class 'FileNotFoundError'>",
          "evalue": "[Errno 44] No such file or directory: './img/caballo.png'",
          "traceback": [
            "\u001b[0;31m---------------------------------------------------------------------------\u001b[0m",
            "\u001b[0;31mFileNotFoundError\u001b[0m                         Traceback (most recent call last)",
            "Cell \u001b[0;32mIn[39], line 2\u001b[0m\n\u001b[1;32m      1\u001b[0m \u001b[38;5;28;01mif\u001b[39;00m I \u001b[38;5;241m!=\u001b[39m \u001b[38;5;28;01mNone\u001b[39;00m:\n\u001b[0;32m----> 2\u001b[0m     \u001b[43mc\u001b[49m\u001b[38;5;241;43m.\u001b[39;49m\u001b[43mvisualizar\u001b[49m\u001b[43m(\u001b[49m\u001b[43mI\u001b[49m\u001b[43m)\u001b[49m\n\u001b[1;32m      3\u001b[0m \u001b[38;5;28;01melse\u001b[39;00m:\n\u001b[1;32m      4\u001b[0m     \u001b[38;5;28mprint\u001b[39m(\u001b[38;5;124m'\u001b[39m\u001b[38;5;124m¡No hay solución!\u001b[39m\u001b[38;5;124m'\u001b[39m)\n",
            "Cell \u001b[0;32mIn[29], line 122\u001b[0m, in \u001b[0;36mCaballos.visualizar\u001b[0;34m(self, I)\u001b[0m\n\u001b[1;32m    120\u001b[0m     axes\u001b[38;5;241m.\u001b[39madd_patch(t)\n\u001b[1;32m    121\u001b[0m \u001b[38;5;66;03m# Cargando imagen de caballo\u001b[39;00m\n\u001b[0;32m--> 122\u001b[0m arr_img \u001b[38;5;241m=\u001b[39m \u001b[43mplt\u001b[49m\u001b[38;5;241;43m.\u001b[39;49m\u001b[43mimread\u001b[49m\u001b[43m(\u001b[49m\u001b[38;5;124;43m\"\u001b[39;49m\u001b[38;5;124;43m./img/caballo.png\u001b[39;49m\u001b[38;5;124;43m\"\u001b[39;49m\u001b[43m,\u001b[49m\u001b[43m \u001b[49m\u001b[38;5;28;43mformat\u001b[39;49m\u001b[38;5;241;43m=\u001b[39;49m\u001b[38;5;124;43m'\u001b[39;49m\u001b[38;5;124;43mpng\u001b[39;49m\u001b[38;5;124;43m'\u001b[39;49m\u001b[43m)\u001b[49m\n\u001b[1;32m    123\u001b[0m imagebox \u001b[38;5;241m=\u001b[39m OffsetImage(arr_img, zoom\u001b[38;5;241m=\u001b[39m\u001b[38;5;241m0.1\u001b[39m)\n\u001b[1;32m    124\u001b[0m imagebox\u001b[38;5;241m.\u001b[39mimage\u001b[38;5;241m.\u001b[39maxes \u001b[38;5;241m=\u001b[39m axes\n",
            "File \u001b[0;32m/lib/python3.11/site-packages/matplotlib/pyplot.py:2160\u001b[0m, in \u001b[0;36mimread\u001b[0;34m(fname, format)\u001b[0m\n\u001b[1;32m   2158\u001b[0m \u001b[38;5;129m@_copy_docstring_and_deprecators\u001b[39m(matplotlib\u001b[38;5;241m.\u001b[39mimage\u001b[38;5;241m.\u001b[39mimread)\n\u001b[1;32m   2159\u001b[0m \u001b[38;5;28;01mdef\u001b[39;00m \u001b[38;5;21mimread\u001b[39m(fname, \u001b[38;5;28mformat\u001b[39m\u001b[38;5;241m=\u001b[39m\u001b[38;5;28;01mNone\u001b[39;00m):\n\u001b[0;32m-> 2160\u001b[0m     \u001b[38;5;28;01mreturn\u001b[39;00m \u001b[43mmatplotlib\u001b[49m\u001b[38;5;241;43m.\u001b[39;49m\u001b[43mimage\u001b[49m\u001b[38;5;241;43m.\u001b[39;49m\u001b[43mimread\u001b[49m\u001b[43m(\u001b[49m\u001b[43mfname\u001b[49m\u001b[43m,\u001b[49m\u001b[43m \u001b[49m\u001b[38;5;28;43mformat\u001b[39;49m\u001b[43m)\u001b[49m\n",
            "File \u001b[0;32m/lib/python3.11/site-packages/matplotlib/image.py:1560\u001b[0m, in \u001b[0;36mimread\u001b[0;34m(fname, format)\u001b[0m\n\u001b[1;32m   1558\u001b[0m                 response \u001b[38;5;241m=\u001b[39m io\u001b[38;5;241m.\u001b[39mBytesIO(response\u001b[38;5;241m.\u001b[39mread())\n\u001b[1;32m   1559\u001b[0m             \u001b[38;5;28;01mreturn\u001b[39;00m imread(response, \u001b[38;5;28mformat\u001b[39m\u001b[38;5;241m=\u001b[39mext)\n\u001b[0;32m-> 1560\u001b[0m \u001b[38;5;28;01mwith\u001b[39;00m \u001b[43mimg_open\u001b[49m\u001b[43m(\u001b[49m\u001b[43mfname\u001b[49m\u001b[43m)\u001b[49m \u001b[38;5;28;01mas\u001b[39;00m image:\n\u001b[1;32m   1561\u001b[0m     \u001b[38;5;28;01mreturn\u001b[39;00m (_pil_png_to_float_array(image)\n\u001b[1;32m   1562\u001b[0m             \u001b[38;5;28;01mif\u001b[39;00m \u001b[38;5;28misinstance\u001b[39m(image, PIL\u001b[38;5;241m.\u001b[39mPngImagePlugin\u001b[38;5;241m.\u001b[39mPngImageFile) \u001b[38;5;28;01melse\u001b[39;00m\n\u001b[1;32m   1563\u001b[0m             pil_to_array(image))\n",
            "File \u001b[0;32m/lib/python3.11/site-packages/PIL/ImageFile.py:105\u001b[0m, in \u001b[0;36mImageFile.__init__\u001b[0;34m(self, fp, filename)\u001b[0m\n\u001b[1;32m    101\u001b[0m \u001b[38;5;28mself\u001b[39m\u001b[38;5;241m.\u001b[39mdecodermaxblock \u001b[38;5;241m=\u001b[39m MAXBLOCK\n\u001b[1;32m    103\u001b[0m \u001b[38;5;28;01mif\u001b[39;00m is_path(fp):\n\u001b[1;32m    104\u001b[0m     \u001b[38;5;66;03m# filename\u001b[39;00m\n\u001b[0;32m--> 105\u001b[0m     \u001b[38;5;28mself\u001b[39m\u001b[38;5;241m.\u001b[39mfp \u001b[38;5;241m=\u001b[39m \u001b[38;5;28;43mopen\u001b[39;49m\u001b[43m(\u001b[49m\u001b[43mfp\u001b[49m\u001b[43m,\u001b[49m\u001b[43m \u001b[49m\u001b[38;5;124;43m\"\u001b[39;49m\u001b[38;5;124;43mrb\u001b[39;49m\u001b[38;5;124;43m\"\u001b[39;49m\u001b[43m)\u001b[49m\n\u001b[1;32m    106\u001b[0m     \u001b[38;5;28mself\u001b[39m\u001b[38;5;241m.\u001b[39mfilename \u001b[38;5;241m=\u001b[39m fp\n\u001b[1;32m    107\u001b[0m     \u001b[38;5;28mself\u001b[39m\u001b[38;5;241m.\u001b[39m_exclusive_fp \u001b[38;5;241m=\u001b[39m \u001b[38;5;28;01mTrue\u001b[39;00m\n",
            "\u001b[0;31mFileNotFoundError\u001b[0m: [Errno 44] No such file or directory: './img/caballo.png'"
          ],
          "output_type": "error"
        }
      ]
    },
    {
      "cell_type": "markdown",
      "source": "Vemos que la solución encontrada por SATtabla es muy rápida.",
      "metadata": {}
    },
    {
      "cell_type": "markdown",
      "source": "---",
      "metadata": {}
    },
    {
      "cell_type": "markdown",
      "source": "## Un problema más difícil <a class=\"anchor\" id=\"prob2\"></a>\n\n([Volver al inicio](#inicio))\n\nEl propósito de esta sección es tratar de resolver un problema mediante el procedimiento que hemos descrito anteriormente. No obstante, el código presentará algunos problemas que tendremos que afrontar. Esto nos permitirá entrenarnos para afrontar las dificultades que se presentarán en la elaboración del proyecto.\n\nRetomaremos aquí el problema con el que estudiamos la representación de situaciones. Buscamos llenar todas las casillas en una tabla 2x2 con un número de 0 a 3, sin repetir. Por ejemplo:\n\n![ejemplo](img/tabla.png)\n\nTenemos tres restricciones que debemos implementar para resolver el problema:\n\n1. Un número sólo está en una casilla.\n\n$$\\bigwedge_{x\\in\\{0,1\\}}\\bigwedge_{y\\in\\{0,1\\}}\\bigwedge_{n\\in Numeros}\\left(OenCasilla_{x,y,n}\\to\\neg\\left(\\bigvee_{(u,v)\\neq (x,y)} OenCasilla_{u,v,n}\\right)\\right)$$\n\n2. No hay más de un número en una casilla.\n\n$$\\bigwedge_{x\\in\\{0,1\\}}\\bigwedge_{y\\in\\{0,1\\}}\\bigwedge_{n\\in Numeros}\\left(OenCasilla_{x,y,n}\\to\\neg\\left(\\bigvee_{m\\neq n} OenCasilla_{x,y,m}\\right)\\right)$$\n\n3. Debe haber por lo menos un número en una casilla.\n\n$$\\bigwedge_{x\\in\\{0,1\\}}\\bigwedge_{y\\in\\{0,1\\}}\\left(\\bigvee_{n\\in Numeros}OenCasilla_{x,y,n}\\right)$$\n",
      "metadata": {}
    },
    {
      "cell_type": "markdown",
      "source": "### Errores sintácticos\n\nLa implementación, con algunos errores, está en la librería `Problemas`.",
      "metadata": {}
    },
    {
      "cell_type": "code",
      "source": "from Problemas import Rejilla\nfrom Logica import *",
      "metadata": {
        "trusted": true
      },
      "execution_count": 40,
      "outputs": [
        {
          "ename": "<class 'ModuleNotFoundError'>",
          "evalue": "No module named 'Problemas'",
          "traceback": [
            "\u001b[0;31m---------------------------------------------------------------------------\u001b[0m",
            "\u001b[0;31mModuleNotFoundError\u001b[0m                       Traceback (most recent call last)",
            "Cell \u001b[0;32mIn[40], line 1\u001b[0m\n\u001b[0;32m----> 1\u001b[0m \u001b[38;5;28;01mfrom\u001b[39;00m \u001b[38;5;21;01mProblemas\u001b[39;00m \u001b[38;5;28;01mimport\u001b[39;00m Rejilla\n\u001b[1;32m      2\u001b[0m \u001b[38;5;28;01mfrom\u001b[39;00m \u001b[38;5;21;01mLogica\u001b[39;00m \u001b[38;5;28;01mimport\u001b[39;00m \u001b[38;5;241m*\u001b[39m\n",
            "\u001b[0;31mModuleNotFoundError\u001b[0m: No module named 'Problemas'"
          ],
          "output_type": "error"
        }
      ]
    },
    {
      "cell_type": "markdown",
      "source": "Instanciamos el objeto:",
      "metadata": {}
    },
    {
      "cell_type": "code",
      "source": "r = Rejilla(N=2, M=2)",
      "metadata": {
        "trusted": true
      },
      "execution_count": 41,
      "outputs": []
    },
    {
      "cell_type": "markdown",
      "source": "Y ahora intentamos visualizar la regla 1:",
      "metadata": {}
    },
    {
      "cell_type": "code",
      "source": "print(r.reglas[0])\nA = inorder_to_tree(r.reglas[0])\nprint(A.ver(r.NenC))",
      "metadata": {
        "trusted": true
      },
      "execution_count": 42,
      "outputs": [
        {
          "name": "stdout",
          "text": "((((((((((((((((Ā>-((ĈOĄ)OČ)Y(Ĉ>-((ĀOĄ)OČ))Y(Ą>-((ĀOĈ)OČ))Y(Č>-((ĀOĈ)OĄ))Y(ā>-((ĉOą)Oč))Y(ĉ>-((āOą)Oč))Y(ą>-((āOĉ)Oč))Y(č>-((āOĉ)Oą))Y(Ă>-((ĊOĆ)OĎ))Y(Ċ>-((ĂOĆ)OĎ))Y(Ć>-((ĂOĊ)OĎ))Y(Ď>-((ĂOĊ)OĆ))Y(ă>-((ċOć)Oď))Y(ċ>-((ăOć)Oď))Y(ć>-((ăOċ)Oď))Y(ď>-((ăOċ)Oć))\n",
          "output_type": "stream"
        },
        {
          "ename": "<class 'AttributeError'>",
          "evalue": "'NoneType' object has no attribute 'ver'",
          "traceback": [
            "\u001b[0;31m---------------------------------------------------------------------------\u001b[0m",
            "\u001b[0;31mAttributeError\u001b[0m                            Traceback (most recent call last)",
            "Cell \u001b[0;32mIn[42], line 3\u001b[0m\n\u001b[1;32m      1\u001b[0m \u001b[38;5;28mprint\u001b[39m(r\u001b[38;5;241m.\u001b[39mreglas[\u001b[38;5;241m0\u001b[39m])\n\u001b[1;32m      2\u001b[0m A \u001b[38;5;241m=\u001b[39m inorder_to_tree(r\u001b[38;5;241m.\u001b[39mreglas[\u001b[38;5;241m0\u001b[39m])\n\u001b[0;32m----> 3\u001b[0m \u001b[38;5;28mprint\u001b[39m(\u001b[43mA\u001b[49m\u001b[38;5;241;43m.\u001b[39;49m\u001b[43mver\u001b[49m(r\u001b[38;5;241m.\u001b[39mNenC))\n",
            "\u001b[0;31mAttributeError\u001b[0m: 'NoneType' object has no attribute 'ver'"
          ],
          "output_type": "error"
        }
      ]
    },
    {
      "cell_type": "markdown",
      "source": "Este error aparece en la línea que usa el método `ver` de las fórmulas. No obstante, el método `ver` es correcto. Es decir, el problema no está aquí. Esto lo sabemos porque el error nos dice que un objeto de tipo `None` no tiene el atributo `ver`. Así pues, el error es que `A` es `None`. Corrámos solo la función `inorder_to_tree` para comprobarlo:",
      "metadata": {}
    },
    {
      "cell_type": "code",
      "source": "A = inorder_to_tree(r.reglas[0])\nprint(A)",
      "metadata": {
        "trusted": true
      },
      "execution_count": 44,
      "outputs": [
        {
          "name": "stdout",
          "text": "None\n",
          "output_type": "stream"
        }
      ]
    },
    {
      "cell_type": "markdown",
      "source": "Este error en `inorder_to_tree` surge porque la cadena no está bien escrita. Usualmente se debe a que hay un paréntesis faltante o mal puesto.",
      "metadata": {}
    },
    {
      "cell_type": "markdown",
      "source": "**Ejercicio 1:**\n\nRevise el siguiénte código que genera la regla 1 y corrija el error. Observe que a la generación de fórmulas le hace falta incluir un paréntesis.",
      "metadata": {}
    },
    {
      "cell_type": "code",
      "source": "def regla1(self):\n    casillas_num = [(n,x,y) for n in range(self.N*self.M) for x in range(self.N) for y in range(self.M)]\n    lista = []\n    for c in casillas_num:\n        n,x,y = c\n        otras_casillas = [(x1,y1) for x1 in range(self.N) for y1 in range(self.M) if (x1,y1) != (x,y)]\n        lista_o = []\n        for k in otras_casillas:\n            lista_o.append(self.NenC.P([n,*k]))\n        form = '(' + self.NenC.P([*c]) + '>-' + Otoria(lista_o) +')'\n        lista.append(form)\n    return Ytoria(lista)\n\nsetattr(Rejilla, \"regla1\", regla1)\n\nA = inorder_to_tree(r.reglas[0])\nprint(A)",
      "metadata": {
        "trusted": true
      },
      "execution_count": 45,
      "outputs": [
        {
          "name": "stdout",
          "text": "None\n",
          "output_type": "stream"
        }
      ]
    },
    {
      "cell_type": "markdown",
      "source": "---",
      "metadata": {}
    },
    {
      "cell_type": "markdown",
      "source": "### Errores semánticos\n\nUn tipo de error más complicado de ver es cuando la regla está correctamente escrita, pero no representa la restricción de manera correcta.\n\nPor ejemplo, la regla 3 está escrita correctamente:",
      "metadata": {}
    },
    {
      "cell_type": "code",
      "source": "r = Rejilla(N=2)\nA = inorder_to_tree(r.reglas[2])\nprint(A.ver(r.NenC))",
      "metadata": {
        "trusted": true
      },
      "execution_count": 46,
      "outputs": [
        {
          "name": "stdout",
          "text": "((((((El número 0 está en la casilla (0,0) Y El número 1 está en la casilla (0,0)) Y El número 2 está en la casilla (0,0)) Y El número 3 está en la casilla (0,0)) Y (((El número 0 está en la casilla (0,1) Y El número 1 está en la casilla (0,1)) Y El número 2 está en la casilla (0,1)) Y El número 3 está en la casilla (0,1))) Y (((El número 0 está en la casilla (1,0) Y El número 1 está en la casilla (1,0)) Y El número 2 está en la casilla (1,0)) Y El número 3 está en la casilla (1,0))) Y (((El número 0 está en la casilla (1,1) Y El número 1 está en la casilla (1,1)) Y El número 2 está en la casilla (1,1)) Y El número 3 está en la casilla (1,1)))\n",
          "output_type": "stream"
        }
      ]
    },
    {
      "cell_type": "markdown",
      "source": "No obstante, ella no cumple el papel que debe cumplir. Esto se puede detectar al tratar de resolver el problema con esta regla y obtener resultados indeseados.",
      "metadata": {}
    },
    {
      "cell_type": "code",
      "source": "%%time\nr = Rejilla(N=2)\nA = inorder_to_tree(Ytoria(r.reglas))\nI = A.SATtabla()\nif I != None:\n    r.visualizar(I)\nelse:\n    print('¡No hay solución!')",
      "metadata": {
        "trusted": true
      },
      "execution_count": 64,
      "outputs": [
        {
          "name": "stdout",
          "text": "CPU times: user 0 ns, sys: 0 ns, total: 0 ns\nWall time: 205 ms\n",
          "output_type": "stream"
        },
        {
          "output_type": "display_data",
          "data": {
            "text/plain": "<Figure size 200x200 with 1 Axes>",
            "image/png": "[encoded data removed]"
          },
          "metadata": {}
        }
      ]
    },
    {
      "cell_type": "markdown",
      "source": "Si corremos la regla 3 solamente, obtenemos lo siguiente:",
      "metadata": {}
    },
    {
      "cell_type": "code",
      "source": "%%time\nr = Rejilla(N=2)\nA = inorder_to_tree(r.reglas[2])\nI = A.SATtabla()\nif I != None:\n    r.visualizar(I)\nelse:\n    print('¡No hay solución!')",
      "metadata": {
        "trusted": true
      },
      "execution_count": 65,
      "outputs": [
        {
          "name": "stdout",
          "text": "CPU times: user 0 ns, sys: 0 ns, total: 0 ns\nWall time: 62 ms\n",
          "output_type": "stream"
        },
        {
          "output_type": "display_data",
          "data": {
            "text/plain": "<Figure size 200x200 with 1 Axes>",
            "image/png": "[encoded data removed]"
          },
          "metadata": {}
        }
      ]
    },
    {
      "cell_type": "markdown",
      "source": "**Ejercicio 2:**\n\nCorrija la regla 3 para que represente la restricción de manera apropiada.",
      "metadata": {}
    },
    {
      "cell_type": "code",
      "source": "def regla3(self):\n    casillas = [(x,y) for x in range(self.N) for y in range(self.M)]\n    lista = []\n    for c in casillas:\n        lista_o = []\n        for n in range(self.N*self.M):\n            lista_o.append(self.NenC.P([n,*c]))\n        lista.append(Otoria(lista_o))\n    return Otoria(lista)\n\nsetattr(Rejilla, \"regla3\", regla3)",
      "metadata": {
        "trusted": true
      },
      "execution_count": 66,
      "outputs": []
    },
    {
      "cell_type": "code",
      "source": "%%time\nr = Rejilla(N=2)\nA = inorder_to_tree(Ytoria(r.reglas))\nI = A.SATtabla()\nif I != None:\n    r.visualizar(I)\nelse:\n    print('¡No hay solución!')",
      "metadata": {
        "trusted": true
      },
      "execution_count": 67,
      "outputs": [
        {
          "name": "stdout",
          "text": "CPU times: user 0 ns, sys: 0 ns, total: 0 ns\nWall time: 198 ms\n",
          "output_type": "stream"
        },
        {
          "output_type": "display_data",
          "data": {
            "text/plain": "<Figure size 200x200 with 1 Axes>",
            "image/png": "[encoded data removed]"
          },
          "metadata": {}
        }
      ]
    },
    {
      "cell_type": "markdown",
      "source": "---",
      "metadata": {}
    },
    {
      "cell_type": "markdown",
      "source": "# Situaciones más complejas y comparación de tiempos <a class=\"anchor\" id=\"comp\"></a>\n\n([Volver al inicio](#inicio))\n\nObserve que podemos cambiar los parámetros `N` y `M` para cambiar el tamaño de la rejilla:",
      "metadata": {}
    },
    {
      "cell_type": "code",
      "source": "r = Rejilla(N=3, M=2)\nI = {r.NenC.P([1,0,0]):True, r.NenC.P([1,1,0]):True}\nr.visualizar(I)",
      "metadata": {
        "trusted": true
      },
      "execution_count": 68,
      "outputs": [
        {
          "output_type": "display_data",
          "data": {
            "text/plain": "<Figure size 300x200 with 1 Axes>",
            "image/png": "[encoded data removed]"
          },
          "metadata": {}
        }
      ]
    },
    {
      "cell_type": "markdown",
      "source": "Tal vez queramos aplicar el mismo algoritmo de solución a este problema más grande. No obstante, el tiempo de ejecución es prohibitivo:",
      "metadata": {}
    },
    {
      "cell_type": "code",
      "source": "%%time\nr = Rejilla(N=3, M=2)\nA = inorder_to_tree(Ytoria(r.reglas))\nI = A.SATtabla()\nr.visualizar(I)",
      "metadata": {
        "trusted": true
      },
      "execution_count": 69,
      "outputs": [
        {
          "ename": "<class 'MemoryError'>",
          "evalue": "",
          "traceback": [
            "\u001b[0;31m---------------------------------------------------------------------------\u001b[0m",
            "\u001b[0;31mMemoryError\u001b[0m                               Traceback (most recent call last)",
            "File \u001b[0;32m<timed exec>:3\u001b[0m\n",
            "File \u001b[0;32m/drive/notebooks/Untitled Folder4/Logica.py:57\u001b[0m, in \u001b[0;36mFormula.SATtabla\u001b[0;34m(self)\u001b[0m\n\u001b[1;32m     55\u001b[0m letras \u001b[38;5;241m=\u001b[39m \u001b[38;5;28mlist\u001b[39m(\u001b[38;5;28mself\u001b[39m\u001b[38;5;241m.\u001b[39mletras())\n\u001b[1;32m     56\u001b[0m n \u001b[38;5;241m=\u001b[39m \u001b[38;5;28mlen\u001b[39m(letras)\n\u001b[0;32m---> 57\u001b[0m valores \u001b[38;5;241m=\u001b[39m \u001b[38;5;28mlist\u001b[39m(product([\u001b[38;5;28;01mTrue\u001b[39;00m, \u001b[38;5;28;01mFalse\u001b[39;00m], repeat\u001b[38;5;241m=\u001b[39mn))\n\u001b[1;32m     58\u001b[0m \u001b[38;5;28;01mfor\u001b[39;00m v \u001b[38;5;129;01min\u001b[39;00m valores:\n\u001b[1;32m     59\u001b[0m     I \u001b[38;5;241m=\u001b[39m {letras[x]: v[x] \u001b[38;5;28;01mfor\u001b[39;00m x \u001b[38;5;129;01min\u001b[39;00m \u001b[38;5;28mrange\u001b[39m(n)}\n",
            "\u001b[0;31mMemoryError\u001b[0m: "
          ],
          "output_type": "error"
        }
      ]
    },
    {
      "cell_type": "markdown",
      "source": "Este es un problema muy serio. Ni siquiera el algoritmo de los tableros semánticos puede venir a rescatarnos (observe que el objeto `Formula` ya trae implementado el `SATtableaux`):",
      "metadata": {}
    },
    {
      "cell_type": "code",
      "source": "%%time\nr = Rejilla(N=3, M=2)\nA = inorder_to_tree(Ytoria(r.reglas))\nI = A.SATtableaux()\nr.visualizar(I)",
      "metadata": {
        "trusted": true
      },
      "execution_count": null,
      "outputs": []
    },
    {
      "cell_type": "markdown",
      "source": "---",
      "metadata": {}
    },
    {
      "cell_type": "markdown",
      "source": "## En este notebook usted aprendió\n\n1. El esquema de solución de problemas mediante lógica proposicional.\n2. Cada problema requiere una definición particular de sus restricciones y su implementación en lógica proposicional.\n3. Cualquiera de estos problemas se resuelve (por lo menos de manera teórica) mediante el mismo algoritmo: un SATsolver.\n4. Los SATsolvers que tenemos hasta este momento no son para nada eficientes, así que necesitamos algoritmos más poderosos.",
      "metadata": {}
    }
  ]
}