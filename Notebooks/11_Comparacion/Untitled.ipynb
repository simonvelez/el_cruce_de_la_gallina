{
 "cells": [
  {
   "cell_type": "code",
   "execution_count": 1,
   "metadata": {},
   "outputs": [],
   "source": [
    "from time import time\n",
    "import seaborn as sns\n",
    "import pandas as pd\n",
    "import matplotlib.pyplot as plt\n",
    "\n",
    "def obtiene_tiempos(fun, args, num_it=100):\n",
    "    tiempos_fun = []\n",
    "    resultados_fun = []\n",
    "    for i in range(num_it):\n",
    "        arranca = time()\n",
    "        sat, I = fun(*args)\n",
    "        para = time()\n",
    "        tiempos_fun.append(para - arranca)\n",
    "        resultados_fun.append(1 if sat=='Satisfacible' else 0)\n",
    "    return tiempos_fun, resultados_fun\n",
    "\n",
    "def compara_entradas_funs(funs, nombres_funs, lista_args, N=100):\n",
    "    entradas = []\n",
    "    funcion = []\n",
    "    tiempos = []\n",
    "    resultados = []\n",
    "    lista_dfs = []\n",
    "    for i, args in enumerate(lista_args):\n",
    "        for j, fun in enumerate(funs):\n",
    "            t, res = obtiene_tiempos(fun, [args], N)\n",
    "            tiempos += t\n",
    "            resultados += res\n",
    "            entradas += [i+1]*len(t)\n",
    "            funcion += [nombres_funs[j]]*len(t)\n",
    "        df = pd.DataFrame({'Long_entrada':entradas, \n",
    "                           'Funcion':funcion,\n",
    "                           'Tiempo_prom':tiempos,\n",
    "                           'Resultados':resultados})\n",
    "        lista_dfs.append(df)\n",
    "    return pd.concat(lista_dfs).reset_index()\n",
    "\n",
    "def aumentar_cadena(c, condicion, atomos):\n",
    "\n",
    "\tif c == None:\n",
    "\t\tprint('No se puede aumentar la cadena: atomos insuficientes?')\n",
    "\t\treturn None\n",
    "\n",
    "\tif condicion == 'A':\n",
    "\n",
    "\t\tatomo = ''\n",
    "\t\tfor a in atomos:\n",
    "\t\t\tif a not in c:\n",
    "\t\t\t\tatomo = a\n",
    "\t\t\t\tbreak\n",
    "\n",
    "\t\tif atomo == '':\n",
    "\t\t\treturn None\n",
    "\n",
    "\t\t# aumenta cadena siguiendo condicion A\n",
    "\t\treturn c + [atomo, 'Y']\n",
    "\n",
    "\tif condicion == 'B':\n",
    "\t\t# encuentra letra no usada en atomos y primer atomo\n",
    "\t\tatomo1 = ''\n",
    "\t\tatomo2 = ''\n",
    "\t\tfor a in atomos:\n",
    "\t\t\tif a in c:\n",
    "\t\t\t\tif atomo1 == '':\n",
    "\t\t\t\t\tatomo1 = a\n",
    "\t\t\telse:\n",
    "\t\t\t\tatomo2 = a\n",
    "\t\t\t\tif atomo1 != '':\n",
    "\t\t\t\t\tbreak\n",
    "\n",
    "\t\tif atomo1 == '' or atomo2 == '':\n",
    "\t\t\treturn None\n",
    "\n",
    "\t\t# aumenta cadena siguiendo condicion B\n",
    "\t\treturn c + [atomo1, atomo2, 'O', 'Y']\n",
    "\n",
    "\tif condicion == 'C':\n",
    "\t\t# encuentra los dos atomos\n",
    "\t\tatomo1 = atomos[0]\n",
    "\t\tatomo2 = atomos[1]\n",
    "\n",
    "\t\t# aumenta cadena siguiendo condicion C\n",
    "\t\treturn c + [atomo1, atomo2, 'O', 'Y']\n",
    "\n",
    "\tif condicion == 'D':\n",
    "\t\t# encuentra letra no usada en atomos y primer atomo\n",
    "\t\tatomo1 = ''\n",
    "\t\tatomo2 = ''\n",
    "\t\tfor a in atomos:\n",
    "\t\t\tif a in c:\n",
    "\t\t\t\tif atomo1 == '':\n",
    "\t\t\t\t\tatomo1 = a\n",
    "\t\t\telse:\n",
    "\t\t\t\tatomo2 = a\n",
    "\t\t\t\tif atomo1 != '':\n",
    "\t\t\t\t\tbreak\n",
    "\n",
    "\t\tif atomo1 == '' or atomo2 == '':\n",
    "\t\t\treturn None\n",
    "\n",
    "\t\t# aumenta cadena siguiendo condicion D\n",
    "\t\treturn c + [atomo1, atomo2, 'Y', 'O']\n"
   ]
  },
  {
   "cell_type": "code",
   "execution_count": 2,
   "metadata": {},
   "outputs": [
    {
     "name": "stdout",
     "output_type": "stream",
     "text": [
      "\n",
      "**********************\n",
      "Condición: A\n"
     ]
    },
    {
     "data": {
      "text/plain": [
       "['(ăY(ĂYā))',\n",
       " '(ĄY(ăY(ĂYā)))',\n",
       " '(ąY(ĄY(ăY(ĂYā))))',\n",
       " '(ĆY(ąY(ĄY(ăY(ĂYā)))))',\n",
       " '(ćY(ĆY(ąY(ĄY(ăY(ĂYā))))))',\n",
       " '(ĈY(ćY(ĆY(ąY(ĄY(ăY(ĂYā)))))))',\n",
       " '(ĉY(ĈY(ćY(ĆY(ąY(ĄY(ăY(ĂYā))))))))',\n",
       " '(ĊY(ĉY(ĈY(ćY(ĆY(ąY(ĄY(ăY(ĂYā)))))))))']"
      ]
     },
     "execution_count": 2,
     "metadata": {},
     "output_type": "execute_result"
    }
   ],
   "source": [
    "from Logica import *\n",
    "\n",
    "cantidad = 10\n",
    "letrasp = [chr(i) for i in range(257, 257+cantidad)]\n",
    "\n",
    "cnd = 'A'\n",
    "lista = []\n",
    "\n",
    "print('\\n**********************')\n",
    "print(u\"Condición:\", cnd)\n",
    "cadena = [letrasp[0], letrasp[1], 'Y']\n",
    "for i in range(1, len(letrasp)):\n",
    "#    print('\\n**********************')\n",
    "#    print(u\"Iteración:\", i)\n",
    "    cadena = aumentar_cadena(cadena, cnd, letrasp)\n",
    "#    print(cadena)\n",
    "    if cadena != None:\n",
    "        A = polaca_inversa_to_tree(cadena, letrasp)\n",
    "        A = str(A)\n",
    "#        print('Trabajando con: ', A)\n",
    "#        A = tseitin(A)\n",
    "#        A = fnc_numero(A)\n",
    "        lista.append(A)\n",
    "    \n",
    "lista"
   ]
  },
  {
   "cell_type": "code",
   "execution_count": 16,
   "metadata": {},
   "outputs": [],
   "source": [
    "# !pip install python-sat\n",
    "from pysat.solvers import Solver, Minisat22\n",
    "\n",
    "def SATsolver(A):\n",
    "    \n",
    "    def lit_numero(l):\n",
    "        if '-' in l:\n",
    "            return -ord(l[1:]) + 256\n",
    "        else:\n",
    "            return ord(l) - 256\n",
    "    \n",
    "    def clausula_numero(C):\n",
    "        return [lit_numero(l) for l in C]\n",
    "\n",
    "    def fnc_numero(S):\n",
    "        return [clausula_numero(C) for C in S]\n",
    "\n",
    "    def obtener_int(mod):\n",
    "        return {chr(256 + abs(n)):n>0 for n in mod}\n",
    "        \n",
    "    S = tseitin(A)\n",
    "    S = fnc_numero(S)\n",
    "    with Minisat22(bootstrap_with=S) as m:\n",
    "        if m.solve():\n",
    "            return 'Satisfacible', obtener_int(m.get_model())\n",
    "        else:\n",
    "            return 'Insatisfacible', {}"
   ]
  },
  {
   "cell_type": "code",
   "execution_count": 17,
   "metadata": {},
   "outputs": [
    {
     "data": {
      "text/plain": [
       "'(ăY(ĂYā))'"
      ]
     },
     "execution_count": 17,
     "metadata": {},
     "output_type": "execute_result"
    }
   ],
   "source": [
    "S = lista[0]\n",
    "S"
   ]
  },
  {
   "cell_type": "code",
   "execution_count": 18,
   "metadata": {},
   "outputs": [
    {
     "data": {
      "text/plain": [
       "('Satisfacible', {'ă': True, 'ā': True, 'Ă': True})"
      ]
     },
     "execution_count": 18,
     "metadata": {},
     "output_type": "execute_result"
    }
   ],
   "source": [
    "inorder_to_tree(S).SATtabla()"
   ]
  },
  {
   "cell_type": "code",
   "execution_count": 19,
   "metadata": {},
   "outputs": [
    {
     "data": {
      "text/plain": [
       "('Satisfacible', {'ā': True, 'Ă': True, 'ă': True, 'Ą': True})"
      ]
     },
     "execution_count": 19,
     "metadata": {},
     "output_type": "execute_result"
    }
   ],
   "source": [
    "SATsolver(S)"
   ]
  },
  {
   "cell_type": "code",
   "execution_count": 20,
   "metadata": {},
   "outputs": [
    {
     "data": {
      "text/html": [
       "<div>\n",
       "<style scoped>\n",
       "    .dataframe tbody tr th:only-of-type {\n",
       "        vertical-align: middle;\n",
       "    }\n",
       "\n",
       "    .dataframe tbody tr th {\n",
       "        vertical-align: top;\n",
       "    }\n",
       "\n",
       "    .dataframe thead th {\n",
       "        text-align: right;\n",
       "    }\n",
       "</style>\n",
       "<table border=\"1\" class=\"dataframe\">\n",
       "  <thead>\n",
       "    <tr style=\"text-align: right;\">\n",
       "      <th></th>\n",
       "      <th>index</th>\n",
       "      <th>Long_entrada</th>\n",
       "      <th>Funcion</th>\n",
       "      <th>Tiempo_prom</th>\n",
       "      <th>Resultados</th>\n",
       "    </tr>\n",
       "  </thead>\n",
       "  <tbody>\n",
       "    <tr>\n",
       "      <th>0</th>\n",
       "      <td>0</td>\n",
       "      <td>1</td>\n",
       "      <td>SATsolver</td>\n",
       "      <td>0.000298</td>\n",
       "      <td>1</td>\n",
       "    </tr>\n",
       "    <tr>\n",
       "      <th>1</th>\n",
       "      <td>1</td>\n",
       "      <td>1</td>\n",
       "      <td>SATsolver</td>\n",
       "      <td>0.000113</td>\n",
       "      <td>1</td>\n",
       "    </tr>\n",
       "    <tr>\n",
       "      <th>2</th>\n",
       "      <td>2</td>\n",
       "      <td>1</td>\n",
       "      <td>SATsolver</td>\n",
       "      <td>0.000160</td>\n",
       "      <td>1</td>\n",
       "    </tr>\n",
       "    <tr>\n",
       "      <th>3</th>\n",
       "      <td>3</td>\n",
       "      <td>1</td>\n",
       "      <td>SATsolver</td>\n",
       "      <td>0.000160</td>\n",
       "      <td>1</td>\n",
       "    </tr>\n",
       "    <tr>\n",
       "      <th>4</th>\n",
       "      <td>4</td>\n",
       "      <td>1</td>\n",
       "      <td>SATsolver</td>\n",
       "      <td>0.000159</td>\n",
       "      <td>1</td>\n",
       "    </tr>\n",
       "  </tbody>\n",
       "</table>\n",
       "</div>"
      ],
      "text/plain": [
       "   index  Long_entrada    Funcion  Tiempo_prom  Resultados\n",
       "0      0             1  SATsolver     0.000298           1\n",
       "1      1             1  SATsolver     0.000113           1\n",
       "2      2             1  SATsolver     0.000160           1\n",
       "3      3             1  SATsolver     0.000160           1\n",
       "4      4             1  SATsolver     0.000159           1"
      ]
     },
     "execution_count": 20,
     "metadata": {},
     "output_type": "execute_result"
    }
   ],
   "source": [
    "nombres = ['SATsolver']\n",
    "funs = [SATsolver]\n",
    "df = compara_entradas_funs(funs, nombres, lista)\n",
    "df.head()"
   ]
  },
  {
   "cell_type": "code",
   "execution_count": 21,
   "metadata": {},
   "outputs": [
    {
     "data": {
      "text/plain": [
       "<AxesSubplot:xlabel='Long_entrada', ylabel='Tiempo_prom'>"
      ]
     },
     "execution_count": 21,
     "metadata": {},
     "output_type": "execute_result"
    },
    {
     "data": {
      "image/png": "[encoded data removed]",
      "text/plain": [
       "<Figure size 432x288 with 1 Axes>"
      ]
     },
     "metadata": {
      "needs_background": "light"
     },
     "output_type": "display_data"
    }
   ],
   "source": [
    "sns.lineplot(x='Long_entrada',y='Tiempo_prom',hue='Funcion',data=df)"
   ]
  },
  {
   "cell_type": "code",
   "execution_count": null,
   "metadata": {},
   "outputs": [],
   "source": []
  }
 ],
 "metadata": {
  "kernelspec": {
   "display_name": "Python 3",
   "language": "python",
   "name": "python3"
  },
  "language_info": {
   "codemirror_mode": {
    "name": "ipython",
    "version": 3
   },
   "file_extension": ".py",
   "mimetype": "text/x-python",
   "name": "python",
   "nbconvert_exporter": "python",
   "pygments_lexer": "ipython3",
   "version": "3.9.12"
  }
 },
 "nbformat": 4,
 "nbformat_minor": 4
}
