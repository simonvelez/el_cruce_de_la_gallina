{
  "cells": [
    {
      "cell_type": "markdown",
      "metadata": {
        "id": "DQBeAXT2HZlL"
      },
      "source": [
        "<table>\n",
        "    <tr>\n",
        "        <td><img src=\"./img/Macc.png\" width=\"auto\"/></td>\n",
        "        <td>\n",
        "            <table><tr>\n",
        "            <h1 style=\"color:blue;text-align:center\">Lógica para Ciencias de la Computación</h1></td>\n",
        "            </tr></table>   \n",
        "        <td>&nbsp;</td>\n",
        "        <td>\n",
        "            <table><tr>\n",
        "            <tp><p style=\"font-size:150%;text-align:center\">Taller</p></tp>\n",
        "            <tp><p style=\"font-size:150%;text-align:center\">Equivalencia lógica</p></tp>\n",
        "            </tr></table>\n",
        "        </td>\n",
        "    </tr>\n",
        "</table>\n",
        "\n",
        "---"
      ]
    },
    {
      "cell_type": "markdown",
      "metadata": {
        "id": "un3yK0KcHZlP"
      },
      "source": [
        "# Objetivos <a class=\"anchor\" id=\"inicio\"></a>\n",
        "\n",
        "Una vez tenemos nuestra implementación de las fórmulas de la lógica proposicional como clases en Python, podemos comenzar a hacer pruebas interesantes. En este notebook vamos a determinar si dos fórmulas son equivalentes."
      ]
    },
    {
      "cell_type": "markdown",
      "metadata": {
        "id": "htTtWL3pHZlS"
      },
      "source": [
        "# Secciones\n",
        "\n",
        "1. [Equivalencia lógica.](#eq)\n",
        "2. [Sustituciones.](#sus)\n",
        "3. [Froma normal conjuntiva.](#fnc)"
      ]
    },
    {
      "cell_type": "markdown",
      "metadata": {
        "id": "rgs2dyXhHZlT"
      },
      "source": [
        "# Equivalencia lógica <a class=\"anchor\" id=\"eq\"></a>\n",
        "\n",
        "([Volver al inicio](#inicio))\n",
        "\n",
        "Sean $A$, $B$, fórmulas. La equivalencia entre $A$ y $B$ (denotada por $A\\equiv B$) se define de la siguiente manera:\n",
        "\n",
        "$$\n",
        "A\\equiv B \\mbox{ si, y solamente si, }A.valor(I)=B.valor(I)\\mbox{ para toda interpretación }I\n",
        "$$\n",
        "\n",
        "Observe que ya habíamos usado la equivalencia anteriormente. Hicimos uso de ella para encontrar cuál era la prioridad de las operaciones booleanas en Python. En este caso revisamos las tablas de verdad de ambas variables para ver si las columnas eran todas iguales.\n",
        "\n",
        "Vamos a operacionalizar esto en una función `chequear_equivalencia` en Python, la cual toma dos fórmulas (como árboles) como argumento. La función debe recorrer cada una de las interpretaciones posibles, y detener si no tienen el mismo valor. Si recorre todas sin detenerse, entonces son equivalentes.\n",
        "\n",
        "Observe que tenemos acceso al archivo `Logica.py`, en el cual están implementadas las fórmulas y la función `inorder_to_tree`:"
      ]
    },
    {
      "cell_type": "code",
      "source": [
        "'''\n",
        "Librería con las clases y funciones\n",
        "para lógica proposicional\n",
        "'''\n",
        "\n",
        "from itertools import product\n",
        "\n",
        "class Formula :\n",
        "\n",
        "    def __init__(self) :\n",
        "        pass\n",
        "\n",
        "    def __str__(self) :\n",
        "        if type(self) == Letra:\n",
        "            return self.letra\n",
        "        elif type(self) == Negacion:\n",
        "            return '-' + str(self.subf)\n",
        "        elif type(self) == Binario:\n",
        "            return \"(\" + str(self.left) + self.conectivo + str(self.right) + \")\"\n",
        "\n",
        "    def letras(self):\n",
        "        if type(self) == Letra:\n",
        "            return set(self.letra)\n",
        "        elif type(self) == Negacion:\n",
        "            return self.subf.letras()\n",
        "        elif type(self) == Binario:\n",
        "            return self.left.letras().union(self.right.letras())\n",
        "\n",
        "    def subforms(self):\n",
        "        if type(self) == Letra:\n",
        "            return [str(self)]\n",
        "        elif type(self) == Negacion:\n",
        "            return list(set([str(self)] + self.subf.subforms()))\n",
        "        elif type(self) == Binario:\n",
        "            return list(set([str(self)] + self.left.subforms() + self.right.subforms()))\n",
        "\n",
        "    def valor(self, I) :\n",
        "        if type(self) == Letra:\n",
        "            return I[self.letra]\n",
        "        elif type(self) == Negacion:\n",
        "            return not self.subf.valor(I)\n",
        "        elif type(self) == Binario:\n",
        "            if self.conectivo == 'Y':\n",
        "                return self.left.valor(I) and self.right.valor(I)\n",
        "            if self.conectivo == 'O':\n",
        "                return self.left.valor(I) or self.right.valor(I)\n",
        "            if self.conectivo == '>':\n",
        "                return not self.left.valor(I) or self.right.valor(I)\n",
        "            if self.conectivo == '=':\n",
        "                return (self.left.valor(I) and self.right.valor(I)) or (not self.left.valor(I) and not self.right.valor(I))\n",
        "\n",
        "class Letra(Formula) :\n",
        "    def __init__ (self, letra:str) :\n",
        "        self.letra = letra\n",
        "\n",
        "class Negacion(Formula) :\n",
        "    def __init__(self, subf:Formula) :\n",
        "        self.subf = subf\n",
        "\n",
        "class Binario(Formula) :\n",
        "    def __init__(self, conectivo:str, left:Formula, right:Formula) :\n",
        "        assert(conectivo in ['Y','O','>','='])\n",
        "        self.conectivo = conectivo\n",
        "        self.left = left\n",
        "        self.right = right\n",
        "\n",
        "def inorder_to_tree(cadena:str):\n",
        "    conectivos = ['Y', 'O', '>', '=']\n",
        "    if len(cadena) == 1:\n",
        "        return Letra(cadena)\n",
        "    elif cadena[0] == '-':\n",
        "        return Negacion(inorder_to_tree(cadena[1:]))\n",
        "    elif cadena[0] == \"(\":\n",
        "        counter = 0 #Contador de parentesis\n",
        "        for i in range(1, len(cadena)):\n",
        "            if cadena[i] == \"(\":\n",
        "                counter += 1\n",
        "            elif cadena[i] == \")\":\n",
        "                counter -=1\n",
        "            elif cadena[i] in conectivos and counter == 0:\n",
        "                return Binario(cadena[i], inorder_to_tree(cadena[1:i]),inorder_to_tree(cadena[i + 1:-1]))\n",
        "    else:\n",
        "        raise Exception('¡Cadena inválida!')"
      ],
      "metadata": {
        "id": "Ycqz0u6-y8YT"
      },
      "execution_count": null,
      "outputs": []
    },
    {
      "cell_type": "code",
      "execution_count": null,
      "metadata": {
        "id": "fmM_4fiaHZlU"
      },
      "outputs": [],
      "source": [
        "from Logica import *"
      ]
    },
    {
      "cell_type": "code",
      "execution_count": null,
      "metadata": {
        "id": "8pKU5IWjHZlW",
        "outputId": "3c3d213e-8d89-4d60-b7c8-83f19e148bf0",
        "colab": {
          "base_uri": "https://localhost:8080/"
        }
      },
      "outputs": [
        {
          "output_type": "execute_result",
          "data": {
            "text/plain": [
              "True"
            ]
          },
          "metadata": {},
          "execution_count": 4
        }
      ],
      "source": [
        "A = inorder_to_tree('--p')\n",
        "I = {'p':True}\n",
        "A.valor(I)"
      ]
    },
    {
      "cell_type": "markdown",
      "metadata": {
        "id": "VG99eNUYHZlX"
      },
      "source": [
        "**Ejercicio 1:**\n",
        "\n",
        "Implemente la función `chequear_equivalencia`.\n",
        "\n",
        "Verifique su implementación para corroborar las siguientes equivalencias:\n",
        "\n",
        "* $(p\\to q)\\equiv(\\neg p\\vee q)$\n",
        "* $\\neg(p\\wedge q)\\equiv (\\neg p\\vee\\neg q)$\n",
        "* $\\neg(p\\vee q)\\equiv (\\neg p\\wedge\\neg q)$\n",
        "* $\\bigl(p\\vee(q\\wedge r)\\bigr)\\equiv\\bigl((p\\vee q)\\wedge(p\\vee r)\\bigr)$\n",
        "* $\\bigl(p\\wedge(q\\vee r)\\bigr)\\equiv\\bigl((p\\wedge q)\\vee(p\\wedge r)\\bigr)$\n",
        "\n",
        "Corrobore también que las siguientes NO son equivalencias:\n",
        "\n",
        "* $(p\\to q)\\not\\equiv(q\\to p)$\n",
        "* $\\bigl(p\\vee(q\\wedge r)\\bigr)\\not\\equiv\\bigl((p\\wedge q)\\vee(p\\wedge r)\\bigr)$"
      ]
    },
    {
      "cell_type": "code",
      "source": [
        "def chequear_equivalencia(variables, expr1, expr2):\n",
        "\n",
        "    formula1 = inorder_to_tree(expr1)\n",
        "    formula2 = inorder_to_tree(expr2)\n",
        "\n",
        "    valores = list(product([True, False], repeat=len(variables)))\n",
        "    for valor in valores:\n",
        "\n",
        "        I = dict(zip(variables, valor))\n",
        "\n",
        "        resultado1 = formula1.valor(I)\n",
        "        resultado2 = formula2.valor(I)\n",
        "\n",
        "        if resultado1 != resultado2:\n",
        "            return False\n",
        "\n",
        "    return True\n",
        "\n",
        "variables = ['p', 'q','r']\n",
        "print(chequear_equivalencia(variables, '(p>q)', '(-pOq)'))\n",
        "print(chequear_equivalencia(variables, '-(pYq)', '(-pO-q)'))\n",
        "print(chequear_equivalencia(variables, '-(pOq)', '(-pY-q)'))\n",
        "print(chequear_equivalencia(variables, '(pO(qYr))', '((pOq)Y(pOr))'))\n",
        "print(chequear_equivalencia(variables, '(pY(qOr))', '((pYq)O(pYr))'))\n",
        "print(chequear_equivalencia(variables, '(p>q)', '(q>p)'))\n",
        "print(chequear_equivalencia(variables, '(pO(qYr))', '((pYq)O(pYr))'))\n",
        "\n"
      ],
      "metadata": {
        "id": "ZlMhpn447sbE",
        "colab": {
          "base_uri": "https://localhost:8080/"
        },
        "outputId": "80671f0f-fc1a-4b8d-a7d9-e28d380d7144"
      },
      "execution_count": null,
      "outputs": [
        {
          "output_type": "stream",
          "name": "stdout",
          "text": [
            "True\n",
            "True\n",
            "True\n",
            "True\n",
            "True\n",
            "False\n",
            "False\n"
          ]
        }
      ]
    },
    {
      "cell_type": "code",
      "source": [
        "variables = ['p', 'q', 'r']\n",
        "print(chequear_equivalencia(variables, '(p and not q) or (not p and q)', 'p != q'))"
      ],
      "metadata": {
        "id": "I3__cuDQ0C4n",
        "colab": {
          "base_uri": "https://localhost:8080/",
          "height": 339
        },
        "outputId": "66d48d9b-60b2-45e3-a32d-3414014b52ca"
      },
      "execution_count": null,
      "outputs": [
        {
          "output_type": "error",
          "ename": "Exception",
          "evalue": "ignored",
          "traceback": [
            "\u001b[0;31m---------------------------------------------------------------------------\u001b[0m",
            "\u001b[0;31mException\u001b[0m                                 Traceback (most recent call last)",
            "\u001b[0;32m<ipython-input-6-4f23bdaf3802>\u001b[0m in \u001b[0;36m<cell line: 2>\u001b[0;34m()\u001b[0m\n\u001b[1;32m      1\u001b[0m \u001b[0mvariables\u001b[0m \u001b[0;34m=\u001b[0m \u001b[0;34m[\u001b[0m\u001b[0;34m'p'\u001b[0m\u001b[0;34m,\u001b[0m \u001b[0;34m'q'\u001b[0m\u001b[0;34m,\u001b[0m \u001b[0;34m'r'\u001b[0m\u001b[0;34m]\u001b[0m\u001b[0;34m\u001b[0m\u001b[0;34m\u001b[0m\u001b[0m\n\u001b[0;32m----> 2\u001b[0;31m \u001b[0mprint\u001b[0m\u001b[0;34m(\u001b[0m\u001b[0mchequear_equivalencia\u001b[0m\u001b[0;34m(\u001b[0m\u001b[0mvariables\u001b[0m\u001b[0;34m,\u001b[0m \u001b[0;34m'(p and not q) or (not p and q)'\u001b[0m\u001b[0;34m,\u001b[0m \u001b[0;34m'p != q'\u001b[0m\u001b[0;34m)\u001b[0m\u001b[0;34m)\u001b[0m\u001b[0;34m\u001b[0m\u001b[0;34m\u001b[0m\u001b[0m\n\u001b[0m",
            "\u001b[0;32m<ipython-input-5-70aaa55417d6>\u001b[0m in \u001b[0;36mchequear_equivalencia\u001b[0;34m(variables, expr1, expr2)\u001b[0m\n\u001b[1;32m      2\u001b[0m \u001b[0;34m\u001b[0m\u001b[0m\n\u001b[1;32m      3\u001b[0m     \u001b[0mformula1\u001b[0m \u001b[0;34m=\u001b[0m \u001b[0minorder_to_tree\u001b[0m\u001b[0;34m(\u001b[0m\u001b[0mexpr1\u001b[0m\u001b[0;34m)\u001b[0m\u001b[0;34m\u001b[0m\u001b[0;34m\u001b[0m\u001b[0m\n\u001b[0;32m----> 4\u001b[0;31m     \u001b[0mformula2\u001b[0m \u001b[0;34m=\u001b[0m \u001b[0minorder_to_tree\u001b[0m\u001b[0;34m(\u001b[0m\u001b[0mexpr2\u001b[0m\u001b[0;34m)\u001b[0m\u001b[0;34m\u001b[0m\u001b[0;34m\u001b[0m\u001b[0m\n\u001b[0m\u001b[1;32m      5\u001b[0m \u001b[0;34m\u001b[0m\u001b[0m\n\u001b[1;32m      6\u001b[0m \u001b[0;34m\u001b[0m\u001b[0m\n",
            "\u001b[0;32m/content/Logica.py\u001b[0m in \u001b[0;36minorder_to_tree\u001b[0;34m(cadena)\u001b[0m\n\u001b[1;32m     81\u001b[0m                 \u001b[0;32mreturn\u001b[0m \u001b[0mBinario\u001b[0m\u001b[0;34m(\u001b[0m\u001b[0mcadena\u001b[0m\u001b[0;34m[\u001b[0m\u001b[0mi\u001b[0m\u001b[0;34m]\u001b[0m\u001b[0;34m,\u001b[0m \u001b[0minorder_to_tree\u001b[0m\u001b[0;34m(\u001b[0m\u001b[0mcadena\u001b[0m\u001b[0;34m[\u001b[0m\u001b[0;36m1\u001b[0m\u001b[0;34m:\u001b[0m\u001b[0mi\u001b[0m\u001b[0;34m]\u001b[0m\u001b[0;34m)\u001b[0m\u001b[0;34m,\u001b[0m\u001b[0minorder_to_tree\u001b[0m\u001b[0;34m(\u001b[0m\u001b[0mcadena\u001b[0m\u001b[0;34m[\u001b[0m\u001b[0mi\u001b[0m \u001b[0;34m+\u001b[0m \u001b[0;36m1\u001b[0m\u001b[0;34m:\u001b[0m\u001b[0;34m-\u001b[0m\u001b[0;36m1\u001b[0m\u001b[0;34m]\u001b[0m\u001b[0;34m)\u001b[0m\u001b[0;34m)\u001b[0m\u001b[0;34m\u001b[0m\u001b[0;34m\u001b[0m\u001b[0m\n\u001b[1;32m     82\u001b[0m     \u001b[0;32melse\u001b[0m\u001b[0;34m:\u001b[0m\u001b[0;34m\u001b[0m\u001b[0;34m\u001b[0m\u001b[0m\n\u001b[0;32m---> 83\u001b[0;31m         \u001b[0;32mraise\u001b[0m \u001b[0mException\u001b[0m\u001b[0;34m(\u001b[0m\u001b[0;34m'¡Cadena inválida!'\u001b[0m\u001b[0;34m)\u001b[0m\u001b[0;34m\u001b[0m\u001b[0;34m\u001b[0m\u001b[0m\n\u001b[0m",
            "\u001b[0;31mException\u001b[0m: ¡Cadena inválida!"
          ]
        }
      ]
    },
    {
      "cell_type": "markdown",
      "metadata": {
        "id": "hMsGFVhbHZlZ"
      },
      "source": [
        "# Sustituciones <a class=\"anchor\" id=\"sus\"></a>\n",
        "\n",
        "([Volver al inicio](#inicio))\n",
        "\n",
        "Recordemos que el siguiente es el pseudocódigo de sustituir una subfórmula $A$ de $B$ por otra fórmula $A'$:\n",
        "\n",
        "`\n",
        "funcion sust(self, A, A'):\n",
        "    Si A no está en self.subforms()\n",
        "        retornar self\n",
        "    Si no, si A es self\n",
        "        retornar A'\n",
        "    Si no, si self es de tipo Negacion\n",
        "        retornar Negacion(self.subf.sust(A,A'))\n",
        "    Si no, si self es de tipo Binario\n",
        "        retornar Binario(self.conectivo,\n",
        "                         self.left.sust(A,A'),\n",
        "                         self.right.sust(A,A'))\n",
        "`"
      ]
    },
    {
      "cell_type": "markdown",
      "metadata": {
        "id": "QQr5AzCaHZlb"
      },
      "source": [
        "**Ejercicio 2:**\n",
        "\n",
        "Implemente el método sust(A,A').\n",
        "\n",
        "**Nota:** No requiere implementar el método `subforms`, toda vez que este ya está implementado en la clase `Formula` de la librería `Logica`. Observe que dicho método `subforms` devuelve una lista de strings. Tenga esto en cuenta al momento de hacer las comparaciones requeridas por los dos primeros casos del método `sust`.\n"
      ]
    },
    {
      "cell_type": "code",
      "source": [
        "def sust(self, A1, A2):\n",
        "  if str(A1) not in self.subforms(): return self\n",
        "  else:\n",
        "    if str(A1) == str(self): return A2\n",
        "    elif type(self) == Negacion: return Negacion(self.subforms.sust(A1,A2))\n",
        "    elif type(self) == Binario: return Binario(self.conectivo, self.left.sust(A1,A2), self.right.sust(A1,A2))\n",
        "setattr(Formula,\"sust\",sust)"
      ],
      "metadata": {
        "id": "SO4vmPVYAAvZ"
      },
      "execution_count": null,
      "outputs": []
    },
    {
      "cell_type": "code",
      "execution_count": null,
      "metadata": {
        "id": "Tto3kw-kHZlc",
        "colab": {
          "base_uri": "https://localhost:8080/"
        },
        "outputId": "1ccbc05e-741d-430f-deaf-aa9780fe1a4d"
      },
      "outputs": [
        {
          "output_type": "execute_result",
          "data": {
            "text/plain": [
              "['q', 'p', '-(pYq)', '(pYq)']"
            ]
          },
          "metadata": {},
          "execution_count": 8
        }
      ],
      "source": [
        "B = inorder_to_tree(\"-(pYq)\")\n",
        "B.subforms()"
      ]
    },
    {
      "cell_type": "markdown",
      "metadata": {
        "id": "AQNNChwVHZld"
      },
      "source": [
        "Pruebe su código con el siguiente ejemplo. Debería obtener\n",
        "\n",
        "`\n",
        "Al reemplazar -(pYq) por s en (r>-(pYq))  se obtiene:\n",
        "(r>s)\n",
        "`"
      ]
    },
    {
      "cell_type": "code",
      "execution_count": null,
      "metadata": {
        "id": "St9vpjMSHZle",
        "colab": {
          "base_uri": "https://localhost:8080/"
        },
        "outputId": "210eb050-c0ab-45d0-cac0-3142b8ebc753"
      },
      "outputs": [
        {
          "output_type": "stream",
          "name": "stdout",
          "text": [
            "Al reemplazar -(pYq) por s en (r>-(pYq))  se obtiene:\n",
            "(r>s)\n"
          ]
        }
      ],
      "source": [
        "B = inorder_to_tree(\"(r>-(pYq))\")\n",
        "A = inorder_to_tree('-(pYq)')\n",
        "C = Letra('s')\n",
        "D = B.sust(A,C)\n",
        "print(f'Al reemplazar {str(A)} por {str(C)} en {str(B)}  se obtiene:\\n{str(D)}')"
      ]
    },
    {
      "cell_type": "markdown",
      "metadata": {
        "id": "IYOIaCcFHZle"
      },
      "source": [
        "---"
      ]
    },
    {
      "cell_type": "markdown",
      "metadata": {
        "id": "Zyhv-SEFHZlf"
      },
      "source": [
        "# Forma Normal Conjuntiva <a class=\"anchor\" id=\"fnc\"></a>\n",
        "\n",
        "([Volver al inicio](#inicio))\n",
        "\n",
        "Procedimiento para transformar una fórmula arbitraria $A$ en una fórmula $A'$ en forma normal conjuntiva, tal que $A\\equiv A'$:\n",
        "\n",
        "1. Eliminar `$\\leftrightarrow$' y '$\\to$'.\n",
        "2. Eliminar dobles negaciones.\n",
        "3. Si $\\neg(B\\wedge C)\\in A.\\mbox{subform}()$, reemplazarla por $\\neg B\\vee\\neg C$.\n",
        "4. Si $\\neg(B\\vee C)\\in A.\\mbox{subform}()$, reemplazarla por $\\neg B\\wedge\\neg C$.\n",
        "5. Eliminar dobles negaciones.\n",
        "6. Si $B\\vee (C\\wedge D)\\in A.\\mbox{subform}()$, reemplazarla por $(B\\vee C)\\wedge (B\\vee D)$.\n"
      ]
    },
    {
      "cell_type": "code",
      "execution_count": null,
      "metadata": {
        "id": "-eTnG-xVHZlf"
      },
      "outputs": [],
      "source": [
        "from copy import deepcopy\n",
        "\n",
        "class Formula:\n",
        "\n",
        "  def eliminar_imp(self):\n",
        "    if type(self) == Letra:\n",
        "        return self\n",
        "    elif type(self) == Negacion:\n",
        "        return Negacion(self.subf.eliminar_imp())\n",
        "    elif type(self) == Binario:\n",
        "        if self.conectivo == '>':\n",
        "            return Binario('O', Negacion(self.left.eliminar_imp),\n",
        "                           self.right.eliminar_imp\n",
        "                           )\n",
        "        else:\n",
        "            return Binario(self.conectivo,\n",
        "                       self.left.eliminar_imp(),\n",
        "                       self.right.eliminar_imp()\n",
        "                      )\n",
        "\n",
        "setattr(Formula,\"eliminar_imp\",eliminar_imp)\n",
        "\n",
        "\n",
        "def eliminar_doble_imp(self):\n",
        "    if type(self) == Letra:\n",
        "        return self\n",
        "    elif type(self) == Negacion:\n",
        "        return Negacion(self.subf.eliminar_doble_imp())\n",
        "    elif type(self) == Binario:\n",
        "        if self.conectivo == '=':\n",
        "            return Binario('Y',\n",
        "                           Binario('O',\n",
        "                               Negacion(self.left.eliminar_doble_imp()),\n",
        "                               self.right.eliminar_doble_imp(),\n",
        "                              ),\n",
        "                           Binario('O',\n",
        "                               Negacion(self.right.eliminar_doble_imp()),\n",
        "                               self.left.eliminar_doble_imp(),\n",
        "                              ))\n",
        "        else:\n",
        "            return Binario(self.conectivo,\n",
        "                       self.left.eliminar_doble_imp(),\n",
        "                       self.right.eliminar_doble_imp()\n",
        "                      )\n",
        "\n",
        "\n",
        "def eliminar_doble_negacion(self):\n",
        "    if type(self) == Letra:\n",
        "        return self\n",
        "    elif type(self) == Negacion:\n",
        "        if type(self.subf) == Negacion:\n",
        "            return Negacion(self.subf.subf.eliminar_doble_negacion())\n",
        "        else:\n",
        "            return Negacion(self.subf.eliminar_doble_negacion())\n",
        "    elif type(self) == Binario:\n",
        "        return Binario(self.conectivo,\n",
        "                       self.left.eliminar_doble_negacion(),\n",
        "                       self.right.eliminar_doble_negacion())\n",
        "\n",
        "\n",
        "\n",
        "def cambiar_de_morgan_y(self):\n",
        "    if type(self) == Letra:\n",
        "        return self\n",
        "    elif type(self) == Negacion:\n",
        "        if type(self.subf) == Binario:\n",
        "            if self.subf.conectivo == 'Y':\n",
        "                return Binario('O',\n",
        "                               Negacion(self.subf.left.cambiar_de_morgan_y()),\n",
        "                               Negacion(self.subf.right.cambiar_de_morgan_y())\n",
        "                              )\n",
        "            else:\n",
        "                return Negacion(self.subf.cambiar_de_morgan_y())\n",
        "        else:\n",
        "            return Negacion(self.subf.cambiar_de_morgan_y())\n",
        "    elif type(self) == Binario:\n",
        "        return Binario(self.conectivo,\n",
        "                       self.left.cambiar_de_morgan_y(),\n",
        "                       self.right.cambiar_de_morgan_y()\n",
        "                      )\n",
        "\n",
        "setattr(Formula,\"cambiar_de_morgan_y\",cambiar_de_morgan_y)\n",
        "\n",
        "def cambiar_de_morgan_o(self):\n",
        "    if type(self) == Letra:\n",
        "        return self\n",
        "    elif type(self) == Negacion:\n",
        "        if type(self.subf) == Binario:\n",
        "            if self.subf.conectivo == 'O':\n",
        "                return Binario('Y',\n",
        "                               Negacion(self.subf.left.cambiar_de_morgan_o()),\n",
        "                               Negacion(self.subf.right.cambiar_de_morgan_o())\n",
        "                              )\n",
        "            else:\n",
        "                return Negacion(self.subf.cambiar_de_morgan_o())\n",
        "        else:\n",
        "            return Negacion(self.subf.cambiar_de_morgan_o())\n",
        "    elif type(self) == Binario:\n",
        "        return Binario(self.conectivo,\n",
        "                       self.left.cambiar_de_morgan_o(),\n",
        "                       self.right.cambiar_de_morgan_o()\n",
        "                      )\n",
        "\n",
        "setattr(Formula,\"cambiar_de_morgan_o\",cambiar_de_morgan_o)\n",
        "\n",
        "def distribuir_o_en_y(self):\n",
        "    if type(self) == Letra:\n",
        "        return self\n",
        "    elif type(self) == Negacion:\n",
        "        return Negacion(self.subf.distribuir_o_en_y())\n",
        "    elif type(self) == Binario:\n",
        "        if self.conectivo == 'O':\n",
        "            if type(self.right) == Binario:\n",
        "                if self.right.conectivo == 'Y': # B O (C Y D)\n",
        "                    B = self.left.distribuir_o_en_y()\n",
        "                    C = self.right.left.distribuir_o_en_y()\n",
        "                    D = self.right.right.distribuir_o_en_y()\n",
        "                    return Binario('Y',\n",
        "                                   Binario('O', B, C),\n",
        "                                   Binario('O', B, D)\n",
        "                                  )\n",
        "                else:\n",
        "                    return Binario(self.conectivo,\n",
        "                                   self.left.distribuir_o_en_y(),\n",
        "                                   self.right.distribuir_o_en_y()\n",
        "                                  )\n",
        "            elif type(self.left) == Binario:\n",
        "                if self.left.conectivo == 'Y': # (B Y C) O D\n",
        "                    B = self.left.left.distribuir_o_en_y()\n",
        "                    C = self.left.right.distribuir_o_en_y()\n",
        "                    D = self.right.distribuir_o_en_y()\n",
        "                    return Binario('Y',\n",
        "                                   Binario('O', B, D),\n",
        "                                   Binario('O', C, D)\n",
        "                                  )\n",
        "                else:\n",
        "                    return Binario(self.conectivo,\n",
        "                                   self.left.distribuir_o_en_y(),\n",
        "                                   self.right.distribuir_o_en_y()\n",
        "                                  )\n",
        "        else:\n",
        "            return Binario(self.conectivo,\n",
        "                           self.left.distribuir_o_en_y(),\n",
        "                           self.right.distribuir_o_en_y()\n",
        "                          )\n",
        "\n",
        "\n",
        "setattr(Formula,\"distribuir_o_en_y\",distribuir_o_en_y)\n"
      ]
    },
    {
      "cell_type": "code",
      "execution_count": null,
      "metadata": {
        "id": "fnJ06h7-HZlg",
        "colab": {
          "base_uri": "https://localhost:8080/",
          "height": 263
        },
        "outputId": "065cf15b-e5c2-4e55-e395-0233f8476384"
      },
      "outputs": [
        {
          "output_type": "error",
          "ename": "AttributeError",
          "evalue": "ignored",
          "traceback": [
            "\u001b[0;31m---------------------------------------------------------------------------\u001b[0m",
            "\u001b[0;31mAttributeError\u001b[0m                            Traceback (most recent call last)",
            "\u001b[0;32m<ipython-input-37-6dc87bd06716>\u001b[0m in \u001b[0;36m<cell line: 2>\u001b[0;34m()\u001b[0m\n\u001b[1;32m      1\u001b[0m \u001b[0mA\u001b[0m \u001b[0;34m=\u001b[0m \u001b[0minorder_to_tree\u001b[0m\u001b[0;34m(\u001b[0m\u001b[0;34m'--(-(r>q)=(--pYq))'\u001b[0m\u001b[0;34m)\u001b[0m\u001b[0;34m\u001b[0m\u001b[0;34m\u001b[0m\u001b[0m\n\u001b[0;32m----> 2\u001b[0;31m \u001b[0mB\u001b[0m \u001b[0;34m=\u001b[0m \u001b[0mA\u001b[0m\u001b[0;34m.\u001b[0m\u001b[0meliminar_doble_imp\u001b[0m\u001b[0;34m(\u001b[0m\u001b[0;34m)\u001b[0m\u001b[0;34m\u001b[0m\u001b[0;34m\u001b[0m\u001b[0m\n\u001b[0m\u001b[1;32m      3\u001b[0m \u001b[0mprint\u001b[0m\u001b[0;34m(\u001b[0m\u001b[0;34mf'Al eliminar las dobles implicaciones de \\n{str(A)}\\nse obtiene:\\n{str(B)}'\u001b[0m\u001b[0;34m)\u001b[0m\u001b[0;34m\u001b[0m\u001b[0;34m\u001b[0m\u001b[0m\n\u001b[1;32m      4\u001b[0m \u001b[0mC\u001b[0m \u001b[0;34m=\u001b[0m \u001b[0mB\u001b[0m\u001b[0;34m.\u001b[0m\u001b[0meliminar_doble_negacion\u001b[0m\u001b[0;34m(\u001b[0m\u001b[0;34m)\u001b[0m\u001b[0;34m\u001b[0m\u001b[0;34m\u001b[0m\u001b[0m\n\u001b[1;32m      5\u001b[0m \u001b[0mprint\u001b[0m\u001b[0;34m(\u001b[0m\u001b[0;34mf'Al eliminar las dobles negaciones se obtiene:\\n{str(C)}'\u001b[0m\u001b[0;34m)\u001b[0m\u001b[0;34m\u001b[0m\u001b[0;34m\u001b[0m\u001b[0m\n",
            "\u001b[0;31mAttributeError\u001b[0m: 'Negacion' object has no attribute 'eliminar_doble_imp'"
          ]
        }
      ],
      "source": [
        "A = inorder_to_tree('--(-(r>q)=(--pYq))')\n",
        "B = A.eliminar_doble_imp()\n",
        "print(f'Al eliminar las dobles implicaciones de \\n{str(A)}\\nse obtiene:\\n{str(B)}')\n",
        "C = B.eliminar_doble_negacion()\n",
        "print(f'Al eliminar las dobles negaciones se obtiene:\\n{str(C)}')\n",
        "D = C.cambiar_de_morgan_y()\n",
        "print(f'Al reemplazar -(AYB) por -AO-B se obtiene:\\n{str(D)}')\n"
      ]
    },
    {
      "cell_type": "markdown",
      "metadata": {
        "id": "3nal3Bz5HZlh"
      },
      "source": [
        "**Ejercicio 3:**\n",
        "\n",
        "Complete todos los métodos de modificación anteriores. Al probar su código con la siguiente celda, la respuesta debe ser:\n",
        "\n",
        "`\n",
        "Fórmula inicial:\n",
        "((pOq)>(rY-s))\n",
        "Al eliminar las implicaciones se obtiene:\n",
        "(-(pOq)O(rY-s))\n",
        "Al reemplazar -(AOB) por -AY-B se obtiene:\n",
        "((-pY-q)O(rY-s))\n",
        "Al distribuir O en Y se obtiene:\n",
        "(((-pY-q)Or)Y((-pY-q)O-s))\n",
        "Al distribuir O en Y se obtiene:\n",
        "(((-pOr)Y(-qOr))Y((-pO-s)Y(-qO-s)))\n",
        "`"
      ]
    },
    {
      "cell_type": "code",
      "execution_count": null,
      "metadata": {
        "id": "2D7KJJ6FHZli",
        "colab": {
          "base_uri": "https://localhost:8080/",
          "height": 280
        },
        "outputId": "6c2ed056-422d-4bd1-f0cb-d34ce671f2e4"
      },
      "outputs": [
        {
          "output_type": "stream",
          "name": "stdout",
          "text": [
            "Fórmula inicial:\n",
            "((pOq)>(rY-s))\n"
          ]
        },
        {
          "output_type": "error",
          "ename": "AttributeError",
          "evalue": "ignored",
          "traceback": [
            "\u001b[0;31m---------------------------------------------------------------------------\u001b[0m",
            "\u001b[0;31mAttributeError\u001b[0m                            Traceback (most recent call last)",
            "\u001b[0;32m<ipython-input-26-10f89eaf6ed8>\u001b[0m in \u001b[0;36m<cell line: 3>\u001b[0;34m()\u001b[0m\n\u001b[1;32m      1\u001b[0m \u001b[0mA\u001b[0m \u001b[0;34m=\u001b[0m \u001b[0minorder_to_tree\u001b[0m\u001b[0;34m(\u001b[0m\u001b[0;34m\"((pOq)>(rY-s))\"\u001b[0m\u001b[0;34m)\u001b[0m\u001b[0;34m\u001b[0m\u001b[0;34m\u001b[0m\u001b[0m\n\u001b[1;32m      2\u001b[0m \u001b[0mprint\u001b[0m\u001b[0;34m(\u001b[0m\u001b[0;34mf'Fórmula inicial:\\n{str(A)}'\u001b[0m\u001b[0;34m)\u001b[0m\u001b[0;34m\u001b[0m\u001b[0;34m\u001b[0m\u001b[0m\n\u001b[0;32m----> 3\u001b[0;31m \u001b[0mB\u001b[0m \u001b[0;34m=\u001b[0m \u001b[0mA\u001b[0m\u001b[0;34m.\u001b[0m\u001b[0meliminar_imp\u001b[0m\u001b[0;34m(\u001b[0m\u001b[0;34m)\u001b[0m\u001b[0;34m\u001b[0m\u001b[0;34m\u001b[0m\u001b[0m\n\u001b[0m\u001b[1;32m      4\u001b[0m \u001b[0mprint\u001b[0m\u001b[0;34m(\u001b[0m\u001b[0;34mf'Al eliminar las implicaciones se obtiene:\\n{str(B)}'\u001b[0m\u001b[0;34m)\u001b[0m\u001b[0;34m\u001b[0m\u001b[0;34m\u001b[0m\u001b[0m\n\u001b[1;32m      5\u001b[0m \u001b[0mC\u001b[0m \u001b[0;34m=\u001b[0m \u001b[0mB\u001b[0m\u001b[0;34m.\u001b[0m\u001b[0mcambiar_de_morgan_o\u001b[0m\u001b[0;34m(\u001b[0m\u001b[0;34m)\u001b[0m\u001b[0;34m\u001b[0m\u001b[0;34m\u001b[0m\u001b[0m\n",
            "\u001b[0;31mAttributeError\u001b[0m: 'Binario' object has no attribute 'eliminar_imp'"
          ]
        }
      ],
      "source": [
        "A = inorder_to_tree(\"((pOq)>(rY-s))\")\n",
        "print(f'Fórmula inicial:\\n{str(A)}')\n",
        "B = A.eliminar_imp()\n",
        "print(f'Al eliminar las implicaciones se obtiene:\\n{str(B)}')\n",
        "C = B.cambiar_de_morgan_o()\n",
        "print(f'Al reemplazar -(AOB) por -AY-B se obtiene:\\n{str(C)}')\n",
        "D = C.distribuir_o_en_y()\n",
        "print(f'Al distribuir O en Y se obtiene:\\n{str(D)}')\n",
        "E = D.distribuir_o_en_y()\n",
        "print(f'Al distribuir O en Y se obtiene:\\n{str(E)}')\n",
        "\n"
      ]
    },
    {
      "cell_type": "markdown",
      "metadata": {
        "id": "4ElDXyBoHZlj"
      },
      "source": [
        "---"
      ]
    },
    {
      "cell_type": "code",
      "source": [],
      "metadata": {
        "id": "3XjPm-LAwT3Q"
      },
      "execution_count": null,
      "outputs": []
    }
  ],
  "metadata": {
    "kernelspec": {
      "display_name": "Python 3",
      "language": "python",
      "name": "python3"
    },
    "language_info": {
      "codemirror_mode": {
        "name": "ipython",
        "version": 3
      },
      "file_extension": ".py",
      "mimetype": "text/x-python",
      "name": "python",
      "nbconvert_exporter": "python",
      "pygments_lexer": "ipython3",
      "version": "3.8.5"
    },
    "colab": {
      "provenance": []
    }
  },
  "nbformat": 4,
  "nbformat_minor": 0
}