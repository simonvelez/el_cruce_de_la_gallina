{
  "cells": [
    {
      "cell_type": "markdown",
      "metadata": {
        "id": "sOdr6vxFIMCO"
      },
      "source": [
        "<table>\n",
        "    <tr>\n",
        "        <td><img src=\"./img/Macc.png\" width=\"auto\"/></td>\n",
        "        <td>\n",
        "            <table><tr>\n",
        "            <h1 style=\"color:blue;text-align:center\">Lógica para Ciencias de la Computación</h1></td>\n",
        "            </tr></table>   \n",
        "        <td>&nbsp;</td>\n",
        "        <td>\n",
        "            <table><tr>\n",
        "            <tp><p style=\"font-size:150%;text-align:center\">Taller</p></tp>\n",
        "            <tp><p style=\"font-size:150%;text-align:center\">Clasificación de fórmulas</p></tp>\n",
        "            </tr></table>\n",
        "        </td>\n",
        "    </tr>\n",
        "</table>\n",
        "\n",
        "---"
      ]
    },
    {
      "cell_type": "code",
      "source": [
        "'''\n",
        "Librería con las clases y funciones\n",
        "para lógica proposicional\n",
        "'''\n",
        "\n",
        "from itertools import product\n",
        "\n",
        "class Formula :\n",
        "\n",
        "    def __init__(self) :\n",
        "        pass\n",
        "\n",
        "    def __str__(self) :\n",
        "        if type(self) == Letra:\n",
        "            return self.letra\n",
        "        elif type(self) == Negacion:\n",
        "            return '-' + str(self.subf)\n",
        "        elif type(self) == Binario:\n",
        "            return \"(\" + str(self.left) + self.conectivo + str(self.right) + \")\"\n",
        "\n",
        "    def letras(self):\n",
        "        if type(self) == Letra:\n",
        "            return set(self.letra)\n",
        "        elif type(self) == Negacion:\n",
        "            return self.subf.letras()\n",
        "        elif type(self) == Binario:\n",
        "            return self.left.letras().union(self.right.letras())\n",
        "\n",
        "    def subforms(self):\n",
        "        if type(self) == Letra:\n",
        "            return [str(self)]\n",
        "        elif type(self) == Negacion:\n",
        "            return list(set([str(self)] + self.subf.subforms()))\n",
        "        elif type(self) == Binario:\n",
        "            return list(set([str(self)] + self.left.subforms() + self.right.subforms()))\n",
        "\n",
        "    def valor(self, I) :\n",
        "        if type(self) == Letra:\n",
        "            return I[self.letra]\n",
        "        elif type(self) == Negacion:\n",
        "            return not self.subf.valor(I)\n",
        "        elif type(self) == Binario:\n",
        "            if self.conectivo == 'Y':\n",
        "                return self.left.valor(I) and self.right.valor(I)\n",
        "            if self.conectivo == 'O':\n",
        "                return self.left.valor(I) or self.right.valor(I)\n",
        "            if self.conectivo == '>':\n",
        "                return not self.left.valor(I) or self.right.valor(I)\n",
        "            if self.conectivo == '=':\n",
        "                return (self.left.valor(I) and self.right.valor(I)) or (not self.left.valor(I) and not self.right.valor(I))\n",
        "\n",
        "class Letra(Formula) :\n",
        "    def __init__ (self, letra:str) :\n",
        "        self.letra = letra\n",
        "\n",
        "class Negacion(Formula) :\n",
        "    def __init__(self, subf:Formula) :\n",
        "        self.subf = subf\n",
        "\n",
        "class Binario(Formula) :\n",
        "    def __init__(self, conectivo:str, left:Formula, right:Formula) :\n",
        "        assert(conectivo in ['Y','O','>','='])\n",
        "        self.conectivo = conectivo\n",
        "        self.left = left\n",
        "        self.right = right\n",
        "\n",
        "def inorder_to_tree(cadena:str):\n",
        "    conectivos = ['Y', 'O', '>', '=']\n",
        "    if len(cadena) == 1:\n",
        "        return Letra(cadena)\n",
        "    elif cadena[0] == '-':\n",
        "        return Negacion(inorder_to_tree(cadena[1:]))\n",
        "    elif cadena[0] == \"(\":\n",
        "        counter = 0 #Contador de parentesis\n",
        "        for i in range(1, len(cadena)):\n",
        "            if cadena[i] == \"(\":\n",
        "                counter += 1\n",
        "            elif cadena[i] == \")\":\n",
        "                counter -=1\n",
        "            elif cadena[i] in conectivos and counter == 0:\n",
        "                return Binario(cadena[i], inorder_to_tree(cadena[1:i]),inorder_to_tree(cadena[i + 1:-1]))\n",
        "    else:\n",
        "        raise Exception('¡Cadena inválida!')\n"
      ],
      "metadata": {
        "id": "XoCzXF1EKu3d"
      },
      "execution_count": null,
      "outputs": []
    },
    {
      "cell_type": "markdown",
      "metadata": {
        "id": "rk-4WeXPIMCR"
      },
      "source": [
        "# Objetivos <a class=\"anchor\" id=\"inicio\"></a>\n",
        "\n",
        "En este notebook vamos a utilizar las herramientas de evaluación del valor de verdad de una fórmula que hemos desarrollado hasta ahora, para clasificarla dentro de una de las categorías que aprendimos en clase. A saber, fórmulas válidas, satisfacibles, falseables, contingentes e inválidas."
      ]
    },
    {
      "cell_type": "markdown",
      "metadata": {
        "id": "e1RvliKKIMCS"
      },
      "source": [
        "# Secciones\n",
        "\n",
        "1. [SATproblem.](#sat)\n",
        "2. [Clasificación de fórmulas.](#clas)\n",
        "3. [Implicación lógica.](#imp)\n",
        "4. [Eficiencia de los algoritmos (opcional).](#efi)"
      ]
    },
    {
      "cell_type": "markdown",
      "metadata": {
        "id": "Mukw1SBOIMCS"
      },
      "source": [
        "# SATproblem <a class=\"anchor\" id=\"sat\"></a>\n",
        "\n",
        "([Volver al inicio](#inicio))\n",
        "\n",
        "Hemos visto que una fórmula $A$ es satisacible sii existe una interpretación $I$ tal que $A$.valor$(I)=\\texttt{True}$. En lógica computacional, determinar si una fórmula $A$ es satisfacible se conoce como el SATproblem. En teoría de la complejidad, este problema es importante, toda vez que fue el primer problema que se demostró que es NP-completo. Pero esto es parte de otro curso. Para nosotros el SATproblem es importante porque su solución será la base tanto para la clasificación de fórmulas como para la resolución de problemas.\n",
        "\n",
        "Los algoritmos que, dada una fórmula $A$, búscan una interpretación $I$ tal que $A$.valor$(I)=\\texttt{True}$, se conocen como SATsolvers. En este notebook construiremos el primer SATsolver con base en las herramientas que tenemos a nuestra disposición."
      ]
    },
    {
      "cell_type": "markdown",
      "metadata": {
        "id": "m3sIFvVvIMCS"
      },
      "source": [
        "**Ejercicio 1:**\n",
        "\n",
        "Implemente un método `SATtabla` el cual, dada una fórmula $A$, devuelve una interpretación $I$ tal que $A$.valor$(I)=\\texttt{True}$, si es que $A$ es satisfacible. Si no, `SATtabla` debe devolver `None`. Realice este método recorriendo las interpretaciones posibles de la fórmula una a una hasta encontrar una que la haga verdadera.\n",
        "\n",
        "Verifique su implementación para corroborar que las siguientes fórmulas son satisfacibles:\n",
        "\n",
        "**Nota importante:** Estas fórmulas usan simplificación de paréntesis. No olvide que para usar `inorder_to_tree` todos los paréntesis deben estar incluidos.\n",
        "\n",
        "\n",
        "* $\\neg p\\wedge q$\n",
        "* $\\bigl(p\\vee(q\\wedge r)\\bigr)\\wedge\\bigl((\\neg p\\vee \\neg q)\\wedge(\\neg p\\vee\\neg r)\\bigr)$\n",
        "* $(\\neg p\\leftrightarrow (q\\vee r))\\wedge(\\neg q\\vee\\neg p)\\wedge (\\neg r\\vee p)\\wedge (q\\vee r\\vee\\neg p)$\n",
        "\n",
        "Y que las siguientes fórmulas no son satisfacibles:\n",
        "\n",
        "* $p\\wedge (p\\to\\neg p)$\n",
        "* $\\neg(\\neg(p\\wedge q)\\to (\\neg p\\vee\\neg q))$\n",
        "* $(p\\leftrightarrow (q\\to r))\\wedge\\neg((q\\vee p)\\wedge (\\neg r\\vee p)\\wedge (\\neg q\\vee r\\vee\\neg p))$\n",
        "\n"
      ]
    },
    {
      "cell_type": "markdown",
      "metadata": {
        "id": "6PECzQZ0IMCT"
      },
      "source": [
        "---"
      ]
    },
    {
      "cell_type": "code",
      "source": [
        "def SATtabla(self, A):\n",
        "  pass\n",
        "\n",
        "setattr(Formula, \"SATtabla\", SATtabla)"
      ],
      "metadata": {
        "id": "m32iUpwDLr-y"
      },
      "execution_count": null,
      "outputs": []
    },
    {
      "cell_type": "markdown",
      "metadata": {
        "id": "U8lYeCgJIMCU"
      },
      "source": [
        "# Clasificación de fórmulas <a class=\"anchor\" id=\"clas\"></a>\n",
        "\n",
        "([Volver al inicio](#inicio))\n",
        "\n",
        "En clase vimos la siguiente clasificación de una fórmula $A$, con base en la cantidad de interpretaciones que la hacen verdadera:\n",
        "\n",
        "<img src=\"./img/clasificacion.png\" width=\"auto\"/>\n",
        "\n"
      ]
    },
    {
      "cell_type": "markdown",
      "metadata": {
        "id": "S4z8xlBiIMCU"
      },
      "source": [
        "**Ejercicio 2:**\n",
        "\n",
        "Complete el siguiente diagrama de flujo que permite realizar la clasificación \"$A$ es válida\", \"$A$ es insatisfacible\", \"$A$ es contingente\", el cual está basado en el uso de un SATsolver para decidir si una fórmula es satisfacible o no:\n",
        "\n",
        "<img src=\"./img/flow1.png\" width=\"auto\"/>"
      ]
    },
    {
      "cell_type": "code",
      "source": [],
      "metadata": {
        "id": "AiKZAyMLNqC7"
      },
      "execution_count": null,
      "outputs": []
    },
    {
      "cell_type": "markdown",
      "metadata": {
        "id": "nGBcPUPYIMCV"
      },
      "source": [
        "---"
      ]
    },
    {
      "cell_type": "markdown",
      "metadata": {
        "id": "RTjGF6NTIMCW"
      },
      "source": [
        "**Ejercicio 3:**\n",
        "\n",
        "Utilice `if`s anidados para implementar el anterior diagrama de flujo en un método `clasifica` de la clase `Formula` que devuelve un string \"Válida\", \"Insatisfacible\" o \"Contingente\" de acuerdo a como corresponda.\n",
        "\n",
        "Compruebe su implementación con las siguientes fórmulas:\n",
        "\n",
        "* $p\\wedge (p\\to\\neg p)$ es insatisfacible.\n",
        "* $p\\to (\\neg p\\to q)$ es válida.\n",
        "* $p\\wedge (q\\to \\neg p)$ es contingente."
      ]
    },
    {
      "cell_type": "markdown",
      "metadata": {
        "id": "5L_hUrkWIMCW"
      },
      "source": [
        "---"
      ]
    },
    {
      "cell_type": "markdown",
      "metadata": {
        "id": "8vrZxXryIMCX"
      },
      "source": [
        "# Implicación lógica <a class=\"anchor\" id=\"imp\"></a>\n",
        "\n",
        "([Volver al inicio](#inicio))\n",
        "\n",
        "Recordemos que en clase vimos la siguiente definición de implicación lógica:\n",
        "\n",
        "$U\\models B$ sii para toda interpretación $I$, si $A_i.\\mbox{valor}(I)=\\texttt{True}$ para todo $A_i\\in U$,        entonces $B.\\mbox{valor}(I)=\\texttt{True}$.\n",
        "\n",
        "También mencionamos que para verificar si hay o no implicación, es muy útil usar el siguiente teorema:\n",
        "\n",
        "*Proposición* Sea $B$ una fórmula y $U=\\{A_1,\\ldots,A_n\\}$ un conjunto de fórmulas:\n",
        "\n",
        "$U\\models B$ sii $\\bigl(A_1\\wedge\\ldots\\wedge A_n\\bigr)\\to B$ es válida."
      ]
    },
    {
      "cell_type": "markdown",
      "metadata": {
        "id": "ih7K2yuSIMCX"
      },
      "source": [
        "**Ejercicio 4:**\n",
        "\n",
        "Complete el siguiente diagrama de flujo para determinar si hay implicación lógica entre un conjunto de fórmulas $U$ y una fórmula $B$ con base en un SATsolver.\n",
        "\n",
        "<img src=\"./img/flow_imp.png\" width=\"auto\"/>"
      ]
    },
    {
      "cell_type": "markdown",
      "metadata": {
        "id": "Vz7S1MW9IMCX"
      },
      "source": [
        "---"
      ]
    },
    {
      "cell_type": "markdown",
      "metadata": {
        "id": "MfKWawKHIMCX"
      },
      "source": [
        "**Ejercicio 5:**\n",
        "\n",
        "Implemente una función `imp_log` que recibe como argumentos una lista de fórmulas `[A1,...,An]` y una fórmula `B` y devuelve verdadero sii $\\{A_1,\\ldots,A_n\\}\\models B$.\n",
        "\n",
        "Compruebe su código con las siguientes implicaciones:\n",
        "\n",
        "* $U\\,{=}\\,\\{p, \\neg q\\}$; $B\\,{=}\\,\\neg(p\\to q)$.\n",
        "* $U\\,{=}\\,\\{p\\to q, \\neg r, q\\to r\\}$; $B\\,{=}\\,\\neg p$.\n",
        "* $U\\,{=}\\,\\{r\\vee s, \\neg s\\wedge\\neg r, p\\vee q, p\\to q, r\\to s\\}$; $B\\,{=}\\,\\neg p\\wedge\\neg q$.\n",
        "\n",
        "Y compruebe que las siguientes no son implicaciones:\n",
        "\n",
        "* $U\\,{=}\\,\\{p\\wedge r,\\ (p\\wedge q)\\rightarrow\\lnot r \\}$; $B\\,{=}\\, q$\n",
        "* $U\\,{=}\\,\\{p\\rightarrow q,\\ p\\wedge(q\\rightarrow r),\\ r\\rightarrow s \\}$; $B\\,{=}\\,p\\wedge\\lnot s$"
      ]
    },
    {
      "cell_type": "markdown",
      "metadata": {
        "id": "Vr4Purm7IMCY"
      },
      "source": [
        "---"
      ]
    },
    {
      "cell_type": "markdown",
      "metadata": {
        "id": "zQxke8gcIMCY"
      },
      "source": [
        "# Sección opcional: Eficiencia de los algoritmos <a class=\"anchor\" id=\"efi\"></a>\n",
        "\n",
        "\n",
        "([Volver al inicio](#inicio))\n",
        "\n",
        "Hemos afirmado anteriormente que la eficiencia de los algoritmos es un tema central en las ciencias de la computación. Vamos a comprobar que nuestro SATsolver hasta el momento tiene un comportamiento exponencial de tiempo de ejecución con base en el número de letras proposicionales distintas que haya en la fórmula de entrada. Así pues, vamos a ver que el tiempo que demora el método `SATtabla` al correr sobre una fórmula `A` depende de manera exponencial en el tamaño de `A.letras()`.\n",
        "\n",
        "Definimos nuestras funciones para medir tiempos en una lista de entradas:"
      ]
    },
    {
      "cell_type": "code",
      "execution_count": null,
      "metadata": {
        "id": "__7V6dGxIMCY"
      },
      "outputs": [],
      "source": [
        "from time import time\n",
        "import seaborn as sns\n",
        "import pandas as pd\n",
        "\n",
        "def obtiene_tiempos(fun, args, num_it=100):\n",
        "    tiempos_fun = []\n",
        "    for i in range(num_it):\n",
        "        arranca = time()\n",
        "        x = fun(*args)\n",
        "        para = time()\n",
        "        tiempos_fun.append(para - arranca)\n",
        "    return tiempos_fun\n",
        "\n",
        "def compara_entradas(fun, lista_args, N=100):\n",
        "    entradas = []\n",
        "    tiempos = []\n",
        "    for i, args in enumerate(lista_args):\n",
        "        t = obtiene_tiempos(fun, [args], N)\n",
        "        tiempos += t\n",
        "        n = len(t)\n",
        "        entradas += [i+1]*n\n",
        "    df = pd.DataFrame({'Long_entrada':entradas, 'Tiempo_prom':tiempos})\n",
        "    print(df.head())\n",
        "    sns.lineplot(x='Long_entrada',y='Tiempo_prom',data=df)\n",
        "    plt.show()"
      ]
    },
    {
      "cell_type": "markdown",
      "metadata": {
        "id": "TiodO6NgIMCZ"
      },
      "source": [
        "Creamos nuestra lista de fórmulas:"
      ]
    },
    {
      "cell_type": "code",
      "execution_count": null,
      "metadata": {
        "id": "W2IGjP5kIMCa",
        "outputId": "eb56b64b-4834-4f74-c32d-5e3bfaeff898"
      },
      "outputs": [
        {
          "data": {
            "text/plain": [
              "['Ā',\n",
              " '(ĀY-ā)',\n",
              " '((ĀY-ā)O-Ă)',\n",
              " '(((ĀY-ā)O-Ă)Yă)',\n",
              " '((((ĀY-ā)O-Ă)Yă)Y-Ą)',\n",
              " '(((((ĀY-ā)O-Ă)Yă)Y-Ą)Oą)',\n",
              " '((((((ĀY-ā)O-Ă)Yă)Y-Ą)Oą)OĆ)',\n",
              " '(((((((ĀY-ā)O-Ă)Yă)Y-Ą)Oą)OĆ)Oć)',\n",
              " '((((((((ĀY-ā)O-Ă)Yă)Y-Ą)Oą)OĆ)Oć)>Ĉ)',\n",
              " '(((((((((ĀY-ā)O-Ă)Yă)Y-Ą)Oą)OĆ)Oć)>Ĉ)=-ĉ)',\n",
              " '((((((((((ĀY-ā)O-Ă)Yă)Y-Ą)Oą)OĆ)Oć)>Ĉ)=-ĉ)=-Ċ)',\n",
              " '(((((((((((ĀY-ā)O-Ă)Yă)Y-Ą)Oą)OĆ)Oć)>Ĉ)=-ĉ)=-Ċ)Oċ)',\n",
              " '((((((((((((ĀY-ā)O-Ă)Yă)Y-Ą)Oą)OĆ)Oć)>Ĉ)=-ĉ)=-Ċ)Oċ)O-Č)',\n",
              " '(((((((((((((ĀY-ā)O-Ă)Yă)Y-Ą)Oą)OĆ)Oć)>Ĉ)=-ĉ)=-Ċ)Oċ)O-Č)Y-č)',\n",
              " '((((((((((((((ĀY-ā)O-Ă)Yă)Y-Ą)Oą)OĆ)Oć)>Ĉ)=-ĉ)=-Ċ)Oċ)O-Č)Y-č)O-Ď)',\n",
              " '(((((((((((((((ĀY-ā)O-Ă)Yă)Y-Ą)Oą)OĆ)Oć)>Ĉ)=-ĉ)=-Ċ)Oċ)O-Č)Y-č)O-Ď)>-ď)',\n",
              " '((((((((((((((((ĀY-ā)O-Ă)Yă)Y-Ą)Oą)OĆ)Oć)>Ĉ)=-ĉ)=-Ċ)Oċ)O-Č)Y-č)O-Ď)>-ď)Y-Đ)',\n",
              " '(((((((((((((((((ĀY-ā)O-Ă)Yă)Y-Ą)Oą)OĆ)Oć)>Ĉ)=-ĉ)=-Ċ)Oċ)O-Č)Y-č)O-Ď)>-ď)Y-Đ)=-đ)',\n",
              " '((((((((((((((((((ĀY-ā)O-Ă)Yă)Y-Ą)Oą)OĆ)Oć)>Ĉ)=-ĉ)=-Ċ)Oċ)O-Č)Y-č)O-Ď)>-ď)Y-Đ)=-đ)=Ē)',\n",
              " '(((((((((((((((((((ĀY-ā)O-Ă)Yă)Y-Ą)Oą)OĆ)Oć)>Ĉ)=-ĉ)=-Ċ)Oċ)O-Č)Y-č)O-Ď)>-ď)Y-Đ)=-đ)=Ē)>-ē)']"
            ]
          },
          "execution_count": 83,
          "metadata": {},
          "output_type": "execute_result"
        }
      ],
      "source": [
        "from random import uniform, choice\n",
        "\n",
        "cantidad = 20\n",
        "letras = [chr(i) for i in range(256, 256+cantidad)]\n",
        "lista = [letras[0]]\n",
        "formula = letras[0]\n",
        "for p in letras[1:]:\n",
        "    neg = '-' if uniform(0,1) > .5 else ''\n",
        "    conectivo = choice(['Y','O','>','='])\n",
        "    formula = \"(\" + formula + conectivo + neg + p + \")\"\n",
        "    lista.append(formula)\n",
        "\n",
        "lista"
      ]
    },
    {
      "cell_type": "markdown",
      "metadata": {
        "id": "0Y3HSK8KIMCa"
      },
      "source": [
        "Y, finalmente, medimos los tiempos de ejecución para cada fórmula:"
      ]
    },
    {
      "cell_type": "code",
      "execution_count": null,
      "metadata": {
        "scrolled": false,
        "id": "6G94mmIgIMCb",
        "outputId": "98c03b3c-57db-4616-a552-68cb258586f9"
      },
      "outputs": [
        {
          "name": "stdout",
          "output_type": "stream",
          "text": [
            "   Long_entrada  Tiempo_prom\n",
            "0             1     0.000036\n",
            "1             1     0.000010\n",
            "2             1     0.000007\n",
            "3             1     0.000006\n",
            "4             1     0.000007\n"
          ]
        },
        {
          "data": {
            "image/png": "[encoded data removed]",
            "text/plain": [
              "<Figure size 432x288 with 1 Axes>"
            ]
          },
          "metadata": {
            "needs_background": "light"
          },
          "output_type": "display_data"
        }
      ],
      "source": [
        "fun = lambda formula: inorder_to_tree(formula).SATtabla()\n",
        "compara_entradas(fun, lista)"
      ]
    },
    {
      "cell_type": "markdown",
      "metadata": {
        "id": "g7qb4VZ4IMCb"
      },
      "source": [
        "En esta gráfica es muy fácil apreciar que, a medida que aumentamos el número de letras proposicionales distintas en la fórmula de entrada, el algoritmo se tarda cada vez más en determinar si ella es satisfacible. Más aún, la relación entre el número de letras y el tiempo es claramente exponencial.\n",
        "\n",
        "Como conclusión, vemos que si necesitamos una gran cantidad de letras proposicionales, nuestro SATsolver `SATtabla` resultará completamente ineficiente."
      ]
    },
    {
      "cell_type": "markdown",
      "metadata": {
        "id": "NCphCSjnIMCb"
      },
      "source": [
        "---"
      ]
    }
  ],
  "metadata": {
    "kernelspec": {
      "display_name": "Python 3",
      "language": "python",
      "name": "python3"
    },
    "language_info": {
      "codemirror_mode": {
        "name": "ipython",
        "version": 3
      },
      "file_extension": ".py",
      "mimetype": "text/x-python",
      "name": "python",
      "nbconvert_exporter": "python",
      "pygments_lexer": "ipython3",
      "version": "3.8.5"
    },
    "colab": {
      "provenance": []
    }
  },
  "nbformat": 4,
  "nbformat_minor": 0
}