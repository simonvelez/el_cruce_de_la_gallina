{
 "cells": [
  {
   "cell_type": "markdown",
   "metadata": {},
   "source": [
    "<table>\n",
    "    <tr>\n",
    "        <td><img src=\"./img/Macc.png\" width=\"auto\"/></td>\n",
    "        <td>\n",
    "            <table><tr>\n",
    "            <h1 style=\"color:blue;text-align:center\">Lógica para Ciencias de la Computación</h1></td>\n",
    "            </tr></table>   \n",
    "        <td>&nbsp;</td>\n",
    "        <td>\n",
    "            <table><tr>\n",
    "            <tp><p style=\"font-size:150%;text-align:center\">Taller</p></tp>\n",
    "            <tp><p style=\"font-size:150%;text-align:center\">Solución de problemas</p></tp>\n",
    "            </tr></table>\n",
    "        </td>\n",
    "    </tr>\n",
    "</table>\n",
    "\n",
    "---"
   ]
  },
  {
   "cell_type": "markdown",
   "metadata": {},
   "source": [
    "# Objetivo <a class=\"anchor\" id=\"inicio\"></a>\n",
    "\n",
    "En clase hemos visto el siguiente esquema del procedimiento para solucionar problemas:\n",
    "\n",
    "<img src=\"./img/mapa.png\" width=\"400px\"/>\n",
    "\n",
    "Implementaremos este esquema en Python usando las herramientas desarrolladas hasta este momento."
   ]
  },
  {
   "cell_type": "markdown",
   "metadata": {},
   "source": [
    "# Secciones\n",
    "\n",
    "1. [Problema ilustrativo.](#prob)\n",
    "2. [Implementación de las restricciones.](#forms)\n",
    "3. [Visualización.](#vis)\n",
    "4. [Solución mediante SATtabla.](#sat)\n",
    "5. [Un problema más difícil.](#prob2)\n",
    "6. [Situaciones más complejas y comparación de tiempos.](#comp)"
   ]
  },
  {
   "cell_type": "markdown",
   "metadata": {},
   "source": [
    "# Problema de ejemplo <a class=\"anchor\" id=\"prob\"></a>\n",
    "\n",
    "([Volver al inicio](#inicio))\n",
    "\n",
    "Comenzaremos con el problema presentado en las diapositivas de clase, que repetimos aquí por conveniencia:\n",
    "\n",
    "<img src=\"./img/problema.png\" width=\"400px\"/>\n",
    "\n",
    "Las restricciones y su representación usando lógica proposicional son las siguientes:\n",
    "\n",
    "1. Debe haber exactamente tres caballos en el tablero:\n",
    "\n",
    "$$\\bigvee_{(x_1,y_1)\\in\\texttt{Casillas}}\\bigvee_{(x_2,y_2)\\neq(x_1,y_1)}\\bigvee_{{(x_3,y_3)\\neq(x_1,y_1)\\\\(x_3,y_3)\\neq(x_2,y_2)}}\\left(CenC_{(x_1,y_1)}\\wedge CenC_{(x_2,y_2)}\\wedge CenC_{(x_3,y_3)}\\right)\\wedge\\bigwedge_{(u,v)\\neq(x_1,y_1)\\\\(u,v)\\neq(x_2,y_2)\\\\(u,v)\\neq(x_3,y_3)}\\neg CenC_{(u,v)}\\Bigr)$$\n",
    "\n",
    "2. Ningún caballo debe poder atacar a otro.\n",
    "\n",
    "\\begin{align*}\n",
    "&CenC_{(0,0)}\\to \\neg(CenC_{(1,2)} \\vee CenC_{(2,1)})\\\\\n",
    "&CenC_{(1,0)}\\to \\neg(CenC_{(0,2)} \\vee CenC_{(2,2)})\\\\\n",
    "&CenC_{(2,0)}\\to \\neg(CenC_{(1,2)} \\vee CenC_{(0,1)})\\\\\n",
    "&CenC_{(0,1)}\\to \\neg(CenC_{(2,2)} \\vee CenC_{(2,0)})\\\\\n",
    "&CenC_{(2,1)}\\to \\neg(CenC_{(0,2)} \\vee CenC_{(0,0)})\\\\\n",
    "&CenC_{(0,2)}\\to \\neg(CenC_{(1,0)} \\vee CenC_{(2,1)})\\\\\n",
    "&CenC_{(1,2)}\\to \\neg(CenC_{(0,0)} \\vee CenC_{(2,0)})\\\\\n",
    "&CenC_{(2,2)}\\to \\neg(CenC_{(0,1)} \\vee CenC_{(1,0)})\\\\\n",
    "\\end{align*}\n",
    "\n",
    "\n",
    "3. Debe haber un caballo en la casilla $(1,2)$.\n",
    "\n",
    "$$CenC_{(1,2)}$$"
   ]
  },
  {
   "cell_type": "markdown",
   "metadata": {},
   "source": [
    "## Implementación de las restricciones <a class=\"anchor\" id=\"forms\"></a>\n",
    "\n",
    "([Volver al inicio](#inicio))\n",
    "\n",
    "En la librería `Problemas` hemos implementado las tres reglas. Puede correr el siguiente código para visualizar el resultado, y puede entrar a la librería para explorar la implementación:"
   ]
  },
  {
   "cell_type": "code",
   "execution_count": null,
   "metadata": {
    "scrolled": true
   },
   "outputs": [],
   "source": [
    "from Problemas import Caballos\n",
    "from Logica import *"
   ]
  },
  {
   "cell_type": "code",
   "execution_count": null,
   "metadata": {},
   "outputs": [],
   "source": [
    "c = Caballos()"
   ]
  },
  {
   "cell_type": "markdown",
   "metadata": {},
   "source": [
    "Observe que el objeto tiene un atributo `reglas`, en el cual está una lista con las tres reglas implementadas en Python:"
   ]
  },
  {
   "cell_type": "code",
   "execution_count": null,
   "metadata": {},
   "outputs": [],
   "source": [
    "c.reglas"
   ]
  },
  {
   "cell_type": "markdown",
   "metadata": {},
   "source": [
    "La clase `Caballos` crea de una vez el descriptor, mediante el cual podemos decodificar las letras:"
   ]
  },
  {
   "cell_type": "code",
   "execution_count": null,
   "metadata": {},
   "outputs": [],
   "source": [
    "c.CenC.escribir('ć')"
   ]
  },
  {
   "cell_type": "markdown",
   "metadata": {},
   "source": [
    "También podemos revisar regla por regla. Observe que las fórmulas incluyen un método `ver` para visualizar más fácilmente las reglas:"
   ]
  },
  {
   "cell_type": "code",
   "execution_count": null,
   "metadata": {},
   "outputs": [],
   "source": [
    "A = inorder_to_tree(c.reglas[1])\n",
    "print(A.ver(c.CenC))"
   ]
  },
  {
   "cell_type": "code",
   "execution_count": null,
   "metadata": {},
   "outputs": [],
   "source": [
    "A = inorder_to_tree(c.reglas[0])\n",
    "print(A.ver(c.CenC))"
   ]
  },
  {
   "cell_type": "markdown",
   "metadata": {},
   "source": [
    "## Visualización <a class=\"anchor\" id=\"vis\"></a>\n",
    "\n",
    "([Volver al inicio](#inicio))\n",
    "\n",
    "Una parte muy importante de la clase `Caballos` es el método que permite visualizar el tablero, dada una interpretación de las reglas proposicionales. Esto es lo que nos permite entender la solución del problema."
   ]
  },
  {
   "cell_type": "code",
   "execution_count": null,
   "metadata": {},
   "outputs": [],
   "source": [
    "I = {c.CenC.P([0,2]):True, c.CenC.P([1,2]):True, c.CenC.P([2,2]):True}\n",
    "c.visualizar(I)"
   ]
  },
  {
   "cell_type": "markdown",
   "metadata": {},
   "source": [
    "## Solución mediante SATtabla <a class=\"anchor\" id=\"sat\"></a>\n",
    "\n",
    "([Volver al inicio](#inicio))\n",
    "\n",
    "Ahora podemos ver el corazón de la solución a este y todos los demas problemas que desarrollemos: un SATsolver. Usaremos el SATtabla que implementamos anteriormente."
   ]
  },
  {
   "cell_type": "code",
   "execution_count": null,
   "metadata": {},
   "outputs": [],
   "source": [
    "%%time\n",
    "A = inorder_to_tree(Ytoria(c.reglas))\n",
    "I = A.SATtabla()"
   ]
  },
  {
   "cell_type": "markdown",
   "metadata": {},
   "source": [
    "Podemos decodificar el diccionario `I` obtenido para ver la solución:"
   ]
  },
  {
   "cell_type": "code",
   "execution_count": null,
   "metadata": {},
   "outputs": [],
   "source": [
    "if I != None:\n",
    "    for k in I:\n",
    "        print(c.CenC.escribir(k), I[k])\n",
    "else:\n",
    "    print('¡No hay solución!')"
   ]
  },
  {
   "cell_type": "markdown",
   "metadata": {},
   "source": [
    "O, mejor aún, podemos visualizar la solución:"
   ]
  },
  {
   "cell_type": "code",
   "execution_count": null,
   "metadata": {},
   "outputs": [],
   "source": [
    "if I != None:\n",
    "    c.visualizar(I)\n",
    "else:\n",
    "    print('¡No hay solución!')"
   ]
  },
  {
   "cell_type": "markdown",
   "metadata": {},
   "source": [
    "Vemos que la solución encontrada por SATtabla es muy rápida."
   ]
  },
  {
   "cell_type": "markdown",
   "metadata": {},
   "source": [
    "---"
   ]
  },
  {
   "cell_type": "markdown",
   "metadata": {},
   "source": [
    "## Un problema más difícil <a class=\"anchor\" id=\"prob2\"></a>\n",
    "\n",
    "([Volver al inicio](#inicio))\n",
    "\n",
    "El propósito de esta sección es tratar de resolver un problema mediante el procedimiento que hemos descrito anteriormente. No obstante, el código presentará algunos problemas que tendremos que afrontar. Esto nos permitirá entrenarnos para afrontar las dificultades que se presentarán en la elaboración del proyecto.\n",
    "\n",
    "Retomaremos aquí el problema con el que estudiamos la representación de situaciones. Buscamos llenar todas las casillas en una tabla 2x2 con un número de 0 a 3, sin repetir. Por ejemplo:\n",
    "\n",
    "![ejemplo](img/tabla.png)\n",
    "\n",
    "Tenemos tres restricciones que debemos implementar para resolver el problema:\n",
    "\n",
    "1. Un número sólo está en una casilla.\n",
    "\n",
    "$$\\bigwedge_{x\\in\\{0,1\\}}\\bigwedge_{y\\in\\{0,1\\}}\\bigwedge_{n\\in Numeros}\\left(OenCasilla_{x,y,n}\\to\\neg\\left(\\bigvee_{(u,v)\\neq (x,y)} OenCasilla_{u,v,n}\\right)\\right)$$\n",
    "\n",
    "2. No hay más de un número en una casilla.\n",
    "\n",
    "$$\\bigwedge_{x\\in\\{0,1\\}}\\bigwedge_{y\\in\\{0,1\\}}\\bigwedge_{n\\in Numeros}\\left(OenCasilla_{x,y,n}\\to\\neg\\left(\\bigvee_{m\\neq n} OenCasilla_{x,y,m}\\right)\\right)$$\n",
    "\n",
    "3. Debe haber por lo menos un número en una casilla.\n",
    "\n",
    "$$\\bigwedge_{x\\in\\{0,1\\}}\\bigwedge_{y\\in\\{0,1\\}}\\left(\\bigvee_{n\\in Numeros}OenCasilla_{x,y,n}\\right)$$\n"
   ]
  },
  {
   "cell_type": "markdown",
   "metadata": {},
   "source": [
    "### Errores sintácticos\n",
    "\n",
    "La implementación, con algunos errores, está en la librería `Problemas`."
   ]
  },
  {
   "cell_type": "code",
   "execution_count": null,
   "metadata": {},
   "outputs": [],
   "source": [
    "from Problemas import Rejilla\n",
    "from Logica import *"
   ]
  },
  {
   "cell_type": "markdown",
   "metadata": {},
   "source": [
    "Instanciamos el objeto:"
   ]
  },
  {
   "cell_type": "code",
   "execution_count": null,
   "metadata": {},
   "outputs": [],
   "source": [
    "r = Rejilla(N=2, M=2)"
   ]
  },
  {
   "cell_type": "markdown",
   "metadata": {},
   "source": [
    "Y ahora intentamos visualizar la regla 1:"
   ]
  },
  {
   "cell_type": "code",
   "execution_count": null,
   "metadata": {},
   "outputs": [],
   "source": [
    "print(r.reglas[0])\n",
    "A = inorder_to_tree(r.reglas[0])\n",
    "print(A.ver(r.NenC))"
   ]
  },
  {
   "cell_type": "markdown",
   "metadata": {},
   "source": [
    "Este error aparece en la línea que usa el método `ver` de las fórmulas. No obstante, el método `ver` es correcto. Es decir, el problema no está aquí. Esto lo sabemos porque el error nos dice que un objeto de tipo `None` no tiene el atributo `ver`. Así pues, el error es que `A` es `None`. Corrámos solo la función `inorder_to_tree` para comprobarlo:"
   ]
  },
  {
   "cell_type": "code",
   "execution_count": null,
   "metadata": {},
   "outputs": [],
   "source": [
    "A = inorder_to_tree(r.reglas[0])\n",
    "print(A)"
   ]
  },
  {
   "cell_type": "markdown",
   "metadata": {},
   "source": [
    "Este error en `inorder_to_tree` surge porque la cadena no está bien escrita. Usualmente se debe a que hay un paréntesis faltante o mal puesto."
   ]
  },
  {
   "cell_type": "markdown",
   "metadata": {},
   "source": [
    "**Ejercicio 1:**\n",
    "\n",
    "Revise el siguiénte código que genera la regla 1 y corrija el error. Observe que a la generación de fórmulas le hace falta incluir un paréntesis."
   ]
  },
  {
   "cell_type": "code",
   "execution_count": null,
   "metadata": {},
   "outputs": [],
   "source": [
    "def regla1(self):\n",
    "    casillas_num = [(n,x,y) for n in range(self.N*self.M) for x in range(self.N) for y in range(self.M)]\n",
    "    lista = []\n",
    "    for c in casillas_num:\n",
    "        n,x,y = c\n",
    "        otras_casillas = [(x1,y1) for x1 in range(self.N) for y1 in range(self.M) if (x1,y1) != (x,y)]\n",
    "        lista_o = []\n",
    "        for k in otras_casillas:\n",
    "            lista_o.append(self.NenC.P([n,*k]))\n",
    "        form = '(' + self.NenC.P([*c]) + '>-' + Otoria(lista_o)\n",
    "        lista.append(form)\n",
    "    return Ytoria(lista)\n",
    "\n",
    "setattr(Rejilla, \"regla1\", regla1)"
   ]
  },
  {
   "cell_type": "markdown",
   "metadata": {},
   "source": [
    "---"
   ]
  },
  {
   "cell_type": "markdown",
   "metadata": {},
   "source": [
    "### Errores semánticos\n",
    "\n",
    "Un tipo de error más complicado de ver es cuando la regla está correctamente escrita, pero no representa la restricción de manera correcta.\n",
    "\n",
    "Por ejemplo, la regla 3 está escrita correctamente:"
   ]
  },
  {
   "cell_type": "code",
   "execution_count": null,
   "metadata": {},
   "outputs": [],
   "source": [
    "r = Rejilla(N=2)\n",
    "A = inorder_to_tree(r.reglas[2])\n",
    "print(A.ver(r.NenC))"
   ]
  },
  {
   "cell_type": "markdown",
   "metadata": {},
   "source": [
    "No obstante, ella no cumple el papel que debe cumplir. Esto se puede detectar al tratar de resolver el problema con esta regla y obtener resultados indeseados."
   ]
  },
  {
   "cell_type": "code",
   "execution_count": null,
   "metadata": {},
   "outputs": [],
   "source": [
    "%%time\n",
    "r = Rejilla(N=2)\n",
    "A = inorder_to_tree(Ytoria(r.reglas))\n",
    "I = A.SATtabla()\n",
    "if I != None:\n",
    "    r.visualizar(I)\n",
    "else:\n",
    "    print('¡No hay solución!')"
   ]
  },
  {
   "cell_type": "markdown",
   "metadata": {},
   "source": [
    "Si corremos la regla 3 solamente, obtenemos lo siguiente:"
   ]
  },
  {
   "cell_type": "code",
   "execution_count": null,
   "metadata": {},
   "outputs": [],
   "source": [
    "%%time\n",
    "r = Rejilla(N=2)\n",
    "A = inorder_to_tree(r.reglas[2])\n",
    "I = A.SATtabla()\n",
    "if I != None:\n",
    "    r.visualizar(I)\n",
    "else:\n",
    "    print('¡No hay solución!')"
   ]
  },
  {
   "cell_type": "markdown",
   "metadata": {},
   "source": [
    "**Ejercicio 2:**\n",
    "\n",
    "Corrija la regla 3 para que represente la restricción de manera apropiada."
   ]
  },
  {
   "cell_type": "code",
   "execution_count": null,
   "metadata": {},
   "outputs": [],
   "source": [
    "def regla3(self):\n",
    "    casillas = [(x,y) for x in range(self.N) for y in range(self.M)]\n",
    "    lista = []\n",
    "    for c in casillas:\n",
    "        lista_o = []\n",
    "        for n in range(self.N*self.M):\n",
    "            lista_o.append(self.NenC.P([n,*c]))\n",
    "        lista.append(Ytoria(lista_o))\n",
    "    return Ytoria(lista)\n",
    "\n",
    "setattr(Rejilla, \"regla3\", regla3)"
   ]
  },
  {
   "cell_type": "code",
   "execution_count": null,
   "metadata": {},
   "outputs": [],
   "source": [
    "%%time\n",
    "r = Rejilla(N=2)\n",
    "A = inorder_to_tree(Ytoria(r.reglas))\n",
    "I = A.SATtabla()\n",
    "if I != None:\n",
    "    r.visualizar(I)\n",
    "else:\n",
    "    print('¡No hay solución!')"
   ]
  },
  {
   "cell_type": "markdown",
   "metadata": {},
   "source": [
    "---"
   ]
  },
  {
   "cell_type": "markdown",
   "metadata": {},
   "source": [
    "# Situaciones más complejas y comparación de tiempos <a class=\"anchor\" id=\"comp\"></a>\n",
    "\n",
    "([Volver al inicio](#inicio))\n",
    "\n",
    "Observe que podemos cambiar los parámetros `N` y `M` para cambiar el tamaño de la rejilla:"
   ]
  },
  {
   "cell_type": "code",
   "execution_count": null,
   "metadata": {},
   "outputs": [],
   "source": [
    "r = Rejilla(N=3, M=2)\n",
    "I = {r.NenC.P([1,0,0]):True, r.NenC.P([1,1,0]):True}\n",
    "r.visualizar(I)"
   ]
  },
  {
   "cell_type": "markdown",
   "metadata": {},
   "source": [
    "Tal vez queramos aplicar el mismo algoritmo de solución a este problema más grande. No obstante, el tiempo de ejecución es prohibitivo:"
   ]
  },
  {
   "cell_type": "code",
   "execution_count": null,
   "metadata": {},
   "outputs": [],
   "source": [
    "%%time\n",
    "r = Rejilla(N=3, M=2)\n",
    "A = inorder_to_tree(Ytoria(r.reglas))\n",
    "I = A.SATtabla()\n",
    "r.visualizar(I)"
   ]
  },
  {
   "cell_type": "markdown",
   "metadata": {},
   "source": [
    "Este es un problema muy serio. Ni siquiera el algoritmo de los tableros semánticos puede venir a rescatarnos (observe que el objeto `Formula` ya trae implementado el `SATtableaux`):"
   ]
  },
  {
   "cell_type": "code",
   "execution_count": null,
   "metadata": {},
   "outputs": [],
   "source": [
    "%%time\n",
    "r = Rejilla(N=3, M=2)\n",
    "A = inorder_to_tree(Ytoria(r.reglas))\n",
    "I = A.SATtableaux()\n",
    "r.visualizar(I)"
   ]
  },
  {
   "cell_type": "markdown",
   "metadata": {},
   "source": [
    "---"
   ]
  },
  {
   "cell_type": "markdown",
   "metadata": {},
   "source": [
    "## En este notebook usted aprendió\n",
    "\n",
    "1. El esquema de solución de problemas mediante lógica proposicional.\n",
    "2. Cada problema requiere una definición particular de sus restricciones y su implementación en lógica proposicional.\n",
    "3. Cualquiera de estos problemas se resuelve (por lo menos de manera teórica) mediante el mismo algoritmo: un SATsolver.\n",
    "4. Los SATsolvers que tenemos hasta este momento no son para nada eficientes, así que necesitamos algoritmos más poderosos."
   ]
  }
 ],
 "metadata": {
  "kernelspec": {
   "display_name": "Python 3",
   "language": "python",
   "name": "python3"
  },
  "language_info": {
   "codemirror_mode": {
    "name": "ipython",
    "version": 3
   },
   "file_extension": ".py",
   "mimetype": "text/x-python",
   "name": "python",
   "nbconvert_exporter": "python",
   "pygments_lexer": "ipython3",
   "version": "3.8.5"
  }
 },
 "nbformat": 4,
 "nbformat_minor": 4
}
