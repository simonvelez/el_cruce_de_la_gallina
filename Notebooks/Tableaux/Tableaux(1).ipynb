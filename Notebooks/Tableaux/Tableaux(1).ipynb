{
 "cells": [
  {
   "cell_type": "markdown",
   "metadata": {},
   "source": [
    "<table>\n",
    "    <tr>\n",
    "        <td><img src=\"./img/Macc.png\" width=\"auto\"/></td>\n",
    "        <td>\n",
    "            <table><tr>\n",
    "            <h1 style=\"color:blue;text-align:center\">Lógica para Ciencias de la Computación</h1></td>\n",
    "            </tr></table>   \n",
    "        <td>&nbsp;</td>\n",
    "        <td>\n",
    "            <table><tr>\n",
    "            <tp><p style=\"font-size:150%;text-align:center\">Taller</p></tp>\n",
    "            <tp><p style=\"font-size:150%;text-align:center\">Implementación de Tableaux</p></tp>\n",
    "            </tr></table>\n",
    "        </td>\n",
    "    </tr>\n",
    "</table>\n",
    "\n",
    "---"
   ]
  },
  {
   "cell_type": "markdown",
   "metadata": {},
   "source": [
    "# Objetivos <a class=\"anchor\" id=\"inicio\"></a>\n",
    "\n",
    "El objetivo de este notebook es implementar el algoritmo de construcción de tableros semánticos (tableaux). El método de los tableaux es un SATsolver, el cual recibe una fórmula y devuelve una interpretación de la misma, si es que existe, o informa que la fórmula es insatisfacible. Veremos diferentes maneras de implementar este método, dependiendo de distintas maneras de expandir el árbol del tableaux."
   ]
  },
  {
   "cell_type": "markdown",
   "metadata": {},
   "source": [
    "\n",
    "# Secciones\n",
    "\n",
    "1. [Clasificación de fórmulas para tableaux.](#clas)\n",
    "2. [Expansión primero en anchura.](#anchura)\n",
    "3. [Expansión primero en profundidad.](#prof)\n",
    "4. [Recorrido backtracking.](#backt)\n",
    "5. [Eficiencia de los algoritmos (opcional).](#efi)"
   ]
  },
  {
   "cell_type": "markdown",
   "metadata": {},
   "source": [
    "# Clasificación de fórmulas para tableaux <a class=\"anchor\" id=\"clas\"></a>\n",
    "\n",
    "([Volver al inicio](#inicio))\n",
    "\n",
    "Recordemos el siguiente diagrama de flujo para la implementación de un tableaux $\\tau$ para una fórmula $A$:\n",
    "\n",
    "<img src=\"./img/flow.png\" width=\"auto\"/>\n",
    "\n",
    "Hay tres elementos centrales en este algoritmo:\n",
    "\n",
    "* Nodos.\n",
    "* Selección del próximo nodo a expandir.\n",
    "* Clasificación de una fórmula como $\\alpha$ o $\\beta$.\n",
    "\n",
    "En esta sección veremos la clasificación de fórmulas y la implementación de los nodos. En las subsiguientes secciones veremos tres maneras distintas de seleccionar el próximo nodo a expandir."
   ]
  },
  {
   "cell_type": "markdown",
   "metadata": {},
   "source": [
    "### Clasificación de una fórmula como $\\alpha$ o $\\beta$\n",
    "\n",
    "Para realizar la implementación de los tableaux, el orden más apropiado es primero implementar la clasificación de fórmulas. Hemos visto que toda fórmula o es un literal, o puede clasificarse como una fórmula de tipo $\\alpha$ o $\\beta$. Para referencia, repetimos las clasificaciones en la siguiente figura:\n",
    "\n",
    "<img src=\"./img/clasif.png\" width=\"200px\"/>\n",
    "\n",
    "En el siguiente código hemos implementado la clasificación para dos casos: literales y fórmulas 1$\\alpha$:"
   ]
  },
  {
   "cell_type": "code",
   "execution_count": 1,
   "metadata": {
    "tags": []
   },
   "outputs": [],
   "source": [
    "\n",
    "from itertools import product\n",
    "from copy import deepcopy\n",
    "\n",
    "class Formula :\n",
    "\n",
    "    def __init__(self) :\n",
    "        pass\n",
    "\n",
    "    def __str__(self) :\n",
    "        if type(self) == Letra:\n",
    "            return self.letra\n",
    "        elif type(self) == Negacion:\n",
    "            return '-' + str(self.subf)\n",
    "        elif type(self) == Binario:\n",
    "            return \"(\" + str(self.left) + self.conectivo + str(self.right) + \")\"\n",
    "\n",
    "    def letras(self):\n",
    "        if type(self) == Letra:\n",
    "            return set(self.letra)\n",
    "        elif type(self) == Negacion:\n",
    "            return self.subf.letras()\n",
    "        elif type(self) == Binario:\n",
    "            return self.left.letras().union(self.right.letras())\n",
    "\n",
    "    def subforms(self):\n",
    "        if type(self) == Letra:\n",
    "            return [str(self)]\n",
    "        elif type(self) == Negacion:\n",
    "            return list(set([str(self)] + self.subf.subforms()))\n",
    "        elif type(self) == Binario:\n",
    "            return list(set([str(self)] + self.left.subforms() + self.right.subforms()))\n",
    "\n",
    "    def valor(self, I) :\n",
    "        if type(self) == Letra:\n",
    "            return I[self.letra]\n",
    "        elif type(self) == Negacion:\n",
    "            return not self.subf.valor(I)\n",
    "        elif type(self) == Binario:\n",
    "            if self.conectivo == 'Y':\n",
    "                return self.left.valor(I) and self.right.valor(I)\n",
    "            if self.conectivo == 'O':\n",
    "                return self.left.valor(I) or self.right.valor(I)\n",
    "            if self.conectivo == '>':\n",
    "                return not self.left.valor(I) or self.right.valor(I)\n",
    "            if self.conectivo == '=':\n",
    "                return (self.left.valor(I) and self.right.valor(I)) or (not self.left.valor(I) and not self.right.valor(I))\n",
    "\n",
    "    def SATtabla(self):\n",
    "        letras = list(self.letras())\n",
    "        n = len(letras)\n",
    "        valores = list(product([True, False], repeat=n))\n",
    "        for v in valores:\n",
    "            I = {letras[x]: v[x] for x in range(n)}\n",
    "            if self.valor(I):\n",
    "                return I\n",
    "        return None\n",
    "\n",
    "class Letra(Formula) :\n",
    "    def __init__ (self, letra:str) :\n",
    "        self.letra = letra\n",
    "\n",
    "class Negacion(Formula) :\n",
    "    def __init__(self, subf:Formula) :\n",
    "        self.subf = subf\n",
    "\n",
    "class Binario(Formula) :\n",
    "    def __init__(self, conectivo:str, left:Formula, right:Formula) :\n",
    "        assert(conectivo in ['Y','O','>','='])\n",
    "        self.conectivo = conectivo\n",
    "        self.left = left\n",
    "        self.right = right\n",
    "\n",
    "def inorder_to_tree(cadena:str):\n",
    "    conectivos = ['Y', 'O', '>', '=']\n",
    "    if len(cadena) == 1:\n",
    "        return Letra(cadena)\n",
    "    elif cadena[0] == '-':\n",
    "        return Negacion(inorder_to_tree(cadena[1:]))\n",
    "    elif cadena[0] == \"(\":\n",
    "        counter = 0 #Contador de parentesis\n",
    "        for i in range(1, len(cadena)):\n",
    "            if cadena[i] == \"(\":\n",
    "                counter += 1\n",
    "            elif cadena[i] == \")\":\n",
    "                counter -=1\n",
    "            elif cadena[i] in conectivos and counter == 0:\n",
    "                return Binario(cadena[i], inorder_to_tree(cadena[1:i]),inorder_to_tree(cadena[i + 1:-1]))\n",
    "    else:\n",
    "        raise Exception('¡Cadena inválida!')\n",
    "\n",
    "class nodos_tableaux:\n",
    "\n",
    "    def __init__(self, fs):\n",
    "        clasfs = [(A, str(A), *A.clasifica_para_tableaux()) for A in fs]\n",
    "        self.alfas = [c for c in clasfs if c[3] == 'alfa']\n",
    "        self.betas = [c for c in clasfs if c[3] == 'beta']\n",
    "        self.literales = [c for c in clasfs if c[3] == 'literal']\n",
    "\n",
    "    def __str__(self):\n",
    "        cadena = f'Alfas:{[str(c[1]) for c in self.alfas]}\\n'\n",
    "        cadena += f'Betas:{[str(c[1]) for c in self.betas]}\\n'\n",
    "        cadena += f'Literales:{[str(c[1]) for c in self.literales]}'\n",
    "        return cadena\n",
    "\n",
    "    def tiene_lit_comp(self):\n",
    "        lits = [c[1] for c in self.literales]\n",
    "        l_pos = [l for l in lits if '-' not in l]\n",
    "        l_negs = [l[1:] for l in lits if '-' in l]\n",
    "        return len(set(l_pos).intersection(set(l_negs))) > 0\n",
    "\n",
    "    def es_hoja(self):\n",
    "        if self.tiene_lit_comp():\n",
    "            return 'cerrada'\n",
    "        elif ((len(self.alfas) == 0) and (len(self.betas) == 0)):\n",
    "            return 'abierta'\n",
    "        else:\n",
    "            return None\n",
    "\n",
    "    def interp(self):\n",
    "        I = {}\n",
    "        for lit in self.literales:\n",
    "            l = lit[1]\n",
    "            if '-' not in l:\n",
    "                I[l] = True\n",
    "            else:\n",
    "                I[l[1:]] = False\n",
    "        return I\n",
    "\n",
    "    def expandir(self):\n",
    "        '''Escoge última alfa, si no última beta, si no None'''\n",
    "        f_alfas = deepcopy(self.alfas)\n",
    "        f_betas = deepcopy(self.betas)\n",
    "        f_literales = deepcopy(self.literales)\n",
    "        if len(self.alfas) > 0:\n",
    "            f, s, num_regla, cl = f_alfas.pop(0)\n",
    "            if num_regla == 1:\n",
    "                formulas = [f.subf.subf]\n",
    "            elif num_regla == 2:\n",
    "                formulas = [f.left, f.right]\n",
    "            elif num_regla == 3:\n",
    "                formulas = [Negacion(f.subf.left), Negacion(f.subf.right)]\n",
    "            elif num_regla == 4:\n",
    "                formulas = [f.subf.left, Negacion(f.subf.right)]\n",
    "            for nueva_f in formulas:\n",
    "                clasf = nueva_f.clasifica_para_tableaux()\n",
    "                if clasf[1]== 'alfa':\n",
    "                    lista = f_alfas\n",
    "                elif clasf[1]== 'beta':\n",
    "                    lista = f_betas\n",
    "                elif clasf[1]== 'literal':\n",
    "                    lista = f_literales\n",
    "                strs = [c[1] for c in lista]\n",
    "                if str(nueva_f) not in strs:\n",
    "                    lista.append((nueva_f, str(nueva_f), *clasf))\n",
    "            nuevo_nodo = nodos_tableaux([])\n",
    "            nuevo_nodo.alfas = f_alfas\n",
    "            nuevo_nodo.betas = f_betas\n",
    "            nuevo_nodo.literales = f_literales\n",
    "            return [nuevo_nodo, None]\n",
    "        elif len(self.betas) > 0:\n",
    "            f, s, num_regla, cl = f_betas.pop(0)\n",
    "            if num_regla == 1:\n",
    "                B1 = Negacion(f.subf.left)\n",
    "                B2 = Negacion(f.subf.right)\n",
    "            elif num_regla == 2:\n",
    "                B1 = f.left\n",
    "                B2 = f.right\n",
    "            elif num_regla == 3:\n",
    "                B1 = Negacion(f.left)\n",
    "                B2 = f.right\n",
    "            f_alfas2 = deepcopy(f_alfas)\n",
    "            f_betas2 = deepcopy(f_betas)\n",
    "            f_literales2 = deepcopy(f_literales)\n",
    "            clasf = B1.clasifica_para_tableaux()\n",
    "            if clasf[1]== 'alfa':\n",
    "                lista = f_alfas\n",
    "            elif clasf[1]== 'beta':\n",
    "                lista = f_betas\n",
    "            elif clasf[1]== 'literal':\n",
    "                lista = f_literales\n",
    "            strs = [c[1] for c in lista]\n",
    "            if str(B1) not in strs:\n",
    "                lista.append((B1, str(B1), *clasf))\n",
    "            clasf = B2.clasifica_para_tableaux()\n",
    "            if clasf[1]== 'alfa':\n",
    "                lista = f_alfas2\n",
    "            elif clasf[1]== 'beta':\n",
    "                lista = f_betas2\n",
    "            elif clasf[1]== 'literal':\n",
    "                lista = f_literales2\n",
    "            strs = [c[1] for c in lista]\n",
    "            if str(B2) not in strs:\n",
    "                lista.append((B2, str(B2), *clasf))\n",
    "            n1 = nodos_tableaux([])\n",
    "            n1.alfas = f_alfas\n",
    "            n1.betas = f_betas\n",
    "            n1.literales = f_literales\n",
    "            n2 = nodos_tableaux([])\n",
    "            n2.alfas = f_alfas2\n",
    "            n2.betas = f_betas2\n",
    "            n2.literales = f_literales2\n",
    "            return [n1, n2]\n",
    "        else:\n",
    "            return [None, None]\n",
    "\n",
    "\n"
   ]
  },
  {
   "cell_type": "code",
   "execution_count": 16,
   "metadata": {
    "tags": []
   },
   "outputs": [],
   "source": [
    "def clasifica_para_tableaux(self):\n",
    "    if type(self) == Letra:\n",
    "        return None, 'literal'          # Literal positivo\n",
    "    elif type(self) == Negacion:\n",
    "        if type(self.subf) == Letra:\n",
    "            return None, 'literal'      # Literal negativo\n",
    "        elif type(self.subf) == Negacion:\n",
    "            return 1, 'alfa'            # Fórmula 1 alfa\n",
    "        elif type(self.subf) == Binario:\n",
    "            if self.subf.conectivo == 'O':\n",
    "                return 3, 'alfa'\n",
    "            elif self.subf.conectivo == 'Y':\n",
    "                return 1, 'beta'\n",
    "            elif self.subf.conectivo == '>':\n",
    "                return 4, 'alfa'\n",
    "    elif type(self) == Binario:\n",
    "        if self.conectivo == 'Y':\n",
    "            return 2, 'alfa'\n",
    "        elif self.conectivo == 'O':\n",
    "            return 2, 'beta'\n",
    "        elif self.conectivo == '>':\n",
    "            return 3, 'beta'\n",
    "        \n",
    "setattr(Formula,\"clasifica_para_tableaux\",clasifica_para_tableaux)"
   ]
  },
  {
   "cell_type": "markdown",
   "metadata": {},
   "source": [
    "**Ejercicio 1:**\n",
    "\n",
    "Complete la anterior función `clasifica_para_tableaux` para clasificar el resto de fórmulas de acuerdo a su tipo. Pruebe su implementación con las siguientes fórmulas:"
   ]
  },
  {
   "cell_type": "code",
   "execution_count": 34,
   "metadata": {
    "tags": []
   },
   "outputs": [
    {
     "name": "stdout",
     "output_type": "stream",
     "text": [
      "(1, 'alfa')\n",
      "(2, 'alfa')\n",
      "(3, 'alfa')\n",
      "(4, 'alfa')\n",
      "(1, 'beta')\n",
      "(2, 'beta')\n",
      "(3, 'beta')\n"
     ]
    }
   ],
   "source": [
    "f = '--(-(pOq)Y-(r>s))'  # 1, alfa\n",
    "A = inorder_to_tree(f)\n",
    "print(A.clasifica_para_tableaux())\n",
    "\n",
    "f = '(-(pOq)Y-(r>s))'  # 2, alfa\n",
    "A = inorder_to_tree(f)\n",
    "print(A.clasifica_para_tableaux())\n",
    "\n",
    "f = '-(pOq)'  # 3, alfa\n",
    "A = inorder_to_tree(f)\n",
    "print(A.clasifica_para_tableaux())\n",
    "\n",
    "f = '-(r>s)' # 4, alfa\n",
    "A = inorder_to_tree(f)\n",
    "print(A.clasifica_para_tableaux())\n",
    "\n",
    "f = '-(pYq)' # 1, beta\n",
    "A = inorder_to_tree(f)\n",
    "print(A.clasifica_para_tableaux())\n",
    "\n",
    "f = '(-(pYq)O(r>s))' # 2, beta\n",
    "A = inorder_to_tree(f)\n",
    "print(A.clasifica_para_tableaux())\n",
    "\n",
    "f = '(r>s)' # 3, beta\n",
    "A = inorder_to_tree(f)\n",
    "print(A.clasifica_para_tableaux())"
   ]
  },
  {
   "cell_type": "markdown",
   "metadata": {},
   "source": [
    "---"
   ]
  },
  {
   "cell_type": "markdown",
   "metadata": {},
   "source": [
    "### Implementación de los nodos\n",
    "\n",
    "El tableaux que vamos a implementar es un árbol basado en nodos. Los nodos son de la clase `nodos_tableaux` que se encuentra en la librería `Logica`. La descripción de la clase es la siguiente:\n",
    "\n",
    "**Atributos:**\n",
    "\n",
    "* `alfas`: una lista con las fórmulas tipo $\\alpha$, representadas como una 4-tupla que incluye la fórmula como árbol, como cadena, el número de la regla y la cadena 'alfa'.\n",
    "* `betas`: una lista con las fórmulas tipo $\\beta$, representadas como una 4-tupla que incluye la fórmula como árbol, como cadena, el número de la regla y la cadena 'beta'.\n",
    "* `literales`: una lista con los literales, representados como una 4-tupla que incluye la fórmula como árbol, como cadena, None y la cadena 'literal'.\n",
    "\n",
    "**Métodos:**\n",
    "\n",
    "* `tiene_lit_comp`: retorna `True` si self.`literales` tiene un par complementario de literales.\n",
    "* `es_hoja`: retorna 'Cerrada' si self.`literales` tiene un par complementario de literales; 'Abierta' si self.`literales` NO tiene un par complementario de literales y no tiene reglas ni alfa ni beta; None en otro caso.\n",
    "* `interp`: retorna un diccionario que hace veradero a todos los literales en self.`literales`.\n",
    "* `expandir`: retorna un `nodo_tableaux` que es el resultado de aplicar la primera regla $\\alpha$. Si no hay reglas $\\alpha$, retorna dos `nodo_tableaux` que son el resultado de aplicar la primera regla $\\beta$. Si no hay reglas $\\beta$, retorna None, None.\n",
    "\n",
    "Para ilustrar esta clase, instanciemos un objeto a partir de una fórmula $\\alpha$, una $\\beta$ y un literal:"
   ]
  },
  {
   "cell_type": "code",
   "execution_count": 28,
   "metadata": {
    "tags": []
   },
   "outputs": [
    {
     "name": "stdout",
     "output_type": "stream",
     "text": [
      "Nodo n:\n",
      "Alfas:['-(p>q)']\n",
      "Betas:['(pOq)']\n",
      "Literales:['-p']\n",
      "\n",
      "¿Tiene literales complementarios? False\n",
      "¿Es una hoja? None\n",
      "Interpretación para literales: {'p': False}\n"
     ]
    }
   ],
   "source": [
    "print('Nodo n:')\n",
    "forms = ['-(p>q)', '(pOq)', '-p']\n",
    "forms = [inorder_to_tree(f) for f in forms]\n",
    "n = nodos_tableaux(forms)\n",
    "print(n)\n",
    "print('')\n",
    "print('¿Tiene literales complementarios?', n.tiene_lit_comp())\n",
    "print('¿Es una hoja?', n.es_hoja())\n",
    "print('Interpretación para literales:', n.interp())"
   ]
  },
  {
   "cell_type": "markdown",
   "metadata": {},
   "source": [
    "El método `expandir` tomará la primera (y única en este caso) fórmula $\\alpha$ y devolvera una lista [`None`, `n1`] donde `n1` es el nodo resultado de aplicar la regla:"
   ]
  },
  {
   "cell_type": "code",
   "execution_count": 30,
   "metadata": {
    "tags": []
   },
   "outputs": [
    {
     "name": "stdout",
     "output_type": "stream",
     "text": [
      "Alfas:['-(p>q)']\n",
      "Betas:['(pOq)']\n",
      "Literales:['-p']\n",
      "[<__main__.nodos_tableaux object at 0x00000202CDD0CBB0>, None]\n"
     ]
    }
   ],
   "source": [
    "print(n)\n",
    "hijos = n.expandir()\n",
    "print(hijos)"
   ]
  },
  {
   "cell_type": "code",
   "execution_count": 31,
   "metadata": {
    "tags": []
   },
   "outputs": [
    {
     "name": "stdout",
     "output_type": "stream",
     "text": [
      "Alfas:[]\n",
      "Betas:['(pOq)']\n",
      "Literales:['-p', 'p', '-q']\n"
     ]
    }
   ],
   "source": [
    "for hijo in hijos:\n",
    "    if hijo != None:\n",
    "        print(hijo)"
   ]
  },
  {
   "cell_type": "markdown",
   "metadata": {},
   "source": [
    "**Ejercicio 2:**\n",
    "\n",
    "Explanda el hijo de `n` y verifique si los nodos resultado tienen pares complementarios de literales."
   ]
  },
  {
   "cell_type": "markdown",
   "metadata": {},
   "source": []
  },
  {
   "cell_type": "code",
   "execution_count": 32,
   "metadata": {},
   "outputs": [
    {
     "ename": "NameError",
     "evalue": "name 'nuevo_nodo' is not defined",
     "output_type": "error",
     "traceback": [
      "\u001b[1;31m---------------------------------------------------------------------------\u001b[0m",
      "\u001b[1;31mNameError\u001b[0m                                 Traceback (most recent call last)",
      "Input \u001b[1;32mIn [32]\u001b[0m, in \u001b[0;36m<cell line: 1>\u001b[1;34m()\u001b[0m\n\u001b[1;32m----> 1\u001b[0m \u001b[43mnuevo_nodo\u001b[49m\u001b[38;5;241m.\u001b[39mexpandir()\n",
      "\u001b[1;31mNameError\u001b[0m: name 'nuevo_nodo' is not defined"
     ]
    }
   ],
   "source": [
    "nuevo_nodo.expandir()"
   ]
  },
  {
   "cell_type": "markdown",
   "metadata": {},
   "source": [
    "**Ejercicio 3:**\n",
    "\n",
    "Expanda manualmente (o mediante un while) el siguiente nodo hasta obtener solo una lista de literales y devuelva la interpretación que los hace verdaderos. Observe que todas sus subfórmulas son de tipo $\\alpha$:"
   ]
  },
  {
   "cell_type": "code",
   "execution_count": 25,
   "metadata": {
    "tags": []
   },
   "outputs": [],
   "source": [
    "forms = ['--(-(pOq)Y-(r>s))']\n",
    "forms = [inorder_to_tree(f) for f in forms]\n",
    "n = nodos_tableaux(forms)"
   ]
  },
  {
   "cell_type": "markdown",
   "metadata": {},
   "source": [
    "---"
   ]
  },
  {
   "cell_type": "markdown",
   "metadata": {},
   "source": [
    "# Expansión primero en anchura <a class=\"anchor\" id=\"anchura\"></a>\n",
    "\n",
    "([Volver al inicio](#inicio))\n",
    "\n",
    "Ya tenemos los elementos necesarios para la generación del tableaux, pero necesitamos especificar una manera de ir expandiendo el árbol. Además de la opción de expandirlo de manera aleatoria -- seleccionando aleatoriamente un nodo que no sea una hoja -- tenemos tres opciones. En esta sección examinaremos la expansión primero en anchura. El pseudocódigo del algoritmo es el siguiente:\n",
    "\n",
    "<img src=\"./img/anchura.png\" width=\"350px\"/>\n",
    "\n",
    "La implementación en Python es la siguiente:"
   ]
  },
  {
   "cell_type": "code",
   "execution_count": 26,
   "metadata": {
    "tags": []
   },
   "outputs": [],
   "source": [
    "def primero_anchura(nodo):\n",
    "    estado = nodo\n",
    "    res = estado.es_hoja()\n",
    "    if res == 'cerrada':\n",
    "        return None\n",
    "    elif res == 'abierta':\n",
    "        return estado.interp()\n",
    "    frontera = [estado]\n",
    "    while len(frontera) > 0:\n",
    "        estado = frontera.pop(0) \n",
    "        hijos = estado.expandir()\n",
    "        for a in hijos:\n",
    "            if a != None:\n",
    "                res = a.es_hoja()\n",
    "                if res == 'abierta':\n",
    "                    return a.interp()\n",
    "                elif res == None:\n",
    "                    frontera.append(a)\n",
    "    return None"
   ]
  },
  {
   "cell_type": "markdown",
   "metadata": {},
   "source": [
    "Podemos usar esta función para expandir el nodo del ejercicio 3:"
   ]
  },
  {
   "cell_type": "code",
   "execution_count": 27,
   "metadata": {
    "tags": []
   },
   "outputs": [
    {
     "name": "stdout",
     "output_type": "stream",
     "text": [
      "Resultado: {'p': False, 'q': False, 'r': True, 's': False}\n"
     ]
    }
   ],
   "source": [
    "forms = ['--(-(pOq)Y-(r>s))']\n",
    "forms = [inorder_to_tree(f) for f in forms]\n",
    "n = nodos_tableaux(forms)\n",
    "I = primero_anchura(n)\n",
    "print(\"Resultado:\", I)"
   ]
  },
  {
   "cell_type": "markdown",
   "metadata": {},
   "source": [
    "**Ejercicio 4:**\n",
    "\n",
    "Expanda el nodo correspondiente a la siguiente fórmula:\n",
    "\n",
    "'(((pYq)O(rOq))Y(-qO-p))'\n",
    "\n",
    "Debe obtener la siguiente interpretación:\n",
    "\n",
    "Resultado: {'q': False, 'r': True}"
   ]
  },
  {
   "cell_type": "markdown",
   "metadata": {},
   "source": [
    "---"
   ]
  },
  {
   "cell_type": "markdown",
   "metadata": {},
   "source": [
    "# Expansión primero en profundidad <a class=\"anchor\" id=\"prof\"></a>\n",
    "\n",
    "([Volver al inicio](#inicio))\n",
    "\n",
    "Además de poder expandir primero en anchura, podemos expandir primero en profundidad. El pseudocódigo de este algoritmo es el siguiente:\n",
    "\n",
    "<img src=\"./img/profundidad.png\" width=\"350px\"/>"
   ]
  },
  {
   "cell_type": "markdown",
   "metadata": {},
   "source": [
    "**Ejercicio 5:**\n",
    "\n",
    "Implemente la función `primero_profundidad` y expanda los nodos para las siguientes fórmulas:\n",
    "\n",
    "* '--(-(pOq)Y-(r>s))'\n",
    "* '(((pYq)O(rOq))Y(-qO-p))'\n",
    "\n",
    "Las soluciones deben ser las siguientes:\n",
    "\n",
    "* Resultado: {'p': False, 'q': False, 'r': True, 's': False}\n",
    "* Resultado: {'p': False, 'r': True}"
   ]
  },
  {
   "cell_type": "markdown",
   "metadata": {},
   "source": [
    "---"
   ]
  },
  {
   "cell_type": "markdown",
   "metadata": {},
   "source": [
    "# Recorrido con backtracking <a class=\"anchor\" id=\"backt\"></a>\n",
    "\n",
    "([Volver al inicio](#inicio))\n",
    "\n",
    "Podemos hacer también un recorrido por el árbol haciendo una expansión recursiva que implementa el backtracking, como en el siguiente pseudocódigo:\n",
    "\n",
    "<img src=\"./img/backtracking.png\" width=\"350px\"/>"
   ]
  },
  {
   "cell_type": "markdown",
   "metadata": {},
   "source": [
    "**Ejercicio 6:**\n",
    "\n",
    "Implemente la función `backtracking` y expanda los nodos para las siguientes fórmulas:\n",
    "\n",
    "* '--(-(pOq)Y-(r>s))'\n",
    "* '(((pYq)O(rOq))Y(-qO-p))'\n",
    "\n",
    "Las soluciones deben ser las siguientes:\n",
    "\n",
    "* Resultado: {'p': False, 'q': False, 'r': True, 's': False}\n",
    "* Resultado: {'q': False, 'r': True}"
   ]
  },
  {
   "cell_type": "markdown",
   "metadata": {},
   "source": [
    "---"
   ]
  },
  {
   "cell_type": "markdown",
   "metadata": {},
   "source": [
    "# Sección opcional: Eficiencia de los algoritmos <a class=\"anchor\" id=\"efi\"></a>\n",
    "\n",
    "\n",
    "([Volver al inicio](#inicio))\n",
    "\n",
    "Vamos a verificar empíricamente cuál función es más rápida para expandir el árbol del tableaux de una fórmula dada. Para ello, crearemos fórmulas más y más grandes para probar en ellas nuestros tres algoritmos.\n",
    "\n",
    "Definimos nuestras funciones para medir tiempos en una lista de entradas: "
   ]
  },
  {
   "cell_type": "code",
   "execution_count": 11,
   "metadata": {
    "tags": []
   },
   "outputs": [],
   "source": [
    "from time import time\n",
    "import seaborn as sns\n",
    "import pandas as pd\n",
    "import matplotlib.pyplot as plt\n",
    "\n",
    "def obtiene_tiempos(fun, args, num_it=100):\n",
    "    tiempos_fun = []\n",
    "    for i in range(num_it):\n",
    "        arranca = time()\n",
    "        x = fun(*args)\n",
    "        para = time()\n",
    "        tiempos_fun.append(para - arranca)\n",
    "    return tiempos_fun\n",
    "\n",
    "def compara_entradas_funs(funs, nombres_funs, lista_args, N=100):\n",
    "    entradas = []\n",
    "    funcion = []\n",
    "    tiempos = []\n",
    "    lista_dfs = []\n",
    "    for i, args in enumerate(lista_args):\n",
    "        for j, fun in enumerate(funs):\n",
    "            t = obtiene_tiempos(fun, [args], N)\n",
    "            tiempos += t\n",
    "            n = len(t)\n",
    "            entradas += [i+1]*n\n",
    "            funcion += [nombres_funs[j]]*n\n",
    "        df = pd.DataFrame({'Long_entrada':entradas, \n",
    "                           'Funcion':funcion,\n",
    "                           'Tiempo_prom':tiempos})\n",
    "        lista_dfs.append(df)\n",
    "    df = pd.concat(lista_dfs)\n",
    "    sns.lineplot(x='Long_entrada',y='Tiempo_prom',hue='Funcion',data=df)\n",
    "    plt.show()"
   ]
  },
  {
   "cell_type": "markdown",
   "metadata": {},
   "source": [
    "Creamos nuestra lista de fórmulas:"
   ]
  },
  {
   "cell_type": "code",
   "execution_count": 12,
   "metadata": {
    "tags": []
   },
   "outputs": [],
   "source": [
    "from random import uniform, choice\n",
    "\n",
    "cantidad = 20\n",
    "letras = [chr(i) for i in range(256, 256+cantidad)]\n",
    "lista = [letras[0]]\n",
    "formula = letras[0]\n",
    "for p in letras[1:]:\n",
    "    neg1 = '-' if uniform(0,1) > .5 else ''\n",
    "    neg2 = '-' if uniform(0,1) > .5 else ''\n",
    "    conectivo = choice(['Y','O','>'])\n",
    "    formula = neg2 + \"(\" + formula + conectivo + neg1 + p + \")\"\n",
    "    lista.append(formula)\n",
    "\n",
    "#lista"
   ]
  },
  {
   "cell_type": "markdown",
   "metadata": {},
   "source": [
    "Y, finalmente, medimos los tiempos de ejecución para cada fórmula:"
   ]
  },
  {
   "cell_type": "code",
   "execution_count": 13,
   "metadata": {
    "tags": []
   },
   "outputs": [
    {
     "ename": "NameError",
     "evalue": "name 'primero_profundidad' is not defined",
     "output_type": "error",
     "traceback": [
      "\u001b[1;31m---------------------------------------------------------------------------\u001b[0m",
      "\u001b[1;31mNameError\u001b[0m                                 Traceback (most recent call last)",
      "Input \u001b[1;32mIn [13]\u001b[0m, in \u001b[0;36m<cell line: 6>\u001b[1;34m()\u001b[0m\n\u001b[0;32m      4\u001b[0m backtrack \u001b[38;5;241m=\u001b[39m \u001b[38;5;28;01mlambda\u001b[39;00m formula: backtracking(nodos_tableaux([inorder_to_tree(formula)]))\n\u001b[0;32m      5\u001b[0m funs \u001b[38;5;241m=\u001b[39m [anchura, profundidad, backtrack]\n\u001b[1;32m----> 6\u001b[0m \u001b[43mcompara_entradas_funs\u001b[49m\u001b[43m(\u001b[49m\u001b[43mfuns\u001b[49m\u001b[43m,\u001b[49m\u001b[43m \u001b[49m\u001b[43mnombres\u001b[49m\u001b[43m,\u001b[49m\u001b[43m \u001b[49m\u001b[43mlista\u001b[49m\u001b[43m)\u001b[49m\n",
      "Input \u001b[1;32mIn [11]\u001b[0m, in \u001b[0;36mcompara_entradas_funs\u001b[1;34m(funs, nombres_funs, lista_args, N)\u001b[0m\n\u001b[0;32m     20\u001b[0m \u001b[38;5;28;01mfor\u001b[39;00m i, args \u001b[38;5;129;01min\u001b[39;00m \u001b[38;5;28menumerate\u001b[39m(lista_args):\n\u001b[0;32m     21\u001b[0m     \u001b[38;5;28;01mfor\u001b[39;00m j, fun \u001b[38;5;129;01min\u001b[39;00m \u001b[38;5;28menumerate\u001b[39m(funs):\n\u001b[1;32m---> 22\u001b[0m         t \u001b[38;5;241m=\u001b[39m \u001b[43mobtiene_tiempos\u001b[49m\u001b[43m(\u001b[49m\u001b[43mfun\u001b[49m\u001b[43m,\u001b[49m\u001b[43m \u001b[49m\u001b[43m[\u001b[49m\u001b[43margs\u001b[49m\u001b[43m]\u001b[49m\u001b[43m,\u001b[49m\u001b[43m \u001b[49m\u001b[43mN\u001b[49m\u001b[43m)\u001b[49m\n\u001b[0;32m     23\u001b[0m         tiempos \u001b[38;5;241m+\u001b[39m\u001b[38;5;241m=\u001b[39m t\n\u001b[0;32m     24\u001b[0m         n \u001b[38;5;241m=\u001b[39m \u001b[38;5;28mlen\u001b[39m(t)\n",
      "Input \u001b[1;32mIn [11]\u001b[0m, in \u001b[0;36mobtiene_tiempos\u001b[1;34m(fun, args, num_it)\u001b[0m\n\u001b[0;32m      8\u001b[0m \u001b[38;5;28;01mfor\u001b[39;00m i \u001b[38;5;129;01min\u001b[39;00m \u001b[38;5;28mrange\u001b[39m(num_it):\n\u001b[0;32m      9\u001b[0m     arranca \u001b[38;5;241m=\u001b[39m time()\n\u001b[1;32m---> 10\u001b[0m     x \u001b[38;5;241m=\u001b[39m \u001b[43mfun\u001b[49m\u001b[43m(\u001b[49m\u001b[38;5;241;43m*\u001b[39;49m\u001b[43margs\u001b[49m\u001b[43m)\u001b[49m\n\u001b[0;32m     11\u001b[0m     para \u001b[38;5;241m=\u001b[39m time()\n\u001b[0;32m     12\u001b[0m     tiempos_fun\u001b[38;5;241m.\u001b[39mappend(para \u001b[38;5;241m-\u001b[39m arranca)\n",
      "Input \u001b[1;32mIn [13]\u001b[0m, in \u001b[0;36m<lambda>\u001b[1;34m(formula)\u001b[0m\n\u001b[0;32m      1\u001b[0m nombres \u001b[38;5;241m=\u001b[39m [\u001b[38;5;124m'\u001b[39m\u001b[38;5;124mprimero anchura\u001b[39m\u001b[38;5;124m'\u001b[39m, \u001b[38;5;124m'\u001b[39m\u001b[38;5;124mprimero profundidad\u001b[39m\u001b[38;5;124m'\u001b[39m, \u001b[38;5;124m'\u001b[39m\u001b[38;5;124mbacktracking\u001b[39m\u001b[38;5;124m'\u001b[39m]\n\u001b[0;32m      2\u001b[0m anchura \u001b[38;5;241m=\u001b[39m \u001b[38;5;28;01mlambda\u001b[39;00m formula: primero_anchura(nodos_tableaux([inorder_to_tree(formula)]))\n\u001b[1;32m----> 3\u001b[0m profundidad \u001b[38;5;241m=\u001b[39m \u001b[38;5;28;01mlambda\u001b[39;00m formula: \u001b[43mprimero_profundidad\u001b[49m(nodos_tableaux([inorder_to_tree(formula)]))\n\u001b[0;32m      4\u001b[0m backtrack \u001b[38;5;241m=\u001b[39m \u001b[38;5;28;01mlambda\u001b[39;00m formula: backtracking(nodos_tableaux([inorder_to_tree(formula)]))\n\u001b[0;32m      5\u001b[0m funs \u001b[38;5;241m=\u001b[39m [anchura, profundidad, backtrack]\n",
      "\u001b[1;31mNameError\u001b[0m: name 'primero_profundidad' is not defined"
     ]
    }
   ],
   "source": [
    "nombres = ['primero anchura', 'primero profundidad', 'backtracking']\n",
    "anchura = lambda formula: primero_anchura(nodos_tableaux([inorder_to_tree(formula)]))\n",
    "profundidad = lambda formula: primero_profundidad(nodos_tableaux([inorder_to_tree(formula)]))\n",
    "backtrack = lambda formula: backtracking(nodos_tableaux([inorder_to_tree(formula)]))\n",
    "funs = [anchura, profundidad, backtrack]\n",
    "compara_entradas_funs(funs, nombres, lista)"
   ]
  },
  {
   "cell_type": "markdown",
   "metadata": {},
   "source": [
    "En esta gráfica es muy fácil apreciar que, a medida que aumentamos el número de letras proposicionales distintas en la fórmula de entrada, los tres algoritmos se tardan más en determinar si ella es satisfacible. De los tres algoritmos, el peor es el de backtracking y el mejor es el de primero en profundidad. No obstante, vemos que el número de letras proposicionales no es el único factor que influye en el tiempo de ejecución. También influye la estructura de la fórmula. Más adelante estudiaremos el comportamiento de los algoritmos de acuerdo a distintos tipos de fórmulas."
   ]
  },
  {
   "cell_type": "markdown",
   "metadata": {},
   "source": [
    "---"
   ]
  }
 ],
 "metadata": {
  "kernelspec": {
   "display_name": "Python 3 (ipykernel)",
   "language": "python",
   "name": "python3"
  },
  "language_info": {
   "codemirror_mode": {
    "name": "ipython",
    "version": 3
   },
   "file_extension": ".py",
   "mimetype": "text/x-python",
   "name": "python",
   "nbconvert_exporter": "python",
   "pygments_lexer": "ipython3",
   "version": "3.9.12"
  }
 },
 "nbformat": 4,
 "nbformat_minor": 4
}
