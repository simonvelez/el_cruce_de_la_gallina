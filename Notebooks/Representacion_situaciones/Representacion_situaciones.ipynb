{
 "cells": [
  {
   "cell_type": "markdown",
   "metadata": {},
   "source": [
    "<table>\n",
    "    <tr>\n",
    "        <td><img src=\"./img/Macc.png\" width=\"auto\"/></td>\n",
    "        <td>\n",
    "            <table><tr>\n",
    "            <h1 style=\"color:blue;text-align:center\">Lógica para Ciencias de la Computación</h1></td>\n",
    "            </tr></table>   \n",
    "        <td>&nbsp;</td>\n",
    "        <td>\n",
    "            <table><tr>\n",
    "            <tp><p style=\"font-size:150%;text-align:center\">Taller</p></tp>\n",
    "            <tp><p style=\"font-size:150%;text-align:center\">Representación de situaciones</p></tp>\n",
    "            </tr></table>\n",
    "        </td>\n",
    "    </tr>\n",
    "</table>\n",
    "\n",
    "---"
   ]
  },
  {
   "cell_type": "markdown",
   "metadata": {},
   "source": [
    "# Objetivo <a class=\"anchor\" id=\"inicio\"></a>\n",
    "\n",
    "En clase hemos visto cómo representar situaciones, sus restricciones, y el objetivo que se busca resolver, por medio de fórmulas lógicas. El objetivo de este taller es explorar cómo implementar en Python la representación de situaciones."
   ]
  },
  {
   "cell_type": "markdown",
   "metadata": {},
   "source": [
    "# Secciones\n",
    "\n",
    "1. [Problema de ejemplo.](#prob)\n",
    "2. [Descriptores.](#des)\n",
    "3. [Implementación de restricciones.](#imp)"
   ]
  },
  {
   "cell_type": "markdown",
   "metadata": {},
   "source": [
    "# Problema de ejemplo <a class=\"anchor\" id=\"prob\"></a>\n",
    "\n",
    "([Volver al inicio](#inicio))\n",
    "\n",
    "Trabajaremos sobre el siguiente problema. Buscamos llenar todas las casillas en una tabla 2x2 con un número de 0 a 3, sin repetir. Por ejemplo:\n",
    "\n",
    "![ejemplo](img/tabla.png)\n",
    "\n",
    "Tenemos tres restricciones que debemos implementar para resolver el problema:\n",
    "\n",
    "1. Un número sólo está en una casilla.\n",
    "2. No hay más de un número en una casilla.\n",
    "3. Debe haber por lo menos un número en una casilla.\n"
   ]
  },
  {
   "cell_type": "markdown",
   "metadata": {},
   "source": [
    "# Descriptores <a class=\"anchor\" id=\"des\"></a>\n",
    "\n",
    "([Volver al inicio](#inicio))\n",
    "\n",
    "Debemos primero representar las letras proposicionales, las cuales cruzan la información de qué número está en qué casilla:\n",
    "\n",
    "$OenCasilla_{x,y,n}$ es verdadera sii el número $n$ está en la casilla $(x,y)$\n",
    "\n",
    "Para hacer la implementación en python, sugerimos usar la clase `Descriptor`, que se encuentra en la librería `Logica`.  Básicamente, lo que hace la codificación es representar un átomo como un solo caracter (es decir, una cadena de longitud 1).\n",
    "\n",
    "Importamos la clase a partir de la librería:"
   ]
  },
  {
   "cell_type": "code",
   "execution_count": 3,
   "metadata": {},
   "outputs": [],
   "source": [
    "from itertools import product\n",
    "import numpy as np\n",
    "\n",
    "class Formula :\n",
    "\n",
    "    def __init__(self) :\n",
    "        pass\n",
    "\n",
    "    def __str__(self) :\n",
    "        if type(self) == Letra:\n",
    "            return self.letra\n",
    "        elif type(self) == Negacion:\n",
    "            return '-' + str(self.subf)\n",
    "        elif type(self) == Binario:\n",
    "            return \"(\" + str(self.left) + self.conectivo + str(self.right) + \")\"\n",
    "\n",
    "    def letras(self):\n",
    "        if type(self) == Letra:\n",
    "            return set(self.letra)\n",
    "        elif type(self) == Negacion:\n",
    "            return self.subf.letras()\n",
    "        elif type(self) == Binario:\n",
    "            return self.left.letras().union(self.right.letras())\n",
    "\n",
    "    def subforms(self):\n",
    "        if type(self) == Letra:\n",
    "            return [str(self)]\n",
    "        elif type(self) == Negacion:\n",
    "            return list(set([str(self)] + self.subf.subforms()))\n",
    "        elif type(self) == Binario:\n",
    "            return list(set([str(self)] + self.left.subforms() + self.right.subforms()))\n",
    "\n",
    "    def valor(self, I) :\n",
    "        if type(self) == Letra:\n",
    "            return I[self.letra]\n",
    "        elif type(self) == Negacion:\n",
    "            return not self.subf.valor(I)\n",
    "        elif type(self) == Binario:\n",
    "            if self.conectivo == 'Y':\n",
    "                return self.left.valor(I) and self.right.valor(I)\n",
    "            if self.conectivo == 'O':\n",
    "                return self.left.valor(I) or self.right.valor(I)\n",
    "            if self.conectivo == '>':\n",
    "                return not self.left.valor(I) or self.right.valor(I)\n",
    "            if self.conectivo == '=':\n",
    "                return (self.left.valor(I) and self.right.valor(I)) or (not self.left.valor(I) and not self.right.valor(I))\n",
    "\n",
    "class Letra(Formula) :\n",
    "    def __init__ (self, letra:str) :\n",
    "        self.letra = letra\n",
    "\n",
    "class Negacion(Formula) :\n",
    "    def __init__(self, subf:Formula) :\n",
    "        self.subf = subf\n",
    "\n",
    "class Binario(Formula) :\n",
    "    def __init__(self, conectivo:str, left:Formula, right:Formula) :\n",
    "        assert(conectivo in ['Y','O','>','='])\n",
    "        self.conectivo = conectivo\n",
    "        self.left = left\n",
    "        self.right = right\n",
    "\n",
    "def inorder_to_tree(cadena:str):\n",
    "    conectivos = ['Y', 'O', '>', '=']\n",
    "    if len(cadena) == 1:\n",
    "        return Letra(cadena)\n",
    "    elif cadena[0] == '-':\n",
    "        return Negacion(inorder_to_tree(cadena[1:]))\n",
    "    elif cadena[0] == \"(\":\n",
    "        counter = 0 #Contador de parentesis\n",
    "        for i in range(1, len(cadena)):\n",
    "            if cadena[i] == \"(\":\n",
    "                counter += 1\n",
    "            elif cadena[i] == \")\":\n",
    "                counter -=1\n",
    "            elif cadena[i] in conectivos and counter == 0:\n",
    "                return Binario(cadena[i], inorder_to_tree(cadena[1:i]),inorder_to_tree(cadena[i + 1:-1]))\n",
    "    else:\n",
    "        raise Exception('¡Cadena inválida!')\n",
    "\n",
    "class Descriptor :\n",
    "\n",
    "    '''\n",
    "    Codifica un descriptor de N argumentos mediante un solo caracter\n",
    "    Input:  args_lista, lista con el total de opciones para cada\n",
    "                     argumento del descriptor\n",
    "            chrInit, entero que determina el comienzo de la codificación chr()\n",
    "    Output: str de longitud 1\n",
    "    '''\n",
    "\n",
    "    def __init__ (self,args_lista,chrInit=256) :\n",
    "        self.args_lista = args_lista\n",
    "        assert(len(args_lista) > 0), \"Debe haber por lo menos un argumento\"\n",
    "        self.chrInit = chrInit\n",
    "        self.rango = [chrInit, chrInit + np.prod(self.args_lista)]\n",
    "\n",
    "    def check_lista_valores(self,lista_valores) :\n",
    "        for i, v in enumerate(lista_valores) :\n",
    "            assert(v >= 0), \"Valores deben ser no negativos\"\n",
    "            assert(v < self.args_lista[i]), f\"Valor debe ser menor o igual a {self.args_lista[i]}\"\n",
    "\n",
    "    def codifica(self,lista_valores) :\n",
    "        self.check_lista_valores(lista_valores)\n",
    "        cod = lista_valores[0]\n",
    "        n_columnas = 1\n",
    "        for i in range(0, len(lista_valores) - 1) :\n",
    "            n_columnas = n_columnas * self.args_lista[i]\n",
    "            cod = n_columnas * lista_valores[i+1] + cod\n",
    "        return cod\n",
    "\n",
    "    def decodifica(self,n) :\n",
    "        decods = []\n",
    "        if len(self.args_lista) > 1:\n",
    "            for i in range(0, len(self.args_lista) - 1) :\n",
    "                n_columnas = np.prod(self.args_lista[:-(i+1)])\n",
    "                decods.insert(0, int(n / n_columnas))\n",
    "                n = n % n_columnas\n",
    "        decods.insert(0, n % self.args_lista[0])\n",
    "        return decods\n",
    "\n",
    "    def P(self,lista_valores) :\n",
    "        codigo = self.codifica(lista_valores)\n",
    "        return chr(self.chrInit+codigo)\n",
    "\n",
    "    def inv(self,codigo) :\n",
    "        n = ord(codigo)-self.chrInit\n",
    "        return self.decodifica(n)\n",
    "\n",
    "def visualizar_formula(A,D):\n",
    "    '''\n",
    "    Visualiza una fórmula A (como string en notación inorder) usando el descriptor D\n",
    "    '''\n",
    "    vis = []\n",
    "    for c in A:\n",
    "        if c == '-':\n",
    "            vis.append(' no ')\n",
    "        elif c in ['(', ')']:\n",
    "            vis.append(c)\n",
    "        elif c in ['>', 'Y', 'O']:\n",
    "            vis.append(' ' + c + ' ')\n",
    "        elif c == '=':\n",
    "            vis.append(' sii ')\n",
    "        else:\n",
    "            try:\n",
    "                vis.append(D.escribir(c))\n",
    "            except:\n",
    "                raise(\"¡Caracter inválido!\")\n",
    "    return ''.join(vis)"
   ]
  },
  {
   "cell_type": "markdown",
   "metadata": {},
   "source": [
    "Ahora creamos un descriptor de tres argumentos, dos para la casilla $(x,y)$ y uno para los números:"
   ]
  },
  {
   "cell_type": "code",
   "execution_count": 4,
   "metadata": {},
   "outputs": [],
   "source": [
    "Nx = 2\n",
    "Ny = 2\n",
    "Nn = Nx * Ny\n",
    "X = list(range(Nx))\n",
    "Y = list(range(Ny))\n",
    "numeros = list(range(Nn))\n",
    "OenCasilla = Descriptor([Nx, Ny, Nn])"
   ]
  },
  {
   "cell_type": "markdown",
   "metadata": {},
   "source": [
    "Métodos importantes del `Descriptor`:\n",
    "\n",
    "* P(`lista_valores`): Codifica el cruce de información correspondiente a los valores en `lista_valores` mediante un caracter.\n",
    "* inv(`caracter`): Decodifica `caracter` en una lista de valores. Esta lista depende del número de argumentos con que se haya inicializado el objeto descriptor. \n",
    "\n",
    "### Codificando en un solo caracter\n",
    "\n",
    "Mediante el método P() podemos crear las codificaciones. A continuación presentaremos cada uno de los caracteres que codifican los cruces de información de que un número $n$ (con $n\\in\\{0, 1, 2, 3\\}$) se encuentra en una casilla $(x,y)$ (donde $x,y\\in\\{0, 1\\}$):"
   ]
  },
  {
   "cell_type": "code",
   "execution_count": 5,
   "metadata": {},
   "outputs": [
    {
     "name": "stdout",
     "output_type": "stream",
     "text": [
      "Cantidad de átomos OenCasilla: 16\n",
      "Caracteres correspondientes a los átomos OenCasilla:\n",
      "\n",
      "Que el número 0 está en la casilla (0,0) es el átomo Ā\n",
      "Que el número 0 está en la casilla (0,1) es el átomo Ă\n",
      "Que el número 0 está en la casilla (1,0) es el átomo ā\n",
      "Que el número 0 está en la casilla (1,1) es el átomo ă\n",
      "\n",
      "Que el número 1 está en la casilla (0,0) es el átomo Ą\n",
      "Que el número 1 está en la casilla (0,1) es el átomo Ć\n",
      "Que el número 1 está en la casilla (1,0) es el átomo ą\n",
      "Que el número 1 está en la casilla (1,1) es el átomo ć\n",
      "\n",
      "Que el número 2 está en la casilla (0,0) es el átomo Ĉ\n",
      "Que el número 2 está en la casilla (0,1) es el átomo Ċ\n",
      "Que el número 2 está en la casilla (1,0) es el átomo ĉ\n",
      "Que el número 2 está en la casilla (1,1) es el átomo ċ\n",
      "\n",
      "Que el número 3 está en la casilla (0,0) es el átomo Č\n",
      "Que el número 3 está en la casilla (0,1) es el átomo Ď\n",
      "Que el número 3 está en la casilla (1,0) es el átomo č\n",
      "Que el número 3 está en la casilla (1,1) es el átomo ď\n",
      "\n"
     ]
    }
   ],
   "source": [
    "print(\"Cantidad de átomos OenCasilla:\", OenCasilla.rango[1] - OenCasilla.rango[0])\n",
    "print(\"Caracteres correspondientes a los átomos OenCasilla:\\n\")\n",
    "for n in range(Nn):\n",
    "    for x in range(Nx):\n",
    "        for y in range(Ny):\n",
    "            atomo = OenCasilla.P([x,y,n])\n",
    "            print(f\"Que el número {numeros[n]} está en la casilla ({X[x]},{Y[y]}) es el átomo {atomo}\")\n",
    "    print(\"\")"
   ]
  },
  {
   "cell_type": "markdown",
   "metadata": {},
   "source": [
    "### Decodificando el caracter\n",
    "\n",
    "Ahora podemos incluir un método para visualizar más fácilmente la información que porta cada letra proposicional. Esto es, en nuestro ejemplo en cuestión, nuestro objeto `OenCasilla` representa el cruce de información de que un número se encuentra en un lugar. Entonces, al decodificar una letra proposicional, queremos que nos presente claramente esta información y no un caracter inpronunciable (aunque es precisamente este caracter el que usará la máquina). \n",
    "\n",
    "Para ello podemos usar el siguiente método `escribir`: "
   ]
  },
  {
   "cell_type": "code",
   "execution_count": 6,
   "metadata": {},
   "outputs": [],
   "source": [
    "def escribir(self, literal):\n",
    "    if '-' in literal:\n",
    "        atomo = literal[1:]\n",
    "        neg = ' no'\n",
    "    else:\n",
    "        atomo = literal\n",
    "        neg = ''\n",
    "    x, y, n  = self.inv(atomo)\n",
    "    return f\"El número {numeros[n]}{neg} está en la casilla ({X[x]},{Y[y]})\"\n",
    "    \n",
    "from types import MethodType\n",
    "\n",
    "OenCasilla.escribir = MethodType(escribir, OenCasilla)"
   ]
  },
  {
   "cell_type": "code",
   "execution_count": 7,
   "metadata": {},
   "outputs": [
    {
     "name": "stdout",
     "output_type": "stream",
     "text": [
      "El caracter que codifica es Ċ\n",
      "\n",
      "Su decodificación es:\n"
     ]
    },
    {
     "data": {
      "text/plain": [
       "'El número 2 está en la casilla (0,1)'"
      ]
     },
     "execution_count": 7,
     "metadata": {},
     "output_type": "execute_result"
    }
   ],
   "source": [
    "atomo = OenCasilla.P([0,1,2])\n",
    "print(f\"El caracter que codifica es {atomo}\")\n",
    "print(\"\\nSu decodificación es:\")\n",
    "OenCasilla.escribir(atomo)"
   ]
  },
  {
   "cell_type": "markdown",
   "metadata": {},
   "source": [
    "Este método también toma en cuenta si el literal es positivo o negativo:"
   ]
  },
  {
   "cell_type": "code",
   "execution_count": 8,
   "metadata": {},
   "outputs": [
    {
     "data": {
      "text/plain": [
       "'El número 2 no está en la casilla (0,1)'"
      ]
     },
     "execution_count": 8,
     "metadata": {},
     "output_type": "execute_result"
    }
   ],
   "source": [
    "OenCasilla.escribir('-' + atomo)"
   ]
  },
  {
   "cell_type": "markdown",
   "metadata": {},
   "source": [
    "# Implementación de restricciones <a class=\"anchor\" id=\"imp\"></a>\n",
    "\n",
    "([Volver al inicio](#inicio))\n",
    "\n",
    "Ahora es necesario crear las reglas que limitarán los valores de verdad para las letras proposicionales. En nuestro problema de ejemplo tenemos tres restricciones:\n",
    "\n",
    "1. Un número sólo está en una casilla.\n",
    "2. No hay más de un número en una casilla.\n",
    "3. Debe haber por lo menos un número en una casilla."
   ]
  },
  {
   "cell_type": "markdown",
   "metadata": {},
   "source": [
    "## Restricción 1\n",
    "\n",
    "Comencemos por considerar la restricción 1, que dice que un número sólo está en una casilla:\n",
    "\n",
    "$$\\bigwedge_{x\\in\\{0,1\\}}\\bigwedge_{y\\in\\{0,1\\}}\\bigwedge_{n\\in Numeros}\\left(OenCasilla_{x,y,n}\\to\\neg\\left(\\bigvee_{(u,v)\\neq (x,y)} OenCasilla_{u,v,n}\\right)\\right)$$\n",
    "\n",
    "Saber cómo implementar toda esta fórmula de un solo tirón, con itorias y otorias anidadas, no es fácil. Desarrollaremos esta implementación siguiendo una serie de pasos, cada uno con mayor generalidad que el anterior.\n",
    "\n",
    "### Paso 1\n",
    "\n",
    "La fórmula para representar que si el 0 está en la casilla $(0,0)$, entonces no puede estar en ninguna otra casilla, es la siguiente:\n",
    "\n",
    "$$OenCasilla_{0,0,0} \\to \\neg\\left(\\bigvee_{(u,v)\\neq (0,0)} OenCasilla_{u,v,0}\\right)$$\n",
    "\n",
    "Esta fórmula se implementa en Python de la siguiente manera:"
   ]
  },
  {
   "cell_type": "code",
   "execution_count": 9,
   "metadata": {},
   "outputs": [
    {
     "name": "stdout",
     "output_type": "stream",
     "text": [
      "(Ā>-((ĂOā)Oă))\n"
     ]
    }
   ],
   "source": [
    "x = 0\n",
    "y = 0\n",
    "casilla = (x,y)\n",
    "otras_casillas = [(i,j) for i in X for j in Y if (i,j) != (x,y)]\n",
    "n = 0\n",
    "formula1 = ''\n",
    "inicial = True\n",
    "for casilla in otras_casillas:\n",
    "    u = casilla[0]\n",
    "    v = casilla[1]\n",
    "    if inicial:\n",
    "        formula1 = OenCasilla.P([u,v,n])\n",
    "        inicial = False\n",
    "    else:\n",
    "        formula1 = \"(\" + formula1 + \"O\" + OenCasilla.P([u,v,n]) + \")\"\n",
    "\n",
    "formula1 = \"(\" + OenCasilla.P([x,y,n]) + \">-\" + formula1 + \")\"\n",
    "print(formula1)"
   ]
  },
  {
   "cell_type": "markdown",
   "metadata": {},
   "source": [
    "Observe que la fórmula resultante es difícil de entender a simple vista, aunque un computador pueda trabajarla fácilmente. Para visualizarla de manera más comprensible y entender el significado del string generado por el código anterior, usaremos la función `visualizar_formula` que se encuentra en la librería `Logica`:"
   ]
  },
  {
   "cell_type": "code",
   "execution_count": 11,
   "metadata": {},
   "outputs": [
    {
     "name": "stdout",
     "output_type": "stream",
     "text": [
      "(El número 0 está en la casilla (0,0) >  no ((El número 0 está en la casilla (0,1) O El número 0 está en la casilla (1,0)) O El número 0 está en la casilla (1,1)))\n"
     ]
    }
   ],
   "source": [
    "\n",
    "print(visualizar_formula(formula1, OenCasilla))"
   ]
  },
  {
   "cell_type": "markdown",
   "metadata": {},
   "source": [
    "### Paso 2\n",
    "\n",
    "Para el siguiente paso, se debe replicar este procedimiento para los demás números. Es decir, se debe crear una regla que indique que, para cada número $n$, si $n$ ocupa la primera casilla, entonces $n$ no está en ninguna otra casilla. La fórmula de lógica proposicional que expresa esta restricción es la siguiente:\n",
    "\n",
    "$$\\bigwedge_{n\\in Numeros}\\left(OenCasilla_{0,0,n}\\to\\neg\\left(\\bigvee_{(u,v)\\neq (0,0)} OenCasilla_{u,v,n}\\right)\\right)$$\n"
   ]
  },
  {
   "cell_type": "markdown",
   "metadata": {},
   "source": [
    "**Ejercicio 1:** Implemente la fórmula anterior como un string de Python."
   ]
  },
  {
   "cell_type": "markdown",
   "metadata": {},
   "source": [
    "---"
   ]
  },
  {
   "cell_type": "code",
   "execution_count": 68,
   "metadata": {},
   "outputs": [
    {
     "name": "stdout",
     "output_type": "stream",
     "text": [
      "(Ā>-((ĂOā)Oă))\n",
      "(El número 0 está en la casilla (0,0) >  no ((El número 0 está en la casilla (0,1) O El número 0 está en la casilla (1,0)) O El número 0 está en la casilla (1,1)))\n",
      "(Ą>-((ĆOą)Oć))\n",
      "(El número 1 está en la casilla (0,0) >  no ((El número 1 está en la casilla (0,1) O El número 1 está en la casilla (1,0)) O El número 1 está en la casilla (1,1)))\n",
      "(Ĉ>-((ĊOĉ)Oċ))\n",
      "(El número 2 está en la casilla (0,0) >  no ((El número 2 está en la casilla (0,1) O El número 2 está en la casilla (1,0)) O El número 2 está en la casilla (1,1)))\n",
      "(Č>-((ĎOč)Oď))\n",
      "(El número 3 está en la casilla (0,0) >  no ((El número 3 está en la casilla (0,1) O El número 3 está en la casilla (1,0)) O El número 3 está en la casilla (1,1)))\n"
     ]
    }
   ],
   "source": [
    "for f in numeros:\n",
    "    x = 0\n",
    "    y = 0\n",
    "    casilla = (x,y)\n",
    "    otras_casillas = [(i,j) for i in X for j in Y if (i,j) != (x,y)]\n",
    "    n = numeros[f]\n",
    "    formula1 = ''\n",
    "    inicial = True\n",
    "    for casilla in otras_casillas:\n",
    "        u = casilla[0]\n",
    "        v = casilla[1]\n",
    "        if inicial:\n",
    "            formula1 = OenCasilla.P([u,v,n])\n",
    "            inicial = False\n",
    "        else:\n",
    "            formula1 = \"(\" + formula1 + \"O\" + OenCasilla.P([u,v,n]) + \")\"\n",
    "                \n",
    "    formula1 = \"(\" + OenCasilla.P([x,y,n]) + \">-\" + formula1 + \")\"\n",
    "    print(formula1)\n",
    "    print(visualizar_formula(formula1, OenCasilla))\n",
    "    "
   ]
  },
  {
   "cell_type": "markdown",
   "metadata": {},
   "source": [
    "### Paso 3\n",
    "\n",
    "Ahora que hemos creado la restricción para la casilla $(0,0)$, el siguiente paso consiste en replicar esta misma para todas las demás casillas. Con esto, tendremos que cada número podrá estar en a lo sumo una casilla. La fórmula lógica que expresa esta restricción es la siguiente:\n",
    "\n",
    "$$\\bigwedge_{x\\in\\{0,1\\}}\\bigwedge_{y\\in\\{0,1\\}}\\bigwedge_{n\\in Numeros}\\left(OenCasilla_{x,y,n}\\to\\neg\\left(\\bigvee_{(u,v)\\neq (x,y)} OenCasilla_{u,v,n}\\right)\\right)$$\n"
   ]
  },
  {
   "cell_type": "markdown",
   "metadata": {},
   "source": [
    "**Ejercicio 2:** Implemente la fórmula anterior como un string de Python."
   ]
  },
  {
   "cell_type": "markdown",
   "metadata": {},
   "source": [
    "---"
   ]
  },
  {
   "cell_type": "code",
   "execution_count": 16,
   "metadata": {},
   "outputs": [
    {
     "name": "stdout",
     "output_type": "stream",
     "text": [
      "(Ā>-((ĂOā)Oă))\n",
      " \n",
      "(El número 0 está en la casilla (0,0) >  no ((El número 0 está en la casilla (0,1) O El número 0 está en la casilla (1,0)) O El número 0 está en la casilla (1,1)))\n",
      " \n",
      "(ā>-((ĀOĂ)Oă))\n",
      " \n",
      "(El número 0 está en la casilla (1,0) >  no ((El número 0 está en la casilla (0,0) O El número 0 está en la casilla (0,1)) O El número 0 está en la casilla (1,1)))\n",
      " \n",
      "(Ă>-((ĀOā)Oă))\n",
      " \n",
      "(El número 0 está en la casilla (0,1) >  no ((El número 0 está en la casilla (0,0) O El número 0 está en la casilla (1,0)) O El número 0 está en la casilla (1,1)))\n",
      " \n",
      "(ă>-((ĀOĂ)Oā))\n",
      " \n",
      "(El número 0 está en la casilla (1,1) >  no ((El número 0 está en la casilla (0,0) O El número 0 está en la casilla (0,1)) O El número 0 está en la casilla (1,0)))\n",
      " \n",
      "(Ą>-((ĆOą)Oć))\n",
      " \n",
      "(El número 1 está en la casilla (0,0) >  no ((El número 1 está en la casilla (0,1) O El número 1 está en la casilla (1,0)) O El número 1 está en la casilla (1,1)))\n",
      " \n",
      "(ą>-((ĄOĆ)Oć))\n",
      " \n",
      "(El número 1 está en la casilla (1,0) >  no ((El número 1 está en la casilla (0,0) O El número 1 está en la casilla (0,1)) O El número 1 está en la casilla (1,1)))\n",
      " \n",
      "(Ć>-((ĄOą)Oć))\n",
      " \n",
      "(El número 1 está en la casilla (0,1) >  no ((El número 1 está en la casilla (0,0) O El número 1 está en la casilla (1,0)) O El número 1 está en la casilla (1,1)))\n",
      " \n",
      "(ć>-((ĄOĆ)Oą))\n",
      " \n",
      "(El número 1 está en la casilla (1,1) >  no ((El número 1 está en la casilla (0,0) O El número 1 está en la casilla (0,1)) O El número 1 está en la casilla (1,0)))\n",
      " \n",
      "(Ĉ>-((ĊOĉ)Oċ))\n",
      " \n",
      "(El número 2 está en la casilla (0,0) >  no ((El número 2 está en la casilla (0,1) O El número 2 está en la casilla (1,0)) O El número 2 está en la casilla (1,1)))\n",
      " \n",
      "(ĉ>-((ĈOĊ)Oċ))\n",
      " \n",
      "(El número 2 está en la casilla (1,0) >  no ((El número 2 está en la casilla (0,0) O El número 2 está en la casilla (0,1)) O El número 2 está en la casilla (1,1)))\n",
      " \n",
      "(Ċ>-((ĈOĉ)Oċ))\n",
      " \n",
      "(El número 2 está en la casilla (0,1) >  no ((El número 2 está en la casilla (0,0) O El número 2 está en la casilla (1,0)) O El número 2 está en la casilla (1,1)))\n",
      " \n",
      "(ċ>-((ĈOĊ)Oĉ))\n",
      " \n",
      "(El número 2 está en la casilla (1,1) >  no ((El número 2 está en la casilla (0,0) O El número 2 está en la casilla (0,1)) O El número 2 está en la casilla (1,0)))\n",
      " \n",
      "(Č>-((ĎOč)Oď))\n",
      " \n",
      "(El número 3 está en la casilla (0,0) >  no ((El número 3 está en la casilla (0,1) O El número 3 está en la casilla (1,0)) O El número 3 está en la casilla (1,1)))\n",
      " \n",
      "(č>-((ČOĎ)Oď))\n",
      " \n",
      "(El número 3 está en la casilla (1,0) >  no ((El número 3 está en la casilla (0,0) O El número 3 está en la casilla (0,1)) O El número 3 está en la casilla (1,1)))\n",
      " \n",
      "(Ď>-((ČOč)Oď))\n",
      " \n",
      "(El número 3 está en la casilla (0,1) >  no ((El número 3 está en la casilla (0,0) O El número 3 está en la casilla (1,0)) O El número 3 está en la casilla (1,1)))\n",
      " \n",
      "(ď>-((ČOĎ)Oč))\n",
      " \n",
      "(El número 3 está en la casilla (1,1) >  no ((El número 3 está en la casilla (0,0) O El número 3 está en la casilla (0,1)) O El número 3 está en la casilla (1,0)))\n",
      " \n"
     ]
    }
   ],
   "source": [
    "for f in numeros:\n",
    "    for y in Y:\n",
    "        for x in X:\n",
    "\n",
    "            casilla = (x,y)\n",
    "            otras_casillas = [(i,j) for i in X for j in Y if (i,j) != (x,y)]\n",
    "            n = numeros[f]\n",
    "            formula1 = ''\n",
    "            inicial = True\n",
    "            for casilla in otras_casillas:\n",
    "                u = casilla[0]\n",
    "                v = casilla[1]\n",
    "                if inicial:\n",
    "                    formula1 = OenCasilla.P([u,v,n])\n",
    "                    inicial = False\n",
    "                else:\n",
    "                    formula1 = \"(\" + formula1 + \"O\" + OenCasilla.P([u,v,n]) + \")\"\n",
    "\n",
    "            formula1 = \"(\" + OenCasilla.P([x,y,n]) + \">-\" + formula1 + \")\"\n",
    "            print(formula1)\n",
    "            print(\" \")\n",
    "            print(visualizar_formula(formula1, OenCasilla))\n",
    "            print(\" \")"
   ]
  },
  {
   "cell_type": "markdown",
   "metadata": {},
   "source": [
    "## Restricción 2\n",
    "\n",
    "La segunda restricción es que no puede haber más de un número en cada casilla. Es decir, si el número $n$ se encuentra dentro de la casilla $(x,y)$, otro número $m\\neq n$ no puede estar dentro de ella. La fórmula lógica que representa esta restricción es la siguiente:\n",
    "\n",
    "$$\\bigwedge_{x\\in\\{0,1\\}}\\bigwedge_{y\\in\\{0,1\\}}\\bigwedge_{n\\in Numeros}\\left(OenCasilla_{x,y,n}\\to\\neg\\left(\\bigvee_{m\\neq n} OenCasilla_{x,y,m}\\right)\\right)$$\n"
   ]
  },
  {
   "cell_type": "markdown",
   "metadata": {},
   "source": [
    "**Ejercicio 3:** Implemente la fórmula anterior como un string de Python."
   ]
  },
  {
   "cell_type": "code",
   "execution_count": 79,
   "metadata": {},
   "outputs": [
    {
     "ename": "NameError",
     "evalue": "name 'm' is not defined",
     "output_type": "error",
     "traceback": [
      "\u001b[1;31m---------------------------------------------------------------------------\u001b[0m",
      "\u001b[1;31mNameError\u001b[0m                                 Traceback (most recent call last)",
      "Input \u001b[1;32mIn [79]\u001b[0m, in \u001b[0;36m<cell line: 1>\u001b[1;34m()\u001b[0m\n\u001b[0;32m      3\u001b[0m \u001b[38;5;28;01mfor\u001b[39;00m x \u001b[38;5;129;01min\u001b[39;00m X:\n\u001b[0;32m      5\u001b[0m     casilla \u001b[38;5;241m=\u001b[39m (x,y,n)\n\u001b[1;32m----> 6\u001b[0m     otras_casillas \u001b[38;5;241m=\u001b[39m [(i,j,m) \u001b[38;5;28;01mfor\u001b[39;00m i \u001b[38;5;129;01min\u001b[39;00m X \u001b[38;5;28;01mfor\u001b[39;00m j \u001b[38;5;129;01min\u001b[39;00m Y \u001b[38;5;28;01mfor\u001b[39;00m n \u001b[38;5;129;01min\u001b[39;00m numeros \u001b[38;5;28;01mif\u001b[39;00m f \u001b[38;5;241m!=\u001b[39m n]\n\u001b[0;32m      7\u001b[0m     n \u001b[38;5;241m=\u001b[39m numeros[f]\n\u001b[0;32m      8\u001b[0m     formula1 \u001b[38;5;241m=\u001b[39m \u001b[38;5;124m'\u001b[39m\u001b[38;5;124m'\u001b[39m\n",
      "Input \u001b[1;32mIn [79]\u001b[0m, in \u001b[0;36m<listcomp>\u001b[1;34m(.0)\u001b[0m\n\u001b[0;32m      3\u001b[0m \u001b[38;5;28;01mfor\u001b[39;00m x \u001b[38;5;129;01min\u001b[39;00m X:\n\u001b[0;32m      5\u001b[0m     casilla \u001b[38;5;241m=\u001b[39m (x,y,n)\n\u001b[1;32m----> 6\u001b[0m     otras_casillas \u001b[38;5;241m=\u001b[39m [(i,j,\u001b[43mm\u001b[49m) \u001b[38;5;28;01mfor\u001b[39;00m i \u001b[38;5;129;01min\u001b[39;00m X \u001b[38;5;28;01mfor\u001b[39;00m j \u001b[38;5;129;01min\u001b[39;00m Y \u001b[38;5;28;01mfor\u001b[39;00m n \u001b[38;5;129;01min\u001b[39;00m numeros \u001b[38;5;28;01mif\u001b[39;00m f \u001b[38;5;241m!=\u001b[39m n]\n\u001b[0;32m      7\u001b[0m     n \u001b[38;5;241m=\u001b[39m numeros[f]\n\u001b[0;32m      8\u001b[0m     formula1 \u001b[38;5;241m=\u001b[39m \u001b[38;5;124m'\u001b[39m\u001b[38;5;124m'\u001b[39m\n",
      "\u001b[1;31mNameError\u001b[0m: name 'm' is not defined"
     ]
    }
   ],
   "source": [
    "for f in numeros:\n",
    "    for y in Y:\n",
    "        for x in X:\n",
    "\n",
    "            casilla = (x,y,n)\n",
    "            otras_casillas = [(i,j,m) for i in X for j in Y for n in numeros if m != n]\n",
    "            n = numeros[f]\n",
    "            formula1 = ''\n",
    "            inicial = True\n",
    "            for casilla in otras_casillas:\n",
    "                u = casilla[0]\n",
    "                v = casilla[1]\n",
    "                for numeros in otros_numeros:\n",
    "                    if inicial:\n",
    "                        formula1 = OenCasilla.P([x,y,n])\n",
    "                        inicial = False\n",
    "                    else:\n",
    "                        formula1 = \"(\" + formula1 + \"O\" + OenCasilla.P([u,v,n]) + \")\"\n",
    "\n",
    "                formula1 = \"(\" + OenCasilla.P([x,y,n]) + \">-\" + formula1 + \")\"\n",
    "                print(formula1)\n",
    "                print(\" \")\n",
    "                print(visualizar_formula(formula1, OenCasilla))\n",
    "                print(\" \")"
   ]
  },
  {
   "cell_type": "markdown",
   "metadata": {},
   "source": [
    "---"
   ]
  },
  {
   "cell_type": "markdown",
   "metadata": {},
   "source": [
    "## Restricción 3\n",
    "\n",
    "La tercera restricción es que debe haber por lo menos un número en cada casilla. La fórmula lógica que representa esta restricción es la siguiente:\n",
    "\n",
    "$$\\bigwedge_{x\\in\\{0,1\\}}\\bigwedge_{y\\in\\{0,1\\}}\\left(\\bigvee_{n\\in Numeros}OenCasilla_{x,y,n}\\right)$$\n"
   ]
  },
  {
   "cell_type": "markdown",
   "metadata": {},
   "source": [
    "**Ejercicio 4:** Implemente la fórmula anterior como un string de Python."
   ]
  },
  {
   "cell_type": "markdown",
   "metadata": {},
   "source": [
    "---"
   ]
  },
  {
   "cell_type": "markdown",
   "metadata": {},
   "source": [
    "En este taller usted aprendió a:\n",
    "\n",
    "1) Empaquetar información mediante letras proposicionales.\n",
    "\n",
    "2) Usar un objeto descriptor para cruzar información en Python.\n",
    "\n",
    "3) Implementar las notaciones $\\displaystyle\\bigwedge_{x\\in SET}$  y  $\\displaystyle\\bigvee_{x\\in SET}$ dentro de Python.\n",
    "\n",
    "4) Implementar restricciones como un string que contiene una fórmula en notación inorder."
   ]
  }
 ],
 "metadata": {
  "kernelspec": {
   "display_name": "Python 3 (ipykernel)",
   "language": "python",
   "name": "python3"
  },
  "language_info": {
   "codemirror_mode": {
    "name": "ipython",
    "version": 3
   },
   "file_extension": ".py",
   "mimetype": "text/x-python",
   "name": "python",
   "nbconvert_exporter": "python",
   "pygments_lexer": "ipython3",
   "version": "3.9.12"
  }
 },
 "nbformat": 4,
 "nbformat_minor": 4
}
