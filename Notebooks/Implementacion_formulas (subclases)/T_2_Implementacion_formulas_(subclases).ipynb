{
  "cells": [
    {
      "cell_type": "markdown",
      "metadata": {
        "id": "3-u1h64FKwmu"
      },
      "source": [
        "<table>\n",
        "    <tr>\n",
        "        <td><img src=\"./img/Macc.png\" width=\"auto\"/></td>\n",
        "        <td>\n",
        "            <table><tr>\n",
        "            <h1 style=\"color:blue;text-align:center\">Lógica para Ciencias de la Computación</h1></td>\n",
        "            </tr></table>   \n",
        "        <td>&nbsp;</td>\n",
        "        <td>\n",
        "            <table><tr>\n",
        "            <tp><p style=\"font-size:150%;text-align:center\">Taller</p></tp>\n",
        "            <tp><p style=\"font-size:150%;text-align:center\">Implementación de fórmulas en Python mediante subclases</p></tp>\n",
        "            </tr></table>\n",
        "        </td>\n",
        "    </tr>\n",
        "</table>\n",
        "\n",
        "---"
      ]
    },
    {
      "cell_type": "markdown",
      "metadata": {
        "id": "8cq8uc7ZKwmv"
      },
      "source": [
        "# Objetivo <a class=\"anchor\" id=\"inicio\"></a>\n",
        "\n",
        "En este taller nos familiarizaremos con la implementación de fórmulas en Python mediante subclases para diferenciar las distintas capas de una fórmula. También veremos cómo implementar funciones recursivas sobre fórmulas como un método hereditario.\n"
      ]
    },
    {
      "cell_type": "markdown",
      "metadata": {
        "id": "gUTPl1SnKwmv"
      },
      "source": [
        "# Secciones\n",
        "\n",
        "1. [Implementación de las fórmulas.](#imp)\n",
        "2. [Definición de funciones recursivas.](#funs)\n",
        "3. [Ejercicios.](#ejers)"
      ]
    },
    {
      "cell_type": "markdown",
      "metadata": {
        "id": "5zXyTezMKwmv"
      },
      "source": [
        "# Implementación de las fórmulas <a class=\"anchor\" id=\"imp\"></a>\n",
        "\n",
        "([Volver al inicio](#inicio))\n",
        "\n",
        "Nuestra implementación está basada en una clase llamada `Formula`, la cual tendrá asociada tres subclases. Una para el tipo base de las letras proposicionales, y otras dos para las negaciones y los conectivos binarios. Estas subclases heredarán los métodos que vamos a implementar sobre la clase `Formula`, de tal manera que podamos aplicar la recursión sobre todas las subclases.\n",
        "\n",
        "La implementación es la siguiente:"
      ]
    },
    {
      "cell_type": "code",
      "execution_count": null,
      "metadata": {
        "id": "y_KFdScYKwmw"
      },
      "outputs": [],
      "source": [
        "class Formula :\n",
        "    def __init__(self) :\n",
        "        pass"
      ]
    },
    {
      "cell_type": "markdown",
      "metadata": {
        "id": "-iJ5QhkjKwmw"
      },
      "source": [
        "Inicializamos la clase `Formula`, la cual por ahora sólo crea un objeto, sin ningún atributo o método. Lo importante de esta clase es que servirá como contenedor para sus subclases.\n",
        "\n",
        "Definiremos ahora una subclase llamada `Letra`, la cual representará las letras proposicionales. Su único atributo es `letra`, que será una cadena con la letra proposicional representada ($p$, $q$, etc.):"
      ]
    },
    {
      "cell_type": "code",
      "execution_count": null,
      "metadata": {
        "id": "UshQQwKpKwmw"
      },
      "outputs": [],
      "source": [
        "class Letra(Formula) :\n",
        "    def __init__ (self, letra:str) :\n",
        "        self.letra = letra"
      ]
    },
    {
      "cell_type": "markdown",
      "metadata": {
        "id": "9gCbHlL_Kwmw"
      },
      "source": [
        "Observe cómo nos aseguramos que el atributo `letra` sea de tipo string. Aunque Python usa tipos dinámicos, incluso aunque le demos indicaciones sobre los tipos correspondientes a los argumentos de una función, hacer estas indicaciones constituye una buena práctica en programación. Note que al correr un código en el cual al atributo `letra`de un objeto `Letra` se le asigna un valor de tipo incorrecto, no obtendrá un error. No obstante, usualmente los entornos de programación generarán warnings para indicarnos que hemos usado un tipo que no coincide con el tipo estipulado, cuando tal situación tenga lugar.\n",
        "\n",
        "Ahora viene la subclase `Negacion`, la cual representará la negación de una fórmula. Su único atributo es una fórmula, que llamaremos `subf`. Observe que nos aseguramos que este atributo sea de tipo `Formula`:"
      ]
    },
    {
      "cell_type": "code",
      "execution_count": null,
      "metadata": {
        "id": "g3RnOEz9Kwmx"
      },
      "outputs": [],
      "source": [
        "class Negacion(Formula) :\n",
        "    def __init__(self, subf:Formula) :\n",
        "        self.subf = subf"
      ]
    },
    {
      "cell_type": "markdown",
      "metadata": {
        "id": "VSudlafMKwmx"
      },
      "source": [
        "Finalmente, implementamos los conectivos binarios. Para ello necesitamos considerar tres atributos:\n",
        "\n",
        "* `conectivo`: el cual representará un conectivo binario (\"Y\" para la $\\wedge$, \"O\" para la $\\vee$, \">\" para $\\to$, y \"=\" para $\\leftrightarrow$).\n",
        "* `left`: que es la fórmula que irá a la izquierda del conectivo.\n",
        "* `right`: que es la fórmula que irá a la derecha del conectivo."
      ]
    },
    {
      "cell_type": "code",
      "execution_count": null,
      "metadata": {
        "id": "1bVwrYtEKwmx"
      },
      "outputs": [],
      "source": [
        "class Binario(Formula) :\n",
        "    def __init__(self, conectivo:str, left:Formula, right:Formula) :\n",
        "        assert(conectivo in ['Y','O','>','='])\n",
        "        self.conectivo = conectivo\n",
        "        self.left = left\n",
        "        self.right = right"
      ]
    },
    {
      "cell_type": "markdown",
      "metadata": {
        "id": "4evUQkW3Kwmx"
      },
      "source": [
        "Observe que nos aseguramos que el conectivo usado para construir el objeto sea una de las cadenas 'Y','O','>', o '=' mediante la instrucción `assert`. También hemos requerido, en el método constructor, que `left` y `right` sean de tipo `Formula`."
      ]
    },
    {
      "cell_type": "code",
      "execution_count": null,
      "metadata": {
        "id": "3DgNYtBDKwmx"
      },
      "outputs": [],
      "source": [
        "p  = Letra('p')\n",
        "q  = Letra('q')\n",
        "r  = Letra('r')\n",
        "\n",
        "f1 = Binario('Y', p, q)\n",
        "f = Binario ('>', f1, r)\n"
      ]
    },
    {
      "cell_type": "markdown",
      "metadata": {
        "id": "Bc9q5ID2Kwmx"
      },
      "source": [
        "---"
      ]
    },
    {
      "cell_type": "code",
      "execution_count": null,
      "metadata": {
        "id": "CzBkL4oCKwmx",
        "outputId": "4a8d58b0-0b76-4f60-c506-2ab74d86ba09",
        "colab": {
          "base_uri": "https://localhost:8080/"
        }
      },
      "outputs": [
        {
          "output_type": "execute_result",
          "data": {
            "text/plain": [
              "<__main__.Binario at 0x7be7cfb376a0>"
            ]
          },
          "metadata": {},
          "execution_count": 7
        }
      ],
      "source": [
        "f"
      ]
    },
    {
      "cell_type": "markdown",
      "metadata": {
        "id": "0IwoLW2WKwmy"
      },
      "source": [
        "# Definición de funciones recursivas <a class=\"anchor\" id=\"funs\"></a>\n",
        "\n",
        "([Volver al inicio](#inicio))\n",
        "\n",
        "### Visualización de la notación \"inorder\" de una fórmula\n",
        "\n",
        "Una vez realizada la implementación de manera correcta, no tenemos ningún output. Si tuvimos algún output, esto fue porque pusimos un número inadecuado de parámetros en alguna de las subclases. Lo que vamos a hacer ahora es implementar un método que nos permita visualizar una fórmula como estamos acostumbrados. Para ello usaremos el método `__str__`. Más adelante veremos otras maneras de visualizar fórmulas.\n",
        "\n",
        "Lo que haremos es definir la función `__str__` y luego la asignaremos como un método de la clase `Formula`. Observe que las clases `Letra`, `Negacion`, `Binario` son subclases de `Formula`, así que todas heredarán este método.\n",
        "\n",
        "La definición de `__str__` es la siguiente:"
      ]
    },
    {
      "cell_type": "code",
      "execution_count": null,
      "metadata": {
        "id": "5UHuq0dTKwmy"
      },
      "outputs": [],
      "source": [
        "def __str__(self) :\n",
        "    if type(self) == Letra:\n",
        "        return self.letra\n",
        "    elif type(self) == Negacion:\n",
        "        return '-' + str(self.subf)\n",
        "    elif type(self) == Binario:\n",
        "        return \"(\" + str(self.left) + self.conectivo + str(self.right) + \")\"\n",
        "\n",
        "setattr(Formula, \"__str__\", __str__)\n"
      ]
    },
    {
      "cell_type": "markdown",
      "metadata": {
        "id": "qPANp1RVKwmy"
      },
      "source": [
        "Esta función considera los tres tipos posibles que conforman a toda fórmula de la lógica proposicional. Para cada caso, retorna un valor.\n",
        "\n",
        "Primero, `__str__` considera si su argumento es de tipo `Letra`. En otras palabras, determina si la fórmula que está considerando es una letra proposicional. En este caso, devuelve el atributo `letra`, el cual guarda como información una cadena que representa una letra proposicional.\n",
        "\n",
        "Segundo, considera si su argumento es de tipo `Negacion`. En este caso, devuelve la cadena \"-\", la cual representa a $\\neg$, concatenada con la función `str()` aplicada sobre la fórmula que está almacenada en el atributo `subf`. Esta es nuestra primera aplicación de la recursión. En efecto, la función `__str__` aplicada sobre una fórmula $\\neg A$ llama a la función `str()` sobre la subfórmula $A$.\n",
        "\n",
        "Finalmente, `__str__` considera si su argumento es de tipo `Binario`. En este caso, devuelve la cadena formada por un paréntesis izquierdo, la función `str()` aplicada sobre la fórmula de la izquierda guardada en el atributo `left`, el conectivo binario guardado en el atributo `conectivo`, la función `str()` aplicada sobre la fórmula de la derecha guardada en el atributo `right` y, por último, un paréntesis derecho. Esta también es una aplicación de la recursión, toda vez que la función `__str__` aplicada sobre $A\\odot B$ (donde $\\odot$ es cualquiera de los conectivos binarios) llama de nuevo la función `str()` sobre las subfórmulas $A$ y $B$.\n",
        "\n",
        "Observe que la última línea se encarga de asignar `__str__` como un método del mismo nombre a la clase `Formula`.\n",
        "\n",
        "Al imrpimir una fórmula podemos visualizarla:"
      ]
    },
    {
      "cell_type": "code",
      "execution_count": null,
      "metadata": {
        "id": "60p40LlJKwmy"
      },
      "outputs": [],
      "source": [
        "p = Letra('p')"
      ]
    },
    {
      "cell_type": "code",
      "execution_count": null,
      "metadata": {
        "id": "E7g8dCDiKwmz",
        "outputId": "f20ef30a-f183-4d46-dac9-7f8938325b26",
        "colab": {
          "base_uri": "https://localhost:8080/"
        }
      },
      "outputs": [
        {
          "output_type": "execute_result",
          "data": {
            "text/plain": [
              "<__main__.Letra at 0x7be7cfb378e0>"
            ]
          },
          "metadata": {},
          "execution_count": 10
        }
      ],
      "source": [
        "p"
      ]
    },
    {
      "cell_type": "code",
      "execution_count": null,
      "metadata": {
        "id": "uE4Ms8jQKwmz",
        "outputId": "5e2e3237-63a2-4908-acb3-01f7b7bec07a",
        "colab": {
          "base_uri": "https://localhost:8080/"
        }
      },
      "outputs": [
        {
          "output_type": "stream",
          "name": "stdout",
          "text": [
            "p\n"
          ]
        }
      ],
      "source": [
        "print(p)"
      ]
    },
    {
      "cell_type": "markdown",
      "metadata": {
        "id": "r-V2WxgtKwmz"
      },
      "source": [
        "Observe la diferencia entre la instrucción `p` y `print(p)`. En el primer caso la salida de la celda indica que `p` es un objeto de tipo `Letra`. En el segundo, la salida imprime la fórmula usando la definición de `__str__`."
      ]
    },
    {
      "cell_type": "markdown",
      "metadata": {
        "id": "d_1jf4MTKwmz"
      },
      "source": [
        "### Función para contar el número de conectivos\n",
        "\n",
        "Definimos ahora la función que cuenta el número de ocurrencias de conectivos (binarios o negación) de una fórmula:"
      ]
    },
    {
      "cell_type": "code",
      "execution_count": null,
      "metadata": {
        "id": "cVIBcO17Kwmz"
      },
      "outputs": [],
      "source": [
        "def num_conec(self) :\n",
        "    if type(self) == Letra:\n",
        "        return 0\n",
        "    elif type(self) == Negacion:\n",
        "        return 1 + self.subf.num_conec()\n",
        "    elif type(self) == Binario:\n",
        "        return 1 + self.left.num_conec() + self.right.num_conec()\n",
        "\n",
        "setattr(Formula, \"num_conec\", num_conec)"
      ]
    },
    {
      "cell_type": "markdown",
      "metadata": {
        "id": "Ui_xos1aKwmz"
      },
      "source": [
        "# Ejercicios <a class=\"anchor\" id=\"ejers\"></a>\n",
        "\n",
        "([Volver al inicio](#inicio))"
      ]
    },
    {
      "cell_type": "markdown",
      "metadata": {
        "id": "qaxld_oEKwmz"
      },
      "source": [
        "**Ejercicio 1:**\n",
        "\n",
        "* Cree una fórmula llamada `p` que corresponda al átomo $p$.\n",
        "* Cree una fórmula llamada `q` que corresponda al átomo $q$.\n",
        "* Cree una fórmula llamada `A1` que corresponda a $\\neg p$.\n",
        "* Cree una fórmula llamada `A2` que corresponda a $\\neg p\\to q$.\n",
        "* Cree una fórmula llamada `A3` que corresponda a $\\neg (p\\wedge\\neg q)$.\n",
        "* Visualice todas las anteriores fórmulas."
      ]
    },
    {
      "cell_type": "code",
      "source": [
        "p = Letra('p ')\n",
        "\n",
        "q = Letra('q ')\n",
        "\n",
        "A1 = Negacion('p')\n",
        "\n",
        "A2 = Binario('>',A1,q)\n",
        "\n",
        "A3 = Negacion(Binario('Y',p,Negacion(q)))\n"
      ],
      "metadata": {
        "id": "2I4aPevNvHpi"
      },
      "execution_count": null,
      "outputs": []
    },
    {
      "cell_type": "code",
      "source": [
        "print(p,q,A1,A2,A3)"
      ],
      "metadata": {
        "colab": {
          "base_uri": "https://localhost:8080/"
        },
        "id": "iq0UX2lEwj35",
        "outputId": "1390d41f-90d2-48d7-c120-52d270f45d98"
      },
      "execution_count": null,
      "outputs": [
        {
          "output_type": "stream",
          "name": "stdout",
          "text": [
            "p  q  -p (-p>q ) -(p Y-q )\n"
          ]
        }
      ]
    },
    {
      "cell_type": "markdown",
      "metadata": {
        "id": "lbgTq9LFKwm0"
      },
      "source": [
        "**Ejercicio 2:**\n",
        "\n",
        "Use el método `num_conec` para contar el número de conectivos (binarios o negación) de las cuatro fórmulas creadas en el ejercicio 1."
      ]
    },
    {
      "cell_type": "code",
      "source": [
        "num_conec(p)"
      ],
      "metadata": {
        "colab": {
          "base_uri": "https://localhost:8080/"
        },
        "id": "on-KTObo18Y_",
        "outputId": "1ca1e898-827a-4775-e89a-6f0e60d885c7"
      },
      "execution_count": null,
      "outputs": [
        {
          "output_type": "execute_result",
          "data": {
            "text/plain": [
              "0"
            ]
          },
          "metadata": {},
          "execution_count": 13
        }
      ]
    },
    {
      "cell_type": "code",
      "source": [
        "q.num_conec()"
      ],
      "metadata": {
        "colab": {
          "base_uri": "https://localhost:8080/"
        },
        "id": "JBIS8X9d72ep",
        "outputId": "a340ff39-3965-4aff-b2cc-34cbc93f71dd"
      },
      "execution_count": null,
      "outputs": [
        {
          "output_type": "execute_result",
          "data": {
            "text/plain": [
              "0"
            ]
          },
          "metadata": {},
          "execution_count": 10
        }
      ]
    },
    {
      "cell_type": "code",
      "source": [
        "A3.num_conec()"
      ],
      "metadata": {
        "colab": {
          "base_uri": "https://localhost:8080/"
        },
        "id": "sw7G76Aw3Imc",
        "outputId": "fa55517a-7cf0-44f7-d6f5-d96647a21cfa"
      },
      "execution_count": null,
      "outputs": [
        {
          "output_type": "execute_result",
          "data": {
            "text/plain": [
              "3"
            ]
          },
          "metadata": {},
          "execution_count": 40
        }
      ]
    },
    {
      "cell_type": "code",
      "source": [
        "A1.num_conec()"
      ],
      "metadata": {
        "id": "cCAjjkAw3QY7",
        "colab": {
          "base_uri": "https://localhost:8080/",
          "height": 176
        },
        "outputId": "1a594999-c9fb-4d07-fb1f-32e0c464d670"
      },
      "execution_count": null,
      "outputs": [
        {
          "output_type": "error",
          "ename": "NameError",
          "evalue": "ignored",
          "traceback": [
            "\u001b[0;31m---------------------------------------------------------------------------\u001b[0m",
            "\u001b[0;31mNameError\u001b[0m                                 Traceback (most recent call last)",
            "\u001b[0;32m<ipython-input-1-d9e363c567be>\u001b[0m in \u001b[0;36m<cell line: 1>\u001b[0;34m()\u001b[0m\n\u001b[0;32m----> 1\u001b[0;31m \u001b[0mA1\u001b[0m\u001b[0;34m.\u001b[0m\u001b[0mnum_conec\u001b[0m\u001b[0;34m(\u001b[0m\u001b[0;34m)\u001b[0m\u001b[0;34m\u001b[0m\u001b[0;34m\u001b[0m\u001b[0m\n\u001b[0m",
            "\u001b[0;31mNameError\u001b[0m: name 'A1' is not defined"
          ]
        }
      ]
    },
    {
      "cell_type": "code",
      "source": [
        "A1.num_conec()"
      ],
      "metadata": {
        "id": "6NVROrRO3N1N"
      },
      "execution_count": null,
      "outputs": []
    },
    {
      "cell_type": "code",
      "source": [
        "q.num_conec()"
      ],
      "metadata": {
        "colab": {
          "base_uri": "https://localhost:8080/"
        },
        "id": "vI7yiXC43JF7",
        "outputId": "ac5a33c6-7f0d-4da1-97cc-71b5ea241105"
      },
      "execution_count": null,
      "outputs": [
        {
          "output_type": "execute_result",
          "data": {
            "text/plain": [
              "0"
            ]
          },
          "metadata": {},
          "execution_count": 27
        }
      ]
    },
    {
      "cell_type": "markdown",
      "metadata": {
        "id": "edOu1d6QKwm0"
      },
      "source": [
        "**Ejercicio 3:**\n",
        "\n",
        "Cree la función `num_paren` que cuenta el número de paréntesis de una fórmula y córrala sobre las fórmulas del ejercicio 1."
      ]
    },
    {
      "cell_type": "code",
      "source": [
        "def num_paren(self):\n",
        "  if type(self) == Letra:\n",
        "        return 2\n",
        "  elif type(self) == Negacion:\n",
        "        return 2 + self.subf.num_paren()\n",
        "  elif type(self) == Binario:\n",
        "        return 2 + self.left.num_paren() + self.right.num_paren()\n",
        "\n",
        "setattr(Formula, \"num_paren\", num_paren)"
      ],
      "metadata": {
        "id": "EsfvypE1iNPz"
      },
      "execution_count": null,
      "outputs": []
    },
    {
      "cell_type": "code",
      "source": [
        "num_paren(Binario('Y', Binario('>', Binario('Y', Binario('>', Letra('r'), Letra('q')), Letra('q')), Binario('Y', Binario('Y', Binario('>', Letra('s'), Letra('q')), Letra('q')), Negacion(Letra('q')))), Binario('>', Binario('Y', Letra('p'), Letra('q')), Binario('Y', Negacion(Letra('p')), Negacion(Letra('q'))))))"
      ],
      "metadata": {
        "colab": {
          "base_uri": "https://localhost:8080/"
        },
        "id": "uMTy22H0gVCd",
        "outputId": "7d4296ea-74b0-4a9c-b8c1-cfc687a2bc72"
      },
      "execution_count": null,
      "outputs": [
        {
          "output_type": "execute_result",
          "data": {
            "text/plain": [
              "48"
            ]
          },
          "metadata": {},
          "execution_count": 23
        }
      ]
    }
  ],
  "metadata": {
    "kernelspec": {
      "display_name": "Python 3 (ipykernel)",
      "language": "python",
      "name": "python3"
    },
    "language_info": {
      "codemirror_mode": {
        "name": "ipython",
        "version": 3
      },
      "file_extension": ".py",
      "mimetype": "text/x-python",
      "name": "python",
      "nbconvert_exporter": "python",
      "pygments_lexer": "ipython3",
      "version": "3.9.12"
    },
    "colab": {
      "provenance": []
    }
  },
  "nbformat": 4,
  "nbformat_minor": 0
}