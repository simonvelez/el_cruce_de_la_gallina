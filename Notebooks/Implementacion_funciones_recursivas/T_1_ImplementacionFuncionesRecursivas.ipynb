{
  "cells": [
    {
      "cell_type": "markdown",
      "metadata": {
        "id": "vJmlnGatLvBZ"
      },
      "source": [
        "<table>\n",
        "    <tr>\n",
        "        <td><img src=\"/content/img/Macc.png\" width=\"auto\"/></td>\n",
        "        <td>\n",
        "            <table><tr>\n",
        "            <h1 style=\"color:blue;text-align:center\">Lógica para Ciencias de la Computación</h1></td>\n",
        "            </tr></table>   \n",
        "        <td>&nbsp;</td>\n",
        "        <td>\n",
        "            <table><tr>\n",
        "            <tp><p style=\"font-size:150%;text-align:center\">Taller</p></tp>\n",
        "            <tp><p style=\"font-size:150%;text-align:center\">Implementación de funciones recursivas</p></tp>\n",
        "            </tr></table>\n",
        "        </td>\n",
        "    </tr>\n",
        "</table>\n",
        "\n",
        "---"
      ]
    },
    {
      "cell_type": "markdown",
      "metadata": {
        "id": "IgZpmykbLvBa"
      },
      "source": [
        "# Objetivo <a class=\"anchor\" id=\"inicio\"></a>\n",
        "\n",
        "En este taller nos familiarizaremos con la implementación de funciones recursivas sobre árboles y números naturales."
      ]
    },
    {
      "cell_type": "markdown",
      "metadata": {
        "id": "h7-y-r0LLvBa"
      },
      "source": [
        "# Secciones\n",
        "\n",
        "1. [Implementación de árboles.](#imp)\n",
        "2. [Definición de funciones recursivas.](#funs)\n",
        "3. [Ejercicios.](#ejers)"
      ]
    },
    {
      "cell_type": "markdown",
      "metadata": {
        "id": "D0RfNrDPLvBa"
      },
      "source": [
        "# Implementación de  árboles <a class=\"anchor\" id=\"imp\"></a>\n",
        "\n",
        "([Volver al inicio](#inicio))\n",
        "\n",
        "Nuestra implementación está basada en una clase llamada `Tree`:"
      ]
    },
    {
      "cell_type": "code",
      "execution_count": null,
      "metadata": {
        "id": "jthpyNeQLvBa"
      },
      "outputs": [],
      "source": [
        "class Tree :\n",
        "    def __init__(self,left,right) :\n",
        "        self.left = left\n",
        "        self.right = right"
      ]
    },
    {
      "cell_type": "markdown",
      "metadata": {
        "id": "eGWNeYyALvBb"
      },
      "source": [
        "Observe que al correr este código no se obtiene nada, pues simplemente está creando en memoria el tipo de objeto llamado `Tree`.\n",
        "\n",
        "Un objeto `Tree` tiene dos propiedades: `left` y `right`. En cada uno de ellos puede ir o bien `None` o bien otro `Tree`."
      ]
    },
    {
      "cell_type": "markdown",
      "metadata": {
        "id": "DqF2TXLPLvBb"
      },
      "source": [
        "Veamos la construcción de varios árboles:"
      ]
    },
    {
      "cell_type": "code",
      "execution_count": null,
      "metadata": {
        "id": "My1R_jslLvBb"
      },
      "outputs": [],
      "source": [
        "h = Tree(None,None)"
      ]
    },
    {
      "cell_type": "code",
      "execution_count": null,
      "metadata": {
        "id": "I-5kAZOULvBb",
        "outputId": "495073cf-cd3c-49b2-f692-1b1a880560bc",
        "colab": {
          "base_uri": "https://localhost:8080/"
        }
      },
      "outputs": [
        {
          "output_type": "execute_result",
          "data": {
            "text/plain": [
              "<__main__.Tree at 0x7a93d23d78b0>"
            ]
          },
          "metadata": {},
          "execution_count": 4
        }
      ],
      "source": [
        "h"
      ]
    },
    {
      "cell_type": "code",
      "execution_count": null,
      "metadata": {
        "id": "CqMR-qgjLvBb"
      },
      "outputs": [],
      "source": [
        "r1 = Tree(h,h)\n",
        "r2 = Tree(h,r1)"
      ]
    },
    {
      "cell_type": "code",
      "execution_count": null,
      "metadata": {
        "id": "dO-513S6LvBc",
        "outputId": "9334a5fc-f2d7-4fe4-870a-11fdff011ce9",
        "colab": {
          "base_uri": "https://localhost:8080/"
        }
      },
      "outputs": [
        {
          "output_type": "execute_result",
          "data": {
            "text/plain": [
              "<__main__.Tree at 0x7a93d23d7400>"
            ]
          },
          "metadata": {},
          "execution_count": 6
        }
      ],
      "source": [
        "r2"
      ]
    },
    {
      "cell_type": "markdown",
      "metadata": {
        "id": "tn0JsgH5LvBc"
      },
      "source": [
        "Observe que al correr este código no se obtiene nada, pues simplemente están creando en memoria tres objetos `Tree`. Cualquiera de los anteriores es un objeto `Tree`."
      ]
    },
    {
      "cell_type": "markdown",
      "metadata": {
        "id": "xTJh7huGLvBc"
      },
      "source": [
        "<td><img src=\"/content/img/arbol.png\" width=\"auto\"/></td>"
      ]
    },
    {
      "cell_type": "markdown",
      "metadata": {
        "id": "I02G3YeTLvBc"
      },
      "source": [
        "# Definición de funciones recursivas <a class=\"anchor\" id=\"funs\"></a>\n",
        "\n",
        "([Volver al inicio](#inicio))\n",
        "\n",
        "Una hoja no tiene ninguna arista. Una rama tiene dos aristas. ¿Cuántas aristas tiene h? ¿r1? ¿r2?\n",
        "Contamos las aristas mediante la función recursiva num_aristas(A):\n"
      ]
    },
    {
      "cell_type": "code",
      "execution_count": null,
      "metadata": {
        "id": "hSHGtVlWLvBc"
      },
      "outputs": [],
      "source": [
        "def num_aristas(A) :\n",
        "    if A.right == None:\n",
        "        return 0\n",
        "    else:\n",
        "        return 2 + num_aristas(A.left) + num_aristas(A.right)"
      ]
    },
    {
      "cell_type": "code",
      "execution_count": null,
      "metadata": {
        "id": "KPuychO0LvBc",
        "outputId": "d5a73f01-b6e2-4f54-a889-ec45e3297a36",
        "colab": {
          "base_uri": "https://localhost:8080/"
        }
      },
      "outputs": [
        {
          "output_type": "execute_result",
          "data": {
            "text/plain": [
              "4"
            ]
          },
          "metadata": {},
          "execution_count": 8
        }
      ],
      "source": [
        "num_aristas(r2)"
      ]
    },
    {
      "cell_type": "markdown",
      "metadata": {
        "id": "mYsNVKRrLvBc"
      },
      "source": [
        "# Ejercicios <a class=\"anchor\" id=\"ejers\"></a>\n",
        "\n",
        "([Volver al inicio](#inicio))"
      ]
    },
    {
      "cell_type": "markdown",
      "metadata": {
        "id": "vS6f6k24LvBc"
      },
      "source": [
        "**Ejercicio 1:**\n",
        "\n",
        "* Utilice la estructura `Tree` para representar los árboles $k_2$ y $t_3$ del taller \"Recursión sobre números y árboles\"\n",
        "<td><img src=\"./img/a2.png\" width=\"auto\"/></td>"
      ]
    },
    {
      "cell_type": "code",
      "source": [
        "h = Tree(None,None)\n",
        "K1 = Tree (h,h)\n",
        "k2 = Tree (K1,K1)\n",
        "\n",
        "print (k2)\n",
        "\n",
        "h = Tree(None,None)\n",
        "t1 = Tree (h,h)\n",
        "t2 = Tree (h,t1)\n",
        "t3 = Tree (h,t2)\n",
        "\n",
        "print (t3)"
      ],
      "metadata": {
        "colab": {
          "base_uri": "https://localhost:8080/"
        },
        "id": "nJIjAHydWYwi",
        "outputId": "77e6772c-30d1-4c25-a95a-fe12950d6b04"
      },
      "execution_count": null,
      "outputs": [
        {
          "output_type": "stream",
          "name": "stdout",
          "text": [
            "<__main__.Tree object at 0x7a93d23d6110>\n",
            "<__main__.Tree object at 0x7a93d02a8370>\n"
          ]
        }
      ]
    },
    {
      "cell_type": "markdown",
      "metadata": {
        "id": "ukPfjXtlLvBd"
      },
      "source": [
        "**Ejercicio 2:**\n",
        "\n",
        "Evalue la función `num_aristas` en los árboles del ejercicio anterior."
      ]
    },
    {
      "cell_type": "code",
      "source": [
        "num_aristas(t3)"
      ],
      "metadata": {
        "colab": {
          "base_uri": "https://localhost:8080/"
        },
        "id": "Q-lsvY7AYs1Y",
        "outputId": "44a61305-62c9-4211-cdfe-df8bd73ee45c"
      },
      "execution_count": null,
      "outputs": [
        {
          "output_type": "execute_result",
          "data": {
            "text/plain": [
              "6"
            ]
          },
          "metadata": {},
          "execution_count": 10
        }
      ]
    },
    {
      "cell_type": "code",
      "source": [
        "num_aristas(k2)"
      ],
      "metadata": {
        "colab": {
          "base_uri": "https://localhost:8080/"
        },
        "id": "lwfWIkz9Yxuw",
        "outputId": "b3597a54-89c1-4bef-ac3b-01e0a40fc05e"
      },
      "execution_count": null,
      "outputs": [
        {
          "output_type": "execute_result",
          "data": {
            "text/plain": [
              "6"
            ]
          },
          "metadata": {},
          "execution_count": 11
        }
      ]
    },
    {
      "cell_type": "markdown",
      "metadata": {
        "id": "fmfiCZJNLvBd"
      },
      "source": [
        "**Ejercicio 3:**\n",
        "\n",
        "Defina las funciones `num_hojas`, `num_nodos` y `altura`. Evalúelas sobre los árboles del ejercicio 1."
      ]
    },
    {
      "cell_type": "code",
      "source": [
        "def num_hojas(n):\n",
        "  if n.right == None:\n",
        "        return 1\n",
        "  else:\n",
        "        return  num_hojas(n.left) + num_hojas(n.right)\n",
        "\n",
        "def num_nodos(n):\n",
        "  if n.right == None:\n",
        "        return 0\n",
        "  else:\n",
        "        return 2+num_nodos(n.left) + num_nodos(n.right)\n",
        "\n",
        "def altura(n):\n",
        "  if n.right == None :\n",
        "        return 0\n",
        "  else:\n",
        "        return 1+altura(n.left) + altura(n.right)\n",
        "\n",
        "altura(t3)"
      ],
      "metadata": {
        "colab": {
          "base_uri": "https://localhost:8080/"
        },
        "id": "VJI6Ay2rZLMH",
        "outputId": "798db7f3-0516-409e-afbd-179334dcdcf5"
      },
      "execution_count": null,
      "outputs": [
        {
          "output_type": "execute_result",
          "data": {
            "text/plain": [
              "3"
            ]
          },
          "metadata": {},
          "execution_count": 20
        }
      ]
    },
    {
      "cell_type": "code",
      "source": [
        "num_hojas(t3)\n"
      ],
      "metadata": {
        "colab": {
          "base_uri": "https://localhost:8080/"
        },
        "id": "Ua9EsUGKcHo9",
        "outputId": "522e8094-d6fb-4398-dc8f-97c5e9d99a0f"
      },
      "execution_count": null,
      "outputs": [
        {
          "output_type": "execute_result",
          "data": {
            "text/plain": [
              "6"
            ]
          },
          "metadata": {},
          "execution_count": 26
        }
      ]
    },
    {
      "cell_type": "code",
      "source": [
        "num_hojas(k2)"
      ],
      "metadata": {
        "colab": {
          "base_uri": "https://localhost:8080/"
        },
        "id": "BWcyIhsOcIEF",
        "outputId": "d8edf6a6-a25d-4ccc-9dbc-482b72fe5d59"
      },
      "execution_count": null,
      "outputs": [
        {
          "output_type": "execute_result",
          "data": {
            "text/plain": [
              "4"
            ]
          },
          "metadata": {},
          "execution_count": 23
        }
      ]
    },
    {
      "cell_type": "code",
      "source": [
        "num_nodos(k2)"
      ],
      "metadata": {
        "colab": {
          "base_uri": "https://localhost:8080/"
        },
        "id": "q2WfjKHcc__6",
        "outputId": "82d6c437-f437-4f77-99de-da8a3cf07e64"
      },
      "execution_count": null,
      "outputs": [
        {
          "output_type": "execute_result",
          "data": {
            "text/plain": [
              "6"
            ]
          },
          "metadata": {},
          "execution_count": 27
        }
      ]
    },
    {
      "cell_type": "code",
      "source": [
        "num_nodos(t3)"
      ],
      "metadata": {
        "colab": {
          "base_uri": "https://localhost:8080/"
        },
        "id": "rRC2QgcCdAfS",
        "outputId": "2efc68ce-c761-40af-bc9b-c3fa255979cb"
      },
      "execution_count": null,
      "outputs": [
        {
          "output_type": "execute_result",
          "data": {
            "text/plain": [
              "6"
            ]
          },
          "metadata": {},
          "execution_count": 19
        }
      ]
    },
    {
      "cell_type": "markdown",
      "metadata": {
        "id": "I6mv0AHmLvBd"
      },
      "source": [
        "**Ejercicio 4:**\n",
        "\n",
        "Defina las funciones `suma(n)`, `pot7(n)` y `fib(n)`."
      ]
    },
    {
      "cell_type": "code",
      "execution_count": null,
      "metadata": {
        "id": "vBuTIjviLvBd"
      },
      "outputs": [],
      "source": [
        "def suma(n):\n",
        "    if n == 0:\n",
        "        return 0\n",
        "    else:\n",
        "        return n + suma(n-1)"
      ]
    },
    {
      "cell_type": "code",
      "execution_count": null,
      "metadata": {
        "id": "jEyaC1dJLvBd",
        "outputId": "06664f84-1ec8-48e0-e16f-bb3b62c9342f",
        "colab": {
          "base_uri": "https://localhost:8080/"
        }
      },
      "outputs": [
        {
          "output_type": "execute_result",
          "data": {
            "text/plain": [
              "15"
            ]
          },
          "metadata": {},
          "execution_count": 24
        }
      ],
      "source": [
        "suma(5)"
      ]
    },
    {
      "cell_type": "code",
      "source": [
        "def pot7(n):\n",
        "    if n == 0:\n",
        "        return 1\n",
        "    elif n== 1:\n",
        "      return n\n",
        "    else:\n",
        "        return n**7\n",
        "\n",
        "pot7(15)"
      ],
      "metadata": {
        "colab": {
          "base_uri": "https://localhost:8080/"
        },
        "id": "_7KAKKn7eOHc",
        "outputId": "52867120-2d11-44a6-d17e-97066c99d187"
      },
      "execution_count": null,
      "outputs": [
        {
          "output_type": "execute_result",
          "data": {
            "text/plain": [
              "170859375"
            ]
          },
          "metadata": {},
          "execution_count": 34
        }
      ]
    },
    {
      "cell_type": "code",
      "source": [
        "def fib(n):\n",
        "  if n <= 1:\n",
        "    return n\n",
        "  else:\n",
        "    return (fib(n-1))+(fib(n-2))\n",
        "\n",
        "fib(6)"
      ],
      "metadata": {
        "colab": {
          "base_uri": "https://localhost:8080/"
        },
        "id": "qbOb0hmAgA3z",
        "outputId": "35e8c20f-6d29-4306-a719-af3eaaaa66b9"
      },
      "execution_count": null,
      "outputs": [
        {
          "output_type": "execute_result",
          "data": {
            "text/plain": [
              "8"
            ]
          },
          "metadata": {},
          "execution_count": 7
        }
      ]
    }
  ],
  "metadata": {
    "kernelspec": {
      "display_name": "Python 3",
      "language": "python",
      "name": "python3"
    },
    "language_info": {
      "codemirror_mode": {
        "name": "ipython",
        "version": 3
      },
      "file_extension": ".py",
      "mimetype": "text/x-python",
      "name": "python",
      "nbconvert_exporter": "python",
      "pygments_lexer": "ipython3",
      "version": "3.8.5"
    },
    "colab": {
      "provenance": []
    }
  },
  "nbformat": 4,
  "nbformat_minor": 0
}